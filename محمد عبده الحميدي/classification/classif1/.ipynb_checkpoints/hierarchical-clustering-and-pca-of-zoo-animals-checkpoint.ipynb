{
 "cells": [
  {
   "cell_type": "markdown",
   "metadata": {},
   "source": [
    "\n",
    "# 🐊 Hierarchical clustering and PCA of zoo animals\n",
    "\n",
    "This notebook contains a hierarchical cluster analysis and principal component analysis (PCA) of the Zoo animal data set provided by UCI MACHINE LEARNING that can be found [here](https://www.kaggle.com/datasets/uciml/zoo-animal-classification). I hope you wil enjoy it!\n",
    "\n",
    "## Table of content\n",
    "1. [**Setup**](#1)\n",
    "\n",
    "1. [**Data preparation**](#2)\n",
    "\n",
    "1. [**Hierarchical clustering**](#3)\n",
    "    \n",
    "1. [**Principal component analysis (PCA)**](#4)\n",
    "    \n",
    "1. [**Conclusion**](#5)\n",
    "\n",
    "**Goal of the analysis:**\n",
    "Will will try to predict the class of each animal based on the provided features using hierarchical clustering and PCA. "
   ]
  },
  {
   "cell_type": "markdown",
   "metadata": {},
   "source": [
    "<a id=\"1\"></a>\n",
    "## ⚙️ Setup"
   ]
  },
  {
   "cell_type": "code",
   "execution_count": null,
   "metadata": {
    "execution": {
     "iopub.execute_input": "2022-09-03T14:09:37.064943Z",
     "iopub.status.busy": "2022-09-03T14:09:37.062893Z",
     "iopub.status.idle": "2022-09-03T14:09:52.670839Z"
    }
   },
   "outputs": [],
   "source": [
    "suppressPackageStartupMessages(library(tidyverse)) # metapackage of all tidyverse packages\n",
    "suppressPackageStartupMessages(library(visdat)) # visualize aspects of a data frame. Here NAs\n",
    "install.packages('factoextra') # for visualizing clustering results\n",
    "suppressPackageStartupMessages(library(factoextra))  # for visualizing clustering results"
   ]
  },
  {
   "cell_type": "markdown",
   "metadata": {},
   "source": [
    "<a id=\"2\"></a>\n",
    "## 💾  Data preparation\n",
    "This is a data set containing information about 101 zoo animals. In total, there are 16 variables that desccribe the traits of each anima. Furthermore, we know that each animal belongs to one of 7 classes: mammal, bird, reptile, fish, amphibian, bug and invertebrate."
   ]
  },
  {
   "cell_type": "code",
   "execution_count": null,
   "metadata": {
    "execution": {
     "iopub.execute_input": "2022-09-03T15:32:03.214961Z",
     "iopub.status.busy": "2022-09-03T15:32:03.212682Z",
     "iopub.status.idle": "2022-09-03T15:32:03.241078Z"
    }
   },
   "outputs": [],
   "source": [
    "# Loa data\n",
    "class <- read.csv(\"../input/zoo-animal-classification/class.csv\")\n",
    "Zoo <- read.csv(\"../input/zoo-animal-classification/zoo.csv\")"
   ]
  },
  {
   "cell_type": "markdown",
   "metadata": {},
   "source": [
    "Quick check of data structure and details."
   ]
  },
  {
   "cell_type": "code",
   "execution_count": null,
   "metadata": {
    "execution": {
     "iopub.execute_input": "2022-09-03T15:30:43.611205Z",
     "iopub.status.busy": "2022-09-03T15:30:43.608609Z",
     "iopub.status.idle": "2022-09-03T15:30:43.677316Z"
    }
   },
   "outputs": [],
   "source": [
    "head(Zoo)\n",
    "class"
   ]
  },
  {
   "cell_type": "markdown",
   "metadata": {},
   "source": [
    "### Data cleaning\n",
    "\n",
    "The data is quite messy and contains errors. We will have to go over every column to check if it contains correct values. Here are the main issues:\n",
    "\n",
    "1. With a basic understanding of biology we can quickly see that the proposed classification of \"Bug\" and \"Invertebrate\" is problematic. The class \"Bug\" contains terrestrial invertebrates while the class \"Invertebrate\" contains aquatic invertebrates as well as terrestrial invertebrates that are no bugs (slug, worm, scorpion). I have run this analysis with the default classes and the faulty assignment causes problems. Therefore, I will fix this before we proceed by replacing \"Bug\" and \"Invertebrate\" with the new categories \"terrestrial_invertebrate\" and \"aquatic_invertebrate\".\n",
    "\n",
    "2. Further manual corrections include:\n",
    "    * The clam is incorrectly labelled as not aquatic.\n",
    "    * The seasnake is incorrectly labelled as not breathing.\n",
    "    * The platypuss actually produces venom.\n",
    "    * Seals do have legs\n",
    "    * Aardvaark, bear and seal have a tail\n",
    "    \n",
    "3. The fish \"tail\" is a caudal fin and we will use this information to create a new variable with this information. This is actually very helpful for us as you will see.\n",
    "\n",
    "4. The \"legs\" variable has several mistakes.\n",
    "   * a wallaby has 4 legs not 2\n",
    "   * a sealion has 4 legs not 2\n",
    "   * crabs have 10 legs not 4\n",
    "   * crayfish have 10 legs not 6\n",
    "   * lobster have 10 legs not 6\n",
    "   \n",
    "5. We will drop the variables \"domestic\" and \"catsize\" since they introduce unnecessary noise."
   ]
  },
  {
   "cell_type": "code",
   "execution_count": null,
   "metadata": {
    "execution": {
     "iopub.execute_input": "2022-09-03T15:32:07.043782Z",
     "iopub.status.busy": "2022-09-03T15:32:07.041964Z",
     "iopub.status.idle": "2022-09-03T15:32:07.077598Z"
    }
   },
   "outputs": [],
   "source": [
    "# drop columns and fix individual entries\n",
    "Zoo <- Zoo %>%\n",
    "select(-c(\"catsize\", \"domestic\"))%>%\n",
    "mutate(aquatic = ifelse(animal_name == \"clam\",1,aquatic),# fix clam entry\n",
    "       breathes = ifelse(animal_name == \"seasnake\",1,breathes), #fix seasnake entry\n",
    "       venomous = ifelse(animal_name == \"platypus\",1,venomous), # fix slatypus entry\n",
    "       legs = ifelse(animal_name == \"seal\",4,legs), # fix seal entry\n",
    "      )%>%\n",
    "\n",
    "# add inforamtioon about class type\n",
    "mutate(type = case_when(\n",
    "class_type == 1 ~ \"Mammal\",\n",
    "class_type == 2 ~ \"Bird\",\n",
    "class_type == 3 ~ \"Reptile\",\n",
    "class_type == 4 ~ \"Fish\",\n",
    "class_type == 5 ~ \"Amphibian\",\n",
    "class_type == 6 ~ \"Bug\",    \n",
    "class_type == 7 ~ \"Invertebrate\", \n",
    ")) %>%\n",
    "\n",
    "# Fix invertebrate assignment\n",
    "mutate(type = case_when(\n",
    "    animal_name == \"flea\"~ \"terrestrial_invertebrate\",\n",
    "    animal_name ==\"gnat\"~ \"terrestrial_invertebrate\",\n",
    "    animal_name ==\"honeybee\"~ \"terrestrial_invertebrate\",\n",
    "    animal_name ==\"housefly\"~ \"terrestrial_invertebrate\",\n",
    "    animal_name ==\"ladybird\"~ \"terrestrial_invertebrate\",\n",
    "    animal_name ==\"moth\"~ \"terrestrial_invertebrate\",\n",
    "    animal_name ==\"termite\"~ \"terrestrial_invertebrate\",\n",
    "    animal_name ==\"wasp\"~ \"terrestrial_invertebrate\",\n",
    "    animal_name ==\"scorpion\"~ \"terrestrial_invertebrate\",\n",
    "    animal_name == \"slug\"~ \"terrestrial_invertebrate\",\n",
    "    animal_name ==\"worm\" ~ \"terrestrial_invertebrate\",\n",
    "    animal_name == \"clam\"~ \"aquatic_invertebrate\",\n",
    "    animal_name ==\"crab\"~ \"aquatic_invertebrate\",\n",
    "    animal_name ==\"crayfish\"~ \"aquatic_invertebrate\",\n",
    "    animal_name ==\"lobster\"~ \"aquatic_invertebrate\",\n",
    "    animal_name ==\"octopus\"~ \"aquatic_invertebrate\",\n",
    "    animal_name ==\"seawasp\"~ \"aquatic_invertebrate\",\n",
    "    animal_name ==\"starfish\"~ \"aquatic_invertebrate\",\n",
    "     TRUE ~ as.character(type)\n",
    "), class_type = case_when(\n",
    "    type == \"terrestrial_invertebrate\" ~ 6,\n",
    "    type == \"aquatic_invertebrate\" ~ 7,\n",
    "    TRUE ~ as.numeric(class_type)))%>%\n",
    "\n",
    "    # Fix tail variable\n",
    "mutate(\n",
    "    tail = case_when(\n",
    "    type == \"Fish\" ~ 0,\n",
    "    animal_name == \"Aardvaark\"~ 1,\n",
    "    animal_name == \"bear\"~ 1,\n",
    "    animal_name == \"seal\"~ 1,\n",
    "        TRUE ~ as.numeric(tail)),\n",
    "    # introduce caudal fin variable\n",
    "caudal_fin = case_when(\n",
    "    type == \"Fish\" ~ 1,\n",
    "    TRUE ~ as.numeric(0)),\n",
    "    \n",
    " # Fix the \"legs\" variable\n",
    " legs= case_when(\n",
    "    animal_name == \"wallaby\" ~ 4,\n",
    "    animal_name == \"sealion\" ~ 4,\n",
    "    animal_name == \"crab\" ~ 10,\n",
    "    animal_name == \"crayfish\" ~ 10,\n",
    "    animal_name == \"lobster\" ~ 10,\n",
    "    TRUE ~ as.numeric(legs)))\n"
   ]
  },
  {
   "cell_type": "markdown",
   "metadata": {},
   "source": [
    "### Check for NAs and duplicate entries\n",
    "Before we proceed, we will check if there are any missing values or duplicate entries."
   ]
  },
  {
   "cell_type": "code",
   "execution_count": null,
   "metadata": {
    "execution": {
     "iopub.execute_input": "2022-09-03T15:32:12.228951Z",
     "iopub.status.busy": "2022-09-03T15:32:12.227338Z",
     "iopub.status.idle": "2022-09-03T15:32:12.296462Z"
    }
   },
   "outputs": [],
   "source": [
    "# check for NAs in all columns\n",
    "apply(Zoo, 2, function(x) any(is.na(x)))\n",
    "      \n",
    "# check for duplicates in \"animal_name\" \n",
    "Zoo%>%\n",
    "group_by(animal_name) %>% \n",
    "  filter(n()>1)"
   ]
  },
  {
   "cell_type": "markdown",
   "metadata": {},
   "source": [
    "The data frame is complete but there are two \"frogs\" in the data set. One is \"venomous\" (well, technically poisonous) while the other is not. We will fix this by renaming one of them to frog2"
   ]
  },
  {
   "cell_type": "markdown",
   "metadata": {},
   "source": [
    "### Fix duplicates\n",
    "\n",
    "Fix duplicate entry by appending numerical index."
   ]
  },
  {
   "cell_type": "code",
   "execution_count": null,
   "metadata": {
    "execution": {
     "iopub.execute_input": "2022-09-03T15:32:16.000412Z",
     "iopub.status.busy": "2022-09-03T15:32:15.99756Z",
     "iopub.status.idle": "2022-09-03T15:32:16.043738Z"
    }
   },
   "outputs": [],
   "source": [
    "Zoo <- Zoo%>%\n",
    "group_by(animal_name)%>% # group by animal_name\n",
    "mutate(animal_name = if(n( ) > 1) {paste0(animal_name, row_number( ))} else {paste0(animal_name)})%>% # intances when name > 1 get added a value\n",
    "ungroup()%>%\n",
    "mutate(\n",
    "    # Add combined label of type and animal_name (for plotting)\n",
    "    animal = paste0(type,\"_\",animal_name))"
   ]
  },
  {
   "cell_type": "code",
   "execution_count": null,
   "metadata": {
    "execution": {
     "iopub.execute_input": "2022-09-03T15:32:18.939009Z",
     "iopub.status.busy": "2022-09-03T15:32:18.936729Z",
     "iopub.status.idle": "2022-09-03T15:32:18.980889Z"
    }
   },
   "outputs": [],
   "source": [
    "# Drop name, class_type and Convert to matrix\n",
    "ZooMatrix <- Zoo %>%\n",
    "select(-c(\"animal_name\",\"class_type\",\"animal\", \"type\"))%>%\n",
    "as.matrix()\n",
    "\n",
    "# Add animal names\n",
    "rownames(ZooMatrix) <- Zoo$animal_name\n",
    "\n",
    "head(ZooMatrix)"
   ]
  },
  {
   "cell_type": "markdown",
   "metadata": {},
   "source": [
    "### Scale data\n",
    "If any of the features are on different scales it is recommended to scale all features so that they have the same mean and standard deviation. For this you substract the mean of a feature from all observations and divide each feature by its standard deviation. The resulting normalized features have a mean of zero and a standard deviation of one."
   ]
  },
  {
   "cell_type": "code",
   "execution_count": null,
   "metadata": {
    "execution": {
     "iopub.execute_input": "2022-09-03T15:32:22.624262Z",
     "iopub.status.busy": "2022-09-03T15:32:22.622381Z",
     "iopub.status.idle": "2022-09-03T15:32:22.666354Z"
    }
   },
   "outputs": [],
   "source": [
    "# Check if you need to scale the data\n",
    "mean_sd <- cbind(as.data.frame(colMeans(ZooMatrix)),  as.data.frame(apply(ZooMatrix, 2, sd)))\n",
    "colnames(mean_sd) <- c(\"Mean\",\"SD\")\n",
    "\n",
    "mean_sd"
   ]
  },
  {
   "cell_type": "markdown",
   "metadata": {},
   "source": [
    "We need to scale this data!"
   ]
  },
  {
   "cell_type": "code",
   "execution_count": null,
   "metadata": {
    "execution": {
     "iopub.execute_input": "2022-09-03T15:32:26.792755Z",
     "iopub.status.busy": "2022-09-03T15:32:26.790872Z",
     "iopub.status.idle": "2022-09-03T15:32:26.828927Z"
    }
   },
   "outputs": [],
   "source": [
    "# scale data using the scale() function\n",
    "\n",
    "ScaledZooMatrix <- scale(ZooMatrix)\n",
    "\n",
    "# Check if scaling worked\n",
    "mean_sd_norm <- cbind(as.data.frame(colMeans(ScaledZooMatrix)),  as.data.frame(apply(ScaledZooMatrix, 2, sd)))\n",
    "colnames(mean_sd_norm) <- c(\"Mean_scaled\",\"SD_scaled\")\n",
    "\n",
    "mean_sd_norm"
   ]
  },
  {
   "cell_type": "markdown",
   "metadata": {},
   "source": [
    "Good! Column have a mean of 0 (considering floating point precision) and a SD of 1."
   ]
  },
  {
   "cell_type": "code",
   "execution_count": null,
   "metadata": {
    "execution": {
     "iopub.execute_input": "2022-09-03T15:32:32.351515Z",
     "iopub.status.busy": "2022-09-03T15:32:32.338086Z",
     "iopub.status.idle": "2022-09-03T15:32:32.394005Z"
    }
   },
   "outputs": [],
   "source": [
    "head(ScaledZooMatrix)"
   ]
  },
  {
   "cell_type": "markdown",
   "metadata": {},
   "source": [
    "<a id=\"3\"></a>\n",
    "## 🧮 Hierarchical clustering\n",
    "\n",
    "There are four default **linkage functions** for clustering available that are used to measure the distance between two clusters:\n",
    "1. **\"Single linkage clustering\"**: Also known as nearest neighbor. Measures the distance between the closest elements of two clusters (method = \"single\").\n",
    "2. **\"Average linkage clustering\"**: Calculates the average distance of all objects of two clusters and with this is less affected by outliers (method = \"average\").\n",
    "3. **\"Complete linkage clustering\"**: Measures the distance between the farthest elements in two clusters (method = \"complete\").\n",
    "4. **\"Centroid linakge clusterin g\"**: First the centers of cluster x and y are calculated and then distance between two cluster centers is assessed (method = \"centroid\").\n",
    "\n",
    "Usually the \"complete\" and \"average\" methods are the one used because they tend to produce more balanced trees. However, if you want to detect outliers, you might want to go for a different method. Here we will try these two methods and compare the results.\n",
    "\n",
    "hclust() requires a similairy matrix as input. For this we need to wrap our scaled data using the dist() function."
   ]
  },
  {
   "cell_type": "code",
   "execution_count": null,
   "metadata": {
    "execution": {
     "iopub.execute_input": "2022-09-03T15:32:40.527433Z",
     "iopub.status.busy": "2022-09-03T15:32:40.525705Z",
     "iopub.status.idle": "2022-09-03T15:32:40.542943Z"
    }
   },
   "outputs": [],
   "source": [
    "Zoo_clust_average <- hclust(dist(ScaledZooMatrix), method = \"average\")\n",
    "Zoo_clust_complete <- hclust(dist(ScaledZooMatrix), method = \"complete\")"
   ]
  },
  {
   "cell_type": "markdown",
   "metadata": {},
   "source": [
    "Extract the cluster IDs for each animal that we know to be true from the Zoo data set."
   ]
  },
  {
   "cell_type": "code",
   "execution_count": null,
   "metadata": {
    "execution": {
     "iopub.execute_input": "2022-09-03T15:33:47.884982Z",
     "iopub.status.busy": "2022-09-03T15:33:47.882084Z",
     "iopub.status.idle": "2022-09-03T15:33:47.909759Z"
    }
   },
   "outputs": [],
   "source": [
    "# Extract cluster IDs\n",
    "expected_clusters  <- setNames(as.character(Zoo$class_type), Zoo$animal_name)"
   ]
  },
  {
   "cell_type": "markdown",
   "metadata": {},
   "source": [
    "### Plot dendrograms\n",
    "Plot the dendrogram for the two models with 7 cluststers. Use the extracted IDs to color code each animals mebership to a cluster."
   ]
  },
  {
   "cell_type": "code",
   "execution_count": null,
   "metadata": {
    "execution": {
     "iopub.execute_input": "2022-09-03T15:32:47.217246Z",
     "iopub.status.busy": "2022-09-03T15:32:47.215465Z",
     "iopub.status.idle": "2022-09-03T15:32:50.048836Z"
    }
   },
   "outputs": [],
   "source": [
    "options(repr.plot.width = 10, repr.plot.height = 20) # set dimensions of plots\n",
    "\n",
    "# Plot results for \"average\"\n",
    "fviz_dend(Zoo_clust_average, k = 7, k_colors = c(\"#1B9E77\", \"#D95F02\", \"#7570B3\", \"#E7298A\", \"#66A61E\", \"#E6AB02\", \"#A6761D\"),\n",
    "         label_cols =  expected_clusters[Zoo_clust_average$order],rect = TRUE, horiz = TRUE, cex = 1.2, main = \"Clustering using average linkage\")\n",
    "\n",
    "# Plot results for \"complete\"\n",
    "fviz_dend(Zoo_clust_complete, k = 7, k_colors = c(\"#1B9E77\", \"#D95F02\", \"#7570B3\", \"#E7298A\", \"#66A61E\", \"#E6AB02\", \"#A6761D\"),\n",
    "         label_cols =  expected_clusters[Zoo_clust_complete$order], rect = TRUE, horiz = TRUE, cex = 1.3, main = \"Clustering using complete linkage\")"
   ]
  },
  {
   "cell_type": "code",
   "execution_count": null,
   "metadata": {
    "execution": {
     "iopub.execute_input": "2022-09-03T15:33:57.126218Z",
     "iopub.status.busy": "2022-09-03T15:33:57.124071Z",
     "iopub.status.idle": "2022-09-03T15:33:57.170668Z"
    }
   },
   "outputs": [],
   "source": [
    "Animals <- Zoo %>%\n",
    "group_by(type)%>%\n",
    "count()%>%\n",
    "arrange(desc(n))\n",
    "\n",
    "Animals"
   ]
  },
  {
   "cell_type": "markdown",
   "metadata": {},
   "source": [
    "Looking at the expected class membership in `Animals` we can see that both methods perform reasonably well. The main issue with the clustering appears to be due to the \"poisonous\" attribute that some animals have. Both methods cluster the poisonous animals together, although they belong to different categories."
   ]
  },
  {
   "cell_type": "markdown",
   "metadata": {},
   "source": [
    "<a id=\"4\"></a>\n",
    "## 🔍 Principal component an analysis\n",
    "\n",
    "We will use principal componene analysis (PCA) to cluster groups of similar animals and compare the results to the hierarchical clustering approach."
   ]
  },
  {
   "cell_type": "code",
   "execution_count": null,
   "metadata": {
    "execution": {
     "iopub.execute_input": "2022-09-03T15:39:25.997538Z",
     "iopub.status.busy": "2022-09-03T15:39:25.994163Z",
     "iopub.status.idle": "2022-09-03T15:39:26.031229Z"
    }
   },
   "outputs": [],
   "source": [
    "# Create a matrix\n",
    "ZooMatrix_PCA <- Zoo%>%\n",
    "select(-c(\"animal_name\",\"class_type\", \"type\", \"animal\"))%>%\n",
    "as.matrix()\n",
    "\n",
    "\n",
    "# Add animal as name\n",
    "rownames(ZooMatrix_PCA) <- Zoo$\"animal\"\n",
    "#ZooMatrix2"
   ]
  },
  {
   "cell_type": "code",
   "execution_count": null,
   "metadata": {
    "execution": {
     "iopub.execute_input": "2022-09-03T15:39:39.311402Z",
     "iopub.status.busy": "2022-09-03T15:39:39.035511Z",
     "iopub.status.idle": "2022-09-03T15:39:39.333024Z"
    }
   },
   "outputs": [],
   "source": [
    "# Perform PCA\n",
    "pca <- prcomp(x= ZooMatrix_PCA, scale = TRUE, center = TRUE)\n",
    "summary(pca)"
   ]
  },
  {
   "cell_type": "markdown",
   "metadata": {},
   "source": [
    "### Biplot\n",
    "Plot loadings and mapping of observations for the first two PCs."
   ]
  },
  {
   "cell_type": "code",
   "execution_count": null,
   "metadata": {
    "execution": {
     "iopub.execute_input": "2022-09-03T15:40:00.756954Z",
     "iopub.status.busy": "2022-09-03T15:40:00.755475Z",
     "iopub.status.idle": "2022-09-03T15:40:03.200259Z"
    }
   },
   "outputs": [],
   "source": [
    "options(repr.plot.width = 15, repr.plot.height = 7.5) # set dimensions of plots\n",
    "#fviz_pca_biplot(pca, jitter = list(what = \"label\", width = NULL, height = NULL))\n",
    "set.seed(3)\n",
    "fviz_pca_biplot(pca, repel = TRUE, habillage=Zoo$type,addEllipses=TRUE,ellipse.level=0.95, title = \"PCA - Biplot\")"
   ]
  },
  {
   "cell_type": "markdown",
   "metadata": {},
   "source": [
    "Plotting PC1 vs PC2 shows that, as with the hierarchical clustering, we can separate several of the groups along PC1 and PC2. "
   ]
  },
  {
   "cell_type": "markdown",
   "metadata": {},
   "source": [
    "### Plot proportion of variance explained"
   ]
  },
  {
   "cell_type": "code",
   "execution_count": null,
   "metadata": {
    "execution": {
     "iopub.execute_input": "2022-09-03T15:08:38.701662Z",
     "iopub.status.busy": "2022-09-03T15:08:38.695647Z",
     "iopub.status.idle": "2022-09-03T15:08:39.313643Z"
    }
   },
   "outputs": [],
   "source": [
    "# Visualize eigenvalues/variances\n",
    "fviz_screeplot(pca, addlabels = TRUE, ylim = c(0, 35))"
   ]
  },
  {
   "cell_type": "code",
   "execution_count": null,
   "metadata": {
    "execution": {
     "iopub.execute_input": "2022-09-03T15:08:44.724123Z",
     "iopub.status.busy": "2022-09-03T15:08:44.722259Z",
     "iopub.status.idle": "2022-09-03T15:08:45.352199Z"
    }
   },
   "outputs": [],
   "source": [
    "# Contributions of features to PC1\n",
    "fviz_contrib(pca, choice = \"var\", axes = 1, top = 10)\n",
    "# Contributions of vfefatures to PC2\n",
    "fviz_contrib(pca, choice = \"var\", axes = 2, top = 10)"
   ]
  },
  {
   "cell_type": "markdown",
   "metadata": {},
   "source": [
    "High ranking features contributing to PC1 are indicative of whether an animal is a mammal or not and aquatic. For PC2 the top contributing features are descriptive of bird and fish specific attributes."
   ]
  },
  {
   "cell_type": "markdown",
   "metadata": {},
   "source": [
    "<a id=\"5\"></a>\n",
    "## 🏆 Conclusion\n",
    "The goal of this analysis was to predict the class of each animal based on the provided features using hierarchical clustering or PCA. After a thorough cleanup of the initially messy data set we were able separate the majority of animals into their expected clusters. However, this did not work for poisonous animals that were clustered together despite belonging to various different classes.\n",
    "\n",
    "**Any feedback is much appreciated. Thank you!**"
   ]
  },
  {
   "cell_type": "code",
   "execution_count": null,
   "metadata": {},
   "outputs": [],
   "source": []
  },
  {
   "cell_type": "code",
   "execution_count": null,
   "metadata": {},
   "outputs": [],
   "source": []
  },
  {
   "cell_type": "code",
   "execution_count": null,
   "metadata": {},
   "outputs": [],
   "source": []
  }
 ],
 "metadata": {
  "kernelspec": {
   "display_name": "R",
   "language": "R",
   "name": "ir"
  },
  "language_info": {
   "codemirror_mode": "r",
   "file_extension": ".r",
   "mimetype": "text/x-r-source",
   "name": "R",
   "pygments_lexer": "r",
   "version": "4.0.5"
  }
 },
 "nbformat": 4,
 "nbformat_minor": 4
}
