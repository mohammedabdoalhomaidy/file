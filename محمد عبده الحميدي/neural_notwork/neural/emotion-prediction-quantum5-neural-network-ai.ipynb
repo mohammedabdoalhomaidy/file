{
 "cells": [
  {
   "cell_type": "markdown",
   "metadata": {
    "id": "UvBy9rQ7xpls"
   },
   "source": [
    "# Import Libraries"
   ]
  },
  {
   "cell_type": "code",
   "execution_count": null,
   "metadata": {
    "execution": {
     "iopub.execute_input": "2022-10-25T21:33:57.610457Z",
     "iopub.status.busy": "2022-10-25T21:33:57.610042Z",
     "iopub.status.idle": "2022-10-25T21:35:49.926474Z",
     "shell.execute_reply": "2022-10-25T21:35:49.925329Z",
     "shell.execute_reply.started": "2022-10-25T21:33:57.610372Z"
    }
   },
   "outputs": [],
   "source": [
    "!pip install pip install tensorflow==2.7.0\n",
    "!pip install tensorflow-quantum==0.7.2\n",
    "!pip install pennylane"
   ]
  },
  {
   "cell_type": "code",
   "execution_count": null,
   "metadata": {
    "execution": {
     "iopub.execute_input": "2022-10-25T21:35:49.929427Z",
     "iopub.status.busy": "2022-10-25T21:35:49.929043Z",
     "iopub.status.idle": "2022-10-25T21:36:14.567065Z",
     "shell.execute_reply": "2022-10-25T21:36:14.565874Z",
     "shell.execute_reply.started": "2022-10-25T21:35:49.929383Z"
    }
   },
   "outputs": [],
   "source": [
    "!pip install cirq==0.13.1"
   ]
  },
  {
   "cell_type": "code",
   "execution_count": null,
   "metadata": {
    "_cell_guid": "b1076dfc-b9ad-4769-8c92-a6c4dae69d19",
    "_uuid": "8f2839f25d086af736a60e9eeb907d3b93b6e0e5",
    "execution": {
     "iopub.execute_input": "2022-10-25T23:01:01.066187Z",
     "iopub.status.busy": "2022-10-25T23:01:01.065826Z",
     "iopub.status.idle": "2022-10-25T23:01:01.073487Z",
     "shell.execute_reply": "2022-10-25T23:01:01.07248Z",
     "shell.execute_reply.started": "2022-10-25T23:01:01.066157Z"
    },
    "id": "C-rU0M1gxplz",
    "outputId": "7bb6f873-7e74-4e8a-9d5f-b645b0557227"
   },
   "outputs": [],
   "source": [
    "import tensorflow as tf\n",
    "from tensorflow.keras.optimizers import Adam\n",
    "from tensorflow import keras\n",
    "from keras.models import Model\n",
    "from tensorflow.keras import layers\n",
    "\n",
    "import numpy as np \n",
    "import pandas as pd\n",
    "import seaborn as sns\n",
    "import matplotlib.pyplot as plt\n",
    "import nltk\n",
    "import re\n",
    "\n",
    "import pennylane as qml\n",
    "from pennylane import numpy as p_np\n",
    "\n",
    "from pennylane.templates.state_preparations import MottonenStatePreparation\n",
    "from pennylane.templates.layers import StronglyEntanglingLayers\n",
    "from nltk.corpus import stopwords\n",
    "from keras.preprocessing.text import Tokenizer\n",
    "from keras.preprocessing.sequence import pad_sequences\n",
    "from sklearn.model_selection import train_test_split\n",
    "import tensorflow as tf"
   ]
  },
  {
   "cell_type": "code",
   "execution_count": null,
   "metadata": {
    "execution": {
     "iopub.execute_input": "2022-10-25T21:50:24.044609Z",
     "iopub.status.busy": "2022-10-25T21:50:24.044239Z",
     "iopub.status.idle": "2022-10-25T21:50:24.100672Z",
     "shell.execute_reply": "2022-10-25T21:50:24.099691Z",
     "shell.execute_reply.started": "2022-10-25T21:50:24.044577Z"
    }
   },
   "outputs": [],
   "source": [
    "# load our data\n",
    "data = pd.read_csv(\"tweet_emotions.csv\")\n",
    "plt.style.use('fivethirtyeight')"
   ]
  },
  {
   "cell_type": "markdown",
   "metadata": {
    "id": "0fwVsyFjxpl7"
   },
   "source": [
    "# Data Visualization"
   ]
  },
  {
   "cell_type": "code",
   "execution_count": null,
   "metadata": {
    "execution": {
     "iopub.execute_input": "2022-10-25T21:50:25.720089Z",
     "iopub.status.busy": "2022-10-25T21:50:25.719714Z",
     "iopub.status.idle": "2022-10-25T21:50:25.984937Z",
     "shell.execute_reply": "2022-10-25T21:50:25.984Z",
     "shell.execute_reply.started": "2022-10-25T21:50:25.720055Z"
    },
    "id": "9KW79cB1zXqq",
    "outputId": "ac3644e5-9d9a-4df3-899a-754a83b93119"
   },
   "outputs": [],
   "source": [
    "sns.countplot(y=data[\"sentiment\"])"
   ]
  },
  {
   "cell_type": "markdown",
   "metadata": {
    "id": "BBMi7ePjxpl_"
   },
   "source": [
    "# Data Cleanup and Prepare"
   ]
  },
  {
   "cell_type": "code",
   "execution_count": null,
   "metadata": {
    "execution": {
     "iopub.execute_input": "2022-10-25T21:50:28.604192Z",
     "iopub.status.busy": "2022-10-25T21:50:28.603839Z",
     "iopub.status.idle": "2022-10-25T21:50:30.562735Z",
     "shell.execute_reply": "2022-10-25T21:50:30.5617Z",
     "shell.execute_reply.started": "2022-10-25T21:50:28.604163Z"
    }
   },
   "outputs": [],
   "source": [
    "stop_words = set(stopwords.words('english'))\n",
    "from nltk.stem import RegexpStemmer\n",
    "snowball = RegexpStemmer('ing$|s$|e$|able$', min=4)\n",
    "\n",
    "data[\"content\"] = data[\"content\"].apply(lambda x: \" \".join([snowball.stem(re.sub(r'[^\\w\\d]', \"\", word)) for word in x.lower().split() if word not in stop_words]))\n",
    "\n",
    "X = data[\"content\"]\n",
    "tokenize = Tokenizer()\n",
    "\n",
    "tokenize.fit_on_texts(X)\n",
    "\n",
    "max_length = 64\n",
    "vocab_size = len(tokenize.word_index) + 1\n",
    "X = pad_sequences(tokenize.texts_to_sequences(X), maxlen=max_length, padding=\"post\")"
   ]
  },
  {
   "cell_type": "markdown",
   "metadata": {},
   "source": [
    "# Preparation of Quantum5"
   ]
  },
  {
   "cell_type": "code",
   "execution_count": null,
   "metadata": {
    "execution": {
     "iopub.execute_input": "2022-10-25T22:42:32.059753Z",
     "iopub.status.busy": "2022-10-25T22:42:32.05938Z",
     "iopub.status.idle": "2022-10-25T22:42:32.085463Z",
     "shell.execute_reply": "2022-10-25T22:42:32.08459Z",
     "shell.execute_reply.started": "2022-10-25T22:42:32.059721Z"
    }
   },
   "outputs": [],
   "source": [
    "n_qubits = 2\n",
    "dev = qml.device(\"default.qubit\", wires=n_qubits)\n",
    "\n",
    "@qml.qnode(dev)\n",
    "def qnode(inputs, weights):\n",
    "    qml.templates.AngleEmbedding(inputs, wires=range(n_qubits))\n",
    "    qml.templates.StronglyEntanglingLayers(weights, wires=range(n_qubits))\n",
    "    return qml.expval(qml.PauliZ(0)), qml.expval(qml.PauliZ(1))\n",
    "\n",
    "weight_shapes = {\"weights\": (3, n_qubits, 3)}\n",
    "\n",
    "qlayer = qml.qnn.KerasLayer(qnode, weight_shapes, output_dim=2)\n",
    "clayer1 = tf.keras.layers.Dense(2)\n",
    "clayer2 = tf.keras.layers.Dense(13, activation=\"softmax\")\n",
    "model = tf.keras.models.Sequential([clayer1, qlayer, clayer2])\n",
    "opt = tf.keras.optimizers.SGD(learning_rate=0.8)\n",
    "model.compile(opt, loss='mae')"
   ]
  },
  {
   "cell_type": "markdown",
   "metadata": {},
   "source": [
    "# Preparation of Label"
   ]
  },
  {
   "cell_type": "code",
   "execution_count": null,
   "metadata": {
    "execution": {
     "iopub.execute_input": "2022-10-25T22:17:04.048382Z",
     "iopub.status.busy": "2022-10-25T22:17:04.048003Z",
     "iopub.status.idle": "2022-10-25T22:17:04.064964Z",
     "shell.execute_reply": "2022-10-25T22:17:04.063759Z",
     "shell.execute_reply.started": "2022-10-25T22:17:04.048352Z"
    }
   },
   "outputs": [],
   "source": [
    "Y = data['sentiment']\n",
    "from sklearn.preprocessing import LabelEncoder\n",
    "\n",
    "func = LabelEncoder()\n",
    "\n",
    "Y = func.fit_transform(Y)\n",
    "Y = tf.convert_to_tensor(Y)\n",
    "\n",
    "X = tf.constant(X)\n",
    "Y = tf.one_hot(Y, depth=1)"
   ]
  },
  {
   "cell_type": "markdown",
   "metadata": {},
   "source": [
    "# Model Fitting"
   ]
  },
  {
   "cell_type": "code",
   "execution_count": null,
   "metadata": {
    "execution": {
     "iopub.execute_input": "2022-10-25T22:42:44.081903Z",
     "iopub.status.busy": "2022-10-25T22:42:44.080888Z",
     "iopub.status.idle": "2022-10-25T22:47:06.046765Z",
     "shell.execute_reply": "2022-10-25T22:47:06.045818Z",
     "shell.execute_reply.started": "2022-10-25T22:42:44.081856Z"
    }
   },
   "outputs": [],
   "source": [
    "model.fit(X,Y, epochs=1, batch_size=256, shuffle=True,steps_per_epoch=1,validation_split=0.1)"
   ]
  },
  {
   "cell_type": "markdown",
   "metadata": {},
   "source": [
    "# Preparation of Prediction Data and Prediction Equation"
   ]
  },
  {
   "cell_type": "code",
   "execution_count": null,
   "metadata": {
    "execution": {
     "iopub.execute_input": "2022-10-25T22:59:03.573662Z",
     "iopub.status.busy": "2022-10-25T22:59:03.573262Z",
     "iopub.status.idle": "2022-10-25T22:59:03.649573Z",
     "shell.execute_reply": "2022-10-25T22:59:03.648598Z",
     "shell.execute_reply.started": "2022-10-25T22:59:03.57363Z"
    }
   },
   "outputs": [],
   "source": [
    "a = \"Yes, I am very normal!\"\n",
    "tokenize.fit_on_texts(a)\n",
    "\n",
    "max_length = 64\n",
    "vocab_size = len(tokenize.word_index) + 1\n",
    "a = pad_sequences(tokenize.texts_to_sequences(a), maxlen=max_length, padding=\"post\")"
   ]
  },
  {
   "cell_type": "code",
   "execution_count": null,
   "metadata": {
    "execution": {
     "iopub.execute_input": "2022-10-25T22:59:03.65185Z",
     "iopub.status.busy": "2022-10-25T22:59:03.65137Z",
     "iopub.status.idle": "2022-10-25T22:59:04.536305Z",
     "shell.execute_reply": "2022-10-25T22:59:04.535296Z",
     "shell.execute_reply.started": "2022-10-25T22:59:03.651814Z"
    }
   },
   "outputs": [],
   "source": [
    "a = tf.constant(a)\n",
    "prediction = model.predict(a)"
   ]
  },
  {
   "cell_type": "code",
   "execution_count": null,
   "metadata": {
    "execution": {
     "iopub.execute_input": "2022-10-25T22:59:04.540065Z",
     "iopub.status.busy": "2022-10-25T22:59:04.537947Z",
     "iopub.status.idle": "2022-10-25T22:59:04.548587Z",
     "shell.execute_reply": "2022-10-25T22:59:04.547606Z",
     "shell.execute_reply.started": "2022-10-25T22:59:04.540035Z"
    }
   },
   "outputs": [],
   "source": [
    "ap = []\n",
    "for i in range(len(prediction)):\n",
    "    ap.append(np.argmax(prediction[i]))\n",
    "np.argmax(ap)"
   ]
  },
  {
   "cell_type": "code",
   "execution_count": null,
   "metadata": {
    "execution": {
     "iopub.execute_input": "2022-10-25T22:59:04.551484Z",
     "iopub.status.busy": "2022-10-25T22:59:04.55112Z",
     "iopub.status.idle": "2022-10-25T22:59:04.558454Z",
     "shell.execute_reply": "2022-10-25T22:59:04.55754Z",
     "shell.execute_reply.started": "2022-10-25T22:59:04.551446Z"
    }
   },
   "outputs": [],
   "source": [
    "result = np.argmax(ap)\n",
    "result = np.array(result).reshape(1)"
   ]
  },
  {
   "cell_type": "code",
   "execution_count": null,
   "metadata": {
    "execution": {
     "iopub.execute_input": "2022-10-25T22:59:04.560591Z",
     "iopub.status.busy": "2022-10-25T22:59:04.560094Z",
     "iopub.status.idle": "2022-10-25T22:59:04.56928Z",
     "shell.execute_reply": "2022-10-25T22:59:04.568114Z",
     "shell.execute_reply.started": "2022-10-25T22:59:04.560533Z"
    }
   },
   "outputs": [],
   "source": [
    "func.inverse_transform(result)"
   ]
  },
  {
   "cell_type": "code",
   "execution_count": null,
   "metadata": {},
   "outputs": [],
   "source": []
  },
  {
   "cell_type": "code",
   "execution_count": null,
   "metadata": {},
   "outputs": [],
   "source": []
  },
  {
   "cell_type": "code",
   "execution_count": null,
   "metadata": {},
   "outputs": [],
   "source": []
  },
  {
   "cell_type": "code",
   "execution_count": null,
   "metadata": {},
   "outputs": [],
   "source": []
  },
  {
   "cell_type": "code",
   "execution_count": null,
   "metadata": {},
   "outputs": [],
   "source": []
  },
  {
   "cell_type": "code",
   "execution_count": null,
   "metadata": {},
   "outputs": [],
   "source": []
  },
  {
   "cell_type": "code",
   "execution_count": null,
   "metadata": {},
   "outputs": [],
   "source": []
  }
 ],
 "metadata": {
  "kernelspec": {
   "display_name": "Python 3 (ipykernel)",
   "language": "python",
   "name": "python3"
  },
  "language_info": {
   "codemirror_mode": {
    "name": "ipython",
    "version": 3
   },
   "file_extension": ".py",
   "mimetype": "text/x-python",
   "name": "python",
   "nbconvert_exporter": "python",
   "pygments_lexer": "ipython3",
   "version": "3.9.12"
  }
 },
 "nbformat": 4,
 "nbformat_minor": 4
}
