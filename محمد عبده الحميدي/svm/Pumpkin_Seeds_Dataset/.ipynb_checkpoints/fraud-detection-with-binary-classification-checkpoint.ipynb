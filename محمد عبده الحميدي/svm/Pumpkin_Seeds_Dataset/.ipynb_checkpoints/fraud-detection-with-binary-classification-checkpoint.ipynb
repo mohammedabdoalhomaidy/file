{
 "cells": [
  {
   "cell_type": "markdown",
   "metadata": {},
   "source": [
    "# Fraud Detection with Binary Classification Models\n",
    "\n",
    "### Prompt:\n",
    "To identify online payment fraud with machine learning, we need to train a machine learning model for classifying fraudulent and non-fraudulent payments.\n",
    "\n",
    "### Feature Explanation:\n",
    "step: represents a unit of time where 1 step equals 1 hour\\\n",
    "type: type of online transaction\\\n",
    "amount: the amount of the transaction\\\n",
    "nameOrig: customer starting the transaction\\\n",
    "oldbalanceOrg: balance before the transaction\\\n",
    "newbalanceOrig: balance after the transaction\\\n",
    "nameDest: recipient of the transaction\\\n",
    "oldbalanceDest: initial balance of recipient before the transaction\\\n",
    "newbalanceDest: the new balance of recipient after the transaction\\\n",
    "isFraud: fraud transaction"
   ]
  },
  {
   "cell_type": "code",
   "execution_count": 2,
   "metadata": {
    "execution": {
     "iopub.execute_input": "2022-10-28T15:27:43.112414Z",
     "iopub.status.busy": "2022-10-28T15:27:43.111976Z",
     "iopub.status.idle": "2022-10-28T15:27:58.39243Z",
     "shell.execute_reply": "2022-10-28T15:27:58.391202Z",
     "shell.execute_reply.started": "2022-10-28T15:27:43.112381Z"
    }
   },
   "outputs": [
    {
     "ename": "FileNotFoundError",
     "evalue": "[Errno 2] No such file or directory: 'Pumpkin_Seeds_Dataset.csv'",
     "output_type": "error",
     "traceback": [
      "\u001b[1;31m---------------------------------------------------------------------------\u001b[0m",
      "\u001b[1;31mFileNotFoundError\u001b[0m                         Traceback (most recent call last)",
      "Input \u001b[1;32mIn [2]\u001b[0m, in \u001b[0;36m<cell line: 9>\u001b[1;34m()\u001b[0m\n\u001b[0;32m      6\u001b[0m warnings\u001b[38;5;241m.\u001b[39mfilterwarnings(\u001b[38;5;124m\"\u001b[39m\u001b[38;5;124mignore\u001b[39m\u001b[38;5;124m\"\u001b[39m)\n\u001b[0;32m      7\u001b[0m pd\u001b[38;5;241m.\u001b[39mset_option(\u001b[38;5;124m'\u001b[39m\u001b[38;5;124mdisplay.float_format\u001b[39m\u001b[38;5;124m'\u001b[39m, \u001b[38;5;28;01mlambda\u001b[39;00m x: \u001b[38;5;124m'\u001b[39m\u001b[38;5;132;01m%.4f\u001b[39;00m\u001b[38;5;124m'\u001b[39m \u001b[38;5;241m%\u001b[39m x)\n\u001b[1;32m----> 9\u001b[0m df \u001b[38;5;241m=\u001b[39m \u001b[43mpd\u001b[49m\u001b[38;5;241;43m.\u001b[39;49m\u001b[43mread_csv\u001b[49m\u001b[43m(\u001b[49m\u001b[38;5;124;43m'\u001b[39;49m\u001b[38;5;124;43mPumpkin_Seeds_Dataset.csv\u001b[39;49m\u001b[38;5;124;43m'\u001b[39;49m\u001b[43m)\u001b[49m\n",
      "File \u001b[1;32mC:\\ProgramData\\Anaconda3\\lib\\site-packages\\pandas\\util\\_decorators.py:311\u001b[0m, in \u001b[0;36mdeprecate_nonkeyword_arguments.<locals>.decorate.<locals>.wrapper\u001b[1;34m(*args, **kwargs)\u001b[0m\n\u001b[0;32m    305\u001b[0m \u001b[38;5;28;01mif\u001b[39;00m \u001b[38;5;28mlen\u001b[39m(args) \u001b[38;5;241m>\u001b[39m num_allow_args:\n\u001b[0;32m    306\u001b[0m     warnings\u001b[38;5;241m.\u001b[39mwarn(\n\u001b[0;32m    307\u001b[0m         msg\u001b[38;5;241m.\u001b[39mformat(arguments\u001b[38;5;241m=\u001b[39marguments),\n\u001b[0;32m    308\u001b[0m         \u001b[38;5;167;01mFutureWarning\u001b[39;00m,\n\u001b[0;32m    309\u001b[0m         stacklevel\u001b[38;5;241m=\u001b[39mstacklevel,\n\u001b[0;32m    310\u001b[0m     )\n\u001b[1;32m--> 311\u001b[0m \u001b[38;5;28;01mreturn\u001b[39;00m func(\u001b[38;5;241m*\u001b[39margs, \u001b[38;5;241m*\u001b[39m\u001b[38;5;241m*\u001b[39mkwargs)\n",
      "File \u001b[1;32mC:\\ProgramData\\Anaconda3\\lib\\site-packages\\pandas\\io\\parsers\\readers.py:680\u001b[0m, in \u001b[0;36mread_csv\u001b[1;34m(filepath_or_buffer, sep, delimiter, header, names, index_col, usecols, squeeze, prefix, mangle_dupe_cols, dtype, engine, converters, true_values, false_values, skipinitialspace, skiprows, skipfooter, nrows, na_values, keep_default_na, na_filter, verbose, skip_blank_lines, parse_dates, infer_datetime_format, keep_date_col, date_parser, dayfirst, cache_dates, iterator, chunksize, compression, thousands, decimal, lineterminator, quotechar, quoting, doublequote, escapechar, comment, encoding, encoding_errors, dialect, error_bad_lines, warn_bad_lines, on_bad_lines, delim_whitespace, low_memory, memory_map, float_precision, storage_options)\u001b[0m\n\u001b[0;32m    665\u001b[0m kwds_defaults \u001b[38;5;241m=\u001b[39m _refine_defaults_read(\n\u001b[0;32m    666\u001b[0m     dialect,\n\u001b[0;32m    667\u001b[0m     delimiter,\n\u001b[1;32m   (...)\u001b[0m\n\u001b[0;32m    676\u001b[0m     defaults\u001b[38;5;241m=\u001b[39m{\u001b[38;5;124m\"\u001b[39m\u001b[38;5;124mdelimiter\u001b[39m\u001b[38;5;124m\"\u001b[39m: \u001b[38;5;124m\"\u001b[39m\u001b[38;5;124m,\u001b[39m\u001b[38;5;124m\"\u001b[39m},\n\u001b[0;32m    677\u001b[0m )\n\u001b[0;32m    678\u001b[0m kwds\u001b[38;5;241m.\u001b[39mupdate(kwds_defaults)\n\u001b[1;32m--> 680\u001b[0m \u001b[38;5;28;01mreturn\u001b[39;00m \u001b[43m_read\u001b[49m\u001b[43m(\u001b[49m\u001b[43mfilepath_or_buffer\u001b[49m\u001b[43m,\u001b[49m\u001b[43m \u001b[49m\u001b[43mkwds\u001b[49m\u001b[43m)\u001b[49m\n",
      "File \u001b[1;32mC:\\ProgramData\\Anaconda3\\lib\\site-packages\\pandas\\io\\parsers\\readers.py:575\u001b[0m, in \u001b[0;36m_read\u001b[1;34m(filepath_or_buffer, kwds)\u001b[0m\n\u001b[0;32m    572\u001b[0m _validate_names(kwds\u001b[38;5;241m.\u001b[39mget(\u001b[38;5;124m\"\u001b[39m\u001b[38;5;124mnames\u001b[39m\u001b[38;5;124m\"\u001b[39m, \u001b[38;5;28;01mNone\u001b[39;00m))\n\u001b[0;32m    574\u001b[0m \u001b[38;5;66;03m# Create the parser.\u001b[39;00m\n\u001b[1;32m--> 575\u001b[0m parser \u001b[38;5;241m=\u001b[39m TextFileReader(filepath_or_buffer, \u001b[38;5;241m*\u001b[39m\u001b[38;5;241m*\u001b[39mkwds)\n\u001b[0;32m    577\u001b[0m \u001b[38;5;28;01mif\u001b[39;00m chunksize \u001b[38;5;129;01mor\u001b[39;00m iterator:\n\u001b[0;32m    578\u001b[0m     \u001b[38;5;28;01mreturn\u001b[39;00m parser\n",
      "File \u001b[1;32mC:\\ProgramData\\Anaconda3\\lib\\site-packages\\pandas\\io\\parsers\\readers.py:933\u001b[0m, in \u001b[0;36mTextFileReader.__init__\u001b[1;34m(self, f, engine, **kwds)\u001b[0m\n\u001b[0;32m    930\u001b[0m     \u001b[38;5;28mself\u001b[39m\u001b[38;5;241m.\u001b[39moptions[\u001b[38;5;124m\"\u001b[39m\u001b[38;5;124mhas_index_names\u001b[39m\u001b[38;5;124m\"\u001b[39m] \u001b[38;5;241m=\u001b[39m kwds[\u001b[38;5;124m\"\u001b[39m\u001b[38;5;124mhas_index_names\u001b[39m\u001b[38;5;124m\"\u001b[39m]\n\u001b[0;32m    932\u001b[0m \u001b[38;5;28mself\u001b[39m\u001b[38;5;241m.\u001b[39mhandles: IOHandles \u001b[38;5;241m|\u001b[39m \u001b[38;5;28;01mNone\u001b[39;00m \u001b[38;5;241m=\u001b[39m \u001b[38;5;28;01mNone\u001b[39;00m\n\u001b[1;32m--> 933\u001b[0m \u001b[38;5;28mself\u001b[39m\u001b[38;5;241m.\u001b[39m_engine \u001b[38;5;241m=\u001b[39m \u001b[38;5;28;43mself\u001b[39;49m\u001b[38;5;241;43m.\u001b[39;49m\u001b[43m_make_engine\u001b[49m\u001b[43m(\u001b[49m\u001b[43mf\u001b[49m\u001b[43m,\u001b[49m\u001b[43m \u001b[49m\u001b[38;5;28;43mself\u001b[39;49m\u001b[38;5;241;43m.\u001b[39;49m\u001b[43mengine\u001b[49m\u001b[43m)\u001b[49m\n",
      "File \u001b[1;32mC:\\ProgramData\\Anaconda3\\lib\\site-packages\\pandas\\io\\parsers\\readers.py:1217\u001b[0m, in \u001b[0;36mTextFileReader._make_engine\u001b[1;34m(self, f, engine)\u001b[0m\n\u001b[0;32m   1213\u001b[0m     mode \u001b[38;5;241m=\u001b[39m \u001b[38;5;124m\"\u001b[39m\u001b[38;5;124mrb\u001b[39m\u001b[38;5;124m\"\u001b[39m\n\u001b[0;32m   1214\u001b[0m \u001b[38;5;66;03m# error: No overload variant of \"get_handle\" matches argument types\u001b[39;00m\n\u001b[0;32m   1215\u001b[0m \u001b[38;5;66;03m# \"Union[str, PathLike[str], ReadCsvBuffer[bytes], ReadCsvBuffer[str]]\"\u001b[39;00m\n\u001b[0;32m   1216\u001b[0m \u001b[38;5;66;03m# , \"str\", \"bool\", \"Any\", \"Any\", \"Any\", \"Any\", \"Any\"\u001b[39;00m\n\u001b[1;32m-> 1217\u001b[0m \u001b[38;5;28mself\u001b[39m\u001b[38;5;241m.\u001b[39mhandles \u001b[38;5;241m=\u001b[39m \u001b[43mget_handle\u001b[49m\u001b[43m(\u001b[49m\u001b[43m  \u001b[49m\u001b[38;5;66;43;03m# type: ignore[call-overload]\u001b[39;49;00m\n\u001b[0;32m   1218\u001b[0m \u001b[43m    \u001b[49m\u001b[43mf\u001b[49m\u001b[43m,\u001b[49m\n\u001b[0;32m   1219\u001b[0m \u001b[43m    \u001b[49m\u001b[43mmode\u001b[49m\u001b[43m,\u001b[49m\n\u001b[0;32m   1220\u001b[0m \u001b[43m    \u001b[49m\u001b[43mencoding\u001b[49m\u001b[38;5;241;43m=\u001b[39;49m\u001b[38;5;28;43mself\u001b[39;49m\u001b[38;5;241;43m.\u001b[39;49m\u001b[43moptions\u001b[49m\u001b[38;5;241;43m.\u001b[39;49m\u001b[43mget\u001b[49m\u001b[43m(\u001b[49m\u001b[38;5;124;43m\"\u001b[39;49m\u001b[38;5;124;43mencoding\u001b[39;49m\u001b[38;5;124;43m\"\u001b[39;49m\u001b[43m,\u001b[49m\u001b[43m \u001b[49m\u001b[38;5;28;43;01mNone\u001b[39;49;00m\u001b[43m)\u001b[49m\u001b[43m,\u001b[49m\n\u001b[0;32m   1221\u001b[0m \u001b[43m    \u001b[49m\u001b[43mcompression\u001b[49m\u001b[38;5;241;43m=\u001b[39;49m\u001b[38;5;28;43mself\u001b[39;49m\u001b[38;5;241;43m.\u001b[39;49m\u001b[43moptions\u001b[49m\u001b[38;5;241;43m.\u001b[39;49m\u001b[43mget\u001b[49m\u001b[43m(\u001b[49m\u001b[38;5;124;43m\"\u001b[39;49m\u001b[38;5;124;43mcompression\u001b[39;49m\u001b[38;5;124;43m\"\u001b[39;49m\u001b[43m,\u001b[49m\u001b[43m \u001b[49m\u001b[38;5;28;43;01mNone\u001b[39;49;00m\u001b[43m)\u001b[49m\u001b[43m,\u001b[49m\n\u001b[0;32m   1222\u001b[0m \u001b[43m    \u001b[49m\u001b[43mmemory_map\u001b[49m\u001b[38;5;241;43m=\u001b[39;49m\u001b[38;5;28;43mself\u001b[39;49m\u001b[38;5;241;43m.\u001b[39;49m\u001b[43moptions\u001b[49m\u001b[38;5;241;43m.\u001b[39;49m\u001b[43mget\u001b[49m\u001b[43m(\u001b[49m\u001b[38;5;124;43m\"\u001b[39;49m\u001b[38;5;124;43mmemory_map\u001b[39;49m\u001b[38;5;124;43m\"\u001b[39;49m\u001b[43m,\u001b[49m\u001b[43m \u001b[49m\u001b[38;5;28;43;01mFalse\u001b[39;49;00m\u001b[43m)\u001b[49m\u001b[43m,\u001b[49m\n\u001b[0;32m   1223\u001b[0m \u001b[43m    \u001b[49m\u001b[43mis_text\u001b[49m\u001b[38;5;241;43m=\u001b[39;49m\u001b[43mis_text\u001b[49m\u001b[43m,\u001b[49m\n\u001b[0;32m   1224\u001b[0m \u001b[43m    \u001b[49m\u001b[43merrors\u001b[49m\u001b[38;5;241;43m=\u001b[39;49m\u001b[38;5;28;43mself\u001b[39;49m\u001b[38;5;241;43m.\u001b[39;49m\u001b[43moptions\u001b[49m\u001b[38;5;241;43m.\u001b[39;49m\u001b[43mget\u001b[49m\u001b[43m(\u001b[49m\u001b[38;5;124;43m\"\u001b[39;49m\u001b[38;5;124;43mencoding_errors\u001b[39;49m\u001b[38;5;124;43m\"\u001b[39;49m\u001b[43m,\u001b[49m\u001b[43m \u001b[49m\u001b[38;5;124;43m\"\u001b[39;49m\u001b[38;5;124;43mstrict\u001b[39;49m\u001b[38;5;124;43m\"\u001b[39;49m\u001b[43m)\u001b[49m\u001b[43m,\u001b[49m\n\u001b[0;32m   1225\u001b[0m \u001b[43m    \u001b[49m\u001b[43mstorage_options\u001b[49m\u001b[38;5;241;43m=\u001b[39;49m\u001b[38;5;28;43mself\u001b[39;49m\u001b[38;5;241;43m.\u001b[39;49m\u001b[43moptions\u001b[49m\u001b[38;5;241;43m.\u001b[39;49m\u001b[43mget\u001b[49m\u001b[43m(\u001b[49m\u001b[38;5;124;43m\"\u001b[39;49m\u001b[38;5;124;43mstorage_options\u001b[39;49m\u001b[38;5;124;43m\"\u001b[39;49m\u001b[43m,\u001b[49m\u001b[43m \u001b[49m\u001b[38;5;28;43;01mNone\u001b[39;49;00m\u001b[43m)\u001b[49m\u001b[43m,\u001b[49m\n\u001b[0;32m   1226\u001b[0m \u001b[43m\u001b[49m\u001b[43m)\u001b[49m\n\u001b[0;32m   1227\u001b[0m \u001b[38;5;28;01massert\u001b[39;00m \u001b[38;5;28mself\u001b[39m\u001b[38;5;241m.\u001b[39mhandles \u001b[38;5;129;01mis\u001b[39;00m \u001b[38;5;129;01mnot\u001b[39;00m \u001b[38;5;28;01mNone\u001b[39;00m\n\u001b[0;32m   1228\u001b[0m f \u001b[38;5;241m=\u001b[39m \u001b[38;5;28mself\u001b[39m\u001b[38;5;241m.\u001b[39mhandles\u001b[38;5;241m.\u001b[39mhandle\n",
      "File \u001b[1;32mC:\\ProgramData\\Anaconda3\\lib\\site-packages\\pandas\\io\\common.py:789\u001b[0m, in \u001b[0;36mget_handle\u001b[1;34m(path_or_buf, mode, encoding, compression, memory_map, is_text, errors, storage_options)\u001b[0m\n\u001b[0;32m    784\u001b[0m \u001b[38;5;28;01melif\u001b[39;00m \u001b[38;5;28misinstance\u001b[39m(handle, \u001b[38;5;28mstr\u001b[39m):\n\u001b[0;32m    785\u001b[0m     \u001b[38;5;66;03m# Check whether the filename is to be opened in binary mode.\u001b[39;00m\n\u001b[0;32m    786\u001b[0m     \u001b[38;5;66;03m# Binary mode does not support 'encoding' and 'newline'.\u001b[39;00m\n\u001b[0;32m    787\u001b[0m     \u001b[38;5;28;01mif\u001b[39;00m ioargs\u001b[38;5;241m.\u001b[39mencoding \u001b[38;5;129;01mand\u001b[39;00m \u001b[38;5;124m\"\u001b[39m\u001b[38;5;124mb\u001b[39m\u001b[38;5;124m\"\u001b[39m \u001b[38;5;129;01mnot\u001b[39;00m \u001b[38;5;129;01min\u001b[39;00m ioargs\u001b[38;5;241m.\u001b[39mmode:\n\u001b[0;32m    788\u001b[0m         \u001b[38;5;66;03m# Encoding\u001b[39;00m\n\u001b[1;32m--> 789\u001b[0m         handle \u001b[38;5;241m=\u001b[39m \u001b[38;5;28;43mopen\u001b[39;49m\u001b[43m(\u001b[49m\n\u001b[0;32m    790\u001b[0m \u001b[43m            \u001b[49m\u001b[43mhandle\u001b[49m\u001b[43m,\u001b[49m\n\u001b[0;32m    791\u001b[0m \u001b[43m            \u001b[49m\u001b[43mioargs\u001b[49m\u001b[38;5;241;43m.\u001b[39;49m\u001b[43mmode\u001b[49m\u001b[43m,\u001b[49m\n\u001b[0;32m    792\u001b[0m \u001b[43m            \u001b[49m\u001b[43mencoding\u001b[49m\u001b[38;5;241;43m=\u001b[39;49m\u001b[43mioargs\u001b[49m\u001b[38;5;241;43m.\u001b[39;49m\u001b[43mencoding\u001b[49m\u001b[43m,\u001b[49m\n\u001b[0;32m    793\u001b[0m \u001b[43m            \u001b[49m\u001b[43merrors\u001b[49m\u001b[38;5;241;43m=\u001b[39;49m\u001b[43merrors\u001b[49m\u001b[43m,\u001b[49m\n\u001b[0;32m    794\u001b[0m \u001b[43m            \u001b[49m\u001b[43mnewline\u001b[49m\u001b[38;5;241;43m=\u001b[39;49m\u001b[38;5;124;43m\"\u001b[39;49m\u001b[38;5;124;43m\"\u001b[39;49m\u001b[43m,\u001b[49m\n\u001b[0;32m    795\u001b[0m \u001b[43m        \u001b[49m\u001b[43m)\u001b[49m\n\u001b[0;32m    796\u001b[0m     \u001b[38;5;28;01melse\u001b[39;00m:\n\u001b[0;32m    797\u001b[0m         \u001b[38;5;66;03m# Binary mode\u001b[39;00m\n\u001b[0;32m    798\u001b[0m         handle \u001b[38;5;241m=\u001b[39m \u001b[38;5;28mopen\u001b[39m(handle, ioargs\u001b[38;5;241m.\u001b[39mmode)\n",
      "\u001b[1;31mFileNotFoundError\u001b[0m: [Errno 2] No such file or directory: 'Pumpkin_Seeds_Dataset.csv'"
     ]
    }
   ],
   "source": [
    "import numpy as np\n",
    "import matplotlib.pyplot as plt\n",
    "import pandas as pd\n",
    "import seaborn as sns\n",
    "import warnings\n",
    "warnings.filterwarnings(\"ignore\")\n",
    "pd.set_option('display.float_format', lambda x: '%.4f' % x)\n",
    "\n",
    "df = pd.read_csv('Pumpkin_Seeds_Dataset.csv')"
   ]
  },
  {
   "cell_type": "code",
   "execution_count": 3,
   "metadata": {
    "execution": {
     "iopub.execute_input": "2022-10-28T15:27:58.394788Z",
     "iopub.status.busy": "2022-10-28T15:27:58.394379Z",
     "iopub.status.idle": "2022-10-28T15:27:58.433423Z",
     "shell.execute_reply": "2022-10-28T15:27:58.432108Z",
     "shell.execute_reply.started": "2022-10-28T15:27:58.39475Z"
    }
   },
   "outputs": [
    {
     "ename": "NameError",
     "evalue": "name 'df' is not defined",
     "output_type": "error",
     "traceback": [
      "\u001b[1;31m---------------------------------------------------------------------------\u001b[0m",
      "\u001b[1;31mNameError\u001b[0m                                 Traceback (most recent call last)",
      "Input \u001b[1;32mIn [3]\u001b[0m, in \u001b[0;36m<cell line: 1>\u001b[1;34m()\u001b[0m\n\u001b[1;32m----> 1\u001b[0m \u001b[43mdf\u001b[49m\n",
      "\u001b[1;31mNameError\u001b[0m: name 'df' is not defined"
     ]
    }
   ],
   "source": [
    "df"
   ]
  },
  {
   "cell_type": "code",
   "execution_count": 4,
   "metadata": {
    "execution": {
     "iopub.execute_input": "2022-10-28T15:27:58.435151Z",
     "iopub.status.busy": "2022-10-28T15:27:58.434796Z",
     "iopub.status.idle": "2022-10-28T15:27:58.459245Z",
     "shell.execute_reply": "2022-10-28T15:27:58.457822Z",
     "shell.execute_reply.started": "2022-10-28T15:27:58.435119Z"
    }
   },
   "outputs": [
    {
     "ename": "NameError",
     "evalue": "name 'df' is not defined",
     "output_type": "error",
     "traceback": [
      "\u001b[1;31m---------------------------------------------------------------------------\u001b[0m",
      "\u001b[1;31mNameError\u001b[0m                                 Traceback (most recent call last)",
      "Input \u001b[1;32mIn [4]\u001b[0m, in \u001b[0;36m<cell line: 1>\u001b[1;34m()\u001b[0m\n\u001b[1;32m----> 1\u001b[0m \u001b[43mdf\u001b[49m\u001b[38;5;241m.\u001b[39minfo()\n",
      "\u001b[1;31mNameError\u001b[0m: name 'df' is not defined"
     ]
    }
   ],
   "source": [
    "df.info()"
   ]
  },
  {
   "cell_type": "code",
   "execution_count": null,
   "metadata": {
    "execution": {
     "iopub.execute_input": "2022-10-28T15:27:58.460936Z",
     "iopub.status.busy": "2022-10-28T15:27:58.460524Z",
     "iopub.status.idle": "2022-10-28T15:28:00.370606Z",
     "shell.execute_reply": "2022-10-28T15:28:00.369195Z",
     "shell.execute_reply.started": "2022-10-28T15:27:58.4609Z"
    }
   },
   "outputs": [],
   "source": [
    "df.describe()"
   ]
  },
  {
   "cell_type": "code",
   "execution_count": null,
   "metadata": {
    "execution": {
     "iopub.execute_input": "2022-10-28T15:28:00.374109Z",
     "iopub.status.busy": "2022-10-28T15:28:00.373736Z",
     "iopub.status.idle": "2022-10-28T15:28:02.570568Z",
     "shell.execute_reply": "2022-10-28T15:28:02.569371Z",
     "shell.execute_reply.started": "2022-10-28T15:28:00.374075Z"
    }
   },
   "outputs": [],
   "source": [
    "plt.figure(figsize=(12,12))\n",
    "sns.heatmap(df.corr(), annot=True)"
   ]
  },
  {
   "cell_type": "code",
   "execution_count": null,
   "metadata": {
    "execution": {
     "iopub.execute_input": "2022-10-28T15:28:02.572518Z",
     "iopub.status.busy": "2022-10-28T15:28:02.57218Z",
     "iopub.status.idle": "2022-10-28T15:28:15.698192Z",
     "shell.execute_reply": "2022-10-28T15:28:15.696932Z",
     "shell.execute_reply.started": "2022-10-28T15:28:02.572488Z"
    }
   },
   "outputs": [],
   "source": [
    "sns.violinplot(df['step'])"
   ]
  },
  {
   "cell_type": "code",
   "execution_count": null,
   "metadata": {
    "execution": {
     "iopub.execute_input": "2022-10-28T15:28:15.699977Z",
     "iopub.status.busy": "2022-10-28T15:28:15.699597Z",
     "iopub.status.idle": "2022-10-28T15:28:19.952205Z",
     "shell.execute_reply": "2022-10-28T15:28:19.951252Z",
     "shell.execute_reply.started": "2022-10-28T15:28:15.699946Z"
    }
   },
   "outputs": [],
   "source": [
    "plt.ticklabel_format(style=\"plain\", axis='y')\n",
    "sns.countplot(df['type'])"
   ]
  },
  {
   "cell_type": "code",
   "execution_count": null,
   "metadata": {
    "execution": {
     "iopub.execute_input": "2022-10-28T15:28:19.954523Z",
     "iopub.status.busy": "2022-10-28T15:28:19.953849Z",
     "iopub.status.idle": "2022-10-28T15:28:32.087739Z",
     "shell.execute_reply": "2022-10-28T15:28:32.086538Z",
     "shell.execute_reply.started": "2022-10-28T15:28:19.954487Z"
    }
   },
   "outputs": [],
   "source": [
    "plt.ticklabel_format(style=\"plain\", axis='x')\n",
    "sns.violinplot(df['amount'])"
   ]
  },
  {
   "cell_type": "code",
   "execution_count": null,
   "metadata": {
    "execution": {
     "iopub.execute_input": "2022-10-28T15:28:32.089432Z",
     "iopub.status.busy": "2022-10-28T15:28:32.089073Z",
     "iopub.status.idle": "2022-10-28T15:29:57.611105Z",
     "shell.execute_reply": "2022-10-28T15:29:57.609879Z",
     "shell.execute_reply.started": "2022-10-28T15:28:32.089399Z"
    }
   },
   "outputs": [],
   "source": [
    "plt.ticklabel_format(style=\"plain\", axis='x')\n",
    "sns.histplot(df['amount'])\n",
    "plt.xlim(0,100000)"
   ]
  },
  {
   "cell_type": "code",
   "execution_count": null,
   "metadata": {
    "execution": {
     "iopub.execute_input": "2022-10-28T15:29:57.612799Z",
     "iopub.status.busy": "2022-10-28T15:29:57.612416Z",
     "iopub.status.idle": "2022-10-28T15:29:57.737098Z",
     "shell.execute_reply": "2022-10-28T15:29:57.736283Z",
     "shell.execute_reply.started": "2022-10-28T15:29:57.612768Z"
    }
   },
   "outputs": [],
   "source": [
    "print(f\"There are {df.query('amount > 1000000').shape[0]} transactions over 1,000,000.\")"
   ]
  },
  {
   "cell_type": "code",
   "execution_count": null,
   "metadata": {
    "execution": {
     "iopub.execute_input": "2022-10-28T15:29:57.738779Z",
     "iopub.status.busy": "2022-10-28T15:29:57.738291Z",
     "iopub.status.idle": "2022-10-28T15:29:57.798766Z",
     "shell.execute_reply": "2022-10-28T15:29:57.79759Z",
     "shell.execute_reply.started": "2022-10-28T15:29:57.738749Z"
    }
   },
   "outputs": [],
   "source": [
    "print(f\"There are {df.query('amount > 10000000').shape[0]} transactions over 10,000,000.\")"
   ]
  },
  {
   "cell_type": "code",
   "execution_count": null,
   "metadata": {
    "execution": {
     "iopub.execute_input": "2022-10-28T15:29:57.801344Z",
     "iopub.status.busy": "2022-10-28T15:29:57.800602Z",
     "iopub.status.idle": "2022-10-28T15:29:57.96278Z",
     "shell.execute_reply": "2022-10-28T15:29:57.961924Z",
     "shell.execute_reply.started": "2022-10-28T15:29:57.801295Z"
    }
   },
   "outputs": [],
   "source": [
    "pd.pivot_table(df, index=df['isFraud'], values='isFraud', aggfunc='count')"
   ]
  },
  {
   "cell_type": "code",
   "execution_count": null,
   "metadata": {
    "execution": {
     "iopub.execute_input": "2022-10-28T15:29:57.96459Z",
     "iopub.status.busy": "2022-10-28T15:29:57.964025Z",
     "iopub.status.idle": "2022-10-28T15:29:58.119958Z",
     "shell.execute_reply": "2022-10-28T15:29:58.118662Z",
     "shell.execute_reply.started": "2022-10-28T15:29:57.964557Z"
    }
   },
   "outputs": [],
   "source": [
    "pd.pivot_table(df, index=df['isFlaggedFraud'], values='isFlaggedFraud', aggfunc='count')"
   ]
  },
  {
   "cell_type": "markdown",
   "metadata": {},
   "source": [
    "Let's convert the types to numerical values."
   ]
  },
  {
   "cell_type": "code",
   "execution_count": null,
   "metadata": {
    "execution": {
     "iopub.execute_input": "2022-10-28T15:29:58.125989Z",
     "iopub.status.busy": "2022-10-28T15:29:58.125655Z",
     "iopub.status.idle": "2022-10-28T15:29:58.92266Z",
     "shell.execute_reply": "2022-10-28T15:29:58.921677Z",
     "shell.execute_reply.started": "2022-10-28T15:29:58.125961Z"
    }
   },
   "outputs": [],
   "source": [
    "dic = {'PAYMENT': 1, 'TRANSFER':2, \"CASH_OUT\":3, \"DEBIT\":4, \"CASH_IN\":5}\n",
    "df[\"type\"] = df[\"type\"].map(dic)"
   ]
  },
  {
   "cell_type": "code",
   "execution_count": null,
   "metadata": {
    "execution": {
     "iopub.execute_input": "2022-10-28T15:29:58.924164Z",
     "iopub.status.busy": "2022-10-28T15:29:58.923855Z",
     "iopub.status.idle": "2022-10-28T15:30:01.012335Z",
     "shell.execute_reply": "2022-10-28T15:30:01.011114Z",
     "shell.execute_reply.started": "2022-10-28T15:29:58.924135Z"
    }
   },
   "outputs": [],
   "source": [
    "from sklearn.model_selection import train_test_split\n",
    "\n",
    "x=list(df.columns[:9])\n",
    "x.remove('nameOrig')\n",
    "x.remove('nameDest')\n",
    "x = df[x]\n",
    "y=df['isFraud']\n",
    "\n",
    "xTrain, xTest, yTrain, yTest = train_test_split(x, y, test_size=.33, random_state=1)"
   ]
  },
  {
   "cell_type": "code",
   "execution_count": null,
   "metadata": {
    "execution": {
     "iopub.execute_input": "2022-10-28T15:30:01.014161Z",
     "iopub.status.busy": "2022-10-28T15:30:01.01381Z",
     "iopub.status.idle": "2022-10-28T15:34:09.589356Z",
     "shell.execute_reply": "2022-10-28T15:34:09.587289Z",
     "shell.execute_reply.started": "2022-10-28T15:30:01.014132Z"
    }
   },
   "outputs": [],
   "source": [
    "from sklearn.linear_model import LogisticRegressionCV\n",
    "from sklearn.metrics import accuracy_score\n",
    "\n",
    "clf = LogisticRegressionCV(cv=5, max_iter=500, random_state=0)\n",
    "clf.fit(xTrain,yTrain)"
   ]
  },
  {
   "cell_type": "code",
   "execution_count": null,
   "metadata": {
    "execution": {
     "iopub.execute_input": "2022-10-28T15:34:09.593572Z",
     "iopub.status.busy": "2022-10-28T15:34:09.591922Z",
     "iopub.status.idle": "2022-10-28T15:34:09.947866Z",
     "shell.execute_reply": "2022-10-28T15:34:09.946425Z",
     "shell.execute_reply.started": "2022-10-28T15:34:09.593498Z"
    }
   },
   "outputs": [],
   "source": [
    "preds = clf.predict(xTest)\n",
    "print(f\"Our accuracy score on the test data is {round(accuracy_score(yTest,preds),5)*100}%\")"
   ]
  },
  {
   "cell_type": "code",
   "execution_count": null,
   "metadata": {
    "execution": {
     "iopub.execute_input": "2022-10-28T15:34:09.949695Z",
     "iopub.status.busy": "2022-10-28T15:34:09.949283Z",
     "iopub.status.idle": "2022-10-28T15:34:11.394476Z",
     "shell.execute_reply": "2022-10-28T15:34:11.392986Z",
     "shell.execute_reply.started": "2022-10-28T15:34:09.949654Z"
    }
   },
   "outputs": [],
   "source": [
    "accuracy_score(df['isFraud'], df['isFlaggedFraud'])\n",
    "print(f\"The current accuracy score provided in the data set is {round(accuracy_score(df['isFraud'], df['isFlaggedFraud']),5)*100}%\")"
   ]
  },
  {
   "cell_type": "markdown",
   "metadata": {},
   "source": [
    "We will see if we can beat the fraud rate from the data set by trying a different model"
   ]
  },
  {
   "cell_type": "code",
   "execution_count": null,
   "metadata": {
    "execution": {
     "iopub.execute_input": "2022-10-28T15:34:11.39623Z",
     "iopub.status.busy": "2022-10-28T15:34:11.395869Z",
     "iopub.status.idle": "2022-10-28T15:34:12.063234Z",
     "shell.execute_reply": "2022-10-28T15:34:12.062213Z",
     "shell.execute_reply.started": "2022-10-28T15:34:11.396198Z"
    }
   },
   "outputs": [],
   "source": [
    "from sklearn.metrics import ConfusionMatrixDisplay, confusion_matrix\n",
    "confmatrix = confusion_matrix(yTest, preds)\n",
    "cm = ConfusionMatrixDisplay(confmatrix, display_labels=[False, True])\n",
    "cm.plot(cmap=\"YlGnBu_r\")\n",
    "plt.show()"
   ]
  },
  {
   "cell_type": "markdown",
   "metadata": {},
   "source": [
    "## Lets try another model to improve accuracy"
   ]
  },
  {
   "cell_type": "code",
   "execution_count": null,
   "metadata": {
    "execution": {
     "iopub.execute_input": "2022-10-28T15:34:12.065107Z",
     "iopub.status.busy": "2022-10-28T15:34:12.064709Z",
     "iopub.status.idle": "2022-10-28T15:37:31.99282Z",
     "shell.execute_reply": "2022-10-28T15:37:31.991511Z",
     "shell.execute_reply.started": "2022-10-28T15:34:12.065072Z"
    }
   },
   "outputs": [],
   "source": [
    "from sklearn.ensemble import RandomForestClassifier\n",
    "\n",
    "Rclf = RandomForestClassifier(n_estimators=20, random_state=0, max_depth=6)\n",
    "Rclf = Rclf.fit(xTrain,yTrain)"
   ]
  },
  {
   "cell_type": "code",
   "execution_count": null,
   "metadata": {
    "execution": {
     "iopub.execute_input": "2022-10-28T15:37:31.994775Z",
     "iopub.status.busy": "2022-10-28T15:37:31.994225Z",
     "iopub.status.idle": "2022-10-28T15:37:35.349403Z",
     "shell.execute_reply": "2022-10-28T15:37:35.347983Z",
     "shell.execute_reply.started": "2022-10-28T15:37:31.994741Z"
    }
   },
   "outputs": [],
   "source": [
    "yRPred = Rclf.predict(xTest)\n",
    "print(f\"Our new accuracy score on the test data is {round(accuracy_score(yTest,yRPred),8)*100}%\")"
   ]
  },
  {
   "cell_type": "code",
   "execution_count": null,
   "metadata": {
    "execution": {
     "iopub.execute_input": "2022-10-28T15:37:35.351151Z",
     "iopub.status.busy": "2022-10-28T15:37:35.350796Z",
     "iopub.status.idle": "2022-10-28T15:37:35.641125Z",
     "shell.execute_reply": "2022-10-28T15:37:35.639989Z",
     "shell.execute_reply.started": "2022-10-28T15:37:35.351121Z"
    }
   },
   "outputs": [],
   "source": [
    "plt.figure(figsize=(15,7))\n",
    "plt.title(\"Feature Importance\", fontsize= 15)\n",
    "x= list(df.columns)\n",
    "x.remove('nameOrig')\n",
    "x.remove('nameDest')\n",
    "x.remove('isFraud')\n",
    "x.remove('isFlaggedFraud')\n",
    "sns.barplot(y= Rclf.feature_importances_, x = x)"
   ]
  },
  {
   "cell_type": "code",
   "execution_count": null,
   "metadata": {
    "execution": {
     "iopub.execute_input": "2022-10-28T15:38:54.464168Z",
     "iopub.status.busy": "2022-10-28T15:38:54.463689Z",
     "iopub.status.idle": "2022-10-28T15:38:55.149067Z",
     "shell.execute_reply": "2022-10-28T15:38:55.147749Z",
     "shell.execute_reply.started": "2022-10-28T15:38:54.464133Z"
    }
   },
   "outputs": [],
   "source": [
    "confmatrix = confusion_matrix(yTest, yRPred)\n",
    "cm = ConfusionMatrixDisplay(confmatrix, display_labels=[False, True])\n",
    "cm.plot(cmap=\"YlGnBu_r\")\n",
    "plt.show()"
   ]
  },
  {
   "cell_type": "markdown",
   "metadata": {},
   "source": [
    "Now we have only 1 false positive!"
   ]
  },
  {
   "cell_type": "code",
   "execution_count": null,
   "metadata": {
    "execution": {
     "iopub.execute_input": "2022-10-28T15:37:36.29897Z",
     "iopub.status.busy": "2022-10-28T15:37:36.298178Z",
     "iopub.status.idle": "2022-10-28T15:37:40.975483Z",
     "shell.execute_reply": "2022-10-28T15:37:40.974072Z",
     "shell.execute_reply.started": "2022-10-28T15:37:36.29892Z"
    }
   },
   "outputs": [],
   "source": [
    "from sklearn.metrics import RocCurveDisplay\n",
    "\n",
    "ax = plt.gca()\n",
    "rfcDisplay = RocCurveDisplay.from_estimator(Rclf, xTest, yTest, ax=ax)\n",
    "clfDisplay = RocCurveDisplay.from_estimator(clf, xTest, yTest, ax=ax)\n",
    "plt.show()"
   ]
  },
  {
   "cell_type": "code",
   "execution_count": null,
   "metadata": {
    "execution": {
     "iopub.execute_input": "2022-10-28T15:37:40.977962Z",
     "iopub.status.busy": "2022-10-28T15:37:40.977207Z",
     "iopub.status.idle": "2022-10-28T15:37:44.981819Z",
     "shell.execute_reply": "2022-10-28T15:37:44.980522Z",
     "shell.execute_reply.started": "2022-10-28T15:37:40.977904Z"
    }
   },
   "outputs": [],
   "source": [
    "from sklearn.metrics import classification_report\n",
    "\n",
    "\n",
    "print(classification_report(yRPred, yTest, target_names=['Not Fraud', 'Fraud']))"
   ]
  },
  {
   "cell_type": "markdown",
   "metadata": {},
   "source": [
    "### We can conclude that our random forest model is a pretty good at detecting fraud. "
   ]
  }
 ],
 "metadata": {
  "kernelspec": {
   "display_name": "Python 3 (ipykernel)",
   "language": "python",
   "name": "python3"
  },
  "language_info": {
   "codemirror_mode": {
    "name": "ipython",
    "version": 3
   },
   "file_extension": ".py",
   "mimetype": "text/x-python",
   "name": "python",
   "nbconvert_exporter": "python",
   "pygments_lexer": "ipython3",
   "version": "3.9.12"
  }
 },
 "nbformat": 4,
 "nbformat_minor": 4
}
