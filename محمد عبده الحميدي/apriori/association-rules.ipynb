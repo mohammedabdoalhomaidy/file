{
 "cells": [
  {
   "cell_type": "code",
   "execution_count": 41,
   "metadata": {
    "execution": {
     "iopub.execute_input": "2022-05-05T11:07:01.843235Z",
     "iopub.status.busy": "2022-05-05T11:07:01.842309Z",
     "iopub.status.idle": "2022-05-05T11:07:01.849675Z",
     "shell.execute_reply": "2022-05-05T11:07:01.848656Z",
     "shell.execute_reply.started": "2022-05-05T11:07:01.843182Z"
    },
    "id": "9jvjrb3wqMxi"
   },
   "outputs": [],
   "source": [
    "import pandas as pd\n",
    "import numpy as np\n",
    "from mlxtend.preprocessing import TransactionEncoder"
   ]
  },
  {
   "cell_type": "code",
   "execution_count": 42,
   "metadata": {
    "execution": {
     "iopub.execute_input": "2022-05-05T11:07:01.851896Z",
     "iopub.status.busy": "2022-05-05T11:07:01.851289Z",
     "iopub.status.idle": "2022-05-05T11:07:01.867117Z",
     "shell.execute_reply": "2022-05-05T11:07:01.866353Z",
     "shell.execute_reply.started": "2022-05-05T11:07:01.851856Z"
    }
   },
   "outputs": [],
   "source": [
    "import os\n",
    "for dirname, _, filenames in os.walk('/kaggle/input'):\n",
    "    for filename in filenames:\n",
    "        print(os.path.join(dirname, filename))"
   ]
  },
  {
   "cell_type": "code",
   "execution_count": 43,
   "metadata": {
    "execution": {
     "iopub.execute_input": "2022-05-05T11:07:01.868867Z",
     "iopub.status.busy": "2022-05-05T11:07:01.868469Z",
     "iopub.status.idle": "2022-05-05T11:07:01.903909Z",
     "shell.execute_reply": "2022-05-05T11:07:01.902927Z",
     "shell.execute_reply.started": "2022-05-05T11:07:01.868828Z"
    },
    "id": "ljdtacbIqOIg"
   },
   "outputs": [],
   "source": [
    "data = pd.read_csv(\"Groceries_dataset.csv\")"
   ]
  },
  {
   "cell_type": "code",
   "execution_count": 44,
   "metadata": {
    "execution": {
     "iopub.execute_input": "2022-05-05T11:07:01.905439Z",
     "iopub.status.busy": "2022-05-05T11:07:01.905169Z",
     "iopub.status.idle": "2022-05-05T11:07:01.914309Z",
     "shell.execute_reply": "2022-05-05T11:07:01.913372Z",
     "shell.execute_reply.started": "2022-05-05T11:07:01.905392Z"
    },
    "id": "qim0bu7uqOln",
    "outputId": "faaf6b7b-da6b-495e-afe8-00df794c9870"
   },
   "outputs": [
    {
     "data": {
      "text/plain": [
       "(38765, 3)"
      ]
     },
     "execution_count": 44,
     "metadata": {},
     "output_type": "execute_result"
    }
   ],
   "source": [
    "data.shape"
   ]
  },
  {
   "cell_type": "code",
   "execution_count": 45,
   "metadata": {
    "execution": {
     "iopub.execute_input": "2022-05-05T11:07:01.917882Z",
     "iopub.status.busy": "2022-05-05T11:07:01.917126Z",
     "iopub.status.idle": "2022-05-05T11:07:01.934822Z",
     "shell.execute_reply": "2022-05-05T11:07:01.933124Z",
     "shell.execute_reply.started": "2022-05-05T11:07:01.917824Z"
    },
    "id": "CNYMWLaGqO3-",
    "outputId": "57498a06-0ec3-4b15-eacb-8f97be99cbda"
   },
   "outputs": [
    {
     "data": {
      "text/html": [
       "<div>\n",
       "<style scoped>\n",
       "    .dataframe tbody tr th:only-of-type {\n",
       "        vertical-align: middle;\n",
       "    }\n",
       "\n",
       "    .dataframe tbody tr th {\n",
       "        vertical-align: top;\n",
       "    }\n",
       "\n",
       "    .dataframe thead th {\n",
       "        text-align: right;\n",
       "    }\n",
       "</style>\n",
       "<table border=\"1\" class=\"dataframe\">\n",
       "  <thead>\n",
       "    <tr style=\"text-align: right;\">\n",
       "      <th></th>\n",
       "      <th>Member_number</th>\n",
       "      <th>Date</th>\n",
       "      <th>itemDescription</th>\n",
       "    </tr>\n",
       "  </thead>\n",
       "  <tbody>\n",
       "    <tr>\n",
       "      <th>0</th>\n",
       "      <td>1808</td>\n",
       "      <td>21-07-2015</td>\n",
       "      <td>tropical fruit</td>\n",
       "    </tr>\n",
       "    <tr>\n",
       "      <th>1</th>\n",
       "      <td>2552</td>\n",
       "      <td>05-01-2015</td>\n",
       "      <td>whole milk</td>\n",
       "    </tr>\n",
       "    <tr>\n",
       "      <th>2</th>\n",
       "      <td>2300</td>\n",
       "      <td>19-09-2015</td>\n",
       "      <td>pip fruit</td>\n",
       "    </tr>\n",
       "    <tr>\n",
       "      <th>3</th>\n",
       "      <td>1187</td>\n",
       "      <td>12-12-2015</td>\n",
       "      <td>other vegetables</td>\n",
       "    </tr>\n",
       "    <tr>\n",
       "      <th>4</th>\n",
       "      <td>3037</td>\n",
       "      <td>01-02-2015</td>\n",
       "      <td>whole milk</td>\n",
       "    </tr>\n",
       "  </tbody>\n",
       "</table>\n",
       "</div>"
      ],
      "text/plain": [
       "   Member_number        Date   itemDescription\n",
       "0  1808           21-07-2015  tropical fruit  \n",
       "1  2552           05-01-2015  whole milk      \n",
       "2  2300           19-09-2015  pip fruit       \n",
       "3  1187           12-12-2015  other vegetables\n",
       "4  3037           01-02-2015  whole milk      "
      ]
     },
     "execution_count": 45,
     "metadata": {},
     "output_type": "execute_result"
    }
   ],
   "source": [
    "data.head()"
   ]
  },
  {
   "cell_type": "code",
   "execution_count": 46,
   "metadata": {
    "execution": {
     "iopub.execute_input": "2022-05-05T11:07:01.936535Z",
     "iopub.status.busy": "2022-05-05T11:07:01.936013Z",
     "iopub.status.idle": "2022-05-05T11:07:01.961439Z",
     "shell.execute_reply": "2022-05-05T11:07:01.960501Z",
     "shell.execute_reply.started": "2022-05-05T11:07:01.936481Z"
    },
    "id": "__asn0oo_VPo",
    "outputId": "271ea802-d58a-4449-820a-e41eddb67f0e"
   },
   "outputs": [
    {
     "name": "stdout",
     "output_type": "stream",
     "text": [
      "<class 'pandas.core.frame.DataFrame'>\n",
      "RangeIndex: 38765 entries, 0 to 38764\n",
      "Data columns (total 3 columns):\n",
      " #   Column           Non-Null Count  Dtype \n",
      "---  ------           --------------  ----- \n",
      " 0   Member_number    38765 non-null  int64 \n",
      " 1   Date             38765 non-null  object\n",
      " 2   itemDescription  38765 non-null  object\n",
      "dtypes: int64(1), object(2)\n",
      "memory usage: 908.7+ KB\n"
     ]
    }
   ],
   "source": [
    "data.info()"
   ]
  },
  {
   "cell_type": "code",
   "execution_count": 47,
   "metadata": {
    "execution": {
     "iopub.execute_input": "2022-05-05T11:07:01.963261Z",
     "iopub.status.busy": "2022-05-05T11:07:01.962856Z",
     "iopub.status.idle": "2022-05-05T11:07:01.970933Z",
     "shell.execute_reply": "2022-05-05T11:07:01.970031Z",
     "shell.execute_reply.started": "2022-05-05T11:07:01.963206Z"
    },
    "id": "nPSrpHOdqPBh"
   },
   "outputs": [],
   "source": [
    "d=data.set_index(['Date'])"
   ]
  },
  {
   "cell_type": "code",
   "execution_count": 49,
   "metadata": {
    "execution": {
     "iopub.execute_input": "2022-05-05T11:07:01.972607Z",
     "iopub.status.busy": "2022-05-05T11:07:01.972189Z",
     "iopub.status.idle": "2022-05-05T11:07:01.993758Z",
     "shell.execute_reply": "2022-05-05T11:07:01.992739Z",
     "shell.execute_reply.started": "2022-05-05T11:07:01.972564Z"
    },
    "id": "GGC6SkICqPmk"
   },
   "outputs": [
    {
     "name": "stderr",
     "output_type": "stream",
     "text": [
      "C:\\ProgramData\\Anaconda3\\lib\\site-packages\\pandas\\core\\tools\\datetimes.py:1056: UserWarning:\n",
      "\n",
      "Parsing '21-07-2015' in DD/MM/YYYY format. Provide format or specify infer_datetime_format=True for consistent parsing.\n",
      "\n",
      "C:\\ProgramData\\Anaconda3\\lib\\site-packages\\pandas\\core\\tools\\datetimes.py:1056: UserWarning:\n",
      "\n",
      "Parsing '19-09-2015' in DD/MM/YYYY format. Provide format or specify infer_datetime_format=True for consistent parsing.\n",
      "\n",
      "C:\\ProgramData\\Anaconda3\\lib\\site-packages\\pandas\\core\\tools\\datetimes.py:1056: UserWarning:\n",
      "\n",
      "Parsing '14-02-2015' in DD/MM/YYYY format. Provide format or specify infer_datetime_format=True for consistent parsing.\n",
      "\n",
      "C:\\ProgramData\\Anaconda3\\lib\\site-packages\\pandas\\core\\tools\\datetimes.py:1056: UserWarning:\n",
      "\n",
      "Parsing '23-12-2015' in DD/MM/YYYY format. Provide format or specify infer_datetime_format=True for consistent parsing.\n",
      "\n",
      "C:\\ProgramData\\Anaconda3\\lib\\site-packages\\pandas\\core\\tools\\datetimes.py:1056: UserWarning:\n",
      "\n",
      "Parsing '20-03-2015' in DD/MM/YYYY format. Provide format or specify infer_datetime_format=True for consistent parsing.\n",
      "\n",
      "C:\\ProgramData\\Anaconda3\\lib\\site-packages\\pandas\\core\\tools\\datetimes.py:1056: UserWarning:\n",
      "\n",
      "Parsing '24-02-2015' in DD/MM/YYYY format. Provide format or specify infer_datetime_format=True for consistent parsing.\n",
      "\n",
      "C:\\ProgramData\\Anaconda3\\lib\\site-packages\\pandas\\core\\tools\\datetimes.py:1056: UserWarning:\n",
      "\n",
      "Parsing '14-04-2015' in DD/MM/YYYY format. Provide format or specify infer_datetime_format=True for consistent parsing.\n",
      "\n",
      "C:\\ProgramData\\Anaconda3\\lib\\site-packages\\pandas\\core\\tools\\datetimes.py:1056: UserWarning:\n",
      "\n",
      "Parsing '30-03-2015' in DD/MM/YYYY format. Provide format or specify infer_datetime_format=True for consistent parsing.\n",
      "\n",
      "C:\\ProgramData\\Anaconda3\\lib\\site-packages\\pandas\\core\\tools\\datetimes.py:1056: UserWarning:\n",
      "\n",
      "Parsing '18-09-2015' in DD/MM/YYYY format. Provide format or specify infer_datetime_format=True for consistent parsing.\n",
      "\n",
      "C:\\ProgramData\\Anaconda3\\lib\\site-packages\\pandas\\core\\tools\\datetimes.py:1056: UserWarning:\n",
      "\n",
      "Parsing '30-11-2015' in DD/MM/YYYY format. Provide format or specify infer_datetime_format=True for consistent parsing.\n",
      "\n",
      "C:\\ProgramData\\Anaconda3\\lib\\site-packages\\pandas\\core\\tools\\datetimes.py:1056: UserWarning:\n",
      "\n",
      "Parsing '17-07-2015' in DD/MM/YYYY format. Provide format or specify infer_datetime_format=True for consistent parsing.\n",
      "\n",
      "C:\\ProgramData\\Anaconda3\\lib\\site-packages\\pandas\\core\\tools\\datetimes.py:1056: UserWarning:\n",
      "\n",
      "Parsing '13-02-2015' in DD/MM/YYYY format. Provide format or specify infer_datetime_format=True for consistent parsing.\n",
      "\n",
      "C:\\ProgramData\\Anaconda3\\lib\\site-packages\\pandas\\core\\tools\\datetimes.py:1056: UserWarning:\n",
      "\n",
      "Parsing '14-01-2015' in DD/MM/YYYY format. Provide format or specify infer_datetime_format=True for consistent parsing.\n",
      "\n",
      "C:\\ProgramData\\Anaconda3\\lib\\site-packages\\pandas\\core\\tools\\datetimes.py:1056: UserWarning:\n",
      "\n",
      "Parsing '27-01-2015' in DD/MM/YYYY format. Provide format or specify infer_datetime_format=True for consistent parsing.\n",
      "\n",
      "C:\\ProgramData\\Anaconda3\\lib\\site-packages\\pandas\\core\\tools\\datetimes.py:1056: UserWarning:\n",
      "\n",
      "Parsing '22-10-2015' in DD/MM/YYYY format. Provide format or specify infer_datetime_format=True for consistent parsing.\n",
      "\n",
      "C:\\ProgramData\\Anaconda3\\lib\\site-packages\\pandas\\core\\tools\\datetimes.py:1056: UserWarning:\n",
      "\n",
      "Parsing '26-10-2015' in DD/MM/YYYY format. Provide format or specify infer_datetime_format=True for consistent parsing.\n",
      "\n",
      "C:\\ProgramData\\Anaconda3\\lib\\site-packages\\pandas\\core\\tools\\datetimes.py:1056: UserWarning:\n",
      "\n",
      "Parsing '21-02-2015' in DD/MM/YYYY format. Provide format or specify infer_datetime_format=True for consistent parsing.\n",
      "\n",
      "C:\\ProgramData\\Anaconda3\\lib\\site-packages\\pandas\\core\\tools\\datetimes.py:1056: UserWarning:\n",
      "\n",
      "Parsing '29-09-2015' in DD/MM/YYYY format. Provide format or specify infer_datetime_format=True for consistent parsing.\n",
      "\n",
      "C:\\ProgramData\\Anaconda3\\lib\\site-packages\\pandas\\core\\tools\\datetimes.py:1056: UserWarning:\n",
      "\n",
      "Parsing '20-04-2015' in DD/MM/YYYY format. Provide format or specify infer_datetime_format=True for consistent parsing.\n",
      "\n",
      "C:\\ProgramData\\Anaconda3\\lib\\site-packages\\pandas\\core\\tools\\datetimes.py:1056: UserWarning:\n",
      "\n",
      "Parsing '19-07-2015' in DD/MM/YYYY format. Provide format or specify infer_datetime_format=True for consistent parsing.\n",
      "\n",
      "C:\\ProgramData\\Anaconda3\\lib\\site-packages\\pandas\\core\\tools\\datetimes.py:1056: UserWarning:\n",
      "\n",
      "Parsing '16-10-2015' in DD/MM/YYYY format. Provide format or specify infer_datetime_format=True for consistent parsing.\n",
      "\n",
      "C:\\ProgramData\\Anaconda3\\lib\\site-packages\\pandas\\core\\tools\\datetimes.py:1056: UserWarning:\n",
      "\n",
      "Parsing '26-09-2015' in DD/MM/YYYY format. Provide format or specify infer_datetime_format=True for consistent parsing.\n",
      "\n",
      "C:\\ProgramData\\Anaconda3\\lib\\site-packages\\pandas\\core\\tools\\datetimes.py:1056: UserWarning:\n",
      "\n",
      "Parsing '15-08-2015' in DD/MM/YYYY format. Provide format or specify infer_datetime_format=True for consistent parsing.\n",
      "\n",
      "C:\\ProgramData\\Anaconda3\\lib\\site-packages\\pandas\\core\\tools\\datetimes.py:1056: UserWarning:\n",
      "\n",
      "Parsing '21-05-2015' in DD/MM/YYYY format. Provide format or specify infer_datetime_format=True for consistent parsing.\n",
      "\n",
      "C:\\ProgramData\\Anaconda3\\lib\\site-packages\\pandas\\core\\tools\\datetimes.py:1056: UserWarning:\n",
      "\n",
      "Parsing '25-08-2015' in DD/MM/YYYY format. Provide format or specify infer_datetime_format=True for consistent parsing.\n",
      "\n",
      "C:\\ProgramData\\Anaconda3\\lib\\site-packages\\pandas\\core\\tools\\datetimes.py:1056: UserWarning:\n",
      "\n",
      "Parsing '28-07-2015' in DD/MM/YYYY format. Provide format or specify infer_datetime_format=True for consistent parsing.\n",
      "\n",
      "C:\\ProgramData\\Anaconda3\\lib\\site-packages\\pandas\\core\\tools\\datetimes.py:1056: UserWarning:\n",
      "\n",
      "Parsing '19-06-2015' in DD/MM/YYYY format. Provide format or specify infer_datetime_format=True for consistent parsing.\n",
      "\n",
      "C:\\ProgramData\\Anaconda3\\lib\\site-packages\\pandas\\core\\tools\\datetimes.py:1056: UserWarning:\n",
      "\n",
      "Parsing '16-06-2015' in DD/MM/YYYY format. Provide format or specify infer_datetime_format=True for consistent parsing.\n",
      "\n",
      "C:\\ProgramData\\Anaconda3\\lib\\site-packages\\pandas\\core\\tools\\datetimes.py:1056: UserWarning:\n",
      "\n",
      "Parsing '20-01-2015' in DD/MM/YYYY format. Provide format or specify infer_datetime_format=True for consistent parsing.\n",
      "\n",
      "C:\\ProgramData\\Anaconda3\\lib\\site-packages\\pandas\\core\\tools\\datetimes.py:1056: UserWarning:\n",
      "\n",
      "Parsing '15-02-2015' in DD/MM/YYYY format. Provide format or specify infer_datetime_format=True for consistent parsing.\n",
      "\n",
      "C:\\ProgramData\\Anaconda3\\lib\\site-packages\\pandas\\core\\tools\\datetimes.py:1056: UserWarning:\n",
      "\n",
      "Parsing '13-04-2015' in DD/MM/YYYY format. Provide format or specify infer_datetime_format=True for consistent parsing.\n",
      "\n",
      "C:\\ProgramData\\Anaconda3\\lib\\site-packages\\pandas\\core\\tools\\datetimes.py:1056: UserWarning:\n",
      "\n",
      "Parsing '14-03-2015' in DD/MM/YYYY format. Provide format or specify infer_datetime_format=True for consistent parsing.\n",
      "\n",
      "C:\\ProgramData\\Anaconda3\\lib\\site-packages\\pandas\\core\\tools\\datetimes.py:1056: UserWarning:\n",
      "\n",
      "Parsing '22-12-2015' in DD/MM/YYYY format. Provide format or specify infer_datetime_format=True for consistent parsing.\n",
      "\n",
      "C:\\ProgramData\\Anaconda3\\lib\\site-packages\\pandas\\core\\tools\\datetimes.py:1056: UserWarning:\n",
      "\n",
      "Parsing '21-09-2015' in DD/MM/YYYY format. Provide format or specify infer_datetime_format=True for consistent parsing.\n",
      "\n",
      "C:\\ProgramData\\Anaconda3\\lib\\site-packages\\pandas\\core\\tools\\datetimes.py:1056: UserWarning:\n",
      "\n",
      "Parsing '30-09-2015' in DD/MM/YYYY format. Provide format or specify infer_datetime_format=True for consistent parsing.\n",
      "\n",
      "C:\\ProgramData\\Anaconda3\\lib\\site-packages\\pandas\\core\\tools\\datetimes.py:1056: UserWarning:\n",
      "\n",
      "Parsing '31-01-2015' in DD/MM/YYYY format. Provide format or specify infer_datetime_format=True for consistent parsing.\n",
      "\n",
      "C:\\ProgramData\\Anaconda3\\lib\\site-packages\\pandas\\core\\tools\\datetimes.py:1056: UserWarning:\n",
      "\n",
      "Parsing '13-12-2015' in DD/MM/YYYY format. Provide format or specify infer_datetime_format=True for consistent parsing.\n",
      "\n",
      "C:\\ProgramData\\Anaconda3\\lib\\site-packages\\pandas\\core\\tools\\datetimes.py:1056: UserWarning:\n",
      "\n",
      "Parsing '20-12-2015' in DD/MM/YYYY format. Provide format or specify infer_datetime_format=True for consistent parsing.\n",
      "\n",
      "C:\\ProgramData\\Anaconda3\\lib\\site-packages\\pandas\\core\\tools\\datetimes.py:1056: UserWarning:\n",
      "\n",
      "Parsing '18-02-2015' in DD/MM/YYYY format. Provide format or specify infer_datetime_format=True for consistent parsing.\n",
      "\n",
      "C:\\ProgramData\\Anaconda3\\lib\\site-packages\\pandas\\core\\tools\\datetimes.py:1056: UserWarning:\n",
      "\n",
      "Parsing '22-07-2015' in DD/MM/YYYY format. Provide format or specify infer_datetime_format=True for consistent parsing.\n",
      "\n",
      "C:\\ProgramData\\Anaconda3\\lib\\site-packages\\pandas\\core\\tools\\datetimes.py:1056: UserWarning:\n",
      "\n",
      "Parsing '23-08-2015' in DD/MM/YYYY format. Provide format or specify infer_datetime_format=True for consistent parsing.\n",
      "\n",
      "C:\\ProgramData\\Anaconda3\\lib\\site-packages\\pandas\\core\\tools\\datetimes.py:1056: UserWarning:\n",
      "\n",
      "Parsing '15-04-2015' in DD/MM/YYYY format. Provide format or specify infer_datetime_format=True for consistent parsing.\n",
      "\n",
      "C:\\ProgramData\\Anaconda3\\lib\\site-packages\\pandas\\core\\tools\\datetimes.py:1056: UserWarning:\n",
      "\n",
      "Parsing '26-01-2015' in DD/MM/YYYY format. Provide format or specify infer_datetime_format=True for consistent parsing.\n",
      "\n",
      "C:\\ProgramData\\Anaconda3\\lib\\site-packages\\pandas\\core\\tools\\datetimes.py:1056: UserWarning:\n",
      "\n",
      "Parsing '29-12-2015' in DD/MM/YYYY format. Provide format or specify infer_datetime_format=True for consistent parsing.\n",
      "\n",
      "C:\\ProgramData\\Anaconda3\\lib\\site-packages\\pandas\\core\\tools\\datetimes.py:1056: UserWarning:\n",
      "\n",
      "Parsing '20-10-2015' in DD/MM/YYYY format. Provide format or specify infer_datetime_format=True for consistent parsing.\n",
      "\n",
      "C:\\ProgramData\\Anaconda3\\lib\\site-packages\\pandas\\core\\tools\\datetimes.py:1056: UserWarning:\n",
      "\n",
      "Parsing '17-08-2015' in DD/MM/YYYY format. Provide format or specify infer_datetime_format=True for consistent parsing.\n",
      "\n",
      "C:\\ProgramData\\Anaconda3\\lib\\site-packages\\pandas\\core\\tools\\datetimes.py:1056: UserWarning:\n",
      "\n",
      "Parsing '17-05-2015' in DD/MM/YYYY format. Provide format or specify infer_datetime_format=True for consistent parsing.\n",
      "\n",
      "C:\\ProgramData\\Anaconda3\\lib\\site-packages\\pandas\\core\\tools\\datetimes.py:1056: UserWarning:\n",
      "\n",
      "Parsing '25-07-2015' in DD/MM/YYYY format. Provide format or specify infer_datetime_format=True for consistent parsing.\n",
      "\n",
      "C:\\ProgramData\\Anaconda3\\lib\\site-packages\\pandas\\core\\tools\\datetimes.py:1056: UserWarning:\n",
      "\n",
      "Parsing '18-06-2015' in DD/MM/YYYY format. Provide format or specify infer_datetime_format=True for consistent parsing.\n",
      "\n",
      "C:\\ProgramData\\Anaconda3\\lib\\site-packages\\pandas\\core\\tools\\datetimes.py:1056: UserWarning:\n",
      "\n",
      "Parsing '25-04-2015' in DD/MM/YYYY format. Provide format or specify infer_datetime_format=True for consistent parsing.\n",
      "\n",
      "C:\\ProgramData\\Anaconda3\\lib\\site-packages\\pandas\\core\\tools\\datetimes.py:1056: UserWarning:\n",
      "\n",
      "Parsing '14-05-2015' in DD/MM/YYYY format. Provide format or specify infer_datetime_format=True for consistent parsing.\n",
      "\n",
      "C:\\ProgramData\\Anaconda3\\lib\\site-packages\\pandas\\core\\tools\\datetimes.py:1056: UserWarning:\n",
      "\n",
      "Parsing '30-10-2015' in DD/MM/YYYY format. Provide format or specify infer_datetime_format=True for consistent parsing.\n",
      "\n",
      "C:\\ProgramData\\Anaconda3\\lib\\site-packages\\pandas\\core\\tools\\datetimes.py:1056: UserWarning:\n",
      "\n",
      "Parsing '23-05-2015' in DD/MM/YYYY format. Provide format or specify infer_datetime_format=True for consistent parsing.\n",
      "\n",
      "C:\\ProgramData\\Anaconda3\\lib\\site-packages\\pandas\\core\\tools\\datetimes.py:1056: UserWarning:\n",
      "\n",
      "Parsing '18-05-2015' in DD/MM/YYYY format. Provide format or specify infer_datetime_format=True for consistent parsing.\n",
      "\n",
      "C:\\ProgramData\\Anaconda3\\lib\\site-packages\\pandas\\core\\tools\\datetimes.py:1056: UserWarning:\n",
      "\n",
      "Parsing '26-03-2015' in DD/MM/YYYY format. Provide format or specify infer_datetime_format=True for consistent parsing.\n",
      "\n",
      "C:\\ProgramData\\Anaconda3\\lib\\site-packages\\pandas\\core\\tools\\datetimes.py:1056: UserWarning:\n",
      "\n",
      "Parsing '23-06-2015' in DD/MM/YYYY format. Provide format or specify infer_datetime_format=True for consistent parsing.\n",
      "\n",
      "C:\\ProgramData\\Anaconda3\\lib\\site-packages\\pandas\\core\\tools\\datetimes.py:1056: UserWarning:\n",
      "\n",
      "Parsing '23-07-2015' in DD/MM/YYYY format. Provide format or specify infer_datetime_format=True for consistent parsing.\n",
      "\n",
      "C:\\ProgramData\\Anaconda3\\lib\\site-packages\\pandas\\core\\tools\\datetimes.py:1056: UserWarning:\n",
      "\n",
      "Parsing '15-05-2015' in DD/MM/YYYY format. Provide format or specify infer_datetime_format=True for consistent parsing.\n",
      "\n",
      "C:\\ProgramData\\Anaconda3\\lib\\site-packages\\pandas\\core\\tools\\datetimes.py:1056: UserWarning:\n",
      "\n",
      "Parsing '14-06-2015' in DD/MM/YYYY format. Provide format or specify infer_datetime_format=True for consistent parsing.\n",
      "\n",
      "C:\\ProgramData\\Anaconda3\\lib\\site-packages\\pandas\\core\\tools\\datetimes.py:1056: UserWarning:\n",
      "\n",
      "Parsing '15-09-2015' in DD/MM/YYYY format. Provide format or specify infer_datetime_format=True for consistent parsing.\n",
      "\n",
      "C:\\ProgramData\\Anaconda3\\lib\\site-packages\\pandas\\core\\tools\\datetimes.py:1056: UserWarning:\n",
      "\n",
      "Parsing '27-06-2015' in DD/MM/YYYY format. Provide format or specify infer_datetime_format=True for consistent parsing.\n",
      "\n",
      "C:\\ProgramData\\Anaconda3\\lib\\site-packages\\pandas\\core\\tools\\datetimes.py:1056: UserWarning:\n",
      "\n",
      "Parsing '13-01-2015' in DD/MM/YYYY format. Provide format or specify infer_datetime_format=True for consistent parsing.\n",
      "\n",
      "C:\\ProgramData\\Anaconda3\\lib\\site-packages\\pandas\\core\\tools\\datetimes.py:1056: UserWarning:\n",
      "\n",
      "Parsing '22-08-2015' in DD/MM/YYYY format. Provide format or specify infer_datetime_format=True for consistent parsing.\n",
      "\n",
      "C:\\ProgramData\\Anaconda3\\lib\\site-packages\\pandas\\core\\tools\\datetimes.py:1056: UserWarning:\n",
      "\n",
      "Parsing '25-02-2015' in DD/MM/YYYY format. Provide format or specify infer_datetime_format=True for consistent parsing.\n",
      "\n",
      "C:\\ProgramData\\Anaconda3\\lib\\site-packages\\pandas\\core\\tools\\datetimes.py:1056: UserWarning:\n",
      "\n",
      "Parsing '22-02-2015' in DD/MM/YYYY format. Provide format or specify infer_datetime_format=True for consistent parsing.\n",
      "\n",
      "C:\\ProgramData\\Anaconda3\\lib\\site-packages\\pandas\\core\\tools\\datetimes.py:1056: UserWarning:\n",
      "\n",
      "Parsing '16-01-2015' in DD/MM/YYYY format. Provide format or specify infer_datetime_format=True for consistent parsing.\n",
      "\n",
      "C:\\ProgramData\\Anaconda3\\lib\\site-packages\\pandas\\core\\tools\\datetimes.py:1056: UserWarning:\n",
      "\n",
      "Parsing '19-11-2015' in DD/MM/YYYY format. Provide format or specify infer_datetime_format=True for consistent parsing.\n",
      "\n",
      "C:\\ProgramData\\Anaconda3\\lib\\site-packages\\pandas\\core\\tools\\datetimes.py:1056: UserWarning:\n",
      "\n",
      "Parsing '19-08-2015' in DD/MM/YYYY format. Provide format or specify infer_datetime_format=True for consistent parsing.\n",
      "\n",
      "C:\\ProgramData\\Anaconda3\\lib\\site-packages\\pandas\\core\\tools\\datetimes.py:1056: UserWarning:\n",
      "\n",
      "Parsing '24-06-2015' in DD/MM/YYYY format. Provide format or specify infer_datetime_format=True for consistent parsing.\n",
      "\n",
      "C:\\ProgramData\\Anaconda3\\lib\\site-packages\\pandas\\core\\tools\\datetimes.py:1056: UserWarning:\n",
      "\n",
      "Parsing '21-01-2015' in DD/MM/YYYY format. Provide format or specify infer_datetime_format=True for consistent parsing.\n",
      "\n",
      "C:\\ProgramData\\Anaconda3\\lib\\site-packages\\pandas\\core\\tools\\datetimes.py:1056: UserWarning:\n",
      "\n",
      "Parsing '18-07-2015' in DD/MM/YYYY format. Provide format or specify infer_datetime_format=True for consistent parsing.\n",
      "\n",
      "C:\\ProgramData\\Anaconda3\\lib\\site-packages\\pandas\\core\\tools\\datetimes.py:1056: UserWarning:\n",
      "\n",
      "Parsing '16-03-2015' in DD/MM/YYYY format. Provide format or specify infer_datetime_format=True for consistent parsing.\n",
      "\n",
      "C:\\ProgramData\\Anaconda3\\lib\\site-packages\\pandas\\core\\tools\\datetimes.py:1056: UserWarning:\n",
      "\n",
      "Parsing '31-05-2015' in DD/MM/YYYY format. Provide format or specify infer_datetime_format=True for consistent parsing.\n",
      "\n",
      "C:\\ProgramData\\Anaconda3\\lib\\site-packages\\pandas\\core\\tools\\datetimes.py:1056: UserWarning:\n",
      "\n",
      "Parsing '30-06-2015' in DD/MM/YYYY format. Provide format or specify infer_datetime_format=True for consistent parsing.\n",
      "\n",
      "C:\\ProgramData\\Anaconda3\\lib\\site-packages\\pandas\\core\\tools\\datetimes.py:1056: UserWarning:\n",
      "\n",
      "Parsing '27-08-2015' in DD/MM/YYYY format. Provide format or specify infer_datetime_format=True for consistent parsing.\n",
      "\n",
      "C:\\ProgramData\\Anaconda3\\lib\\site-packages\\pandas\\core\\tools\\datetimes.py:1056: UserWarning:\n",
      "\n",
      "Parsing '17-04-2015' in DD/MM/YYYY format. Provide format or specify infer_datetime_format=True for consistent parsing.\n",
      "\n",
      "C:\\ProgramData\\Anaconda3\\lib\\site-packages\\pandas\\core\\tools\\datetimes.py:1056: UserWarning:\n",
      "\n",
      "Parsing '25-06-2015' in DD/MM/YYYY format. Provide format or specify infer_datetime_format=True for consistent parsing.\n",
      "\n",
      "C:\\ProgramData\\Anaconda3\\lib\\site-packages\\pandas\\core\\tools\\datetimes.py:1056: UserWarning:\n",
      "\n",
      "Parsing '17-06-2015' in DD/MM/YYYY format. Provide format or specify infer_datetime_format=True for consistent parsing.\n",
      "\n",
      "C:\\ProgramData\\Anaconda3\\lib\\site-packages\\pandas\\core\\tools\\datetimes.py:1056: UserWarning:\n",
      "\n",
      "Parsing '19-02-2015' in DD/MM/YYYY format. Provide format or specify infer_datetime_format=True for consistent parsing.\n",
      "\n",
      "C:\\ProgramData\\Anaconda3\\lib\\site-packages\\pandas\\core\\tools\\datetimes.py:1056: UserWarning:\n",
      "\n",
      "Parsing '24-08-2015' in DD/MM/YYYY format. Provide format or specify infer_datetime_format=True for consistent parsing.\n",
      "\n",
      "C:\\ProgramData\\Anaconda3\\lib\\site-packages\\pandas\\core\\tools\\datetimes.py:1056: UserWarning:\n",
      "\n",
      "Parsing '22-06-2015' in DD/MM/YYYY format. Provide format or specify infer_datetime_format=True for consistent parsing.\n",
      "\n",
      "C:\\ProgramData\\Anaconda3\\lib\\site-packages\\pandas\\core\\tools\\datetimes.py:1056: UserWarning:\n",
      "\n",
      "Parsing '25-12-2015' in DD/MM/YYYY format. Provide format or specify infer_datetime_format=True for consistent parsing.\n",
      "\n",
      "C:\\ProgramData\\Anaconda3\\lib\\site-packages\\pandas\\core\\tools\\datetimes.py:1056: UserWarning:\n",
      "\n",
      "Parsing '17-01-2015' in DD/MM/YYYY format. Provide format or specify infer_datetime_format=True for consistent parsing.\n",
      "\n",
      "C:\\ProgramData\\Anaconda3\\lib\\site-packages\\pandas\\core\\tools\\datetimes.py:1056: UserWarning:\n",
      "\n",
      "Parsing '26-11-2015' in DD/MM/YYYY format. Provide format or specify infer_datetime_format=True for consistent parsing.\n",
      "\n",
      "C:\\ProgramData\\Anaconda3\\lib\\site-packages\\pandas\\core\\tools\\datetimes.py:1056: UserWarning:\n",
      "\n",
      "Parsing '27-02-2015' in DD/MM/YYYY format. Provide format or specify infer_datetime_format=True for consistent parsing.\n",
      "\n",
      "C:\\ProgramData\\Anaconda3\\lib\\site-packages\\pandas\\core\\tools\\datetimes.py:1056: UserWarning:\n",
      "\n",
      "Parsing '22-04-2015' in DD/MM/YYYY format. Provide format or specify infer_datetime_format=True for consistent parsing.\n",
      "\n",
      "C:\\ProgramData\\Anaconda3\\lib\\site-packages\\pandas\\core\\tools\\datetimes.py:1056: UserWarning:\n",
      "\n",
      "Parsing '17-10-2015' in DD/MM/YYYY format. Provide format or specify infer_datetime_format=True for consistent parsing.\n",
      "\n",
      "C:\\ProgramData\\Anaconda3\\lib\\site-packages\\pandas\\core\\tools\\datetimes.py:1056: UserWarning:\n",
      "\n",
      "Parsing '21-08-2015' in DD/MM/YYYY format. Provide format or specify infer_datetime_format=True for consistent parsing.\n",
      "\n",
      "C:\\ProgramData\\Anaconda3\\lib\\site-packages\\pandas\\core\\tools\\datetimes.py:1056: UserWarning:\n",
      "\n",
      "Parsing '24-07-2015' in DD/MM/YYYY format. Provide format or specify infer_datetime_format=True for consistent parsing.\n",
      "\n",
      "C:\\ProgramData\\Anaconda3\\lib\\site-packages\\pandas\\core\\tools\\datetimes.py:1056: UserWarning:\n",
      "\n",
      "Parsing '28-04-2015' in DD/MM/YYYY format. Provide format or specify infer_datetime_format=True for consistent parsing.\n",
      "\n",
      "C:\\ProgramData\\Anaconda3\\lib\\site-packages\\pandas\\core\\tools\\datetimes.py:1056: UserWarning:\n",
      "\n",
      "Parsing '20-02-2015' in DD/MM/YYYY format. Provide format or specify infer_datetime_format=True for consistent parsing.\n",
      "\n",
      "C:\\ProgramData\\Anaconda3\\lib\\site-packages\\pandas\\core\\tools\\datetimes.py:1056: UserWarning:\n",
      "\n",
      "Parsing '14-11-2015' in DD/MM/YYYY format. Provide format or specify infer_datetime_format=True for consistent parsing.\n",
      "\n",
      "C:\\ProgramData\\Anaconda3\\lib\\site-packages\\pandas\\core\\tools\\datetimes.py:1056: UserWarning:\n",
      "\n",
      "Parsing '26-04-2015' in DD/MM/YYYY format. Provide format or specify infer_datetime_format=True for consistent parsing.\n",
      "\n",
      "C:\\ProgramData\\Anaconda3\\lib\\site-packages\\pandas\\core\\tools\\datetimes.py:1056: UserWarning:\n",
      "\n",
      "Parsing '13-09-2015' in DD/MM/YYYY format. Provide format or specify infer_datetime_format=True for consistent parsing.\n",
      "\n",
      "C:\\ProgramData\\Anaconda3\\lib\\site-packages\\pandas\\core\\tools\\datetimes.py:1056: UserWarning:\n",
      "\n",
      "Parsing '26-02-2015' in DD/MM/YYYY format. Provide format or specify infer_datetime_format=True for consistent parsing.\n",
      "\n",
      "C:\\ProgramData\\Anaconda3\\lib\\site-packages\\pandas\\core\\tools\\datetimes.py:1056: UserWarning:\n",
      "\n",
      "Parsing '23-10-2015' in DD/MM/YYYY format. Provide format or specify infer_datetime_format=True for consistent parsing.\n",
      "\n",
      "C:\\ProgramData\\Anaconda3\\lib\\site-packages\\pandas\\core\\tools\\datetimes.py:1056: UserWarning:\n",
      "\n",
      "Parsing '24-09-2015' in DD/MM/YYYY format. Provide format or specify infer_datetime_format=True for consistent parsing.\n",
      "\n",
      "C:\\ProgramData\\Anaconda3\\lib\\site-packages\\pandas\\core\\tools\\datetimes.py:1056: UserWarning:\n",
      "\n",
      "Parsing '20-06-2015' in DD/MM/YYYY format. Provide format or specify infer_datetime_format=True for consistent parsing.\n",
      "\n",
      "C:\\ProgramData\\Anaconda3\\lib\\site-packages\\pandas\\core\\tools\\datetimes.py:1056: UserWarning:\n",
      "\n",
      "Parsing '22-11-2015' in DD/MM/YYYY format. Provide format or specify infer_datetime_format=True for consistent parsing.\n",
      "\n",
      "C:\\ProgramData\\Anaconda3\\lib\\site-packages\\pandas\\core\\tools\\datetimes.py:1056: UserWarning:\n",
      "\n",
      "Parsing '24-12-2015' in DD/MM/YYYY format. Provide format or specify infer_datetime_format=True for consistent parsing.\n",
      "\n",
      "C:\\ProgramData\\Anaconda3\\lib\\site-packages\\pandas\\core\\tools\\datetimes.py:1056: UserWarning:\n",
      "\n",
      "Parsing '15-11-2015' in DD/MM/YYYY format. Provide format or specify infer_datetime_format=True for consistent parsing.\n",
      "\n",
      "C:\\ProgramData\\Anaconda3\\lib\\site-packages\\pandas\\core\\tools\\datetimes.py:1056: UserWarning:\n",
      "\n",
      "Parsing '28-09-2015' in DD/MM/YYYY format. Provide format or specify infer_datetime_format=True for consistent parsing.\n",
      "\n",
      "C:\\ProgramData\\Anaconda3\\lib\\site-packages\\pandas\\core\\tools\\datetimes.py:1056: UserWarning:\n",
      "\n",
      "Parsing '29-11-2015' in DD/MM/YYYY format. Provide format or specify infer_datetime_format=True for consistent parsing.\n",
      "\n",
      "C:\\ProgramData\\Anaconda3\\lib\\site-packages\\pandas\\core\\tools\\datetimes.py:1056: UserWarning:\n",
      "\n",
      "Parsing '20-09-2015' in DD/MM/YYYY format. Provide format or specify infer_datetime_format=True for consistent parsing.\n",
      "\n",
      "C:\\ProgramData\\Anaconda3\\lib\\site-packages\\pandas\\core\\tools\\datetimes.py:1056: UserWarning:\n",
      "\n",
      "Parsing '18-08-2015' in DD/MM/YYYY format. Provide format or specify infer_datetime_format=True for consistent parsing.\n",
      "\n",
      "C:\\ProgramData\\Anaconda3\\lib\\site-packages\\pandas\\core\\tools\\datetimes.py:1056: UserWarning:\n",
      "\n",
      "Parsing '14-12-2015' in DD/MM/YYYY format. Provide format or specify infer_datetime_format=True for consistent parsing.\n",
      "\n",
      "C:\\ProgramData\\Anaconda3\\lib\\site-packages\\pandas\\core\\tools\\datetimes.py:1056: UserWarning:\n",
      "\n",
      "Parsing '13-10-2015' in DD/MM/YYYY format. Provide format or specify infer_datetime_format=True for consistent parsing.\n",
      "\n",
      "C:\\ProgramData\\Anaconda3\\lib\\site-packages\\pandas\\core\\tools\\datetimes.py:1056: UserWarning:\n",
      "\n",
      "Parsing '27-03-2015' in DD/MM/YYYY format. Provide format or specify infer_datetime_format=True for consistent parsing.\n",
      "\n",
      "C:\\ProgramData\\Anaconda3\\lib\\site-packages\\pandas\\core\\tools\\datetimes.py:1056: UserWarning:\n",
      "\n",
      "Parsing '16-11-2015' in DD/MM/YYYY format. Provide format or specify infer_datetime_format=True for consistent parsing.\n",
      "\n",
      "C:\\ProgramData\\Anaconda3\\lib\\site-packages\\pandas\\core\\tools\\datetimes.py:1056: UserWarning:\n",
      "\n",
      "Parsing '16-09-2015' in DD/MM/YYYY format. Provide format or specify infer_datetime_format=True for consistent parsing.\n",
      "\n",
      "C:\\ProgramData\\Anaconda3\\lib\\site-packages\\pandas\\core\\tools\\datetimes.py:1056: UserWarning:\n",
      "\n",
      "Parsing '28-01-2015' in DD/MM/YYYY format. Provide format or specify infer_datetime_format=True for consistent parsing.\n",
      "\n",
      "C:\\ProgramData\\Anaconda3\\lib\\site-packages\\pandas\\core\\tools\\datetimes.py:1056: UserWarning:\n",
      "\n",
      "Parsing '25-10-2015' in DD/MM/YYYY format. Provide format or specify infer_datetime_format=True for consistent parsing.\n",
      "\n",
      "C:\\ProgramData\\Anaconda3\\lib\\site-packages\\pandas\\core\\tools\\datetimes.py:1056: UserWarning:\n",
      "\n",
      "Parsing '22-05-2015' in DD/MM/YYYY format. Provide format or specify infer_datetime_format=True for consistent parsing.\n",
      "\n",
      "C:\\ProgramData\\Anaconda3\\lib\\site-packages\\pandas\\core\\tools\\datetimes.py:1056: UserWarning:\n",
      "\n",
      "Parsing '30-05-2015' in DD/MM/YYYY format. Provide format or specify infer_datetime_format=True for consistent parsing.\n",
      "\n",
      "C:\\ProgramData\\Anaconda3\\lib\\site-packages\\pandas\\core\\tools\\datetimes.py:1056: UserWarning:\n",
      "\n",
      "Parsing '18-04-2015' in DD/MM/YYYY format. Provide format or specify infer_datetime_format=True for consistent parsing.\n",
      "\n",
      "C:\\ProgramData\\Anaconda3\\lib\\site-packages\\pandas\\core\\tools\\datetimes.py:1056: UserWarning:\n",
      "\n",
      "Parsing '30-12-2015' in DD/MM/YYYY format. Provide format or specify infer_datetime_format=True for consistent parsing.\n",
      "\n",
      "C:\\ProgramData\\Anaconda3\\lib\\site-packages\\pandas\\core\\tools\\datetimes.py:1056: UserWarning:\n",
      "\n",
      "Parsing '27-05-2015' in DD/MM/YYYY format. Provide format or specify infer_datetime_format=True for consistent parsing.\n",
      "\n",
      "C:\\ProgramData\\Anaconda3\\lib\\site-packages\\pandas\\core\\tools\\datetimes.py:1056: UserWarning:\n",
      "\n",
      "Parsing '30-08-2015' in DD/MM/YYYY format. Provide format or specify infer_datetime_format=True for consistent parsing.\n",
      "\n",
      "C:\\ProgramData\\Anaconda3\\lib\\site-packages\\pandas\\core\\tools\\datetimes.py:1056: UserWarning:\n",
      "\n",
      "Parsing '30-04-2015' in DD/MM/YYYY format. Provide format or specify infer_datetime_format=True for consistent parsing.\n",
      "\n",
      "C:\\ProgramData\\Anaconda3\\lib\\site-packages\\pandas\\core\\tools\\datetimes.py:1056: UserWarning:\n",
      "\n",
      "Parsing '23-09-2015' in DD/MM/YYYY format. Provide format or specify infer_datetime_format=True for consistent parsing.\n",
      "\n",
      "C:\\ProgramData\\Anaconda3\\lib\\site-packages\\pandas\\core\\tools\\datetimes.py:1056: UserWarning:\n",
      "\n",
      "Parsing '25-01-2015' in DD/MM/YYYY format. Provide format or specify infer_datetime_format=True for consistent parsing.\n",
      "\n",
      "C:\\ProgramData\\Anaconda3\\lib\\site-packages\\pandas\\core\\tools\\datetimes.py:1056: UserWarning:\n",
      "\n",
      "Parsing '23-01-2015' in DD/MM/YYYY format. Provide format or specify infer_datetime_format=True for consistent parsing.\n",
      "\n",
      "C:\\ProgramData\\Anaconda3\\lib\\site-packages\\pandas\\core\\tools\\datetimes.py:1056: UserWarning:\n",
      "\n",
      "Parsing '28-05-2015' in DD/MM/YYYY format. Provide format or specify infer_datetime_format=True for consistent parsing.\n",
      "\n",
      "C:\\ProgramData\\Anaconda3\\lib\\site-packages\\pandas\\core\\tools\\datetimes.py:1056: UserWarning:\n",
      "\n",
      "Parsing '28-12-2015' in DD/MM/YYYY format. Provide format or specify infer_datetime_format=True for consistent parsing.\n",
      "\n",
      "C:\\ProgramData\\Anaconda3\\lib\\site-packages\\pandas\\core\\tools\\datetimes.py:1056: UserWarning:\n",
      "\n",
      "Parsing '23-03-2015' in DD/MM/YYYY format. Provide format or specify infer_datetime_format=True for consistent parsing.\n",
      "\n",
      "C:\\ProgramData\\Anaconda3\\lib\\site-packages\\pandas\\core\\tools\\datetimes.py:1056: UserWarning:\n",
      "\n",
      "Parsing '16-05-2015' in DD/MM/YYYY format. Provide format or specify infer_datetime_format=True for consistent parsing.\n",
      "\n",
      "C:\\ProgramData\\Anaconda3\\lib\\site-packages\\pandas\\core\\tools\\datetimes.py:1056: UserWarning:\n",
      "\n",
      "Parsing '24-05-2015' in DD/MM/YYYY format. Provide format or specify infer_datetime_format=True for consistent parsing.\n",
      "\n",
      "C:\\ProgramData\\Anaconda3\\lib\\site-packages\\pandas\\core\\tools\\datetimes.py:1056: UserWarning:\n",
      "\n",
      "Parsing '21-06-2015' in DD/MM/YYYY format. Provide format or specify infer_datetime_format=True for consistent parsing.\n",
      "\n",
      "C:\\ProgramData\\Anaconda3\\lib\\site-packages\\pandas\\core\\tools\\datetimes.py:1056: UserWarning:\n",
      "\n",
      "Parsing '27-12-2015' in DD/MM/YYYY format. Provide format or specify infer_datetime_format=True for consistent parsing.\n",
      "\n",
      "C:\\ProgramData\\Anaconda3\\lib\\site-packages\\pandas\\core\\tools\\datetimes.py:1056: UserWarning:\n",
      "\n",
      "Parsing '17-09-2015' in DD/MM/YYYY format. Provide format or specify infer_datetime_format=True for consistent parsing.\n",
      "\n",
      "C:\\ProgramData\\Anaconda3\\lib\\site-packages\\pandas\\core\\tools\\datetimes.py:1056: UserWarning:\n",
      "\n",
      "Parsing '28-11-2015' in DD/MM/YYYY format. Provide format or specify infer_datetime_format=True for consistent parsing.\n",
      "\n",
      "C:\\ProgramData\\Anaconda3\\lib\\site-packages\\pandas\\core\\tools\\datetimes.py:1056: UserWarning:\n",
      "\n",
      "Parsing '26-07-2015' in DD/MM/YYYY format. Provide format or specify infer_datetime_format=True for consistent parsing.\n",
      "\n",
      "C:\\ProgramData\\Anaconda3\\lib\\site-packages\\pandas\\core\\tools\\datetimes.py:1056: UserWarning:\n",
      "\n",
      "Parsing '16-07-2015' in DD/MM/YYYY format. Provide format or specify infer_datetime_format=True for consistent parsing.\n",
      "\n",
      "C:\\ProgramData\\Anaconda3\\lib\\site-packages\\pandas\\core\\tools\\datetimes.py:1056: UserWarning:\n",
      "\n",
      "Parsing '24-01-2015' in DD/MM/YYYY format. Provide format or specify infer_datetime_format=True for consistent parsing.\n",
      "\n",
      "C:\\ProgramData\\Anaconda3\\lib\\site-packages\\pandas\\core\\tools\\datetimes.py:1056: UserWarning:\n",
      "\n",
      "Parsing '19-05-2015' in DD/MM/YYYY format. Provide format or specify infer_datetime_format=True for consistent parsing.\n",
      "\n",
      "C:\\ProgramData\\Anaconda3\\lib\\site-packages\\pandas\\core\\tools\\datetimes.py:1056: UserWarning:\n",
      "\n",
      "Parsing '18-12-2015' in DD/MM/YYYY format. Provide format or specify infer_datetime_format=True for consistent parsing.\n",
      "\n",
      "C:\\ProgramData\\Anaconda3\\lib\\site-packages\\pandas\\core\\tools\\datetimes.py:1056: UserWarning:\n",
      "\n",
      "Parsing '13-03-2015' in DD/MM/YYYY format. Provide format or specify infer_datetime_format=True for consistent parsing.\n",
      "\n",
      "C:\\ProgramData\\Anaconda3\\lib\\site-packages\\pandas\\core\\tools\\datetimes.py:1056: UserWarning:\n",
      "\n",
      "Parsing '26-05-2015' in DD/MM/YYYY format. Provide format or specify infer_datetime_format=True for consistent parsing.\n",
      "\n",
      "C:\\ProgramData\\Anaconda3\\lib\\site-packages\\pandas\\core\\tools\\datetimes.py:1056: UserWarning:\n",
      "\n",
      "Parsing '29-01-2015' in DD/MM/YYYY format. Provide format or specify infer_datetime_format=True for consistent parsing.\n",
      "\n",
      "C:\\ProgramData\\Anaconda3\\lib\\site-packages\\pandas\\core\\tools\\datetimes.py:1056: UserWarning:\n",
      "\n",
      "Parsing '19-04-2015' in DD/MM/YYYY format. Provide format or specify infer_datetime_format=True for consistent parsing.\n",
      "\n",
      "C:\\ProgramData\\Anaconda3\\lib\\site-packages\\pandas\\core\\tools\\datetimes.py:1056: UserWarning:\n",
      "\n",
      "Parsing '23-11-2015' in DD/MM/YYYY format. Provide format or specify infer_datetime_format=True for consistent parsing.\n",
      "\n",
      "C:\\ProgramData\\Anaconda3\\lib\\site-packages\\pandas\\core\\tools\\datetimes.py:1056: UserWarning:\n",
      "\n",
      "Parsing '15-10-2015' in DD/MM/YYYY format. Provide format or specify infer_datetime_format=True for consistent parsing.\n",
      "\n",
      "C:\\ProgramData\\Anaconda3\\lib\\site-packages\\pandas\\core\\tools\\datetimes.py:1056: UserWarning:\n",
      "\n",
      "Parsing '24-04-2015' in DD/MM/YYYY format. Provide format or specify infer_datetime_format=True for consistent parsing.\n",
      "\n",
      "C:\\ProgramData\\Anaconda3\\lib\\site-packages\\pandas\\core\\tools\\datetimes.py:1056: UserWarning:\n",
      "\n",
      "Parsing '29-04-2015' in DD/MM/YYYY format. Provide format or specify infer_datetime_format=True for consistent parsing.\n",
      "\n",
      "C:\\ProgramData\\Anaconda3\\lib\\site-packages\\pandas\\core\\tools\\datetimes.py:1056: UserWarning:\n",
      "\n",
      "Parsing '21-03-2015' in DD/MM/YYYY format. Provide format or specify infer_datetime_format=True for consistent parsing.\n",
      "\n",
      "C:\\ProgramData\\Anaconda3\\lib\\site-packages\\pandas\\core\\tools\\datetimes.py:1056: UserWarning:\n",
      "\n",
      "Parsing '18-03-2015' in DD/MM/YYYY format. Provide format or specify infer_datetime_format=True for consistent parsing.\n",
      "\n",
      "C:\\ProgramData\\Anaconda3\\lib\\site-packages\\pandas\\core\\tools\\datetimes.py:1056: UserWarning:\n",
      "\n",
      "Parsing '21-12-2015' in DD/MM/YYYY format. Provide format or specify infer_datetime_format=True for consistent parsing.\n",
      "\n",
      "C:\\ProgramData\\Anaconda3\\lib\\site-packages\\pandas\\core\\tools\\datetimes.py:1056: UserWarning:\n",
      "\n",
      "Parsing '27-09-2015' in DD/MM/YYYY format. Provide format or specify infer_datetime_format=True for consistent parsing.\n",
      "\n",
      "C:\\ProgramData\\Anaconda3\\lib\\site-packages\\pandas\\core\\tools\\datetimes.py:1056: UserWarning:\n",
      "\n",
      "Parsing '17-03-2015' in DD/MM/YYYY format. Provide format or specify infer_datetime_format=True for consistent parsing.\n",
      "\n",
      "C:\\ProgramData\\Anaconda3\\lib\\site-packages\\pandas\\core\\tools\\datetimes.py:1056: UserWarning:\n",
      "\n",
      "Parsing '15-03-2015' in DD/MM/YYYY format. Provide format or specify infer_datetime_format=True for consistent parsing.\n",
      "\n",
      "C:\\ProgramData\\Anaconda3\\lib\\site-packages\\pandas\\core\\tools\\datetimes.py:1056: UserWarning:\n",
      "\n",
      "Parsing '27-04-2015' in DD/MM/YYYY format. Provide format or specify infer_datetime_format=True for consistent parsing.\n",
      "\n",
      "C:\\ProgramData\\Anaconda3\\lib\\site-packages\\pandas\\core\\tools\\datetimes.py:1056: UserWarning:\n",
      "\n",
      "Parsing '13-08-2015' in DD/MM/YYYY format. Provide format or specify infer_datetime_format=True for consistent parsing.\n",
      "\n",
      "C:\\ProgramData\\Anaconda3\\lib\\site-packages\\pandas\\core\\tools\\datetimes.py:1056: UserWarning:\n",
      "\n",
      "Parsing '16-02-2015' in DD/MM/YYYY format. Provide format or specify infer_datetime_format=True for consistent parsing.\n",
      "\n",
      "C:\\ProgramData\\Anaconda3\\lib\\site-packages\\pandas\\core\\tools\\datetimes.py:1056: UserWarning:\n",
      "\n",
      "Parsing '25-03-2015' in DD/MM/YYYY format. Provide format or specify infer_datetime_format=True for consistent parsing.\n",
      "\n",
      "C:\\ProgramData\\Anaconda3\\lib\\site-packages\\pandas\\core\\tools\\datetimes.py:1056: UserWarning:\n",
      "\n",
      "Parsing '15-06-2015' in DD/MM/YYYY format. Provide format or specify infer_datetime_format=True for consistent parsing.\n",
      "\n",
      "C:\\ProgramData\\Anaconda3\\lib\\site-packages\\pandas\\core\\tools\\datetimes.py:1056: UserWarning:\n",
      "\n",
      "Parsing '23-02-2015' in DD/MM/YYYY format. Provide format or specify infer_datetime_format=True for consistent parsing.\n",
      "\n",
      "C:\\ProgramData\\Anaconda3\\lib\\site-packages\\pandas\\core\\tools\\datetimes.py:1056: UserWarning:\n",
      "\n",
      "Parsing '24-11-2015' in DD/MM/YYYY format. Provide format or specify infer_datetime_format=True for consistent parsing.\n",
      "\n",
      "C:\\ProgramData\\Anaconda3\\lib\\site-packages\\pandas\\core\\tools\\datetimes.py:1056: UserWarning:\n",
      "\n",
      "Parsing '17-11-2015' in DD/MM/YYYY format. Provide format or specify infer_datetime_format=True for consistent parsing.\n",
      "\n",
      "C:\\ProgramData\\Anaconda3\\lib\\site-packages\\pandas\\core\\tools\\datetimes.py:1056: UserWarning:\n",
      "\n",
      "Parsing '14-10-2015' in DD/MM/YYYY format. Provide format or specify infer_datetime_format=True for consistent parsing.\n",
      "\n",
      "C:\\ProgramData\\Anaconda3\\lib\\site-packages\\pandas\\core\\tools\\datetimes.py:1056: UserWarning:\n",
      "\n",
      "Parsing '24-10-2015' in DD/MM/YYYY format. Provide format or specify infer_datetime_format=True for consistent parsing.\n",
      "\n",
      "C:\\ProgramData\\Anaconda3\\lib\\site-packages\\pandas\\core\\tools\\datetimes.py:1056: UserWarning:\n",
      "\n",
      "Parsing '31-08-2015' in DD/MM/YYYY format. Provide format or specify infer_datetime_format=True for consistent parsing.\n",
      "\n",
      "C:\\ProgramData\\Anaconda3\\lib\\site-packages\\pandas\\core\\tools\\datetimes.py:1056: UserWarning:\n",
      "\n",
      "Parsing '19-12-2015' in DD/MM/YYYY format. Provide format or specify infer_datetime_format=True for consistent parsing.\n",
      "\n",
      "C:\\ProgramData\\Anaconda3\\lib\\site-packages\\pandas\\core\\tools\\datetimes.py:1056: UserWarning:\n",
      "\n",
      "Parsing '15-12-2015' in DD/MM/YYYY format. Provide format or specify infer_datetime_format=True for consistent parsing.\n",
      "\n",
      "C:\\ProgramData\\Anaconda3\\lib\\site-packages\\pandas\\core\\tools\\datetimes.py:1056: UserWarning:\n",
      "\n",
      "Parsing '21-11-2015' in DD/MM/YYYY format. Provide format or specify infer_datetime_format=True for consistent parsing.\n",
      "\n",
      "C:\\ProgramData\\Anaconda3\\lib\\site-packages\\pandas\\core\\tools\\datetimes.py:1056: UserWarning:\n",
      "\n",
      "Parsing '18-10-2015' in DD/MM/YYYY format. Provide format or specify infer_datetime_format=True for consistent parsing.\n",
      "\n",
      "C:\\ProgramData\\Anaconda3\\lib\\site-packages\\pandas\\core\\tools\\datetimes.py:1056: UserWarning:\n",
      "\n",
      "Parsing '25-05-2015' in DD/MM/YYYY format. Provide format or specify infer_datetime_format=True for consistent parsing.\n",
      "\n",
      "C:\\ProgramData\\Anaconda3\\lib\\site-packages\\pandas\\core\\tools\\datetimes.py:1056: UserWarning:\n",
      "\n",
      "Parsing '22-09-2015' in DD/MM/YYYY format. Provide format or specify infer_datetime_format=True for consistent parsing.\n",
      "\n",
      "C:\\ProgramData\\Anaconda3\\lib\\site-packages\\pandas\\core\\tools\\datetimes.py:1056: UserWarning:\n",
      "\n",
      "Parsing '29-08-2015' in DD/MM/YYYY format. Provide format or specify infer_datetime_format=True for consistent parsing.\n",
      "\n",
      "C:\\ProgramData\\Anaconda3\\lib\\site-packages\\pandas\\core\\tools\\datetimes.py:1056: UserWarning:\n",
      "\n",
      "Parsing '28-08-2015' in DD/MM/YYYY format. Provide format or specify infer_datetime_format=True for consistent parsing.\n",
      "\n",
      "C:\\ProgramData\\Anaconda3\\lib\\site-packages\\pandas\\core\\tools\\datetimes.py:1056: UserWarning:\n",
      "\n",
      "Parsing '21-10-2015' in DD/MM/YYYY format. Provide format or specify infer_datetime_format=True for consistent parsing.\n",
      "\n",
      "C:\\ProgramData\\Anaconda3\\lib\\site-packages\\pandas\\core\\tools\\datetimes.py:1056: UserWarning:\n",
      "\n",
      "Parsing '29-05-2015' in DD/MM/YYYY format. Provide format or specify infer_datetime_format=True for consistent parsing.\n",
      "\n",
      "C:\\ProgramData\\Anaconda3\\lib\\site-packages\\pandas\\core\\tools\\datetimes.py:1056: UserWarning:\n",
      "\n",
      "Parsing '26-08-2015' in DD/MM/YYYY format. Provide format or specify infer_datetime_format=True for consistent parsing.\n",
      "\n",
      "C:\\ProgramData\\Anaconda3\\lib\\site-packages\\pandas\\core\\tools\\datetimes.py:1056: UserWarning:\n",
      "\n",
      "Parsing '28-06-2015' in DD/MM/YYYY format. Provide format or specify infer_datetime_format=True for consistent parsing.\n",
      "\n",
      "C:\\ProgramData\\Anaconda3\\lib\\site-packages\\pandas\\core\\tools\\datetimes.py:1056: UserWarning:\n",
      "\n",
      "Parsing '27-11-2015' in DD/MM/YYYY format. Provide format or specify infer_datetime_format=True for consistent parsing.\n",
      "\n",
      "C:\\ProgramData\\Anaconda3\\lib\\site-packages\\pandas\\core\\tools\\datetimes.py:1056: UserWarning:\n",
      "\n",
      "Parsing '14-08-2015' in DD/MM/YYYY format. Provide format or specify infer_datetime_format=True for consistent parsing.\n",
      "\n",
      "C:\\ProgramData\\Anaconda3\\lib\\site-packages\\pandas\\core\\tools\\datetimes.py:1056: UserWarning:\n",
      "\n",
      "Parsing '29-06-2015' in DD/MM/YYYY format. Provide format or specify infer_datetime_format=True for consistent parsing.\n",
      "\n",
      "C:\\ProgramData\\Anaconda3\\lib\\site-packages\\pandas\\core\\tools\\datetimes.py:1056: UserWarning:\n",
      "\n",
      "Parsing '15-01-2015' in DD/MM/YYYY format. Provide format or specify infer_datetime_format=True for consistent parsing.\n",
      "\n",
      "C:\\ProgramData\\Anaconda3\\lib\\site-packages\\pandas\\core\\tools\\datetimes.py:1056: UserWarning:\n",
      "\n",
      "Parsing '17-02-2015' in DD/MM/YYYY format. Provide format or specify infer_datetime_format=True for consistent parsing.\n",
      "\n",
      "C:\\ProgramData\\Anaconda3\\lib\\site-packages\\pandas\\core\\tools\\datetimes.py:1056: UserWarning:\n",
      "\n",
      "Parsing '20-05-2015' in DD/MM/YYYY format. Provide format or specify infer_datetime_format=True for consistent parsing.\n",
      "\n",
      "C:\\ProgramData\\Anaconda3\\lib\\site-packages\\pandas\\core\\tools\\datetimes.py:1056: UserWarning:\n",
      "\n",
      "Parsing '19-03-2015' in DD/MM/YYYY format. Provide format or specify infer_datetime_format=True for consistent parsing.\n",
      "\n",
      "C:\\ProgramData\\Anaconda3\\lib\\site-packages\\pandas\\core\\tools\\datetimes.py:1056: UserWarning:\n",
      "\n",
      "Parsing '28-10-2015' in DD/MM/YYYY format. Provide format or specify infer_datetime_format=True for consistent parsing.\n",
      "\n",
      "C:\\ProgramData\\Anaconda3\\lib\\site-packages\\pandas\\core\\tools\\datetimes.py:1056: UserWarning:\n",
      "\n",
      "Parsing '16-08-2015' in DD/MM/YYYY format. Provide format or specify infer_datetime_format=True for consistent parsing.\n",
      "\n",
      "C:\\ProgramData\\Anaconda3\\lib\\site-packages\\pandas\\core\\tools\\datetimes.py:1056: UserWarning:\n",
      "\n",
      "Parsing '13-11-2015' in DD/MM/YYYY format. Provide format or specify infer_datetime_format=True for consistent parsing.\n",
      "\n",
      "C:\\ProgramData\\Anaconda3\\lib\\site-packages\\pandas\\core\\tools\\datetimes.py:1056: UserWarning:\n",
      "\n",
      "Parsing '13-07-2015' in DD/MM/YYYY format. Provide format or specify infer_datetime_format=True for consistent parsing.\n",
      "\n",
      "C:\\ProgramData\\Anaconda3\\lib\\site-packages\\pandas\\core\\tools\\datetimes.py:1056: UserWarning:\n",
      "\n",
      "Parsing '20-07-2015' in DD/MM/YYYY format. Provide format or specify infer_datetime_format=True for consistent parsing.\n",
      "\n",
      "C:\\ProgramData\\Anaconda3\\lib\\site-packages\\pandas\\core\\tools\\datetimes.py:1056: UserWarning:\n",
      "\n",
      "Parsing '29-10-2015' in DD/MM/YYYY format. Provide format or specify infer_datetime_format=True for consistent parsing.\n",
      "\n",
      "C:\\ProgramData\\Anaconda3\\lib\\site-packages\\pandas\\core\\tools\\datetimes.py:1056: UserWarning:\n",
      "\n",
      "Parsing '16-12-2015' in DD/MM/YYYY format. Provide format or specify infer_datetime_format=True for consistent parsing.\n",
      "\n",
      "C:\\ProgramData\\Anaconda3\\lib\\site-packages\\pandas\\core\\tools\\datetimes.py:1056: UserWarning:\n",
      "\n",
      "Parsing '30-01-2015' in DD/MM/YYYY format. Provide format or specify infer_datetime_format=True for consistent parsing.\n",
      "\n",
      "C:\\ProgramData\\Anaconda3\\lib\\site-packages\\pandas\\core\\tools\\datetimes.py:1056: UserWarning:\n",
      "\n",
      "Parsing '22-03-2015' in DD/MM/YYYY format. Provide format or specify infer_datetime_format=True for consistent parsing.\n",
      "\n",
      "C:\\ProgramData\\Anaconda3\\lib\\site-packages\\pandas\\core\\tools\\datetimes.py:1056: UserWarning:\n",
      "\n",
      "Parsing '19-10-2015' in DD/MM/YYYY format. Provide format or specify infer_datetime_format=True for consistent parsing.\n",
      "\n",
      "C:\\ProgramData\\Anaconda3\\lib\\site-packages\\pandas\\core\\tools\\datetimes.py:1056: UserWarning:\n",
      "\n",
      "Parsing '27-10-2015' in DD/MM/YYYY format. Provide format or specify infer_datetime_format=True for consistent parsing.\n",
      "\n",
      "C:\\ProgramData\\Anaconda3\\lib\\site-packages\\pandas\\core\\tools\\datetimes.py:1056: UserWarning:\n",
      "\n",
      "Parsing '28-02-2015' in DD/MM/YYYY format. Provide format or specify infer_datetime_format=True for consistent parsing.\n",
      "\n",
      "C:\\ProgramData\\Anaconda3\\lib\\site-packages\\pandas\\core\\tools\\datetimes.py:1056: UserWarning:\n",
      "\n",
      "Parsing '27-07-2015' in DD/MM/YYYY format. Provide format or specify infer_datetime_format=True for consistent parsing.\n",
      "\n",
      "C:\\ProgramData\\Anaconda3\\lib\\site-packages\\pandas\\core\\tools\\datetimes.py:1056: UserWarning:\n",
      "\n",
      "Parsing '31-03-2015' in DD/MM/YYYY format. Provide format or specify infer_datetime_format=True for consistent parsing.\n",
      "\n",
      "C:\\ProgramData\\Anaconda3\\lib\\site-packages\\pandas\\core\\tools\\datetimes.py:1056: UserWarning:\n",
      "\n",
      "Parsing '18-01-2015' in DD/MM/YYYY format. Provide format or specify infer_datetime_format=True for consistent parsing.\n",
      "\n",
      "C:\\ProgramData\\Anaconda3\\lib\\site-packages\\pandas\\core\\tools\\datetimes.py:1056: UserWarning:\n",
      "\n",
      "Parsing '31-07-2015' in DD/MM/YYYY format. Provide format or specify infer_datetime_format=True for consistent parsing.\n",
      "\n",
      "C:\\ProgramData\\Anaconda3\\lib\\site-packages\\pandas\\core\\tools\\datetimes.py:1056: UserWarning:\n",
      "\n",
      "Parsing '31-10-2015' in DD/MM/YYYY format. Provide format or specify infer_datetime_format=True for consistent parsing.\n",
      "\n",
      "C:\\ProgramData\\Anaconda3\\lib\\site-packages\\pandas\\core\\tools\\datetimes.py:1056: UserWarning:\n",
      "\n",
      "Parsing '29-07-2015' in DD/MM/YYYY format. Provide format or specify infer_datetime_format=True for consistent parsing.\n",
      "\n",
      "C:\\ProgramData\\Anaconda3\\lib\\site-packages\\pandas\\core\\tools\\datetimes.py:1056: UserWarning:\n",
      "\n",
      "Parsing '25-09-2015' in DD/MM/YYYY format. Provide format or specify infer_datetime_format=True for consistent parsing.\n",
      "\n",
      "C:\\ProgramData\\Anaconda3\\lib\\site-packages\\pandas\\core\\tools\\datetimes.py:1056: UserWarning:\n",
      "\n",
      "Parsing '14-07-2015' in DD/MM/YYYY format. Provide format or specify infer_datetime_format=True for consistent parsing.\n",
      "\n",
      "C:\\ProgramData\\Anaconda3\\lib\\site-packages\\pandas\\core\\tools\\datetimes.py:1056: UserWarning:\n",
      "\n",
      "Parsing '30-07-2015' in DD/MM/YYYY format. Provide format or specify infer_datetime_format=True for consistent parsing.\n",
      "\n",
      "C:\\ProgramData\\Anaconda3\\lib\\site-packages\\pandas\\core\\tools\\datetimes.py:1056: UserWarning:\n",
      "\n",
      "Parsing '26-12-2015' in DD/MM/YYYY format. Provide format or specify infer_datetime_format=True for consistent parsing.\n",
      "\n",
      "C:\\ProgramData\\Anaconda3\\lib\\site-packages\\pandas\\core\\tools\\datetimes.py:1056: UserWarning:\n",
      "\n",
      "Parsing '13-05-2015' in DD/MM/YYYY format. Provide format or specify infer_datetime_format=True for consistent parsing.\n",
      "\n",
      "C:\\ProgramData\\Anaconda3\\lib\\site-packages\\pandas\\core\\tools\\datetimes.py:1056: UserWarning:\n",
      "\n",
      "Parsing '28-03-2015' in DD/MM/YYYY format. Provide format or specify infer_datetime_format=True for consistent parsing.\n",
      "\n",
      "C:\\ProgramData\\Anaconda3\\lib\\site-packages\\pandas\\core\\tools\\datetimes.py:1056: UserWarning:\n",
      "\n",
      "Parsing '20-11-2015' in DD/MM/YYYY format. Provide format or specify infer_datetime_format=True for consistent parsing.\n",
      "\n",
      "C:\\ProgramData\\Anaconda3\\lib\\site-packages\\pandas\\core\\tools\\datetimes.py:1056: UserWarning:\n",
      "\n",
      "Parsing '22-01-2015' in DD/MM/YYYY format. Provide format or specify infer_datetime_format=True for consistent parsing.\n",
      "\n",
      "C:\\ProgramData\\Anaconda3\\lib\\site-packages\\pandas\\core\\tools\\datetimes.py:1056: UserWarning:\n",
      "\n",
      "Parsing '15-07-2015' in DD/MM/YYYY format. Provide format or specify infer_datetime_format=True for consistent parsing.\n",
      "\n",
      "C:\\ProgramData\\Anaconda3\\lib\\site-packages\\pandas\\core\\tools\\datetimes.py:1056: UserWarning:\n",
      "\n",
      "Parsing '24-03-2015' in DD/MM/YYYY format. Provide format or specify infer_datetime_format=True for consistent parsing.\n",
      "\n",
      "C:\\ProgramData\\Anaconda3\\lib\\site-packages\\pandas\\core\\tools\\datetimes.py:1056: UserWarning:\n",
      "\n",
      "Parsing '13-06-2015' in DD/MM/YYYY format. Provide format or specify infer_datetime_format=True for consistent parsing.\n",
      "\n",
      "C:\\ProgramData\\Anaconda3\\lib\\site-packages\\pandas\\core\\tools\\datetimes.py:1056: UserWarning:\n",
      "\n",
      "Parsing '20-08-2015' in DD/MM/YYYY format. Provide format or specify infer_datetime_format=True for consistent parsing.\n",
      "\n",
      "C:\\ProgramData\\Anaconda3\\lib\\site-packages\\pandas\\core\\tools\\datetimes.py:1056: UserWarning:\n",
      "\n",
      "Parsing '17-12-2015' in DD/MM/YYYY format. Provide format or specify infer_datetime_format=True for consistent parsing.\n",
      "\n",
      "C:\\ProgramData\\Anaconda3\\lib\\site-packages\\pandas\\core\\tools\\datetimes.py:1056: UserWarning:\n",
      "\n",
      "Parsing '25-11-2015' in DD/MM/YYYY format. Provide format or specify infer_datetime_format=True for consistent parsing.\n",
      "\n",
      "C:\\ProgramData\\Anaconda3\\lib\\site-packages\\pandas\\core\\tools\\datetimes.py:1056: UserWarning:\n",
      "\n",
      "Parsing '14-09-2015' in DD/MM/YYYY format. Provide format or specify infer_datetime_format=True for consistent parsing.\n",
      "\n",
      "C:\\ProgramData\\Anaconda3\\lib\\site-packages\\pandas\\core\\tools\\datetimes.py:1056: UserWarning:\n",
      "\n",
      "Parsing '21-04-2015' in DD/MM/YYYY format. Provide format or specify infer_datetime_format=True for consistent parsing.\n",
      "\n",
      "C:\\ProgramData\\Anaconda3\\lib\\site-packages\\pandas\\core\\tools\\datetimes.py:1056: UserWarning:\n",
      "\n",
      "Parsing '18-11-2015' in DD/MM/YYYY format. Provide format or specify infer_datetime_format=True for consistent parsing.\n",
      "\n",
      "C:\\ProgramData\\Anaconda3\\lib\\site-packages\\pandas\\core\\tools\\datetimes.py:1056: UserWarning:\n",
      "\n",
      "Parsing '16-04-2015' in DD/MM/YYYY format. Provide format or specify infer_datetime_format=True for consistent parsing.\n",
      "\n",
      "C:\\ProgramData\\Anaconda3\\lib\\site-packages\\pandas\\core\\tools\\datetimes.py:1056: UserWarning:\n",
      "\n",
      "Parsing '29-03-2015' in DD/MM/YYYY format. Provide format or specify infer_datetime_format=True for consistent parsing.\n",
      "\n",
      "C:\\ProgramData\\Anaconda3\\lib\\site-packages\\pandas\\core\\tools\\datetimes.py:1056: UserWarning:\n",
      "\n",
      "Parsing '19-01-2015' in DD/MM/YYYY format. Provide format or specify infer_datetime_format=True for consistent parsing.\n",
      "\n",
      "C:\\ProgramData\\Anaconda3\\lib\\site-packages\\pandas\\core\\tools\\datetimes.py:1056: UserWarning:\n",
      "\n",
      "Parsing '26-06-2015' in DD/MM/YYYY format. Provide format or specify infer_datetime_format=True for consistent parsing.\n",
      "\n",
      "C:\\ProgramData\\Anaconda3\\lib\\site-packages\\pandas\\core\\tools\\datetimes.py:1056: UserWarning:\n",
      "\n",
      "Parsing '23-04-2015' in DD/MM/YYYY format. Provide format or specify infer_datetime_format=True for consistent parsing.\n",
      "\n",
      "C:\\ProgramData\\Anaconda3\\lib\\site-packages\\pandas\\core\\tools\\datetimes.py:1056: UserWarning:\n",
      "\n",
      "Parsing '16-12-2014' in DD/MM/YYYY format. Provide format or specify infer_datetime_format=True for consistent parsing.\n",
      "\n",
      "C:\\ProgramData\\Anaconda3\\lib\\site-packages\\pandas\\core\\tools\\datetimes.py:1056: UserWarning:\n",
      "\n",
      "Parsing '15-11-2014' in DD/MM/YYYY format. Provide format or specify infer_datetime_format=True for consistent parsing.\n",
      "\n",
      "C:\\ProgramData\\Anaconda3\\lib\\site-packages\\pandas\\core\\tools\\datetimes.py:1056: UserWarning:\n",
      "\n",
      "Parsing '16-10-2014' in DD/MM/YYYY format. Provide format or specify infer_datetime_format=True for consistent parsing.\n",
      "\n",
      "C:\\ProgramData\\Anaconda3\\lib\\site-packages\\pandas\\core\\tools\\datetimes.py:1056: UserWarning:\n",
      "\n",
      "Parsing '14-08-2014' in DD/MM/YYYY format. Provide format or specify infer_datetime_format=True for consistent parsing.\n",
      "\n",
      "C:\\ProgramData\\Anaconda3\\lib\\site-packages\\pandas\\core\\tools\\datetimes.py:1056: UserWarning:\n",
      "\n",
      "Parsing '30-08-2014' in DD/MM/YYYY format. Provide format or specify infer_datetime_format=True for consistent parsing.\n",
      "\n",
      "C:\\ProgramData\\Anaconda3\\lib\\site-packages\\pandas\\core\\tools\\datetimes.py:1056: UserWarning:\n",
      "\n",
      "Parsing '28-05-2014' in DD/MM/YYYY format. Provide format or specify infer_datetime_format=True for consistent parsing.\n",
      "\n",
      "C:\\ProgramData\\Anaconda3\\lib\\site-packages\\pandas\\core\\tools\\datetimes.py:1056: UserWarning:\n",
      "\n",
      "Parsing '16-02-2014' in DD/MM/YYYY format. Provide format or specify infer_datetime_format=True for consistent parsing.\n",
      "\n",
      "C:\\ProgramData\\Anaconda3\\lib\\site-packages\\pandas\\core\\tools\\datetimes.py:1056: UserWarning:\n",
      "\n",
      "Parsing '29-08-2014' in DD/MM/YYYY format. Provide format or specify infer_datetime_format=True for consistent parsing.\n",
      "\n",
      "C:\\ProgramData\\Anaconda3\\lib\\site-packages\\pandas\\core\\tools\\datetimes.py:1056: UserWarning:\n",
      "\n",
      "Parsing '14-04-2014' in DD/MM/YYYY format. Provide format or specify infer_datetime_format=True for consistent parsing.\n",
      "\n",
      "C:\\ProgramData\\Anaconda3\\lib\\site-packages\\pandas\\core\\tools\\datetimes.py:1056: UserWarning:\n",
      "\n",
      "Parsing '25-06-2014' in DD/MM/YYYY format. Provide format or specify infer_datetime_format=True for consistent parsing.\n",
      "\n",
      "C:\\ProgramData\\Anaconda3\\lib\\site-packages\\pandas\\core\\tools\\datetimes.py:1056: UserWarning:\n",
      "\n",
      "Parsing '14-02-2014' in DD/MM/YYYY format. Provide format or specify infer_datetime_format=True for consistent parsing.\n",
      "\n",
      "C:\\ProgramData\\Anaconda3\\lib\\site-packages\\pandas\\core\\tools\\datetimes.py:1056: UserWarning:\n",
      "\n",
      "Parsing '20-06-2014' in DD/MM/YYYY format. Provide format or specify infer_datetime_format=True for consistent parsing.\n",
      "\n",
      "C:\\ProgramData\\Anaconda3\\lib\\site-packages\\pandas\\core\\tools\\datetimes.py:1056: UserWarning:\n",
      "\n",
      "Parsing '22-07-2014' in DD/MM/YYYY format. Provide format or specify infer_datetime_format=True for consistent parsing.\n",
      "\n",
      "C:\\ProgramData\\Anaconda3\\lib\\site-packages\\pandas\\core\\tools\\datetimes.py:1056: UserWarning:\n",
      "\n",
      "Parsing '24-04-2014' in DD/MM/YYYY format. Provide format or specify infer_datetime_format=True for consistent parsing.\n",
      "\n",
      "C:\\ProgramData\\Anaconda3\\lib\\site-packages\\pandas\\core\\tools\\datetimes.py:1056: UserWarning:\n",
      "\n",
      "Parsing '28-01-2014' in DD/MM/YYYY format. Provide format or specify infer_datetime_format=True for consistent parsing.\n",
      "\n",
      "C:\\ProgramData\\Anaconda3\\lib\\site-packages\\pandas\\core\\tools\\datetimes.py:1056: UserWarning:\n",
      "\n",
      "Parsing '21-08-2014' in DD/MM/YYYY format. Provide format or specify infer_datetime_format=True for consistent parsing.\n",
      "\n",
      "C:\\ProgramData\\Anaconda3\\lib\\site-packages\\pandas\\core\\tools\\datetimes.py:1056: UserWarning:\n",
      "\n",
      "Parsing '27-02-2014' in DD/MM/YYYY format. Provide format or specify infer_datetime_format=True for consistent parsing.\n",
      "\n",
      "C:\\ProgramData\\Anaconda3\\lib\\site-packages\\pandas\\core\\tools\\datetimes.py:1056: UserWarning:\n",
      "\n",
      "Parsing '25-02-2014' in DD/MM/YYYY format. Provide format or specify infer_datetime_format=True for consistent parsing.\n",
      "\n",
      "C:\\ProgramData\\Anaconda3\\lib\\site-packages\\pandas\\core\\tools\\datetimes.py:1056: UserWarning:\n",
      "\n",
      "Parsing '13-05-2014' in DD/MM/YYYY format. Provide format or specify infer_datetime_format=True for consistent parsing.\n",
      "\n",
      "C:\\ProgramData\\Anaconda3\\lib\\site-packages\\pandas\\core\\tools\\datetimes.py:1056: UserWarning:\n",
      "\n",
      "Parsing '31-01-2014' in DD/MM/YYYY format. Provide format or specify infer_datetime_format=True for consistent parsing.\n",
      "\n",
      "C:\\ProgramData\\Anaconda3\\lib\\site-packages\\pandas\\core\\tools\\datetimes.py:1056: UserWarning:\n",
      "\n",
      "Parsing '29-03-2014' in DD/MM/YYYY format. Provide format or specify infer_datetime_format=True for consistent parsing.\n",
      "\n",
      "C:\\ProgramData\\Anaconda3\\lib\\site-packages\\pandas\\core\\tools\\datetimes.py:1056: UserWarning:\n",
      "\n",
      "Parsing '18-09-2014' in DD/MM/YYYY format. Provide format or specify infer_datetime_format=True for consistent parsing.\n",
      "\n",
      "C:\\ProgramData\\Anaconda3\\lib\\site-packages\\pandas\\core\\tools\\datetimes.py:1056: UserWarning:\n",
      "\n",
      "Parsing '17-08-2014' in DD/MM/YYYY format. Provide format or specify infer_datetime_format=True for consistent parsing.\n",
      "\n",
      "C:\\ProgramData\\Anaconda3\\lib\\site-packages\\pandas\\core\\tools\\datetimes.py:1056: UserWarning:\n",
      "\n",
      "Parsing '29-07-2014' in DD/MM/YYYY format. Provide format or specify infer_datetime_format=True for consistent parsing.\n",
      "\n",
      "C:\\ProgramData\\Anaconda3\\lib\\site-packages\\pandas\\core\\tools\\datetimes.py:1056: UserWarning:\n",
      "\n",
      "Parsing '17-07-2014' in DD/MM/YYYY format. Provide format or specify infer_datetime_format=True for consistent parsing.\n",
      "\n",
      "C:\\ProgramData\\Anaconda3\\lib\\site-packages\\pandas\\core\\tools\\datetimes.py:1056: UserWarning:\n",
      "\n",
      "Parsing '23-01-2014' in DD/MM/YYYY format. Provide format or specify infer_datetime_format=True for consistent parsing.\n",
      "\n",
      "C:\\ProgramData\\Anaconda3\\lib\\site-packages\\pandas\\core\\tools\\datetimes.py:1056: UserWarning:\n",
      "\n",
      "Parsing '19-01-2014' in DD/MM/YYYY format. Provide format or specify infer_datetime_format=True for consistent parsing.\n",
      "\n",
      "C:\\ProgramData\\Anaconda3\\lib\\site-packages\\pandas\\core\\tools\\datetimes.py:1056: UserWarning:\n",
      "\n",
      "Parsing '21-04-2014' in DD/MM/YYYY format. Provide format or specify infer_datetime_format=True for consistent parsing.\n",
      "\n",
      "C:\\ProgramData\\Anaconda3\\lib\\site-packages\\pandas\\core\\tools\\datetimes.py:1056: UserWarning:\n",
      "\n",
      "Parsing '28-07-2014' in DD/MM/YYYY format. Provide format or specify infer_datetime_format=True for consistent parsing.\n",
      "\n",
      "C:\\ProgramData\\Anaconda3\\lib\\site-packages\\pandas\\core\\tools\\datetimes.py:1056: UserWarning:\n",
      "\n",
      "Parsing '21-10-2014' in DD/MM/YYYY format. Provide format or specify infer_datetime_format=True for consistent parsing.\n",
      "\n",
      "C:\\ProgramData\\Anaconda3\\lib\\site-packages\\pandas\\core\\tools\\datetimes.py:1056: UserWarning:\n",
      "\n",
      "Parsing '31-07-2014' in DD/MM/YYYY format. Provide format or specify infer_datetime_format=True for consistent parsing.\n",
      "\n",
      "C:\\ProgramData\\Anaconda3\\lib\\site-packages\\pandas\\core\\tools\\datetimes.py:1056: UserWarning:\n",
      "\n",
      "Parsing '13-06-2014' in DD/MM/YYYY format. Provide format or specify infer_datetime_format=True for consistent parsing.\n",
      "\n",
      "C:\\ProgramData\\Anaconda3\\lib\\site-packages\\pandas\\core\\tools\\datetimes.py:1056: UserWarning:\n",
      "\n",
      "Parsing '30-09-2014' in DD/MM/YYYY format. Provide format or specify infer_datetime_format=True for consistent parsing.\n",
      "\n",
      "C:\\ProgramData\\Anaconda3\\lib\\site-packages\\pandas\\core\\tools\\datetimes.py:1056: UserWarning:\n",
      "\n",
      "Parsing '14-03-2014' in DD/MM/YYYY format. Provide format or specify infer_datetime_format=True for consistent parsing.\n",
      "\n",
      "C:\\ProgramData\\Anaconda3\\lib\\site-packages\\pandas\\core\\tools\\datetimes.py:1056: UserWarning:\n",
      "\n",
      "Parsing '24-02-2014' in DD/MM/YYYY format. Provide format or specify infer_datetime_format=True for consistent parsing.\n",
      "\n",
      "C:\\ProgramData\\Anaconda3\\lib\\site-packages\\pandas\\core\\tools\\datetimes.py:1056: UserWarning:\n",
      "\n",
      "Parsing '26-02-2014' in DD/MM/YYYY format. Provide format or specify infer_datetime_format=True for consistent parsing.\n",
      "\n",
      "C:\\ProgramData\\Anaconda3\\lib\\site-packages\\pandas\\core\\tools\\datetimes.py:1056: UserWarning:\n",
      "\n",
      "Parsing '27-07-2014' in DD/MM/YYYY format. Provide format or specify infer_datetime_format=True for consistent parsing.\n",
      "\n",
      "C:\\ProgramData\\Anaconda3\\lib\\site-packages\\pandas\\core\\tools\\datetimes.py:1056: UserWarning:\n",
      "\n",
      "Parsing '30-06-2014' in DD/MM/YYYY format. Provide format or specify infer_datetime_format=True for consistent parsing.\n",
      "\n",
      "C:\\ProgramData\\Anaconda3\\lib\\site-packages\\pandas\\core\\tools\\datetimes.py:1056: UserWarning:\n",
      "\n",
      "Parsing '23-08-2014' in DD/MM/YYYY format. Provide format or specify infer_datetime_format=True for consistent parsing.\n",
      "\n",
      "C:\\ProgramData\\Anaconda3\\lib\\site-packages\\pandas\\core\\tools\\datetimes.py:1056: UserWarning:\n",
      "\n",
      "Parsing '15-04-2014' in DD/MM/YYYY format. Provide format or specify infer_datetime_format=True for consistent parsing.\n",
      "\n",
      "C:\\ProgramData\\Anaconda3\\lib\\site-packages\\pandas\\core\\tools\\datetimes.py:1056: UserWarning:\n",
      "\n",
      "Parsing '18-07-2014' in DD/MM/YYYY format. Provide format or specify infer_datetime_format=True for consistent parsing.\n",
      "\n",
      "C:\\ProgramData\\Anaconda3\\lib\\site-packages\\pandas\\core\\tools\\datetimes.py:1056: UserWarning:\n",
      "\n",
      "Parsing '22-04-2014' in DD/MM/YYYY format. Provide format or specify infer_datetime_format=True for consistent parsing.\n",
      "\n",
      "C:\\ProgramData\\Anaconda3\\lib\\site-packages\\pandas\\core\\tools\\datetimes.py:1056: UserWarning:\n",
      "\n",
      "Parsing '27-12-2014' in DD/MM/YYYY format. Provide format or specify infer_datetime_format=True for consistent parsing.\n",
      "\n",
      "C:\\ProgramData\\Anaconda3\\lib\\site-packages\\pandas\\core\\tools\\datetimes.py:1056: UserWarning:\n",
      "\n",
      "Parsing '23-02-2014' in DD/MM/YYYY format. Provide format or specify infer_datetime_format=True for consistent parsing.\n",
      "\n",
      "C:\\ProgramData\\Anaconda3\\lib\\site-packages\\pandas\\core\\tools\\datetimes.py:1056: UserWarning:\n",
      "\n",
      "Parsing '27-11-2014' in DD/MM/YYYY format. Provide format or specify infer_datetime_format=True for consistent parsing.\n",
      "\n",
      "C:\\ProgramData\\Anaconda3\\lib\\site-packages\\pandas\\core\\tools\\datetimes.py:1056: UserWarning:\n",
      "\n",
      "Parsing '31-08-2014' in DD/MM/YYYY format. Provide format or specify infer_datetime_format=True for consistent parsing.\n",
      "\n",
      "C:\\ProgramData\\Anaconda3\\lib\\site-packages\\pandas\\core\\tools\\datetimes.py:1056: UserWarning:\n",
      "\n",
      "Parsing '27-10-2014' in DD/MM/YYYY format. Provide format or specify infer_datetime_format=True for consistent parsing.\n",
      "\n",
      "C:\\ProgramData\\Anaconda3\\lib\\site-packages\\pandas\\core\\tools\\datetimes.py:1056: UserWarning:\n",
      "\n",
      "Parsing '20-10-2014' in DD/MM/YYYY format. Provide format or specify infer_datetime_format=True for consistent parsing.\n",
      "\n",
      "C:\\ProgramData\\Anaconda3\\lib\\site-packages\\pandas\\core\\tools\\datetimes.py:1056: UserWarning:\n",
      "\n",
      "Parsing '21-09-2014' in DD/MM/YYYY format. Provide format or specify infer_datetime_format=True for consistent parsing.\n",
      "\n",
      "C:\\ProgramData\\Anaconda3\\lib\\site-packages\\pandas\\core\\tools\\datetimes.py:1056: UserWarning:\n",
      "\n",
      "Parsing '22-01-2014' in DD/MM/YYYY format. Provide format or specify infer_datetime_format=True for consistent parsing.\n",
      "\n",
      "C:\\ProgramData\\Anaconda3\\lib\\site-packages\\pandas\\core\\tools\\datetimes.py:1056: UserWarning:\n",
      "\n",
      "Parsing '24-05-2014' in DD/MM/YYYY format. Provide format or specify infer_datetime_format=True for consistent parsing.\n",
      "\n",
      "C:\\ProgramData\\Anaconda3\\lib\\site-packages\\pandas\\core\\tools\\datetimes.py:1056: UserWarning:\n",
      "\n",
      "Parsing '31-03-2014' in DD/MM/YYYY format. Provide format or specify infer_datetime_format=True for consistent parsing.\n",
      "\n",
      "C:\\ProgramData\\Anaconda3\\lib\\site-packages\\pandas\\core\\tools\\datetimes.py:1056: UserWarning:\n",
      "\n",
      "Parsing '15-12-2014' in DD/MM/YYYY format. Provide format or specify infer_datetime_format=True for consistent parsing.\n",
      "\n",
      "C:\\ProgramData\\Anaconda3\\lib\\site-packages\\pandas\\core\\tools\\datetimes.py:1056: UserWarning:\n",
      "\n",
      "Parsing '25-03-2014' in DD/MM/YYYY format. Provide format or specify infer_datetime_format=True for consistent parsing.\n",
      "\n",
      "C:\\ProgramData\\Anaconda3\\lib\\site-packages\\pandas\\core\\tools\\datetimes.py:1056: UserWarning:\n",
      "\n",
      "Parsing '13-04-2014' in DD/MM/YYYY format. Provide format or specify infer_datetime_format=True for consistent parsing.\n",
      "\n",
      "C:\\ProgramData\\Anaconda3\\lib\\site-packages\\pandas\\core\\tools\\datetimes.py:1056: UserWarning:\n",
      "\n",
      "Parsing '15-06-2014' in DD/MM/YYYY format. Provide format or specify infer_datetime_format=True for consistent parsing.\n",
      "\n",
      "C:\\ProgramData\\Anaconda3\\lib\\site-packages\\pandas\\core\\tools\\datetimes.py:1056: UserWarning:\n",
      "\n",
      "Parsing '28-08-2014' in DD/MM/YYYY format. Provide format or specify infer_datetime_format=True for consistent parsing.\n",
      "\n",
      "C:\\ProgramData\\Anaconda3\\lib\\site-packages\\pandas\\core\\tools\\datetimes.py:1056: UserWarning:\n",
      "\n",
      "Parsing '22-08-2014' in DD/MM/YYYY format. Provide format or specify infer_datetime_format=True for consistent parsing.\n",
      "\n",
      "C:\\ProgramData\\Anaconda3\\lib\\site-packages\\pandas\\core\\tools\\datetimes.py:1056: UserWarning:\n",
      "\n",
      "Parsing '21-01-2014' in DD/MM/YYYY format. Provide format or specify infer_datetime_format=True for consistent parsing.\n",
      "\n",
      "C:\\ProgramData\\Anaconda3\\lib\\site-packages\\pandas\\core\\tools\\datetimes.py:1056: UserWarning:\n",
      "\n",
      "Parsing '16-08-2014' in DD/MM/YYYY format. Provide format or specify infer_datetime_format=True for consistent parsing.\n",
      "\n",
      "C:\\ProgramData\\Anaconda3\\lib\\site-packages\\pandas\\core\\tools\\datetimes.py:1056: UserWarning:\n",
      "\n",
      "Parsing '13-10-2014' in DD/MM/YYYY format. Provide format or specify infer_datetime_format=True for consistent parsing.\n",
      "\n",
      "C:\\ProgramData\\Anaconda3\\lib\\site-packages\\pandas\\core\\tools\\datetimes.py:1056: UserWarning:\n",
      "\n",
      "Parsing '14-05-2014' in DD/MM/YYYY format. Provide format or specify infer_datetime_format=True for consistent parsing.\n",
      "\n",
      "C:\\ProgramData\\Anaconda3\\lib\\site-packages\\pandas\\core\\tools\\datetimes.py:1056: UserWarning:\n",
      "\n",
      "Parsing '13-02-2014' in DD/MM/YYYY format. Provide format or specify infer_datetime_format=True for consistent parsing.\n",
      "\n",
      "C:\\ProgramData\\Anaconda3\\lib\\site-packages\\pandas\\core\\tools\\datetimes.py:1056: UserWarning:\n",
      "\n",
      "Parsing '18-05-2014' in DD/MM/YYYY format. Provide format or specify infer_datetime_format=True for consistent parsing.\n",
      "\n",
      "C:\\ProgramData\\Anaconda3\\lib\\site-packages\\pandas\\core\\tools\\datetimes.py:1056: UserWarning:\n",
      "\n",
      "Parsing '20-11-2014' in DD/MM/YYYY format. Provide format or specify infer_datetime_format=True for consistent parsing.\n",
      "\n",
      "C:\\ProgramData\\Anaconda3\\lib\\site-packages\\pandas\\core\\tools\\datetimes.py:1056: UserWarning:\n",
      "\n",
      "Parsing '29-01-2014' in DD/MM/YYYY format. Provide format or specify infer_datetime_format=True for consistent parsing.\n",
      "\n",
      "C:\\ProgramData\\Anaconda3\\lib\\site-packages\\pandas\\core\\tools\\datetimes.py:1056: UserWarning:\n",
      "\n",
      "Parsing '26-07-2014' in DD/MM/YYYY format. Provide format or specify infer_datetime_format=True for consistent parsing.\n",
      "\n",
      "C:\\ProgramData\\Anaconda3\\lib\\site-packages\\pandas\\core\\tools\\datetimes.py:1056: UserWarning:\n",
      "\n",
      "Parsing '18-04-2014' in DD/MM/YYYY format. Provide format or specify infer_datetime_format=True for consistent parsing.\n",
      "\n",
      "C:\\ProgramData\\Anaconda3\\lib\\site-packages\\pandas\\core\\tools\\datetimes.py:1056: UserWarning:\n",
      "\n",
      "Parsing '29-11-2014' in DD/MM/YYYY format. Provide format or specify infer_datetime_format=True for consistent parsing.\n",
      "\n",
      "C:\\ProgramData\\Anaconda3\\lib\\site-packages\\pandas\\core\\tools\\datetimes.py:1056: UserWarning:\n",
      "\n",
      "Parsing '30-07-2014' in DD/MM/YYYY format. Provide format or specify infer_datetime_format=True for consistent parsing.\n",
      "\n",
      "C:\\ProgramData\\Anaconda3\\lib\\site-packages\\pandas\\core\\tools\\datetimes.py:1056: UserWarning:\n",
      "\n",
      "Parsing '20-02-2014' in DD/MM/YYYY format. Provide format or specify infer_datetime_format=True for consistent parsing.\n",
      "\n",
      "C:\\ProgramData\\Anaconda3\\lib\\site-packages\\pandas\\core\\tools\\datetimes.py:1056: UserWarning:\n",
      "\n",
      "Parsing '26-08-2014' in DD/MM/YYYY format. Provide format or specify infer_datetime_format=True for consistent parsing.\n",
      "\n",
      "C:\\ProgramData\\Anaconda3\\lib\\site-packages\\pandas\\core\\tools\\datetimes.py:1056: UserWarning:\n",
      "\n",
      "Parsing '28-04-2014' in DD/MM/YYYY format. Provide format or specify infer_datetime_format=True for consistent parsing.\n",
      "\n",
      "C:\\ProgramData\\Anaconda3\\lib\\site-packages\\pandas\\core\\tools\\datetimes.py:1056: UserWarning:\n",
      "\n",
      "Parsing '20-12-2014' in DD/MM/YYYY format. Provide format or specify infer_datetime_format=True for consistent parsing.\n",
      "\n",
      "C:\\ProgramData\\Anaconda3\\lib\\site-packages\\pandas\\core\\tools\\datetimes.py:1056: UserWarning:\n",
      "\n",
      "Parsing '21-03-2014' in DD/MM/YYYY format. Provide format or specify infer_datetime_format=True for consistent parsing.\n",
      "\n",
      "C:\\ProgramData\\Anaconda3\\lib\\site-packages\\pandas\\core\\tools\\datetimes.py:1056: UserWarning:\n",
      "\n",
      "Parsing '27-01-2014' in DD/MM/YYYY format. Provide format or specify infer_datetime_format=True for consistent parsing.\n",
      "\n",
      "C:\\ProgramData\\Anaconda3\\lib\\site-packages\\pandas\\core\\tools\\datetimes.py:1056: UserWarning:\n",
      "\n",
      "Parsing '30-10-2014' in DD/MM/YYYY format. Provide format or specify infer_datetime_format=True for consistent parsing.\n",
      "\n",
      "C:\\ProgramData\\Anaconda3\\lib\\site-packages\\pandas\\core\\tools\\datetimes.py:1056: UserWarning:\n",
      "\n",
      "Parsing '19-03-2014' in DD/MM/YYYY format. Provide format or specify infer_datetime_format=True for consistent parsing.\n",
      "\n",
      "C:\\ProgramData\\Anaconda3\\lib\\site-packages\\pandas\\core\\tools\\datetimes.py:1056: UserWarning:\n",
      "\n",
      "Parsing '20-09-2014' in DD/MM/YYYY format. Provide format or specify infer_datetime_format=True for consistent parsing.\n",
      "\n",
      "C:\\ProgramData\\Anaconda3\\lib\\site-packages\\pandas\\core\\tools\\datetimes.py:1056: UserWarning:\n",
      "\n",
      "Parsing '18-03-2014' in DD/MM/YYYY format. Provide format or specify infer_datetime_format=True for consistent parsing.\n",
      "\n",
      "C:\\ProgramData\\Anaconda3\\lib\\site-packages\\pandas\\core\\tools\\datetimes.py:1056: UserWarning:\n",
      "\n",
      "Parsing '25-05-2014' in DD/MM/YYYY format. Provide format or specify infer_datetime_format=True for consistent parsing.\n",
      "\n",
      "C:\\ProgramData\\Anaconda3\\lib\\site-packages\\pandas\\core\\tools\\datetimes.py:1056: UserWarning:\n",
      "\n",
      "Parsing '15-07-2014' in DD/MM/YYYY format. Provide format or specify infer_datetime_format=True for consistent parsing.\n",
      "\n",
      "C:\\ProgramData\\Anaconda3\\lib\\site-packages\\pandas\\core\\tools\\datetimes.py:1056: UserWarning:\n",
      "\n",
      "Parsing '30-05-2014' in DD/MM/YYYY format. Provide format or specify infer_datetime_format=True for consistent parsing.\n",
      "\n",
      "C:\\ProgramData\\Anaconda3\\lib\\site-packages\\pandas\\core\\tools\\datetimes.py:1056: UserWarning:\n",
      "\n",
      "Parsing '27-06-2014' in DD/MM/YYYY format. Provide format or specify infer_datetime_format=True for consistent parsing.\n",
      "\n",
      "C:\\ProgramData\\Anaconda3\\lib\\site-packages\\pandas\\core\\tools\\datetimes.py:1056: UserWarning:\n",
      "\n",
      "Parsing '23-05-2014' in DD/MM/YYYY format. Provide format or specify infer_datetime_format=True for consistent parsing.\n",
      "\n",
      "C:\\ProgramData\\Anaconda3\\lib\\site-packages\\pandas\\core\\tools\\datetimes.py:1056: UserWarning:\n",
      "\n",
      "Parsing '14-01-2014' in DD/MM/YYYY format. Provide format or specify infer_datetime_format=True for consistent parsing.\n",
      "\n",
      "C:\\ProgramData\\Anaconda3\\lib\\site-packages\\pandas\\core\\tools\\datetimes.py:1056: UserWarning:\n",
      "\n",
      "Parsing '30-03-2014' in DD/MM/YYYY format. Provide format or specify infer_datetime_format=True for consistent parsing.\n",
      "\n",
      "C:\\ProgramData\\Anaconda3\\lib\\site-packages\\pandas\\core\\tools\\datetimes.py:1056: UserWarning:\n",
      "\n",
      "Parsing '27-03-2014' in DD/MM/YYYY format. Provide format or specify infer_datetime_format=True for consistent parsing.\n",
      "\n",
      "C:\\ProgramData\\Anaconda3\\lib\\site-packages\\pandas\\core\\tools\\datetimes.py:1056: UserWarning:\n",
      "\n",
      "Parsing '28-09-2014' in DD/MM/YYYY format. Provide format or specify infer_datetime_format=True for consistent parsing.\n",
      "\n",
      "C:\\ProgramData\\Anaconda3\\lib\\site-packages\\pandas\\core\\tools\\datetimes.py:1056: UserWarning:\n",
      "\n",
      "Parsing '17-12-2014' in DD/MM/YYYY format. Provide format or specify infer_datetime_format=True for consistent parsing.\n",
      "\n",
      "C:\\ProgramData\\Anaconda3\\lib\\site-packages\\pandas\\core\\tools\\datetimes.py:1056: UserWarning:\n",
      "\n",
      "Parsing '14-11-2014' in DD/MM/YYYY format. Provide format or specify infer_datetime_format=True for consistent parsing.\n",
      "\n",
      "C:\\ProgramData\\Anaconda3\\lib\\site-packages\\pandas\\core\\tools\\datetimes.py:1056: UserWarning:\n",
      "\n",
      "Parsing '28-10-2014' in DD/MM/YYYY format. Provide format or specify infer_datetime_format=True for consistent parsing.\n",
      "\n",
      "C:\\ProgramData\\Anaconda3\\lib\\site-packages\\pandas\\core\\tools\\datetimes.py:1056: UserWarning:\n",
      "\n",
      "Parsing '21-11-2014' in DD/MM/YYYY format. Provide format or specify infer_datetime_format=True for consistent parsing.\n",
      "\n",
      "C:\\ProgramData\\Anaconda3\\lib\\site-packages\\pandas\\core\\tools\\datetimes.py:1056: UserWarning:\n",
      "\n",
      "Parsing '24-08-2014' in DD/MM/YYYY format. Provide format or specify infer_datetime_format=True for consistent parsing.\n",
      "\n",
      "C:\\ProgramData\\Anaconda3\\lib\\site-packages\\pandas\\core\\tools\\datetimes.py:1056: UserWarning:\n",
      "\n",
      "Parsing '15-08-2014' in DD/MM/YYYY format. Provide format or specify infer_datetime_format=True for consistent parsing.\n",
      "\n",
      "C:\\ProgramData\\Anaconda3\\lib\\site-packages\\pandas\\core\\tools\\datetimes.py:1056: UserWarning:\n",
      "\n",
      "Parsing '15-03-2014' in DD/MM/YYYY format. Provide format or specify infer_datetime_format=True for consistent parsing.\n",
      "\n",
      "C:\\ProgramData\\Anaconda3\\lib\\site-packages\\pandas\\core\\tools\\datetimes.py:1056: UserWarning:\n",
      "\n",
      "Parsing '29-12-2014' in DD/MM/YYYY format. Provide format or specify infer_datetime_format=True for consistent parsing.\n",
      "\n",
      "C:\\ProgramData\\Anaconda3\\lib\\site-packages\\pandas\\core\\tools\\datetimes.py:1056: UserWarning:\n",
      "\n",
      "Parsing '23-12-2014' in DD/MM/YYYY format. Provide format or specify infer_datetime_format=True for consistent parsing.\n",
      "\n",
      "C:\\ProgramData\\Anaconda3\\lib\\site-packages\\pandas\\core\\tools\\datetimes.py:1056: UserWarning:\n",
      "\n",
      "Parsing '16-06-2014' in DD/MM/YYYY format. Provide format or specify infer_datetime_format=True for consistent parsing.\n",
      "\n",
      "C:\\ProgramData\\Anaconda3\\lib\\site-packages\\pandas\\core\\tools\\datetimes.py:1056: UserWarning:\n",
      "\n",
      "Parsing '13-01-2014' in DD/MM/YYYY format. Provide format or specify infer_datetime_format=True for consistent parsing.\n",
      "\n",
      "C:\\ProgramData\\Anaconda3\\lib\\site-packages\\pandas\\core\\tools\\datetimes.py:1056: UserWarning:\n",
      "\n",
      "Parsing '29-05-2014' in DD/MM/YYYY format. Provide format or specify infer_datetime_format=True for consistent parsing.\n",
      "\n",
      "C:\\ProgramData\\Anaconda3\\lib\\site-packages\\pandas\\core\\tools\\datetimes.py:1056: UserWarning:\n",
      "\n",
      "Parsing '14-07-2014' in DD/MM/YYYY format. Provide format or specify infer_datetime_format=True for consistent parsing.\n",
      "\n",
      "C:\\ProgramData\\Anaconda3\\lib\\site-packages\\pandas\\core\\tools\\datetimes.py:1056: UserWarning:\n",
      "\n",
      "Parsing '23-03-2014' in DD/MM/YYYY format. Provide format or specify infer_datetime_format=True for consistent parsing.\n",
      "\n",
      "C:\\ProgramData\\Anaconda3\\lib\\site-packages\\pandas\\core\\tools\\datetimes.py:1056: UserWarning:\n",
      "\n",
      "Parsing '16-03-2014' in DD/MM/YYYY format. Provide format or specify infer_datetime_format=True for consistent parsing.\n",
      "\n",
      "C:\\ProgramData\\Anaconda3\\lib\\site-packages\\pandas\\core\\tools\\datetimes.py:1056: UserWarning:\n",
      "\n",
      "Parsing '18-02-2014' in DD/MM/YYYY format. Provide format or specify infer_datetime_format=True for consistent parsing.\n",
      "\n",
      "C:\\ProgramData\\Anaconda3\\lib\\site-packages\\pandas\\core\\tools\\datetimes.py:1056: UserWarning:\n",
      "\n",
      "Parsing '20-08-2014' in DD/MM/YYYY format. Provide format or specify infer_datetime_format=True for consistent parsing.\n",
      "\n",
      "C:\\ProgramData\\Anaconda3\\lib\\site-packages\\pandas\\core\\tools\\datetimes.py:1056: UserWarning:\n",
      "\n",
      "Parsing '25-12-2014' in DD/MM/YYYY format. Provide format or specify infer_datetime_format=True for consistent parsing.\n",
      "\n",
      "C:\\ProgramData\\Anaconda3\\lib\\site-packages\\pandas\\core\\tools\\datetimes.py:1056: UserWarning:\n",
      "\n",
      "Parsing '18-12-2014' in DD/MM/YYYY format. Provide format or specify infer_datetime_format=True for consistent parsing.\n",
      "\n",
      "C:\\ProgramData\\Anaconda3\\lib\\site-packages\\pandas\\core\\tools\\datetimes.py:1056: UserWarning:\n",
      "\n",
      "Parsing '13-12-2014' in DD/MM/YYYY format. Provide format or specify infer_datetime_format=True for consistent parsing.\n",
      "\n",
      "C:\\ProgramData\\Anaconda3\\lib\\site-packages\\pandas\\core\\tools\\datetimes.py:1056: UserWarning:\n",
      "\n",
      "Parsing '26-05-2014' in DD/MM/YYYY format. Provide format or specify infer_datetime_format=True for consistent parsing.\n",
      "\n",
      "C:\\ProgramData\\Anaconda3\\lib\\site-packages\\pandas\\core\\tools\\datetimes.py:1056: UserWarning:\n",
      "\n",
      "Parsing '14-12-2014' in DD/MM/YYYY format. Provide format or specify infer_datetime_format=True for consistent parsing.\n",
      "\n",
      "C:\\ProgramData\\Anaconda3\\lib\\site-packages\\pandas\\core\\tools\\datetimes.py:1056: UserWarning:\n",
      "\n",
      "Parsing '16-09-2014' in DD/MM/YYYY format. Provide format or specify infer_datetime_format=True for consistent parsing.\n",
      "\n",
      "C:\\ProgramData\\Anaconda3\\lib\\site-packages\\pandas\\core\\tools\\datetimes.py:1056: UserWarning:\n",
      "\n",
      "Parsing '19-05-2014' in DD/MM/YYYY format. Provide format or specify infer_datetime_format=True for consistent parsing.\n",
      "\n",
      "C:\\ProgramData\\Anaconda3\\lib\\site-packages\\pandas\\core\\tools\\datetimes.py:1056: UserWarning:\n",
      "\n",
      "Parsing '13-03-2014' in DD/MM/YYYY format. Provide format or specify infer_datetime_format=True for consistent parsing.\n",
      "\n",
      "C:\\ProgramData\\Anaconda3\\lib\\site-packages\\pandas\\core\\tools\\datetimes.py:1056: UserWarning:\n",
      "\n",
      "Parsing '26-12-2014' in DD/MM/YYYY format. Provide format or specify infer_datetime_format=True for consistent parsing.\n",
      "\n",
      "C:\\ProgramData\\Anaconda3\\lib\\site-packages\\pandas\\core\\tools\\datetimes.py:1056: UserWarning:\n",
      "\n",
      "Parsing '17-10-2014' in DD/MM/YYYY format. Provide format or specify infer_datetime_format=True for consistent parsing.\n",
      "\n",
      "C:\\ProgramData\\Anaconda3\\lib\\site-packages\\pandas\\core\\tools\\datetimes.py:1056: UserWarning:\n",
      "\n",
      "Parsing '20-03-2014' in DD/MM/YYYY format. Provide format or specify infer_datetime_format=True for consistent parsing.\n",
      "\n",
      "C:\\ProgramData\\Anaconda3\\lib\\site-packages\\pandas\\core\\tools\\datetimes.py:1056: UserWarning:\n",
      "\n",
      "Parsing '19-10-2014' in DD/MM/YYYY format. Provide format or specify infer_datetime_format=True for consistent parsing.\n",
      "\n",
      "C:\\ProgramData\\Anaconda3\\lib\\site-packages\\pandas\\core\\tools\\datetimes.py:1056: UserWarning:\n",
      "\n",
      "Parsing '17-02-2014' in DD/MM/YYYY format. Provide format or specify infer_datetime_format=True for consistent parsing.\n",
      "\n",
      "C:\\ProgramData\\Anaconda3\\lib\\site-packages\\pandas\\core\\tools\\datetimes.py:1056: UserWarning:\n",
      "\n",
      "Parsing '31-10-2014' in DD/MM/YYYY format. Provide format or specify infer_datetime_format=True for consistent parsing.\n",
      "\n",
      "C:\\ProgramData\\Anaconda3\\lib\\site-packages\\pandas\\core\\tools\\datetimes.py:1056: UserWarning:\n",
      "\n",
      "Parsing '17-04-2014' in DD/MM/YYYY format. Provide format or specify infer_datetime_format=True for consistent parsing.\n",
      "\n",
      "C:\\ProgramData\\Anaconda3\\lib\\site-packages\\pandas\\core\\tools\\datetimes.py:1056: UserWarning:\n",
      "\n",
      "Parsing '24-09-2014' in DD/MM/YYYY format. Provide format or specify infer_datetime_format=True for consistent parsing.\n",
      "\n",
      "C:\\ProgramData\\Anaconda3\\lib\\site-packages\\pandas\\core\\tools\\datetimes.py:1056: UserWarning:\n",
      "\n",
      "Parsing '29-04-2014' in DD/MM/YYYY format. Provide format or specify infer_datetime_format=True for consistent parsing.\n",
      "\n",
      "C:\\ProgramData\\Anaconda3\\lib\\site-packages\\pandas\\core\\tools\\datetimes.py:1056: UserWarning:\n",
      "\n",
      "Parsing '18-01-2014' in DD/MM/YYYY format. Provide format or specify infer_datetime_format=True for consistent parsing.\n",
      "\n",
      "C:\\ProgramData\\Anaconda3\\lib\\site-packages\\pandas\\core\\tools\\datetimes.py:1056: UserWarning:\n",
      "\n",
      "Parsing '21-06-2014' in DD/MM/YYYY format. Provide format or specify infer_datetime_format=True for consistent parsing.\n",
      "\n",
      "C:\\ProgramData\\Anaconda3\\lib\\site-packages\\pandas\\core\\tools\\datetimes.py:1056: UserWarning:\n",
      "\n",
      "Parsing '28-11-2014' in DD/MM/YYYY format. Provide format or specify infer_datetime_format=True for consistent parsing.\n",
      "\n",
      "C:\\ProgramData\\Anaconda3\\lib\\site-packages\\pandas\\core\\tools\\datetimes.py:1056: UserWarning:\n",
      "\n",
      "Parsing '17-03-2014' in DD/MM/YYYY format. Provide format or specify infer_datetime_format=True for consistent parsing.\n",
      "\n",
      "C:\\ProgramData\\Anaconda3\\lib\\site-packages\\pandas\\core\\tools\\datetimes.py:1056: UserWarning:\n",
      "\n",
      "Parsing '23-07-2014' in DD/MM/YYYY format. Provide format or specify infer_datetime_format=True for consistent parsing.\n",
      "\n",
      "C:\\ProgramData\\Anaconda3\\lib\\site-packages\\pandas\\core\\tools\\datetimes.py:1056: UserWarning:\n",
      "\n",
      "Parsing '24-10-2014' in DD/MM/YYYY format. Provide format or specify infer_datetime_format=True for consistent parsing.\n",
      "\n",
      "C:\\ProgramData\\Anaconda3\\lib\\site-packages\\pandas\\core\\tools\\datetimes.py:1056: UserWarning:\n",
      "\n",
      "Parsing '14-10-2014' in DD/MM/YYYY format. Provide format or specify infer_datetime_format=True for consistent parsing.\n",
      "\n",
      "C:\\ProgramData\\Anaconda3\\lib\\site-packages\\pandas\\core\\tools\\datetimes.py:1056: UserWarning:\n",
      "\n",
      "Parsing '20-05-2014' in DD/MM/YYYY format. Provide format or specify infer_datetime_format=True for consistent parsing.\n",
      "\n",
      "C:\\ProgramData\\Anaconda3\\lib\\site-packages\\pandas\\core\\tools\\datetimes.py:1056: UserWarning:\n",
      "\n",
      "Parsing '26-10-2014' in DD/MM/YYYY format. Provide format or specify infer_datetime_format=True for consistent parsing.\n",
      "\n",
      "C:\\ProgramData\\Anaconda3\\lib\\site-packages\\pandas\\core\\tools\\datetimes.py:1056: UserWarning:\n",
      "\n",
      "Parsing '14-06-2014' in DD/MM/YYYY format. Provide format or specify infer_datetime_format=True for consistent parsing.\n",
      "\n",
      "C:\\ProgramData\\Anaconda3\\lib\\site-packages\\pandas\\core\\tools\\datetimes.py:1056: UserWarning:\n",
      "\n",
      "Parsing '26-09-2014' in DD/MM/YYYY format. Provide format or specify infer_datetime_format=True for consistent parsing.\n",
      "\n",
      "C:\\ProgramData\\Anaconda3\\lib\\site-packages\\pandas\\core\\tools\\datetimes.py:1056: UserWarning:\n",
      "\n",
      "Parsing '25-10-2014' in DD/MM/YYYY format. Provide format or specify infer_datetime_format=True for consistent parsing.\n",
      "\n",
      "C:\\ProgramData\\Anaconda3\\lib\\site-packages\\pandas\\core\\tools\\datetimes.py:1056: UserWarning:\n",
      "\n",
      "Parsing '25-08-2014' in DD/MM/YYYY format. Provide format or specify infer_datetime_format=True for consistent parsing.\n",
      "\n",
      "C:\\ProgramData\\Anaconda3\\lib\\site-packages\\pandas\\core\\tools\\datetimes.py:1056: UserWarning:\n",
      "\n",
      "Parsing '19-12-2014' in DD/MM/YYYY format. Provide format or specify infer_datetime_format=True for consistent parsing.\n",
      "\n",
      "C:\\ProgramData\\Anaconda3\\lib\\site-packages\\pandas\\core\\tools\\datetimes.py:1056: UserWarning:\n",
      "\n",
      "Parsing '26-01-2014' in DD/MM/YYYY format. Provide format or specify infer_datetime_format=True for consistent parsing.\n",
      "\n",
      "C:\\ProgramData\\Anaconda3\\lib\\site-packages\\pandas\\core\\tools\\datetimes.py:1056: UserWarning:\n",
      "\n",
      "Parsing '27-09-2014' in DD/MM/YYYY format. Provide format or specify infer_datetime_format=True for consistent parsing.\n",
      "\n",
      "C:\\ProgramData\\Anaconda3\\lib\\site-packages\\pandas\\core\\tools\\datetimes.py:1056: UserWarning:\n",
      "\n",
      "Parsing '21-02-2014' in DD/MM/YYYY format. Provide format or specify infer_datetime_format=True for consistent parsing.\n",
      "\n",
      "C:\\ProgramData\\Anaconda3\\lib\\site-packages\\pandas\\core\\tools\\datetimes.py:1056: UserWarning:\n",
      "\n",
      "Parsing '26-11-2014' in DD/MM/YYYY format. Provide format or specify infer_datetime_format=True for consistent parsing.\n",
      "\n",
      "C:\\ProgramData\\Anaconda3\\lib\\site-packages\\pandas\\core\\tools\\datetimes.py:1056: UserWarning:\n",
      "\n",
      "Parsing '28-12-2014' in DD/MM/YYYY format. Provide format or specify infer_datetime_format=True for consistent parsing.\n",
      "\n",
      "C:\\ProgramData\\Anaconda3\\lib\\site-packages\\pandas\\core\\tools\\datetimes.py:1056: UserWarning:\n",
      "\n",
      "Parsing '17-09-2014' in DD/MM/YYYY format. Provide format or specify infer_datetime_format=True for consistent parsing.\n",
      "\n",
      "C:\\ProgramData\\Anaconda3\\lib\\site-packages\\pandas\\core\\tools\\datetimes.py:1056: UserWarning:\n",
      "\n",
      "Parsing '22-03-2014' in DD/MM/YYYY format. Provide format or specify infer_datetime_format=True for consistent parsing.\n",
      "\n",
      "C:\\ProgramData\\Anaconda3\\lib\\site-packages\\pandas\\core\\tools\\datetimes.py:1056: UserWarning:\n",
      "\n",
      "Parsing '20-07-2014' in DD/MM/YYYY format. Provide format or specify infer_datetime_format=True for consistent parsing.\n",
      "\n",
      "C:\\ProgramData\\Anaconda3\\lib\\site-packages\\pandas\\core\\tools\\datetimes.py:1056: UserWarning:\n",
      "\n",
      "Parsing '21-05-2014' in DD/MM/YYYY format. Provide format or specify infer_datetime_format=True for consistent parsing.\n",
      "\n",
      "C:\\ProgramData\\Anaconda3\\lib\\site-packages\\pandas\\core\\tools\\datetimes.py:1056: UserWarning:\n",
      "\n",
      "Parsing '20-01-2014' in DD/MM/YYYY format. Provide format or specify infer_datetime_format=True for consistent parsing.\n",
      "\n",
      "C:\\ProgramData\\Anaconda3\\lib\\site-packages\\pandas\\core\\tools\\datetimes.py:1056: UserWarning:\n",
      "\n",
      "Parsing '29-09-2014' in DD/MM/YYYY format. Provide format or specify infer_datetime_format=True for consistent parsing.\n",
      "\n",
      "C:\\ProgramData\\Anaconda3\\lib\\site-packages\\pandas\\core\\tools\\datetimes.py:1056: UserWarning:\n",
      "\n",
      "Parsing '30-01-2014' in DD/MM/YYYY format. Provide format or specify infer_datetime_format=True for consistent parsing.\n",
      "\n",
      "C:\\ProgramData\\Anaconda3\\lib\\site-packages\\pandas\\core\\tools\\datetimes.py:1056: UserWarning:\n",
      "\n",
      "Parsing '25-01-2014' in DD/MM/YYYY format. Provide format or specify infer_datetime_format=True for consistent parsing.\n",
      "\n",
      "C:\\ProgramData\\Anaconda3\\lib\\site-packages\\pandas\\core\\tools\\datetimes.py:1056: UserWarning:\n",
      "\n",
      "Parsing '25-07-2014' in DD/MM/YYYY format. Provide format or specify infer_datetime_format=True for consistent parsing.\n",
      "\n",
      "C:\\ProgramData\\Anaconda3\\lib\\site-packages\\pandas\\core\\tools\\datetimes.py:1056: UserWarning:\n",
      "\n",
      "Parsing '13-07-2014' in DD/MM/YYYY format. Provide format or specify infer_datetime_format=True for consistent parsing.\n",
      "\n",
      "C:\\ProgramData\\Anaconda3\\lib\\site-packages\\pandas\\core\\tools\\datetimes.py:1056: UserWarning:\n",
      "\n",
      "Parsing '26-06-2014' in DD/MM/YYYY format. Provide format or specify infer_datetime_format=True for consistent parsing.\n",
      "\n",
      "C:\\ProgramData\\Anaconda3\\lib\\site-packages\\pandas\\core\\tools\\datetimes.py:1056: UserWarning:\n",
      "\n",
      "Parsing '18-11-2014' in DD/MM/YYYY format. Provide format or specify infer_datetime_format=True for consistent parsing.\n",
      "\n",
      "C:\\ProgramData\\Anaconda3\\lib\\site-packages\\pandas\\core\\tools\\datetimes.py:1056: UserWarning:\n",
      "\n",
      "Parsing '25-09-2014' in DD/MM/YYYY format. Provide format or specify infer_datetime_format=True for consistent parsing.\n",
      "\n",
      "C:\\ProgramData\\Anaconda3\\lib\\site-packages\\pandas\\core\\tools\\datetimes.py:1056: UserWarning:\n",
      "\n",
      "Parsing '16-04-2014' in DD/MM/YYYY format. Provide format or specify infer_datetime_format=True for consistent parsing.\n",
      "\n",
      "C:\\ProgramData\\Anaconda3\\lib\\site-packages\\pandas\\core\\tools\\datetimes.py:1056: UserWarning:\n",
      "\n",
      "Parsing '22-11-2014' in DD/MM/YYYY format. Provide format or specify infer_datetime_format=True for consistent parsing.\n",
      "\n",
      "C:\\ProgramData\\Anaconda3\\lib\\site-packages\\pandas\\core\\tools\\datetimes.py:1056: UserWarning:\n",
      "\n",
      "Parsing '23-10-2014' in DD/MM/YYYY format. Provide format or specify infer_datetime_format=True for consistent parsing.\n",
      "\n",
      "C:\\ProgramData\\Anaconda3\\lib\\site-packages\\pandas\\core\\tools\\datetimes.py:1056: UserWarning:\n",
      "\n",
      "Parsing '24-01-2014' in DD/MM/YYYY format. Provide format or specify infer_datetime_format=True for consistent parsing.\n",
      "\n",
      "C:\\ProgramData\\Anaconda3\\lib\\site-packages\\pandas\\core\\tools\\datetimes.py:1056: UserWarning:\n",
      "\n",
      "Parsing '18-06-2014' in DD/MM/YYYY format. Provide format or specify infer_datetime_format=True for consistent parsing.\n",
      "\n",
      "C:\\ProgramData\\Anaconda3\\lib\\site-packages\\pandas\\core\\tools\\datetimes.py:1056: UserWarning:\n",
      "\n",
      "Parsing '22-10-2014' in DD/MM/YYYY format. Provide format or specify infer_datetime_format=True for consistent parsing.\n",
      "\n",
      "C:\\ProgramData\\Anaconda3\\lib\\site-packages\\pandas\\core\\tools\\datetimes.py:1056: UserWarning:\n",
      "\n",
      "Parsing '20-04-2014' in DD/MM/YYYY format. Provide format or specify infer_datetime_format=True for consistent parsing.\n",
      "\n",
      "C:\\ProgramData\\Anaconda3\\lib\\site-packages\\pandas\\core\\tools\\datetimes.py:1056: UserWarning:\n",
      "\n",
      "Parsing '22-02-2014' in DD/MM/YYYY format. Provide format or specify infer_datetime_format=True for consistent parsing.\n",
      "\n",
      "C:\\ProgramData\\Anaconda3\\lib\\site-packages\\pandas\\core\\tools\\datetimes.py:1056: UserWarning:\n",
      "\n",
      "Parsing '19-04-2014' in DD/MM/YYYY format. Provide format or specify infer_datetime_format=True for consistent parsing.\n",
      "\n",
      "C:\\ProgramData\\Anaconda3\\lib\\site-packages\\pandas\\core\\tools\\datetimes.py:1056: UserWarning:\n",
      "\n",
      "Parsing '24-12-2014' in DD/MM/YYYY format. Provide format or specify infer_datetime_format=True for consistent parsing.\n",
      "\n",
      "C:\\ProgramData\\Anaconda3\\lib\\site-packages\\pandas\\core\\tools\\datetimes.py:1056: UserWarning:\n",
      "\n",
      "Parsing '19-08-2014' in DD/MM/YYYY format. Provide format or specify infer_datetime_format=True for consistent parsing.\n",
      "\n",
      "C:\\ProgramData\\Anaconda3\\lib\\site-packages\\pandas\\core\\tools\\datetimes.py:1056: UserWarning:\n",
      "\n",
      "Parsing '29-10-2014' in DD/MM/YYYY format. Provide format or specify infer_datetime_format=True for consistent parsing.\n",
      "\n",
      "C:\\ProgramData\\Anaconda3\\lib\\site-packages\\pandas\\core\\tools\\datetimes.py:1056: UserWarning:\n",
      "\n",
      "Parsing '19-11-2014' in DD/MM/YYYY format. Provide format or specify infer_datetime_format=True for consistent parsing.\n",
      "\n",
      "C:\\ProgramData\\Anaconda3\\lib\\site-packages\\pandas\\core\\tools\\datetimes.py:1056: UserWarning:\n",
      "\n",
      "Parsing '30-04-2014' in DD/MM/YYYY format. Provide format or specify infer_datetime_format=True for consistent parsing.\n",
      "\n",
      "C:\\ProgramData\\Anaconda3\\lib\\site-packages\\pandas\\core\\tools\\datetimes.py:1056: UserWarning:\n",
      "\n",
      "Parsing '13-09-2014' in DD/MM/YYYY format. Provide format or specify infer_datetime_format=True for consistent parsing.\n",
      "\n",
      "C:\\ProgramData\\Anaconda3\\lib\\site-packages\\pandas\\core\\tools\\datetimes.py:1056: UserWarning:\n",
      "\n",
      "Parsing '17-01-2014' in DD/MM/YYYY format. Provide format or specify infer_datetime_format=True for consistent parsing.\n",
      "\n",
      "C:\\ProgramData\\Anaconda3\\lib\\site-packages\\pandas\\core\\tools\\datetimes.py:1056: UserWarning:\n",
      "\n",
      "Parsing '30-12-2014' in DD/MM/YYYY format. Provide format or specify infer_datetime_format=True for consistent parsing.\n",
      "\n",
      "C:\\ProgramData\\Anaconda3\\lib\\site-packages\\pandas\\core\\tools\\datetimes.py:1056: UserWarning:\n",
      "\n",
      "Parsing '16-05-2014' in DD/MM/YYYY format. Provide format or specify infer_datetime_format=True for consistent parsing.\n",
      "\n",
      "C:\\ProgramData\\Anaconda3\\lib\\site-packages\\pandas\\core\\tools\\datetimes.py:1056: UserWarning:\n",
      "\n",
      "Parsing '28-02-2014' in DD/MM/YYYY format. Provide format or specify infer_datetime_format=True for consistent parsing.\n",
      "\n",
      "C:\\ProgramData\\Anaconda3\\lib\\site-packages\\pandas\\core\\tools\\datetimes.py:1056: UserWarning:\n",
      "\n",
      "Parsing '15-01-2014' in DD/MM/YYYY format. Provide format or specify infer_datetime_format=True for consistent parsing.\n",
      "\n",
      "C:\\ProgramData\\Anaconda3\\lib\\site-packages\\pandas\\core\\tools\\datetimes.py:1056: UserWarning:\n",
      "\n",
      "Parsing '19-02-2014' in DD/MM/YYYY format. Provide format or specify infer_datetime_format=True for consistent parsing.\n",
      "\n",
      "C:\\ProgramData\\Anaconda3\\lib\\site-packages\\pandas\\core\\tools\\datetimes.py:1056: UserWarning:\n",
      "\n",
      "Parsing '27-05-2014' in DD/MM/YYYY format. Provide format or specify infer_datetime_format=True for consistent parsing.\n",
      "\n",
      "C:\\ProgramData\\Anaconda3\\lib\\site-packages\\pandas\\core\\tools\\datetimes.py:1056: UserWarning:\n",
      "\n",
      "Parsing '24-07-2014' in DD/MM/YYYY format. Provide format or specify infer_datetime_format=True for consistent parsing.\n",
      "\n",
      "C:\\ProgramData\\Anaconda3\\lib\\site-packages\\pandas\\core\\tools\\datetimes.py:1056: UserWarning:\n",
      "\n",
      "Parsing '23-06-2014' in DD/MM/YYYY format. Provide format or specify infer_datetime_format=True for consistent parsing.\n",
      "\n",
      "C:\\ProgramData\\Anaconda3\\lib\\site-packages\\pandas\\core\\tools\\datetimes.py:1056: UserWarning:\n",
      "\n",
      "Parsing '22-06-2014' in DD/MM/YYYY format. Provide format or specify infer_datetime_format=True for consistent parsing.\n",
      "\n",
      "C:\\ProgramData\\Anaconda3\\lib\\site-packages\\pandas\\core\\tools\\datetimes.py:1056: UserWarning:\n",
      "\n",
      "Parsing '28-03-2014' in DD/MM/YYYY format. Provide format or specify infer_datetime_format=True for consistent parsing.\n",
      "\n",
      "C:\\ProgramData\\Anaconda3\\lib\\site-packages\\pandas\\core\\tools\\datetimes.py:1056: UserWarning:\n",
      "\n",
      "Parsing '23-09-2014' in DD/MM/YYYY format. Provide format or specify infer_datetime_format=True for consistent parsing.\n",
      "\n",
      "C:\\ProgramData\\Anaconda3\\lib\\site-packages\\pandas\\core\\tools\\datetimes.py:1056: UserWarning:\n",
      "\n",
      "Parsing '22-12-2014' in DD/MM/YYYY format. Provide format or specify infer_datetime_format=True for consistent parsing.\n",
      "\n",
      "C:\\ProgramData\\Anaconda3\\lib\\site-packages\\pandas\\core\\tools\\datetimes.py:1056: UserWarning:\n",
      "\n",
      "Parsing '13-08-2014' in DD/MM/YYYY format. Provide format or specify infer_datetime_format=True for consistent parsing.\n",
      "\n",
      "C:\\ProgramData\\Anaconda3\\lib\\site-packages\\pandas\\core\\tools\\datetimes.py:1056: UserWarning:\n",
      "\n",
      "Parsing '24-03-2014' in DD/MM/YYYY format. Provide format or specify infer_datetime_format=True for consistent parsing.\n",
      "\n",
      "C:\\ProgramData\\Anaconda3\\lib\\site-packages\\pandas\\core\\tools\\datetimes.py:1056: UserWarning:\n",
      "\n",
      "Parsing '16-11-2014' in DD/MM/YYYY format. Provide format or specify infer_datetime_format=True for consistent parsing.\n",
      "\n",
      "C:\\ProgramData\\Anaconda3\\lib\\site-packages\\pandas\\core\\tools\\datetimes.py:1056: UserWarning:\n",
      "\n",
      "Parsing '19-06-2014' in DD/MM/YYYY format. Provide format or specify infer_datetime_format=True for consistent parsing.\n",
      "\n",
      "C:\\ProgramData\\Anaconda3\\lib\\site-packages\\pandas\\core\\tools\\datetimes.py:1056: UserWarning:\n",
      "\n",
      "Parsing '17-06-2014' in DD/MM/YYYY format. Provide format or specify infer_datetime_format=True for consistent parsing.\n",
      "\n",
      "C:\\ProgramData\\Anaconda3\\lib\\site-packages\\pandas\\core\\tools\\datetimes.py:1056: UserWarning:\n",
      "\n",
      "Parsing '16-01-2014' in DD/MM/YYYY format. Provide format or specify infer_datetime_format=True for consistent parsing.\n",
      "\n",
      "C:\\ProgramData\\Anaconda3\\lib\\site-packages\\pandas\\core\\tools\\datetimes.py:1056: UserWarning:\n",
      "\n",
      "Parsing '22-09-2014' in DD/MM/YYYY format. Provide format or specify infer_datetime_format=True for consistent parsing.\n",
      "\n",
      "C:\\ProgramData\\Anaconda3\\lib\\site-packages\\pandas\\core\\tools\\datetimes.py:1056: UserWarning:\n",
      "\n",
      "Parsing '17-05-2014' in DD/MM/YYYY format. Provide format or specify infer_datetime_format=True for consistent parsing.\n",
      "\n",
      "C:\\ProgramData\\Anaconda3\\lib\\site-packages\\pandas\\core\\tools\\datetimes.py:1056: UserWarning:\n",
      "\n",
      "Parsing '23-11-2014' in DD/MM/YYYY format. Provide format or specify infer_datetime_format=True for consistent parsing.\n",
      "\n",
      "C:\\ProgramData\\Anaconda3\\lib\\site-packages\\pandas\\core\\tools\\datetimes.py:1056: UserWarning:\n",
      "\n",
      "Parsing '24-06-2014' in DD/MM/YYYY format. Provide format or specify infer_datetime_format=True for consistent parsing.\n",
      "\n",
      "C:\\ProgramData\\Anaconda3\\lib\\site-packages\\pandas\\core\\tools\\datetimes.py:1056: UserWarning:\n",
      "\n",
      "Parsing '13-11-2014' in DD/MM/YYYY format. Provide format or specify infer_datetime_format=True for consistent parsing.\n",
      "\n",
      "C:\\ProgramData\\Anaconda3\\lib\\site-packages\\pandas\\core\\tools\\datetimes.py:1056: UserWarning:\n",
      "\n",
      "Parsing '25-04-2014' in DD/MM/YYYY format. Provide format or specify infer_datetime_format=True for consistent parsing.\n",
      "\n",
      "C:\\ProgramData\\Anaconda3\\lib\\site-packages\\pandas\\core\\tools\\datetimes.py:1056: UserWarning:\n",
      "\n",
      "Parsing '24-11-2014' in DD/MM/YYYY format. Provide format or specify infer_datetime_format=True for consistent parsing.\n",
      "\n",
      "C:\\ProgramData\\Anaconda3\\lib\\site-packages\\pandas\\core\\tools\\datetimes.py:1056: UserWarning:\n",
      "\n",
      "Parsing '19-09-2014' in DD/MM/YYYY format. Provide format or specify infer_datetime_format=True for consistent parsing.\n",
      "\n",
      "C:\\ProgramData\\Anaconda3\\lib\\site-packages\\pandas\\core\\tools\\datetimes.py:1056: UserWarning:\n",
      "\n",
      "Parsing '21-07-2014' in DD/MM/YYYY format. Provide format or specify infer_datetime_format=True for consistent parsing.\n",
      "\n",
      "C:\\ProgramData\\Anaconda3\\lib\\site-packages\\pandas\\core\\tools\\datetimes.py:1056: UserWarning:\n",
      "\n",
      "Parsing '15-10-2014' in DD/MM/YYYY format. Provide format or specify infer_datetime_format=True for consistent parsing.\n",
      "\n",
      "C:\\ProgramData\\Anaconda3\\lib\\site-packages\\pandas\\core\\tools\\datetimes.py:1056: UserWarning:\n",
      "\n",
      "Parsing '26-04-2014' in DD/MM/YYYY format. Provide format or specify infer_datetime_format=True for consistent parsing.\n",
      "\n",
      "C:\\ProgramData\\Anaconda3\\lib\\site-packages\\pandas\\core\\tools\\datetimes.py:1056: UserWarning:\n",
      "\n",
      "Parsing '26-03-2014' in DD/MM/YYYY format. Provide format or specify infer_datetime_format=True for consistent parsing.\n",
      "\n",
      "C:\\ProgramData\\Anaconda3\\lib\\site-packages\\pandas\\core\\tools\\datetimes.py:1056: UserWarning:\n",
      "\n",
      "Parsing '27-08-2014' in DD/MM/YYYY format. Provide format or specify infer_datetime_format=True for consistent parsing.\n",
      "\n",
      "C:\\ProgramData\\Anaconda3\\lib\\site-packages\\pandas\\core\\tools\\datetimes.py:1056: UserWarning:\n",
      "\n",
      "Parsing '17-11-2014' in DD/MM/YYYY format. Provide format or specify infer_datetime_format=True for consistent parsing.\n",
      "\n",
      "C:\\ProgramData\\Anaconda3\\lib\\site-packages\\pandas\\core\\tools\\datetimes.py:1056: UserWarning:\n",
      "\n",
      "Parsing '15-02-2014' in DD/MM/YYYY format. Provide format or specify infer_datetime_format=True for consistent parsing.\n",
      "\n",
      "C:\\ProgramData\\Anaconda3\\lib\\site-packages\\pandas\\core\\tools\\datetimes.py:1056: UserWarning:\n",
      "\n",
      "Parsing '18-10-2014' in DD/MM/YYYY format. Provide format or specify infer_datetime_format=True for consistent parsing.\n",
      "\n",
      "C:\\ProgramData\\Anaconda3\\lib\\site-packages\\pandas\\core\\tools\\datetimes.py:1056: UserWarning:\n",
      "\n",
      "Parsing '14-09-2014' in DD/MM/YYYY format. Provide format or specify infer_datetime_format=True for consistent parsing.\n",
      "\n",
      "C:\\ProgramData\\Anaconda3\\lib\\site-packages\\pandas\\core\\tools\\datetimes.py:1056: UserWarning:\n",
      "\n",
      "Parsing '31-05-2014' in DD/MM/YYYY format. Provide format or specify infer_datetime_format=True for consistent parsing.\n",
      "\n",
      "C:\\ProgramData\\Anaconda3\\lib\\site-packages\\pandas\\core\\tools\\datetimes.py:1056: UserWarning:\n",
      "\n",
      "Parsing '30-11-2014' in DD/MM/YYYY format. Provide format or specify infer_datetime_format=True for consistent parsing.\n",
      "\n",
      "C:\\ProgramData\\Anaconda3\\lib\\site-packages\\pandas\\core\\tools\\datetimes.py:1056: UserWarning:\n",
      "\n",
      "Parsing '27-04-2014' in DD/MM/YYYY format. Provide format or specify infer_datetime_format=True for consistent parsing.\n",
      "\n",
      "C:\\ProgramData\\Anaconda3\\lib\\site-packages\\pandas\\core\\tools\\datetimes.py:1056: UserWarning:\n",
      "\n",
      "Parsing '21-12-2014' in DD/MM/YYYY format. Provide format or specify infer_datetime_format=True for consistent parsing.\n",
      "\n",
      "C:\\ProgramData\\Anaconda3\\lib\\site-packages\\pandas\\core\\tools\\datetimes.py:1056: UserWarning:\n",
      "\n",
      "Parsing '22-05-2014' in DD/MM/YYYY format. Provide format or specify infer_datetime_format=True for consistent parsing.\n",
      "\n",
      "C:\\ProgramData\\Anaconda3\\lib\\site-packages\\pandas\\core\\tools\\datetimes.py:1056: UserWarning:\n",
      "\n",
      "Parsing '16-07-2014' in DD/MM/YYYY format. Provide format or specify infer_datetime_format=True for consistent parsing.\n",
      "\n",
      "C:\\ProgramData\\Anaconda3\\lib\\site-packages\\pandas\\core\\tools\\datetimes.py:1056: UserWarning:\n",
      "\n",
      "Parsing '23-04-2014' in DD/MM/YYYY format. Provide format or specify infer_datetime_format=True for consistent parsing.\n",
      "\n",
      "C:\\ProgramData\\Anaconda3\\lib\\site-packages\\pandas\\core\\tools\\datetimes.py:1056: UserWarning:\n",
      "\n",
      "Parsing '15-05-2014' in DD/MM/YYYY format. Provide format or specify infer_datetime_format=True for consistent parsing.\n",
      "\n",
      "C:\\ProgramData\\Anaconda3\\lib\\site-packages\\pandas\\core\\tools\\datetimes.py:1056: UserWarning:\n",
      "\n",
      "Parsing '28-06-2014' in DD/MM/YYYY format. Provide format or specify infer_datetime_format=True for consistent parsing.\n",
      "\n",
      "C:\\ProgramData\\Anaconda3\\lib\\site-packages\\pandas\\core\\tools\\datetimes.py:1056: UserWarning:\n",
      "\n",
      "Parsing '18-08-2014' in DD/MM/YYYY format. Provide format or specify infer_datetime_format=True for consistent parsing.\n",
      "\n",
      "C:\\ProgramData\\Anaconda3\\lib\\site-packages\\pandas\\core\\tools\\datetimes.py:1056: UserWarning:\n",
      "\n",
      "Parsing '25-11-2014' in DD/MM/YYYY format. Provide format or specify infer_datetime_format=True for consistent parsing.\n",
      "\n",
      "C:\\ProgramData\\Anaconda3\\lib\\site-packages\\pandas\\core\\tools\\datetimes.py:1056: UserWarning:\n",
      "\n",
      "Parsing '19-07-2014' in DD/MM/YYYY format. Provide format or specify infer_datetime_format=True for consistent parsing.\n",
      "\n",
      "C:\\ProgramData\\Anaconda3\\lib\\site-packages\\pandas\\core\\tools\\datetimes.py:1056: UserWarning:\n",
      "\n",
      "Parsing '15-09-2014' in DD/MM/YYYY format. Provide format or specify infer_datetime_format=True for consistent parsing.\n",
      "\n",
      "C:\\ProgramData\\Anaconda3\\lib\\site-packages\\pandas\\core\\tools\\datetimes.py:1056: UserWarning:\n",
      "\n",
      "Parsing '29-06-2014' in DD/MM/YYYY format. Provide format or specify infer_datetime_format=True for consistent parsing.\n",
      "\n"
     ]
    }
   ],
   "source": [
    "d.index=pd.to_datetime(d.index)"
   ]
  },
  {
   "cell_type": "code",
   "execution_count": 50,
   "metadata": {
    "execution": {
     "iopub.execute_input": "2022-05-05T11:07:01.995625Z",
     "iopub.status.busy": "2022-05-05T11:07:01.99519Z",
     "iopub.status.idle": "2022-05-05T11:07:02.085265Z",
     "shell.execute_reply": "2022-05-05T11:07:02.08429Z",
     "shell.execute_reply.started": "2022-05-05T11:07:01.995577Z"
    },
    "id": "ddQrfcYC_NkC",
    "outputId": "7c161d5c-05d4-427c-fdfd-5add19e2eca9"
   },
   "outputs": [
    {
     "name": "stdout",
     "output_type": "stream",
     "text": [
      "There are 167 unique items sold \n",
      "Total 38765 items sold in 728 days throughout 12 months\n",
      "With an average of 53.24862637362637 items sold daily\n"
     ]
    }
   ],
   "source": [
    "total_items = len(d)\n",
    "total_days = len(np.unique(d.index.date))\n",
    "total_months = len(np.unique(d.index.month))\n",
    "average_items = total_items / total_days\n",
    "unique_items = d.itemDescription.unique().size\n",
    "\n",
    "print(\"There are {} unique items sold \".format(unique_items))\n",
    "print(\"Total {} items sold in {} days throughout {} months\".format(total_items, total_days, total_months))\n",
    "print(\"With an average of {} items sold daily\".format(average_items))"
   ]
  },
  {
   "cell_type": "code",
   "execution_count": 51,
   "metadata": {
    "execution": {
     "iopub.execute_input": "2022-05-05T11:07:02.086982Z",
     "iopub.status.busy": "2022-05-05T11:07:02.086593Z",
     "iopub.status.idle": "2022-05-05T11:07:02.113643Z",
     "shell.execute_reply": "2022-05-05T11:07:02.112691Z",
     "shell.execute_reply.started": "2022-05-05T11:07:02.086902Z"
    },
    "id": "4kxgEDtH_nd6",
    "outputId": "61c0e975-1a78-4210-a071-ef89ccf4c7c0"
   },
   "outputs": [
    {
     "data": {
      "text/html": [
       "<div>\n",
       "<style scoped>\n",
       "    .dataframe tbody tr th:only-of-type {\n",
       "        vertical-align: middle;\n",
       "    }\n",
       "\n",
       "    .dataframe tbody tr th {\n",
       "        vertical-align: top;\n",
       "    }\n",
       "\n",
       "    .dataframe thead th {\n",
       "        text-align: right;\n",
       "    }\n",
       "</style>\n",
       "<table border=\"1\" class=\"dataframe\">\n",
       "  <thead>\n",
       "    <tr style=\"text-align: right;\">\n",
       "      <th></th>\n",
       "      <th>Member_number</th>\n",
       "      <th>itemDescription</th>\n",
       "      <th>Hour</th>\n",
       "      <th>Weekday</th>\n",
       "    </tr>\n",
       "    <tr>\n",
       "      <th>Date</th>\n",
       "      <th></th>\n",
       "      <th></th>\n",
       "      <th></th>\n",
       "      <th></th>\n",
       "    </tr>\n",
       "  </thead>\n",
       "  <tbody>\n",
       "    <tr>\n",
       "      <th>2015-07-21</th>\n",
       "      <td>1808</td>\n",
       "      <td>tropical fruit</td>\n",
       "      <td>0</td>\n",
       "      <td>2</td>\n",
       "    </tr>\n",
       "    <tr>\n",
       "      <th>2015-05-01</th>\n",
       "      <td>2552</td>\n",
       "      <td>whole milk</td>\n",
       "      <td>0</td>\n",
       "      <td>5</td>\n",
       "    </tr>\n",
       "    <tr>\n",
       "      <th>2015-09-19</th>\n",
       "      <td>2300</td>\n",
       "      <td>pip fruit</td>\n",
       "      <td>0</td>\n",
       "      <td>6</td>\n",
       "    </tr>\n",
       "    <tr>\n",
       "      <th>2015-12-12</th>\n",
       "      <td>1187</td>\n",
       "      <td>other vegetables</td>\n",
       "      <td>0</td>\n",
       "      <td>6</td>\n",
       "    </tr>\n",
       "    <tr>\n",
       "      <th>2015-01-02</th>\n",
       "      <td>3037</td>\n",
       "      <td>whole milk</td>\n",
       "      <td>0</td>\n",
       "      <td>5</td>\n",
       "    </tr>\n",
       "    <tr>\n",
       "      <th>2015-02-14</th>\n",
       "      <td>4941</td>\n",
       "      <td>rolls/buns</td>\n",
       "      <td>0</td>\n",
       "      <td>6</td>\n",
       "    </tr>\n",
       "    <tr>\n",
       "      <th>2015-08-05</th>\n",
       "      <td>4501</td>\n",
       "      <td>other vegetables</td>\n",
       "      <td>0</td>\n",
       "      <td>3</td>\n",
       "    </tr>\n",
       "    <tr>\n",
       "      <th>2015-12-23</th>\n",
       "      <td>3803</td>\n",
       "      <td>pot plants</td>\n",
       "      <td>0</td>\n",
       "      <td>3</td>\n",
       "    </tr>\n",
       "    <tr>\n",
       "      <th>2015-03-20</th>\n",
       "      <td>2762</td>\n",
       "      <td>whole milk</td>\n",
       "      <td>0</td>\n",
       "      <td>5</td>\n",
       "    </tr>\n",
       "    <tr>\n",
       "      <th>2015-12-02</th>\n",
       "      <td>4119</td>\n",
       "      <td>tropical fruit</td>\n",
       "      <td>0</td>\n",
       "      <td>3</td>\n",
       "    </tr>\n",
       "  </tbody>\n",
       "</table>\n",
       "</div>"
      ],
      "text/plain": [
       "            Member_number   itemDescription  Hour  Weekday\n",
       "Date                                                      \n",
       "2015-07-21  1808           tropical fruit    0     2      \n",
       "2015-05-01  2552           whole milk        0     5      \n",
       "2015-09-19  2300           pip fruit         0     6      \n",
       "2015-12-12  1187           other vegetables  0     6      \n",
       "2015-01-02  3037           whole milk        0     5      \n",
       "2015-02-14  4941           rolls/buns        0     6      \n",
       "2015-08-05  4501           other vegetables  0     3      \n",
       "2015-12-23  3803           pot plants        0     3      \n",
       "2015-03-20  2762           whole milk        0     5      \n",
       "2015-12-02  4119           tropical fruit    0     3      "
      ]
     },
     "execution_count": 51,
     "metadata": {},
     "output_type": "execute_result"
    }
   ],
   "source": [
    "d[\"Hour\"] = d.index.hour\n",
    "d[\"Weekday\"] = d.index.weekday + 1\n",
    "\n",
    "d.head(10)"
   ]
  },
  {
   "cell_type": "code",
   "execution_count": 52,
   "metadata": {
    "execution": {
     "iopub.execute_input": "2022-05-05T11:07:02.115215Z",
     "iopub.status.busy": "2022-05-05T11:07:02.114949Z",
     "iopub.status.idle": "2022-05-05T11:07:02.128714Z",
     "shell.execute_reply": "2022-05-05T11:07:02.127848Z",
     "shell.execute_reply.started": "2022-05-05T11:07:02.115183Z"
    },
    "id": "PkRecJEr_tFs",
    "outputId": "c81791c1-4084-4b79-d7e1-b9275bcdf998"
   },
   "outputs": [
    {
     "data": {
      "text/plain": [
       "whole milk               2502\n",
       "other vegetables         1898\n",
       "rolls/buns               1716\n",
       "soda                     1514\n",
       "yogurt                   1334\n",
       "                         ... \n",
       "rubbing alcohol          5   \n",
       "bags                     4   \n",
       "baby cosmetics           3   \n",
       "kitchen utensil          1   \n",
       "preservation products    1   \n",
       "Name: itemDescription, Length: 167, dtype: int64"
      ]
     },
     "execution_count": 52,
     "metadata": {},
     "output_type": "execute_result"
    }
   ],
   "source": [
    "data['itemDescription'].value_counts()"
   ]
  },
  {
   "cell_type": "code",
   "execution_count": 53,
   "metadata": {
    "execution": {
     "iopub.execute_input": "2022-05-05T11:07:02.130466Z",
     "iopub.status.busy": "2022-05-05T11:07:02.130143Z",
     "iopub.status.idle": "2022-05-05T11:07:02.147719Z",
     "shell.execute_reply": "2022-05-05T11:07:02.146915Z",
     "shell.execute_reply.started": "2022-05-05T11:07:02.130395Z"
    },
    "id": "qopPo2ks_wpd",
    "outputId": "94480ca2-73d6-4bcb-c1bc-36e0d0ce996d"
   },
   "outputs": [
    {
     "data": {
      "text/plain": [
       "728"
      ]
     },
     "execution_count": 53,
     "metadata": {},
     "output_type": "execute_result"
    }
   ],
   "source": [
    "data['Date'].nunique()"
   ]
  },
  {
   "cell_type": "code",
   "execution_count": 54,
   "metadata": {
    "execution": {
     "iopub.execute_input": "2022-05-05T11:07:02.149635Z",
     "iopub.status.busy": "2022-05-05T11:07:02.148813Z",
     "iopub.status.idle": "2022-05-05T11:07:02.84683Z",
     "shell.execute_reply": "2022-05-05T11:07:02.845668Z",
     "shell.execute_reply.started": "2022-05-05T11:07:02.149595Z"
    },
    "id": "9Unfc9KE_zm7"
   },
   "outputs": [],
   "source": [
    "import plotly.express as px"
   ]
  },
  {
   "cell_type": "code",
   "execution_count": 55,
   "metadata": {
    "execution": {
     "iopub.execute_input": "2022-05-05T11:07:02.85089Z",
     "iopub.status.busy": "2022-05-05T11:07:02.850595Z",
     "iopub.status.idle": "2022-05-05T11:07:02.85822Z",
     "shell.execute_reply": "2022-05-05T11:07:02.857241Z",
     "shell.execute_reply.started": "2022-05-05T11:07:02.850855Z"
    },
    "id": "T7tSLYx-_2n5"
   },
   "outputs": [],
   "source": [
    "def bar_plot(df,col):\n",
    "\n",
    "    fig = px.bar(df,\n",
    "        x = df[col].value_counts().keys(), \n",
    "        y = df[col].value_counts().values,\n",
    "        color= df[col].value_counts().keys()\n",
    "    )\n",
    "    fig.update_layout(\n",
    "    xaxis_title= col,\n",
    "    yaxis_title=\"Count\",\n",
    "    legend_title=col,\n",
    "    font_family=\"Courier New\",\n",
    "    font_color=\"blue\",\n",
    "    title_font_family=\"Times New Roman\",\n",
    "    title_font_color=\"red\",\n",
    "    legend_title_font_color=\"green\"\n",
    ")\n",
    "    \n",
    "    fig.show()"
   ]
  },
  {
   "cell_type": "code",
   "execution_count": 56,
   "metadata": {
    "execution": {
     "iopub.execute_input": "2022-05-05T11:07:02.860212Z",
     "iopub.status.busy": "2022-05-05T11:07:02.859796Z",
     "iopub.status.idle": "2022-05-05T11:07:04.092806Z",
     "shell.execute_reply": "2022-05-05T11:07:04.082154Z",
     "shell.execute_reply.started": "2022-05-05T11:07:02.860162Z"
    },
    "id": "6k9sZ7N9AAAs",
    "outputId": "9b8c91e4-e77d-46ee-d6c0-dbb2646fdaaf"
   },
   "outputs": [
    {
     "name": "stderr",
     "output_type": "stream",
     "text": [
      "C:\\ProgramData\\Anaconda3\\lib\\site-packages\\plotly\\io\\_renderers.py:396: DeprecationWarning:\n",
      "\n",
      "distutils Version classes are deprecated. Use packaging.version instead.\n",
      "\n",
      "C:\\ProgramData\\Anaconda3\\lib\\site-packages\\plotly\\io\\_renderers.py:396: DeprecationWarning:\n",
      "\n",
      "distutils Version classes are deprecated. Use packaging.version instead.\n",
      "\n"
     ]
    },
    {
     "data": {
      "application/vnd.plotly.v1+json": {
       "config": {
        "plotlyServerURL": "https://plot.ly"
       },
       "data": [
        {
         "alignmentgroup": "True",
         "hovertemplate": "color=whole milk<br>x=%{x}<br>y=%{y}<extra></extra>",
         "legendgroup": "whole milk",
         "marker": {
          "color": "#636efa",
          "pattern": {
           "shape": ""
          }
         },
         "name": "whole milk",
         "offsetgroup": "whole milk",
         "orientation": "v",
         "showlegend": true,
         "textposition": "auto",
         "type": "bar",
         "x": [
          "whole milk"
         ],
         "xaxis": "x",
         "y": [
          2502
         ],
         "yaxis": "y"
        },
        {
         "alignmentgroup": "True",
         "hovertemplate": "color=other vegetables<br>x=%{x}<br>y=%{y}<extra></extra>",
         "legendgroup": "other vegetables",
         "marker": {
          "color": "#EF553B",
          "pattern": {
           "shape": ""
          }
         },
         "name": "other vegetables",
         "offsetgroup": "other vegetables",
         "orientation": "v",
         "showlegend": true,
         "textposition": "auto",
         "type": "bar",
         "x": [
          "other vegetables"
         ],
         "xaxis": "x",
         "y": [
          1898
         ],
         "yaxis": "y"
        },
        {
         "alignmentgroup": "True",
         "hovertemplate": "color=rolls/buns<br>x=%{x}<br>y=%{y}<extra></extra>",
         "legendgroup": "rolls/buns",
         "marker": {
          "color": "#00cc96",
          "pattern": {
           "shape": ""
          }
         },
         "name": "rolls/buns",
         "offsetgroup": "rolls/buns",
         "orientation": "v",
         "showlegend": true,
         "textposition": "auto",
         "type": "bar",
         "x": [
          "rolls/buns"
         ],
         "xaxis": "x",
         "y": [
          1716
         ],
         "yaxis": "y"
        },
        {
         "alignmentgroup": "True",
         "hovertemplate": "color=soda<br>x=%{x}<br>y=%{y}<extra></extra>",
         "legendgroup": "soda",
         "marker": {
          "color": "#ab63fa",
          "pattern": {
           "shape": ""
          }
         },
         "name": "soda",
         "offsetgroup": "soda",
         "orientation": "v",
         "showlegend": true,
         "textposition": "auto",
         "type": "bar",
         "x": [
          "soda"
         ],
         "xaxis": "x",
         "y": [
          1514
         ],
         "yaxis": "y"
        },
        {
         "alignmentgroup": "True",
         "hovertemplate": "color=yogurt<br>x=%{x}<br>y=%{y}<extra></extra>",
         "legendgroup": "yogurt",
         "marker": {
          "color": "#FFA15A",
          "pattern": {
           "shape": ""
          }
         },
         "name": "yogurt",
         "offsetgroup": "yogurt",
         "orientation": "v",
         "showlegend": true,
         "textposition": "auto",
         "type": "bar",
         "x": [
          "yogurt"
         ],
         "xaxis": "x",
         "y": [
          1334
         ],
         "yaxis": "y"
        },
        {
         "alignmentgroup": "True",
         "hovertemplate": "color=root vegetables<br>x=%{x}<br>y=%{y}<extra></extra>",
         "legendgroup": "root vegetables",
         "marker": {
          "color": "#19d3f3",
          "pattern": {
           "shape": ""
          }
         },
         "name": "root vegetables",
         "offsetgroup": "root vegetables",
         "orientation": "v",
         "showlegend": true,
         "textposition": "auto",
         "type": "bar",
         "x": [
          "root vegetables"
         ],
         "xaxis": "x",
         "y": [
          1071
         ],
         "yaxis": "y"
        },
        {
         "alignmentgroup": "True",
         "hovertemplate": "color=tropical fruit<br>x=%{x}<br>y=%{y}<extra></extra>",
         "legendgroup": "tropical fruit",
         "marker": {
          "color": "#FF6692",
          "pattern": {
           "shape": ""
          }
         },
         "name": "tropical fruit",
         "offsetgroup": "tropical fruit",
         "orientation": "v",
         "showlegend": true,
         "textposition": "auto",
         "type": "bar",
         "x": [
          "tropical fruit"
         ],
         "xaxis": "x",
         "y": [
          1032
         ],
         "yaxis": "y"
        },
        {
         "alignmentgroup": "True",
         "hovertemplate": "color=bottled water<br>x=%{x}<br>y=%{y}<extra></extra>",
         "legendgroup": "bottled water",
         "marker": {
          "color": "#B6E880",
          "pattern": {
           "shape": ""
          }
         },
         "name": "bottled water",
         "offsetgroup": "bottled water",
         "orientation": "v",
         "showlegend": true,
         "textposition": "auto",
         "type": "bar",
         "x": [
          "bottled water"
         ],
         "xaxis": "x",
         "y": [
          933
         ],
         "yaxis": "y"
        },
        {
         "alignmentgroup": "True",
         "hovertemplate": "color=sausage<br>x=%{x}<br>y=%{y}<extra></extra>",
         "legendgroup": "sausage",
         "marker": {
          "color": "#FF97FF",
          "pattern": {
           "shape": ""
          }
         },
         "name": "sausage",
         "offsetgroup": "sausage",
         "orientation": "v",
         "showlegend": true,
         "textposition": "auto",
         "type": "bar",
         "x": [
          "sausage"
         ],
         "xaxis": "x",
         "y": [
          924
         ],
         "yaxis": "y"
        },
        {
         "alignmentgroup": "True",
         "hovertemplate": "color=citrus fruit<br>x=%{x}<br>y=%{y}<extra></extra>",
         "legendgroup": "citrus fruit",
         "marker": {
          "color": "#FECB52",
          "pattern": {
           "shape": ""
          }
         },
         "name": "citrus fruit",
         "offsetgroup": "citrus fruit",
         "orientation": "v",
         "showlegend": true,
         "textposition": "auto",
         "type": "bar",
         "x": [
          "citrus fruit"
         ],
         "xaxis": "x",
         "y": [
          812
         ],
         "yaxis": "y"
        },
        {
         "alignmentgroup": "True",
         "hovertemplate": "color=pastry<br>x=%{x}<br>y=%{y}<extra></extra>",
         "legendgroup": "pastry",
         "marker": {
          "color": "#636efa",
          "pattern": {
           "shape": ""
          }
         },
         "name": "pastry",
         "offsetgroup": "pastry",
         "orientation": "v",
         "showlegend": true,
         "textposition": "auto",
         "type": "bar",
         "x": [
          "pastry"
         ],
         "xaxis": "x",
         "y": [
          785
         ],
         "yaxis": "y"
        },
        {
         "alignmentgroup": "True",
         "hovertemplate": "color=pip fruit<br>x=%{x}<br>y=%{y}<extra></extra>",
         "legendgroup": "pip fruit",
         "marker": {
          "color": "#EF553B",
          "pattern": {
           "shape": ""
          }
         },
         "name": "pip fruit",
         "offsetgroup": "pip fruit",
         "orientation": "v",
         "showlegend": true,
         "textposition": "auto",
         "type": "bar",
         "x": [
          "pip fruit"
         ],
         "xaxis": "x",
         "y": [
          744
         ],
         "yaxis": "y"
        },
        {
         "alignmentgroup": "True",
         "hovertemplate": "color=shopping bags<br>x=%{x}<br>y=%{y}<extra></extra>",
         "legendgroup": "shopping bags",
         "marker": {
          "color": "#00cc96",
          "pattern": {
           "shape": ""
          }
         },
         "name": "shopping bags",
         "offsetgroup": "shopping bags",
         "orientation": "v",
         "showlegend": true,
         "textposition": "auto",
         "type": "bar",
         "x": [
          "shopping bags"
         ],
         "xaxis": "x",
         "y": [
          731
         ],
         "yaxis": "y"
        },
        {
         "alignmentgroup": "True",
         "hovertemplate": "color=canned beer<br>x=%{x}<br>y=%{y}<extra></extra>",
         "legendgroup": "canned beer",
         "marker": {
          "color": "#ab63fa",
          "pattern": {
           "shape": ""
          }
         },
         "name": "canned beer",
         "offsetgroup": "canned beer",
         "orientation": "v",
         "showlegend": true,
         "textposition": "auto",
         "type": "bar",
         "x": [
          "canned beer"
         ],
         "xaxis": "x",
         "y": [
          717
         ],
         "yaxis": "y"
        },
        {
         "alignmentgroup": "True",
         "hovertemplate": "color=bottled beer<br>x=%{x}<br>y=%{y}<extra></extra>",
         "legendgroup": "bottled beer",
         "marker": {
          "color": "#FFA15A",
          "pattern": {
           "shape": ""
          }
         },
         "name": "bottled beer",
         "offsetgroup": "bottled beer",
         "orientation": "v",
         "showlegend": true,
         "textposition": "auto",
         "type": "bar",
         "x": [
          "bottled beer"
         ],
         "xaxis": "x",
         "y": [
          687
         ],
         "yaxis": "y"
        },
        {
         "alignmentgroup": "True",
         "hovertemplate": "color=whipped/sour cream<br>x=%{x}<br>y=%{y}<extra></extra>",
         "legendgroup": "whipped/sour cream",
         "marker": {
          "color": "#19d3f3",
          "pattern": {
           "shape": ""
          }
         },
         "name": "whipped/sour cream",
         "offsetgroup": "whipped/sour cream",
         "orientation": "v",
         "showlegend": true,
         "textposition": "auto",
         "type": "bar",
         "x": [
          "whipped/sour cream"
         ],
         "xaxis": "x",
         "y": [
          662
         ],
         "yaxis": "y"
        },
        {
         "alignmentgroup": "True",
         "hovertemplate": "color=newspapers<br>x=%{x}<br>y=%{y}<extra></extra>",
         "legendgroup": "newspapers",
         "marker": {
          "color": "#FF6692",
          "pattern": {
           "shape": ""
          }
         },
         "name": "newspapers",
         "offsetgroup": "newspapers",
         "orientation": "v",
         "showlegend": true,
         "textposition": "auto",
         "type": "bar",
         "x": [
          "newspapers"
         ],
         "xaxis": "x",
         "y": [
          596
         ],
         "yaxis": "y"
        },
        {
         "alignmentgroup": "True",
         "hovertemplate": "color=frankfurter<br>x=%{x}<br>y=%{y}<extra></extra>",
         "legendgroup": "frankfurter",
         "marker": {
          "color": "#B6E880",
          "pattern": {
           "shape": ""
          }
         },
         "name": "frankfurter",
         "offsetgroup": "frankfurter",
         "orientation": "v",
         "showlegend": true,
         "textposition": "auto",
         "type": "bar",
         "x": [
          "frankfurter"
         ],
         "xaxis": "x",
         "y": [
          580
         ],
         "yaxis": "y"
        },
        {
         "alignmentgroup": "True",
         "hovertemplate": "color=brown bread<br>x=%{x}<br>y=%{y}<extra></extra>",
         "legendgroup": "brown bread",
         "marker": {
          "color": "#FF97FF",
          "pattern": {
           "shape": ""
          }
         },
         "name": "brown bread",
         "offsetgroup": "brown bread",
         "orientation": "v",
         "showlegend": true,
         "textposition": "auto",
         "type": "bar",
         "x": [
          "brown bread"
         ],
         "xaxis": "x",
         "y": [
          571
         ],
         "yaxis": "y"
        },
        {
         "alignmentgroup": "True",
         "hovertemplate": "color=pork<br>x=%{x}<br>y=%{y}<extra></extra>",
         "legendgroup": "pork",
         "marker": {
          "color": "#FECB52",
          "pattern": {
           "shape": ""
          }
         },
         "name": "pork",
         "offsetgroup": "pork",
         "orientation": "v",
         "showlegend": true,
         "textposition": "auto",
         "type": "bar",
         "x": [
          "pork"
         ],
         "xaxis": "x",
         "y": [
          566
         ],
         "yaxis": "y"
        },
        {
         "alignmentgroup": "True",
         "hovertemplate": "color=domestic eggs<br>x=%{x}<br>y=%{y}<extra></extra>",
         "legendgroup": "domestic eggs",
         "marker": {
          "color": "#636efa",
          "pattern": {
           "shape": ""
          }
         },
         "name": "domestic eggs",
         "offsetgroup": "domestic eggs",
         "orientation": "v",
         "showlegend": true,
         "textposition": "auto",
         "type": "bar",
         "x": [
          "domestic eggs"
         ],
         "xaxis": "x",
         "y": [
          566
         ],
         "yaxis": "y"
        },
        {
         "alignmentgroup": "True",
         "hovertemplate": "color=butter<br>x=%{x}<br>y=%{y}<extra></extra>",
         "legendgroup": "butter",
         "marker": {
          "color": "#EF553B",
          "pattern": {
           "shape": ""
          }
         },
         "name": "butter",
         "offsetgroup": "butter",
         "orientation": "v",
         "showlegend": true,
         "textposition": "auto",
         "type": "bar",
         "x": [
          "butter"
         ],
         "xaxis": "x",
         "y": [
          534
         ],
         "yaxis": "y"
        },
        {
         "alignmentgroup": "True",
         "hovertemplate": "color=fruit/vegetable juice<br>x=%{x}<br>y=%{y}<extra></extra>",
         "legendgroup": "fruit/vegetable juice",
         "marker": {
          "color": "#00cc96",
          "pattern": {
           "shape": ""
          }
         },
         "name": "fruit/vegetable juice",
         "offsetgroup": "fruit/vegetable juice",
         "orientation": "v",
         "showlegend": true,
         "textposition": "auto",
         "type": "bar",
         "x": [
          "fruit/vegetable juice"
         ],
         "xaxis": "x",
         "y": [
          518
         ],
         "yaxis": "y"
        },
        {
         "alignmentgroup": "True",
         "hovertemplate": "color=beef<br>x=%{x}<br>y=%{y}<extra></extra>",
         "legendgroup": "beef",
         "marker": {
          "color": "#ab63fa",
          "pattern": {
           "shape": ""
          }
         },
         "name": "beef",
         "offsetgroup": "beef",
         "orientation": "v",
         "showlegend": true,
         "textposition": "auto",
         "type": "bar",
         "x": [
          "beef"
         ],
         "xaxis": "x",
         "y": [
          516
         ],
         "yaxis": "y"
        },
        {
         "alignmentgroup": "True",
         "hovertemplate": "color=curd<br>x=%{x}<br>y=%{y}<extra></extra>",
         "legendgroup": "curd",
         "marker": {
          "color": "#FFA15A",
          "pattern": {
           "shape": ""
          }
         },
         "name": "curd",
         "offsetgroup": "curd",
         "orientation": "v",
         "showlegend": true,
         "textposition": "auto",
         "type": "bar",
         "x": [
          "curd"
         ],
         "xaxis": "x",
         "y": [
          514
         ],
         "yaxis": "y"
        },
        {
         "alignmentgroup": "True",
         "hovertemplate": "color=margarine<br>x=%{x}<br>y=%{y}<extra></extra>",
         "legendgroup": "margarine",
         "marker": {
          "color": "#19d3f3",
          "pattern": {
           "shape": ""
          }
         },
         "name": "margarine",
         "offsetgroup": "margarine",
         "orientation": "v",
         "showlegend": true,
         "textposition": "auto",
         "type": "bar",
         "x": [
          "margarine"
         ],
         "xaxis": "x",
         "y": [
          491
         ],
         "yaxis": "y"
        },
        {
         "alignmentgroup": "True",
         "hovertemplate": "color=coffee<br>x=%{x}<br>y=%{y}<extra></extra>",
         "legendgroup": "coffee",
         "marker": {
          "color": "#FF6692",
          "pattern": {
           "shape": ""
          }
         },
         "name": "coffee",
         "offsetgroup": "coffee",
         "orientation": "v",
         "showlegend": true,
         "textposition": "auto",
         "type": "bar",
         "x": [
          "coffee"
         ],
         "xaxis": "x",
         "y": [
          476
         ],
         "yaxis": "y"
        },
        {
         "alignmentgroup": "True",
         "hovertemplate": "color=frozen vegetables<br>x=%{x}<br>y=%{y}<extra></extra>",
         "legendgroup": "frozen vegetables",
         "marker": {
          "color": "#B6E880",
          "pattern": {
           "shape": ""
          }
         },
         "name": "frozen vegetables",
         "offsetgroup": "frozen vegetables",
         "orientation": "v",
         "showlegend": true,
         "textposition": "auto",
         "type": "bar",
         "x": [
          "frozen vegetables"
         ],
         "xaxis": "x",
         "y": [
          425
         ],
         "yaxis": "y"
        },
        {
         "alignmentgroup": "True",
         "hovertemplate": "color=chicken<br>x=%{x}<br>y=%{y}<extra></extra>",
         "legendgroup": "chicken",
         "marker": {
          "color": "#FF97FF",
          "pattern": {
           "shape": ""
          }
         },
         "name": "chicken",
         "offsetgroup": "chicken",
         "orientation": "v",
         "showlegend": true,
         "textposition": "auto",
         "type": "bar",
         "x": [
          "chicken"
         ],
         "xaxis": "x",
         "y": [
          422
         ],
         "yaxis": "y"
        },
        {
         "alignmentgroup": "True",
         "hovertemplate": "color=white bread<br>x=%{x}<br>y=%{y}<extra></extra>",
         "legendgroup": "white bread",
         "marker": {
          "color": "#FECB52",
          "pattern": {
           "shape": ""
          }
         },
         "name": "white bread",
         "offsetgroup": "white bread",
         "orientation": "v",
         "showlegend": true,
         "textposition": "auto",
         "type": "bar",
         "x": [
          "white bread"
         ],
         "xaxis": "x",
         "y": [
          362
         ],
         "yaxis": "y"
        },
        {
         "alignmentgroup": "True",
         "hovertemplate": "color=cream cheese <br>x=%{x}<br>y=%{y}<extra></extra>",
         "legendgroup": "cream cheese ",
         "marker": {
          "color": "#636efa",
          "pattern": {
           "shape": ""
          }
         },
         "name": "cream cheese ",
         "offsetgroup": "cream cheese ",
         "orientation": "v",
         "showlegend": true,
         "textposition": "auto",
         "type": "bar",
         "x": [
          "cream cheese "
         ],
         "xaxis": "x",
         "y": [
          358
         ],
         "yaxis": "y"
        },
        {
         "alignmentgroup": "True",
         "hovertemplate": "color=chocolate<br>x=%{x}<br>y=%{y}<extra></extra>",
         "legendgroup": "chocolate",
         "marker": {
          "color": "#EF553B",
          "pattern": {
           "shape": ""
          }
         },
         "name": "chocolate",
         "offsetgroup": "chocolate",
         "orientation": "v",
         "showlegend": true,
         "textposition": "auto",
         "type": "bar",
         "x": [
          "chocolate"
         ],
         "xaxis": "x",
         "y": [
          357
         ],
         "yaxis": "y"
        },
        {
         "alignmentgroup": "True",
         "hovertemplate": "color=dessert<br>x=%{x}<br>y=%{y}<extra></extra>",
         "legendgroup": "dessert",
         "marker": {
          "color": "#00cc96",
          "pattern": {
           "shape": ""
          }
         },
         "name": "dessert",
         "offsetgroup": "dessert",
         "orientation": "v",
         "showlegend": true,
         "textposition": "auto",
         "type": "bar",
         "x": [
          "dessert"
         ],
         "xaxis": "x",
         "y": [
          356
         ],
         "yaxis": "y"
        },
        {
         "alignmentgroup": "True",
         "hovertemplate": "color=napkins<br>x=%{x}<br>y=%{y}<extra></extra>",
         "legendgroup": "napkins",
         "marker": {
          "color": "#ab63fa",
          "pattern": {
           "shape": ""
          }
         },
         "name": "napkins",
         "offsetgroup": "napkins",
         "orientation": "v",
         "showlegend": true,
         "textposition": "auto",
         "type": "bar",
         "x": [
          "napkins"
         ],
         "xaxis": "x",
         "y": [
          335
         ],
         "yaxis": "y"
        },
        {
         "alignmentgroup": "True",
         "hovertemplate": "color=hamburger meat<br>x=%{x}<br>y=%{y}<extra></extra>",
         "legendgroup": "hamburger meat",
         "marker": {
          "color": "#FFA15A",
          "pattern": {
           "shape": ""
          }
         },
         "name": "hamburger meat",
         "offsetgroup": "hamburger meat",
         "orientation": "v",
         "showlegend": true,
         "textposition": "auto",
         "type": "bar",
         "x": [
          "hamburger meat"
         ],
         "xaxis": "x",
         "y": [
          327
         ],
         "yaxis": "y"
        },
        {
         "alignmentgroup": "True",
         "hovertemplate": "color=berries<br>x=%{x}<br>y=%{y}<extra></extra>",
         "legendgroup": "berries",
         "marker": {
          "color": "#19d3f3",
          "pattern": {
           "shape": ""
          }
         },
         "name": "berries",
         "offsetgroup": "berries",
         "orientation": "v",
         "showlegend": true,
         "textposition": "auto",
         "type": "bar",
         "x": [
          "berries"
         ],
         "xaxis": "x",
         "y": [
          327
         ],
         "yaxis": "y"
        },
        {
         "alignmentgroup": "True",
         "hovertemplate": "color=UHT-milk<br>x=%{x}<br>y=%{y}<extra></extra>",
         "legendgroup": "UHT-milk",
         "marker": {
          "color": "#FF6692",
          "pattern": {
           "shape": ""
          }
         },
         "name": "UHT-milk",
         "offsetgroup": "UHT-milk",
         "orientation": "v",
         "showlegend": true,
         "textposition": "auto",
         "type": "bar",
         "x": [
          "UHT-milk"
         ],
         "xaxis": "x",
         "y": [
          323
         ],
         "yaxis": "y"
        },
        {
         "alignmentgroup": "True",
         "hovertemplate": "color=onions<br>x=%{x}<br>y=%{y}<extra></extra>",
         "legendgroup": "onions",
         "marker": {
          "color": "#B6E880",
          "pattern": {
           "shape": ""
          }
         },
         "name": "onions",
         "offsetgroup": "onions",
         "orientation": "v",
         "showlegend": true,
         "textposition": "auto",
         "type": "bar",
         "x": [
          "onions"
         ],
         "xaxis": "x",
         "y": [
          305
         ],
         "yaxis": "y"
        },
        {
         "alignmentgroup": "True",
         "hovertemplate": "color=salty snack<br>x=%{x}<br>y=%{y}<extra></extra>",
         "legendgroup": "salty snack",
         "marker": {
          "color": "#FF97FF",
          "pattern": {
           "shape": ""
          }
         },
         "name": "salty snack",
         "offsetgroup": "salty snack",
         "orientation": "v",
         "showlegend": true,
         "textposition": "auto",
         "type": "bar",
         "x": [
          "salty snack"
         ],
         "xaxis": "x",
         "y": [
          283
         ],
         "yaxis": "y"
        },
        {
         "alignmentgroup": "True",
         "hovertemplate": "color=waffles<br>x=%{x}<br>y=%{y}<extra></extra>",
         "legendgroup": "waffles",
         "marker": {
          "color": "#FECB52",
          "pattern": {
           "shape": ""
          }
         },
         "name": "waffles",
         "offsetgroup": "waffles",
         "orientation": "v",
         "showlegend": true,
         "textposition": "auto",
         "type": "bar",
         "x": [
          "waffles"
         ],
         "xaxis": "x",
         "y": [
          280
         ],
         "yaxis": "y"
        },
        {
         "alignmentgroup": "True",
         "hovertemplate": "color=long life bakery product<br>x=%{x}<br>y=%{y}<extra></extra>",
         "legendgroup": "long life bakery product",
         "marker": {
          "color": "#636efa",
          "pattern": {
           "shape": ""
          }
         },
         "name": "long life bakery product",
         "offsetgroup": "long life bakery product",
         "orientation": "v",
         "showlegend": true,
         "textposition": "auto",
         "type": "bar",
         "x": [
          "long life bakery product"
         ],
         "xaxis": "x",
         "y": [
          269
         ],
         "yaxis": "y"
        },
        {
         "alignmentgroup": "True",
         "hovertemplate": "color=sugar<br>x=%{x}<br>y=%{y}<extra></extra>",
         "legendgroup": "sugar",
         "marker": {
          "color": "#EF553B",
          "pattern": {
           "shape": ""
          }
         },
         "name": "sugar",
         "offsetgroup": "sugar",
         "orientation": "v",
         "showlegend": true,
         "textposition": "auto",
         "type": "bar",
         "x": [
          "sugar"
         ],
         "xaxis": "x",
         "y": [
          265
         ],
         "yaxis": "y"
        },
        {
         "alignmentgroup": "True",
         "hovertemplate": "color=butter milk<br>x=%{x}<br>y=%{y}<extra></extra>",
         "legendgroup": "butter milk",
         "marker": {
          "color": "#00cc96",
          "pattern": {
           "shape": ""
          }
         },
         "name": "butter milk",
         "offsetgroup": "butter milk",
         "orientation": "v",
         "showlegend": true,
         "textposition": "auto",
         "type": "bar",
         "x": [
          "butter milk"
         ],
         "xaxis": "x",
         "y": [
          263
         ],
         "yaxis": "y"
        },
        {
         "alignmentgroup": "True",
         "hovertemplate": "color=ham<br>x=%{x}<br>y=%{y}<extra></extra>",
         "legendgroup": "ham",
         "marker": {
          "color": "#ab63fa",
          "pattern": {
           "shape": ""
          }
         },
         "name": "ham",
         "offsetgroup": "ham",
         "orientation": "v",
         "showlegend": true,
         "textposition": "auto",
         "type": "bar",
         "x": [
          "ham"
         ],
         "xaxis": "x",
         "y": [
          256
         ],
         "yaxis": "y"
        },
        {
         "alignmentgroup": "True",
         "hovertemplate": "color=meat<br>x=%{x}<br>y=%{y}<extra></extra>",
         "legendgroup": "meat",
         "marker": {
          "color": "#FFA15A",
          "pattern": {
           "shape": ""
          }
         },
         "name": "meat",
         "offsetgroup": "meat",
         "orientation": "v",
         "showlegend": true,
         "textposition": "auto",
         "type": "bar",
         "x": [
          "meat"
         ],
         "xaxis": "x",
         "y": [
          254
         ],
         "yaxis": "y"
        },
        {
         "alignmentgroup": "True",
         "hovertemplate": "color=frozen meals<br>x=%{x}<br>y=%{y}<extra></extra>",
         "legendgroup": "frozen meals",
         "marker": {
          "color": "#19d3f3",
          "pattern": {
           "shape": ""
          }
         },
         "name": "frozen meals",
         "offsetgroup": "frozen meals",
         "orientation": "v",
         "showlegend": true,
         "textposition": "auto",
         "type": "bar",
         "x": [
          "frozen meals"
         ],
         "xaxis": "x",
         "y": [
          252
         ],
         "yaxis": "y"
        },
        {
         "alignmentgroup": "True",
         "hovertemplate": "color=beverages<br>x=%{x}<br>y=%{y}<extra></extra>",
         "legendgroup": "beverages",
         "marker": {
          "color": "#FF6692",
          "pattern": {
           "shape": ""
          }
         },
         "name": "beverages",
         "offsetgroup": "beverages",
         "orientation": "v",
         "showlegend": true,
         "textposition": "auto",
         "type": "bar",
         "x": [
          "beverages"
         ],
         "xaxis": "x",
         "y": [
          251
         ],
         "yaxis": "y"
        },
        {
         "alignmentgroup": "True",
         "hovertemplate": "color=specialty chocolate<br>x=%{x}<br>y=%{y}<extra></extra>",
         "legendgroup": "specialty chocolate",
         "marker": {
          "color": "#B6E880",
          "pattern": {
           "shape": ""
          }
         },
         "name": "specialty chocolate",
         "offsetgroup": "specialty chocolate",
         "orientation": "v",
         "showlegend": true,
         "textposition": "auto",
         "type": "bar",
         "x": [
          "specialty chocolate"
         ],
         "xaxis": "x",
         "y": [
          240
         ],
         "yaxis": "y"
        },
        {
         "alignmentgroup": "True",
         "hovertemplate": "color=misc. beverages<br>x=%{x}<br>y=%{y}<extra></extra>",
         "legendgroup": "misc. beverages",
         "marker": {
          "color": "#FF97FF",
          "pattern": {
           "shape": ""
          }
         },
         "name": "misc. beverages",
         "offsetgroup": "misc. beverages",
         "orientation": "v",
         "showlegend": true,
         "textposition": "auto",
         "type": "bar",
         "x": [
          "misc. beverages"
         ],
         "xaxis": "x",
         "y": [
          238
         ],
         "yaxis": "y"
        },
        {
         "alignmentgroup": "True",
         "hovertemplate": "color=ice cream<br>x=%{x}<br>y=%{y}<extra></extra>",
         "legendgroup": "ice cream",
         "marker": {
          "color": "#FECB52",
          "pattern": {
           "shape": ""
          }
         },
         "name": "ice cream",
         "offsetgroup": "ice cream",
         "orientation": "v",
         "showlegend": true,
         "textposition": "auto",
         "type": "bar",
         "x": [
          "ice cream"
         ],
         "xaxis": "x",
         "y": [
          227
         ],
         "yaxis": "y"
        },
        {
         "alignmentgroup": "True",
         "hovertemplate": "color=oil<br>x=%{x}<br>y=%{y}<extra></extra>",
         "legendgroup": "oil",
         "marker": {
          "color": "#636efa",
          "pattern": {
           "shape": ""
          }
         },
         "name": "oil",
         "offsetgroup": "oil",
         "orientation": "v",
         "showlegend": true,
         "textposition": "auto",
         "type": "bar",
         "x": [
          "oil"
         ],
         "xaxis": "x",
         "y": [
          225
         ],
         "yaxis": "y"
        },
        {
         "alignmentgroup": "True",
         "hovertemplate": "color=hard cheese<br>x=%{x}<br>y=%{y}<extra></extra>",
         "legendgroup": "hard cheese",
         "marker": {
          "color": "#EF553B",
          "pattern": {
           "shape": ""
          }
         },
         "name": "hard cheese",
         "offsetgroup": "hard cheese",
         "orientation": "v",
         "showlegend": true,
         "textposition": "auto",
         "type": "bar",
         "x": [
          "hard cheese"
         ],
         "xaxis": "x",
         "y": [
          220
         ],
         "yaxis": "y"
        },
        {
         "alignmentgroup": "True",
         "hovertemplate": "color=grapes<br>x=%{x}<br>y=%{y}<extra></extra>",
         "legendgroup": "grapes",
         "marker": {
          "color": "#00cc96",
          "pattern": {
           "shape": ""
          }
         },
         "name": "grapes",
         "offsetgroup": "grapes",
         "orientation": "v",
         "showlegend": true,
         "textposition": "auto",
         "type": "bar",
         "x": [
          "grapes"
         ],
         "xaxis": "x",
         "y": [
          220
         ],
         "yaxis": "y"
        },
        {
         "alignmentgroup": "True",
         "hovertemplate": "color=candy<br>x=%{x}<br>y=%{y}<extra></extra>",
         "legendgroup": "candy",
         "marker": {
          "color": "#ab63fa",
          "pattern": {
           "shape": ""
          }
         },
         "name": "candy",
         "offsetgroup": "candy",
         "orientation": "v",
         "showlegend": true,
         "textposition": "auto",
         "type": "bar",
         "x": [
          "candy"
         ],
         "xaxis": "x",
         "y": [
          219
         ],
         "yaxis": "y"
        },
        {
         "alignmentgroup": "True",
         "hovertemplate": "color=sliced cheese<br>x=%{x}<br>y=%{y}<extra></extra>",
         "legendgroup": "sliced cheese",
         "marker": {
          "color": "#FFA15A",
          "pattern": {
           "shape": ""
          }
         },
         "name": "sliced cheese",
         "offsetgroup": "sliced cheese",
         "orientation": "v",
         "showlegend": true,
         "textposition": "auto",
         "type": "bar",
         "x": [
          "sliced cheese"
         ],
         "xaxis": "x",
         "y": [
          212
         ],
         "yaxis": "y"
        },
        {
         "alignmentgroup": "True",
         "hovertemplate": "color=specialty bar<br>x=%{x}<br>y=%{y}<extra></extra>",
         "legendgroup": "specialty bar",
         "marker": {
          "color": "#19d3f3",
          "pattern": {
           "shape": ""
          }
         },
         "name": "specialty bar",
         "offsetgroup": "specialty bar",
         "orientation": "v",
         "showlegend": true,
         "textposition": "auto",
         "type": "bar",
         "x": [
          "specialty bar"
         ],
         "xaxis": "x",
         "y": [
          210
         ],
         "yaxis": "y"
        },
        {
         "alignmentgroup": "True",
         "hovertemplate": "color=hygiene articles<br>x=%{x}<br>y=%{y}<extra></extra>",
         "legendgroup": "hygiene articles",
         "marker": {
          "color": "#FF6692",
          "pattern": {
           "shape": ""
          }
         },
         "name": "hygiene articles",
         "offsetgroup": "hygiene articles",
         "orientation": "v",
         "showlegend": true,
         "textposition": "auto",
         "type": "bar",
         "x": [
          "hygiene articles"
         ],
         "xaxis": "x",
         "y": [
          208
         ],
         "yaxis": "y"
        },
        {
         "alignmentgroup": "True",
         "hovertemplate": "color=chewing gum<br>x=%{x}<br>y=%{y}<extra></extra>",
         "legendgroup": "chewing gum",
         "marker": {
          "color": "#B6E880",
          "pattern": {
           "shape": ""
          }
         },
         "name": "chewing gum",
         "offsetgroup": "chewing gum",
         "orientation": "v",
         "showlegend": true,
         "textposition": "auto",
         "type": "bar",
         "x": [
          "chewing gum"
         ],
         "xaxis": "x",
         "y": [
          181
         ],
         "yaxis": "y"
        },
        {
         "alignmentgroup": "True",
         "hovertemplate": "color=cat food<br>x=%{x}<br>y=%{y}<extra></extra>",
         "legendgroup": "cat food",
         "marker": {
          "color": "#FF97FF",
          "pattern": {
           "shape": ""
          }
         },
         "name": "cat food",
         "offsetgroup": "cat food",
         "orientation": "v",
         "showlegend": true,
         "textposition": "auto",
         "type": "bar",
         "x": [
          "cat food"
         ],
         "xaxis": "x",
         "y": [
          177
         ],
         "yaxis": "y"
        },
        {
         "alignmentgroup": "True",
         "hovertemplate": "color=white wine<br>x=%{x}<br>y=%{y}<extra></extra>",
         "legendgroup": "white wine",
         "marker": {
          "color": "#FECB52",
          "pattern": {
           "shape": ""
          }
         },
         "name": "white wine",
         "offsetgroup": "white wine",
         "orientation": "v",
         "showlegend": true,
         "textposition": "auto",
         "type": "bar",
         "x": [
          "white wine"
         ],
         "xaxis": "x",
         "y": [
          176
         ],
         "yaxis": "y"
        },
        {
         "alignmentgroup": "True",
         "hovertemplate": "color=herbs<br>x=%{x}<br>y=%{y}<extra></extra>",
         "legendgroup": "herbs",
         "marker": {
          "color": "#636efa",
          "pattern": {
           "shape": ""
          }
         },
         "name": "herbs",
         "offsetgroup": "herbs",
         "orientation": "v",
         "showlegend": true,
         "textposition": "auto",
         "type": "bar",
         "x": [
          "herbs"
         ],
         "xaxis": "x",
         "y": [
          159
         ],
         "yaxis": "y"
        },
        {
         "alignmentgroup": "True",
         "hovertemplate": "color=red/blush wine<br>x=%{x}<br>y=%{y}<extra></extra>",
         "legendgroup": "red/blush wine",
         "marker": {
          "color": "#EF553B",
          "pattern": {
           "shape": ""
          }
         },
         "name": "red/blush wine",
         "offsetgroup": "red/blush wine",
         "orientation": "v",
         "showlegend": true,
         "textposition": "auto",
         "type": "bar",
         "x": [
          "red/blush wine"
         ],
         "xaxis": "x",
         "y": [
          157
         ],
         "yaxis": "y"
        },
        {
         "alignmentgroup": "True",
         "hovertemplate": "color=soft cheese<br>x=%{x}<br>y=%{y}<extra></extra>",
         "legendgroup": "soft cheese",
         "marker": {
          "color": "#00cc96",
          "pattern": {
           "shape": ""
          }
         },
         "name": "soft cheese",
         "offsetgroup": "soft cheese",
         "orientation": "v",
         "showlegend": true,
         "textposition": "auto",
         "type": "bar",
         "x": [
          "soft cheese"
         ],
         "xaxis": "x",
         "y": [
          152
         ],
         "yaxis": "y"
        },
        {
         "alignmentgroup": "True",
         "hovertemplate": "color=processed cheese<br>x=%{x}<br>y=%{y}<extra></extra>",
         "legendgroup": "processed cheese",
         "marker": {
          "color": "#ab63fa",
          "pattern": {
           "shape": ""
          }
         },
         "name": "processed cheese",
         "offsetgroup": "processed cheese",
         "orientation": "v",
         "showlegend": true,
         "textposition": "auto",
         "type": "bar",
         "x": [
          "processed cheese"
         ],
         "xaxis": "x",
         "y": [
          152
         ],
         "yaxis": "y"
        },
        {
         "alignmentgroup": "True",
         "hovertemplate": "color=flour<br>x=%{x}<br>y=%{y}<extra></extra>",
         "legendgroup": "flour",
         "marker": {
          "color": "#FFA15A",
          "pattern": {
           "shape": ""
          }
         },
         "name": "flour",
         "offsetgroup": "flour",
         "orientation": "v",
         "showlegend": true,
         "textposition": "auto",
         "type": "bar",
         "x": [
          "flour"
         ],
         "xaxis": "x",
         "y": [
          146
         ],
         "yaxis": "y"
        },
        {
         "alignmentgroup": "True",
         "hovertemplate": "color=semi-finished bread<br>x=%{x}<br>y=%{y}<extra></extra>",
         "legendgroup": "semi-finished bread",
         "marker": {
          "color": "#19d3f3",
          "pattern": {
           "shape": ""
          }
         },
         "name": "semi-finished bread",
         "offsetgroup": "semi-finished bread",
         "orientation": "v",
         "showlegend": true,
         "textposition": "auto",
         "type": "bar",
         "x": [
          "semi-finished bread"
         ],
         "xaxis": "x",
         "y": [
          142
         ],
         "yaxis": "y"
        },
        {
         "alignmentgroup": "True",
         "hovertemplate": "color=dishes<br>x=%{x}<br>y=%{y}<extra></extra>",
         "legendgroup": "dishes",
         "marker": {
          "color": "#FF6692",
          "pattern": {
           "shape": ""
          }
         },
         "name": "dishes",
         "offsetgroup": "dishes",
         "orientation": "v",
         "showlegend": true,
         "textposition": "auto",
         "type": "bar",
         "x": [
          "dishes"
         ],
         "xaxis": "x",
         "y": [
          135
         ],
         "yaxis": "y"
        },
        {
         "alignmentgroup": "True",
         "hovertemplate": "color=pickled vegetables<br>x=%{x}<br>y=%{y}<extra></extra>",
         "legendgroup": "pickled vegetables",
         "marker": {
          "color": "#B6E880",
          "pattern": {
           "shape": ""
          }
         },
         "name": "pickled vegetables",
         "offsetgroup": "pickled vegetables",
         "orientation": "v",
         "showlegend": true,
         "textposition": "auto",
         "type": "bar",
         "x": [
          "pickled vegetables"
         ],
         "xaxis": "x",
         "y": [
          134
         ],
         "yaxis": "y"
        },
        {
         "alignmentgroup": "True",
         "hovertemplate": "color=detergent<br>x=%{x}<br>y=%{y}<extra></extra>",
         "legendgroup": "detergent",
         "marker": {
          "color": "#FF97FF",
          "pattern": {
           "shape": ""
          }
         },
         "name": "detergent",
         "offsetgroup": "detergent",
         "orientation": "v",
         "showlegend": true,
         "textposition": "auto",
         "type": "bar",
         "x": [
          "detergent"
         ],
         "xaxis": "x",
         "y": [
          130
         ],
         "yaxis": "y"
        },
        {
         "alignmentgroup": "True",
         "hovertemplate": "color=packaged fruit/vegetables<br>x=%{x}<br>y=%{y}<extra></extra>",
         "legendgroup": "packaged fruit/vegetables",
         "marker": {
          "color": "#FECB52",
          "pattern": {
           "shape": ""
          }
         },
         "name": "packaged fruit/vegetables",
         "offsetgroup": "packaged fruit/vegetables",
         "orientation": "v",
         "showlegend": true,
         "textposition": "auto",
         "type": "bar",
         "x": [
          "packaged fruit/vegetables"
         ],
         "xaxis": "x",
         "y": [
          128
         ],
         "yaxis": "y"
        },
        {
         "alignmentgroup": "True",
         "hovertemplate": "color=baking powder<br>x=%{x}<br>y=%{y}<extra></extra>",
         "legendgroup": "baking powder",
         "marker": {
          "color": "#636efa",
          "pattern": {
           "shape": ""
          }
         },
         "name": "baking powder",
         "offsetgroup": "baking powder",
         "orientation": "v",
         "showlegend": true,
         "textposition": "auto",
         "type": "bar",
         "x": [
          "baking powder"
         ],
         "xaxis": "x",
         "y": [
          122
         ],
         "yaxis": "y"
        },
        {
         "alignmentgroup": "True",
         "hovertemplate": "color=pasta<br>x=%{x}<br>y=%{y}<extra></extra>",
         "legendgroup": "pasta",
         "marker": {
          "color": "#EF553B",
          "pattern": {
           "shape": ""
          }
         },
         "name": "pasta",
         "offsetgroup": "pasta",
         "orientation": "v",
         "showlegend": true,
         "textposition": "auto",
         "type": "bar",
         "x": [
          "pasta"
         ],
         "xaxis": "x",
         "y": [
          121
         ],
         "yaxis": "y"
        },
        {
         "alignmentgroup": "True",
         "hovertemplate": "color=pot plants<br>x=%{x}<br>y=%{y}<extra></extra>",
         "legendgroup": "pot plants",
         "marker": {
          "color": "#00cc96",
          "pattern": {
           "shape": ""
          }
         },
         "name": "pot plants",
         "offsetgroup": "pot plants",
         "orientation": "v",
         "showlegend": true,
         "textposition": "auto",
         "type": "bar",
         "x": [
          "pot plants"
         ],
         "xaxis": "x",
         "y": [
          118
         ],
         "yaxis": "y"
        },
        {
         "alignmentgroup": "True",
         "hovertemplate": "color=canned fish<br>x=%{x}<br>y=%{y}<extra></extra>",
         "legendgroup": "canned fish",
         "marker": {
          "color": "#ab63fa",
          "pattern": {
           "shape": ""
          }
         },
         "name": "canned fish",
         "offsetgroup": "canned fish",
         "orientation": "v",
         "showlegend": true,
         "textposition": "auto",
         "type": "bar",
         "x": [
          "canned fish"
         ],
         "xaxis": "x",
         "y": [
          116
         ],
         "yaxis": "y"
        },
        {
         "alignmentgroup": "True",
         "hovertemplate": "color=seasonal products<br>x=%{x}<br>y=%{y}<extra></extra>",
         "legendgroup": "seasonal products",
         "marker": {
          "color": "#FFA15A",
          "pattern": {
           "shape": ""
          }
         },
         "name": "seasonal products",
         "offsetgroup": "seasonal products",
         "orientation": "v",
         "showlegend": true,
         "textposition": "auto",
         "type": "bar",
         "x": [
          "seasonal products"
         ],
         "xaxis": "x",
         "y": [
          106
         ],
         "yaxis": "y"
        },
        {
         "alignmentgroup": "True",
         "hovertemplate": "color=liquor<br>x=%{x}<br>y=%{y}<extra></extra>",
         "legendgroup": "liquor",
         "marker": {
          "color": "#19d3f3",
          "pattern": {
           "shape": ""
          }
         },
         "name": "liquor",
         "offsetgroup": "liquor",
         "orientation": "v",
         "showlegend": true,
         "textposition": "auto",
         "type": "bar",
         "x": [
          "liquor"
         ],
         "xaxis": "x",
         "y": [
          103
         ],
         "yaxis": "y"
        },
        {
         "alignmentgroup": "True",
         "hovertemplate": "color=frozen fish<br>x=%{x}<br>y=%{y}<extra></extra>",
         "legendgroup": "frozen fish",
         "marker": {
          "color": "#FF6692",
          "pattern": {
           "shape": ""
          }
         },
         "name": "frozen fish",
         "offsetgroup": "frozen fish",
         "orientation": "v",
         "showlegend": true,
         "textposition": "auto",
         "type": "bar",
         "x": [
          "frozen fish"
         ],
         "xaxis": "x",
         "y": [
          102
         ],
         "yaxis": "y"
        },
        {
         "alignmentgroup": "True",
         "hovertemplate": "color=spread cheese<br>x=%{x}<br>y=%{y}<extra></extra>",
         "legendgroup": "spread cheese",
         "marker": {
          "color": "#B6E880",
          "pattern": {
           "shape": ""
          }
         },
         "name": "spread cheese",
         "offsetgroup": "spread cheese",
         "orientation": "v",
         "showlegend": true,
         "textposition": "auto",
         "type": "bar",
         "x": [
          "spread cheese"
         ],
         "xaxis": "x",
         "y": [
          100
         ],
         "yaxis": "y"
        },
        {
         "alignmentgroup": "True",
         "hovertemplate": "color=condensed milk<br>x=%{x}<br>y=%{y}<extra></extra>",
         "legendgroup": "condensed milk",
         "marker": {
          "color": "#FF97FF",
          "pattern": {
           "shape": ""
          }
         },
         "name": "condensed milk",
         "offsetgroup": "condensed milk",
         "orientation": "v",
         "showlegend": true,
         "textposition": "auto",
         "type": "bar",
         "x": [
          "condensed milk"
         ],
         "xaxis": "x",
         "y": [
          98
         ],
         "yaxis": "y"
        },
        {
         "alignmentgroup": "True",
         "hovertemplate": "color=cake bar<br>x=%{x}<br>y=%{y}<extra></extra>",
         "legendgroup": "cake bar",
         "marker": {
          "color": "#FECB52",
          "pattern": {
           "shape": ""
          }
         },
         "name": "cake bar",
         "offsetgroup": "cake bar",
         "orientation": "v",
         "showlegend": true,
         "textposition": "auto",
         "type": "bar",
         "x": [
          "cake bar"
         ],
         "xaxis": "x",
         "y": [
          93
         ],
         "yaxis": "y"
        },
        {
         "alignmentgroup": "True",
         "hovertemplate": "color=mustard<br>x=%{x}<br>y=%{y}<extra></extra>",
         "legendgroup": "mustard",
         "marker": {
          "color": "#636efa",
          "pattern": {
           "shape": ""
          }
         },
         "name": "mustard",
         "offsetgroup": "mustard",
         "orientation": "v",
         "showlegend": true,
         "textposition": "auto",
         "type": "bar",
         "x": [
          "mustard"
         ],
         "xaxis": "x",
         "y": [
          92
         ],
         "yaxis": "y"
        },
        {
         "alignmentgroup": "True",
         "hovertemplate": "color=frozen dessert<br>x=%{x}<br>y=%{y}<extra></extra>",
         "legendgroup": "frozen dessert",
         "marker": {
          "color": "#EF553B",
          "pattern": {
           "shape": ""
          }
         },
         "name": "frozen dessert",
         "offsetgroup": "frozen dessert",
         "orientation": "v",
         "showlegend": true,
         "textposition": "auto",
         "type": "bar",
         "x": [
          "frozen dessert"
         ],
         "xaxis": "x",
         "y": [
          92
         ],
         "yaxis": "y"
        },
        {
         "alignmentgroup": "True",
         "hovertemplate": "color=salt<br>x=%{x}<br>y=%{y}<extra></extra>",
         "legendgroup": "salt",
         "marker": {
          "color": "#00cc96",
          "pattern": {
           "shape": ""
          }
         },
         "name": "salt",
         "offsetgroup": "salt",
         "orientation": "v",
         "showlegend": true,
         "textposition": "auto",
         "type": "bar",
         "x": [
          "salt"
         ],
         "xaxis": "x",
         "y": [
          89
         ],
         "yaxis": "y"
        },
        {
         "alignmentgroup": "True",
         "hovertemplate": "color=pet care<br>x=%{x}<br>y=%{y}<extra></extra>",
         "legendgroup": "pet care",
         "marker": {
          "color": "#ab63fa",
          "pattern": {
           "shape": ""
          }
         },
         "name": "pet care",
         "offsetgroup": "pet care",
         "orientation": "v",
         "showlegend": true,
         "textposition": "auto",
         "type": "bar",
         "x": [
          "pet care"
         ],
         "xaxis": "x",
         "y": [
          85
         ],
         "yaxis": "y"
        },
        {
         "alignmentgroup": "True",
         "hovertemplate": "color=canned vegetables<br>x=%{x}<br>y=%{y}<extra></extra>",
         "legendgroup": "canned vegetables",
         "marker": {
          "color": "#FFA15A",
          "pattern": {
           "shape": ""
          }
         },
         "name": "canned vegetables",
         "offsetgroup": "canned vegetables",
         "orientation": "v",
         "showlegend": true,
         "textposition": "auto",
         "type": "bar",
         "x": [
          "canned vegetables"
         ],
         "xaxis": "x",
         "y": [
          82
         ],
         "yaxis": "y"
        },
        {
         "alignmentgroup": "True",
         "hovertemplate": "color=roll products <br>x=%{x}<br>y=%{y}<extra></extra>",
         "legendgroup": "roll products ",
         "marker": {
          "color": "#19d3f3",
          "pattern": {
           "shape": ""
          }
         },
         "name": "roll products ",
         "offsetgroup": "roll products ",
         "orientation": "v",
         "showlegend": true,
         "textposition": "auto",
         "type": "bar",
         "x": [
          "roll products "
         ],
         "xaxis": "x",
         "y": [
          82
         ],
         "yaxis": "y"
        },
        {
         "alignmentgroup": "True",
         "hovertemplate": "color=turkey<br>x=%{x}<br>y=%{y}<extra></extra>",
         "legendgroup": "turkey",
         "marker": {
          "color": "#FF6692",
          "pattern": {
           "shape": ""
          }
         },
         "name": "turkey",
         "offsetgroup": "turkey",
         "orientation": "v",
         "showlegend": true,
         "textposition": "auto",
         "type": "bar",
         "x": [
          "turkey"
         ],
         "xaxis": "x",
         "y": [
          80
         ],
         "yaxis": "y"
        },
        {
         "alignmentgroup": "True",
         "hovertemplate": "color=photo/film<br>x=%{x}<br>y=%{y}<extra></extra>",
         "legendgroup": "photo/film",
         "marker": {
          "color": "#B6E880",
          "pattern": {
           "shape": ""
          }
         },
         "name": "photo/film",
         "offsetgroup": "photo/film",
         "orientation": "v",
         "showlegend": true,
         "textposition": "auto",
         "type": "bar",
         "x": [
          "photo/film"
         ],
         "xaxis": "x",
         "y": [
          79
         ],
         "yaxis": "y"
        },
        {
         "alignmentgroup": "True",
         "hovertemplate": "color=mayonnaise<br>x=%{x}<br>y=%{y}<extra></extra>",
         "legendgroup": "mayonnaise",
         "marker": {
          "color": "#FF97FF",
          "pattern": {
           "shape": ""
          }
         },
         "name": "mayonnaise",
         "offsetgroup": "mayonnaise",
         "orientation": "v",
         "showlegend": true,
         "textposition": "auto",
         "type": "bar",
         "x": [
          "mayonnaise"
         ],
         "xaxis": "x",
         "y": [
          75
         ],
         "yaxis": "y"
        },
        {
         "alignmentgroup": "True",
         "hovertemplate": "color=cling film/bags<br>x=%{x}<br>y=%{y}<extra></extra>",
         "legendgroup": "cling film/bags",
         "marker": {
          "color": "#FECB52",
          "pattern": {
           "shape": ""
          }
         },
         "name": "cling film/bags",
         "offsetgroup": "cling film/bags",
         "orientation": "v",
         "showlegend": true,
         "textposition": "auto",
         "type": "bar",
         "x": [
          "cling film/bags"
         ],
         "xaxis": "x",
         "y": [
          74
         ],
         "yaxis": "y"
        },
        {
         "alignmentgroup": "True",
         "hovertemplate": "color=dish cleaner<br>x=%{x}<br>y=%{y}<extra></extra>",
         "legendgroup": "dish cleaner",
         "marker": {
          "color": "#636efa",
          "pattern": {
           "shape": ""
          }
         },
         "name": "dish cleaner",
         "offsetgroup": "dish cleaner",
         "orientation": "v",
         "showlegend": true,
         "textposition": "auto",
         "type": "bar",
         "x": [
          "dish cleaner"
         ],
         "xaxis": "x",
         "y": [
          73
         ],
         "yaxis": "y"
        },
        {
         "alignmentgroup": "True",
         "hovertemplate": "color=frozen potato products<br>x=%{x}<br>y=%{y}<extra></extra>",
         "legendgroup": "frozen potato products",
         "marker": {
          "color": "#EF553B",
          "pattern": {
           "shape": ""
          }
         },
         "name": "frozen potato products",
         "offsetgroup": "frozen potato products",
         "orientation": "v",
         "showlegend": true,
         "textposition": "auto",
         "type": "bar",
         "x": [
          "frozen potato products"
         ],
         "xaxis": "x",
         "y": [
          72
         ],
         "yaxis": "y"
        },
        {
         "alignmentgroup": "True",
         "hovertemplate": "color=specialty cheese<br>x=%{x}<br>y=%{y}<extra></extra>",
         "legendgroup": "specialty cheese",
         "marker": {
          "color": "#00cc96",
          "pattern": {
           "shape": ""
          }
         },
         "name": "specialty cheese",
         "offsetgroup": "specialty cheese",
         "orientation": "v",
         "showlegend": true,
         "textposition": "auto",
         "type": "bar",
         "x": [
          "specialty cheese"
         ],
         "xaxis": "x",
         "y": [
          72
         ],
         "yaxis": "y"
        },
        {
         "alignmentgroup": "True",
         "hovertemplate": "color=flower (seeds)<br>x=%{x}<br>y=%{y}<extra></extra>",
         "legendgroup": "flower (seeds)",
         "marker": {
          "color": "#ab63fa",
          "pattern": {
           "shape": ""
          }
         },
         "name": "flower (seeds)",
         "offsetgroup": "flower (seeds)",
         "orientation": "v",
         "showlegend": true,
         "textposition": "auto",
         "type": "bar",
         "x": [
          "flower (seeds)"
         ],
         "xaxis": "x",
         "y": [
          70
         ],
         "yaxis": "y"
        },
        {
         "alignmentgroup": "True",
         "hovertemplate": "color=sweet spreads<br>x=%{x}<br>y=%{y}<extra></extra>",
         "legendgroup": "sweet spreads",
         "marker": {
          "color": "#FFA15A",
          "pattern": {
           "shape": ""
          }
         },
         "name": "sweet spreads",
         "offsetgroup": "sweet spreads",
         "orientation": "v",
         "showlegend": true,
         "textposition": "auto",
         "type": "bar",
         "x": [
          "sweet spreads"
         ],
         "xaxis": "x",
         "y": [
          69
         ],
         "yaxis": "y"
        },
        {
         "alignmentgroup": "True",
         "hovertemplate": "color=liquor (appetizer)<br>x=%{x}<br>y=%{y}<extra></extra>",
         "legendgroup": "liquor (appetizer)",
         "marker": {
          "color": "#19d3f3",
          "pattern": {
           "shape": ""
          }
         },
         "name": "liquor (appetizer)",
         "offsetgroup": "liquor (appetizer)",
         "orientation": "v",
         "showlegend": true,
         "textposition": "auto",
         "type": "bar",
         "x": [
          "liquor (appetizer)"
         ],
         "xaxis": "x",
         "y": [
          67
         ],
         "yaxis": "y"
        },
        {
         "alignmentgroup": "True",
         "hovertemplate": "color=dog food<br>x=%{x}<br>y=%{y}<extra></extra>",
         "legendgroup": "dog food",
         "marker": {
          "color": "#FF6692",
          "pattern": {
           "shape": ""
          }
         },
         "name": "dog food",
         "offsetgroup": "dog food",
         "orientation": "v",
         "showlegend": true,
         "textposition": "auto",
         "type": "bar",
         "x": [
          "dog food"
         ],
         "xaxis": "x",
         "y": [
          67
         ],
         "yaxis": "y"
        },
        {
         "alignmentgroup": "True",
         "hovertemplate": "color=candles<br>x=%{x}<br>y=%{y}<extra></extra>",
         "legendgroup": "candles",
         "marker": {
          "color": "#B6E880",
          "pattern": {
           "shape": ""
          }
         },
         "name": "candles",
         "offsetgroup": "candles",
         "orientation": "v",
         "showlegend": true,
         "textposition": "auto",
         "type": "bar",
         "x": [
          "candles"
         ],
         "xaxis": "x",
         "y": [
          66
         ],
         "yaxis": "y"
        },
        {
         "alignmentgroup": "True",
         "hovertemplate": "color=finished products<br>x=%{x}<br>y=%{y}<extra></extra>",
         "legendgroup": "finished products",
         "marker": {
          "color": "#FF97FF",
          "pattern": {
           "shape": ""
          }
         },
         "name": "finished products",
         "offsetgroup": "finished products",
         "orientation": "v",
         "showlegend": true,
         "textposition": "auto",
         "type": "bar",
         "x": [
          "finished products"
         ],
         "xaxis": "x",
         "y": [
          64
         ],
         "yaxis": "y"
        },
        {
         "alignmentgroup": "True",
         "hovertemplate": "color=instant coffee<br>x=%{x}<br>y=%{y}<extra></extra>",
         "legendgroup": "instant coffee",
         "marker": {
          "color": "#FECB52",
          "pattern": {
           "shape": ""
          }
         },
         "name": "instant coffee",
         "offsetgroup": "instant coffee",
         "orientation": "v",
         "showlegend": true,
         "textposition": "auto",
         "type": "bar",
         "x": [
          "instant coffee"
         ],
         "xaxis": "x",
         "y": [
          61
         ],
         "yaxis": "y"
        },
        {
         "alignmentgroup": "True",
         "hovertemplate": "color=chocolate marshmallow<br>x=%{x}<br>y=%{y}<extra></extra>",
         "legendgroup": "chocolate marshmallow",
         "marker": {
          "color": "#636efa",
          "pattern": {
           "shape": ""
          }
         },
         "name": "chocolate marshmallow",
         "offsetgroup": "chocolate marshmallow",
         "orientation": "v",
         "showlegend": true,
         "textposition": "auto",
         "type": "bar",
         "x": [
          "chocolate marshmallow"
         ],
         "xaxis": "x",
         "y": [
          60
         ],
         "yaxis": "y"
        },
        {
         "alignmentgroup": "True",
         "hovertemplate": "color=Instant food products<br>x=%{x}<br>y=%{y}<extra></extra>",
         "legendgroup": "Instant food products",
         "marker": {
          "color": "#EF553B",
          "pattern": {
           "shape": ""
          }
         },
         "name": "Instant food products",
         "offsetgroup": "Instant food products",
         "orientation": "v",
         "showlegend": true,
         "textposition": "auto",
         "type": "bar",
         "x": [
          "Instant food products"
         ],
         "xaxis": "x",
         "y": [
          60
         ],
         "yaxis": "y"
        },
        {
         "alignmentgroup": "True",
         "hovertemplate": "color=zwieback<br>x=%{x}<br>y=%{y}<extra></extra>",
         "legendgroup": "zwieback",
         "marker": {
          "color": "#00cc96",
          "pattern": {
           "shape": ""
          }
         },
         "name": "zwieback",
         "offsetgroup": "zwieback",
         "orientation": "v",
         "showlegend": true,
         "textposition": "auto",
         "type": "bar",
         "x": [
          "zwieback"
         ],
         "xaxis": "x",
         "y": [
          60
         ],
         "yaxis": "y"
        },
        {
         "alignmentgroup": "True",
         "hovertemplate": "color=vinegar<br>x=%{x}<br>y=%{y}<extra></extra>",
         "legendgroup": "vinegar",
         "marker": {
          "color": "#ab63fa",
          "pattern": {
           "shape": ""
          }
         },
         "name": "vinegar",
         "offsetgroup": "vinegar",
         "orientation": "v",
         "showlegend": true,
         "textposition": "auto",
         "type": "bar",
         "x": [
          "vinegar"
         ],
         "xaxis": "x",
         "y": [
          51
         ],
         "yaxis": "y"
        },
        {
         "alignmentgroup": "True",
         "hovertemplate": "color=liver loaf<br>x=%{x}<br>y=%{y}<extra></extra>",
         "legendgroup": "liver loaf",
         "marker": {
          "color": "#FFA15A",
          "pattern": {
           "shape": ""
          }
         },
         "name": "liver loaf",
         "offsetgroup": "liver loaf",
         "orientation": "v",
         "showlegend": true,
         "textposition": "auto",
         "type": "bar",
         "x": [
          "liver loaf"
         ],
         "xaxis": "x",
         "y": [
          50
         ],
         "yaxis": "y"
        },
        {
         "alignmentgroup": "True",
         "hovertemplate": "color=rice<br>x=%{x}<br>y=%{y}<extra></extra>",
         "legendgroup": "rice",
         "marker": {
          "color": "#19d3f3",
          "pattern": {
           "shape": ""
          }
         },
         "name": "rice",
         "offsetgroup": "rice",
         "orientation": "v",
         "showlegend": true,
         "textposition": "auto",
         "type": "bar",
         "x": [
          "rice"
         ],
         "xaxis": "x",
         "y": [
          49
         ],
         "yaxis": "y"
        },
        {
         "alignmentgroup": "True",
         "hovertemplate": "color=soups<br>x=%{x}<br>y=%{y}<extra></extra>",
         "legendgroup": "soups",
         "marker": {
          "color": "#FF6692",
          "pattern": {
           "shape": ""
          }
         },
         "name": "soups",
         "offsetgroup": "soups",
         "orientation": "v",
         "showlegend": true,
         "textposition": "auto",
         "type": "bar",
         "x": [
          "soups"
         ],
         "xaxis": "x",
         "y": [
          48
         ],
         "yaxis": "y"
        },
        {
         "alignmentgroup": "True",
         "hovertemplate": "color=popcorn<br>x=%{x}<br>y=%{y}<extra></extra>",
         "legendgroup": "popcorn",
         "marker": {
          "color": "#B6E880",
          "pattern": {
           "shape": ""
          }
         },
         "name": "popcorn",
         "offsetgroup": "popcorn",
         "orientation": "v",
         "showlegend": true,
         "textposition": "auto",
         "type": "bar",
         "x": [
          "popcorn"
         ],
         "xaxis": "x",
         "y": [
          48
         ],
         "yaxis": "y"
        },
        {
         "alignmentgroup": "True",
         "hovertemplate": "color=sparkling wine<br>x=%{x}<br>y=%{y}<extra></extra>",
         "legendgroup": "sparkling wine",
         "marker": {
          "color": "#FF97FF",
          "pattern": {
           "shape": ""
          }
         },
         "name": "sparkling wine",
         "offsetgroup": "sparkling wine",
         "orientation": "v",
         "showlegend": true,
         "textposition": "auto",
         "type": "bar",
         "x": [
          "sparkling wine"
         ],
         "xaxis": "x",
         "y": [
          46
         ],
         "yaxis": "y"
        },
        {
         "alignmentgroup": "True",
         "hovertemplate": "color=curd cheese<br>x=%{x}<br>y=%{y}<extra></extra>",
         "legendgroup": "curd cheese",
         "marker": {
          "color": "#FECB52",
          "pattern": {
           "shape": ""
          }
         },
         "name": "curd cheese",
         "offsetgroup": "curd cheese",
         "orientation": "v",
         "showlegend": true,
         "textposition": "auto",
         "type": "bar",
         "x": [
          "curd cheese"
         ],
         "xaxis": "x",
         "y": [
          46
         ],
         "yaxis": "y"
        },
        {
         "alignmentgroup": "True",
         "hovertemplate": "color=house keeping products<br>x=%{x}<br>y=%{y}<extra></extra>",
         "legendgroup": "house keeping products",
         "marker": {
          "color": "#636efa",
          "pattern": {
           "shape": ""
          }
         },
         "name": "house keeping products",
         "offsetgroup": "house keeping products",
         "orientation": "v",
         "showlegend": true,
         "textposition": "auto",
         "type": "bar",
         "x": [
          "house keeping products"
         ],
         "xaxis": "x",
         "y": [
          45
         ],
         "yaxis": "y"
        },
        {
         "alignmentgroup": "True",
         "hovertemplate": "color=sauces<br>x=%{x}<br>y=%{y}<extra></extra>",
         "legendgroup": "sauces",
         "marker": {
          "color": "#EF553B",
          "pattern": {
           "shape": ""
          }
         },
         "name": "sauces",
         "offsetgroup": "sauces",
         "orientation": "v",
         "showlegend": true,
         "textposition": "auto",
         "type": "bar",
         "x": [
          "sauces"
         ],
         "xaxis": "x",
         "y": [
          44
         ],
         "yaxis": "y"
        },
        {
         "alignmentgroup": "True",
         "hovertemplate": "color=cereals<br>x=%{x}<br>y=%{y}<extra></extra>",
         "legendgroup": "cereals",
         "marker": {
          "color": "#00cc96",
          "pattern": {
           "shape": ""
          }
         },
         "name": "cereals",
         "offsetgroup": "cereals",
         "orientation": "v",
         "showlegend": true,
         "textposition": "auto",
         "type": "bar",
         "x": [
          "cereals"
         ],
         "xaxis": "x",
         "y": [
          42
         ],
         "yaxis": "y"
        },
        {
         "alignmentgroup": "True",
         "hovertemplate": "color=softener<br>x=%{x}<br>y=%{y}<extra></extra>",
         "legendgroup": "softener",
         "marker": {
          "color": "#ab63fa",
          "pattern": {
           "shape": ""
          }
         },
         "name": "softener",
         "offsetgroup": "softener",
         "orientation": "v",
         "showlegend": true,
         "textposition": "auto",
         "type": "bar",
         "x": [
          "softener"
         ],
         "xaxis": "x",
         "y": [
          41
         ],
         "yaxis": "y"
        },
        {
         "alignmentgroup": "True",
         "hovertemplate": "color=female sanitary products<br>x=%{x}<br>y=%{y}<extra></extra>",
         "legendgroup": "female sanitary products",
         "marker": {
          "color": "#FFA15A",
          "pattern": {
           "shape": ""
          }
         },
         "name": "female sanitary products",
         "offsetgroup": "female sanitary products",
         "orientation": "v",
         "showlegend": true,
         "textposition": "auto",
         "type": "bar",
         "x": [
          "female sanitary products"
         ],
         "xaxis": "x",
         "y": [
          40
         ],
         "yaxis": "y"
        },
        {
         "alignmentgroup": "True",
         "hovertemplate": "color=spices<br>x=%{x}<br>y=%{y}<extra></extra>",
         "legendgroup": "spices",
         "marker": {
          "color": "#19d3f3",
          "pattern": {
           "shape": ""
          }
         },
         "name": "spices",
         "offsetgroup": "spices",
         "orientation": "v",
         "showlegend": true,
         "textposition": "auto",
         "type": "bar",
         "x": [
          "spices"
         ],
         "xaxis": "x",
         "y": [
          40
         ],
         "yaxis": "y"
        },
        {
         "alignmentgroup": "True",
         "hovertemplate": "color=brandy<br>x=%{x}<br>y=%{y}<extra></extra>",
         "legendgroup": "brandy",
         "marker": {
          "color": "#FF6692",
          "pattern": {
           "shape": ""
          }
         },
         "name": "brandy",
         "offsetgroup": "brandy",
         "orientation": "v",
         "showlegend": true,
         "textposition": "auto",
         "type": "bar",
         "x": [
          "brandy"
         ],
         "xaxis": "x",
         "y": [
          38
         ],
         "yaxis": "y"
        },
        {
         "alignmentgroup": "True",
         "hovertemplate": "color=male cosmetics<br>x=%{x}<br>y=%{y}<extra></extra>",
         "legendgroup": "male cosmetics",
         "marker": {
          "color": "#B6E880",
          "pattern": {
           "shape": ""
          }
         },
         "name": "male cosmetics",
         "offsetgroup": "male cosmetics",
         "orientation": "v",
         "showlegend": true,
         "textposition": "auto",
         "type": "bar",
         "x": [
          "male cosmetics"
         ],
         "xaxis": "x",
         "y": [
          37
         ],
         "yaxis": "y"
        },
        {
         "alignmentgroup": "True",
         "hovertemplate": "color=meat spreads<br>x=%{x}<br>y=%{y}<extra></extra>",
         "legendgroup": "meat spreads",
         "marker": {
          "color": "#FF97FF",
          "pattern": {
           "shape": ""
          }
         },
         "name": "meat spreads",
         "offsetgroup": "meat spreads",
         "orientation": "v",
         "showlegend": true,
         "textposition": "auto",
         "type": "bar",
         "x": [
          "meat spreads"
         ],
         "xaxis": "x",
         "y": [
          35
         ],
         "yaxis": "y"
        },
        {
         "alignmentgroup": "True",
         "hovertemplate": "color=jam<br>x=%{x}<br>y=%{y}<extra></extra>",
         "legendgroup": "jam",
         "marker": {
          "color": "#FECB52",
          "pattern": {
           "shape": ""
          }
         },
         "name": "jam",
         "offsetgroup": "jam",
         "orientation": "v",
         "showlegend": true,
         "textposition": "auto",
         "type": "bar",
         "x": [
          "jam"
         ],
         "xaxis": "x",
         "y": [
          34
         ],
         "yaxis": "y"
        },
        {
         "alignmentgroup": "True",
         "hovertemplate": "color=nuts/prunes<br>x=%{x}<br>y=%{y}<extra></extra>",
         "legendgroup": "nuts/prunes",
         "marker": {
          "color": "#636efa",
          "pattern": {
           "shape": ""
          }
         },
         "name": "nuts/prunes",
         "offsetgroup": "nuts/prunes",
         "orientation": "v",
         "showlegend": true,
         "textposition": "auto",
         "type": "bar",
         "x": [
          "nuts/prunes"
         ],
         "xaxis": "x",
         "y": [
          33
         ],
         "yaxis": "y"
        },
        {
         "alignmentgroup": "True",
         "hovertemplate": "color=dental care<br>x=%{x}<br>y=%{y}<extra></extra>",
         "legendgroup": "dental care",
         "marker": {
          "color": "#EF553B",
          "pattern": {
           "shape": ""
          }
         },
         "name": "dental care",
         "offsetgroup": "dental care",
         "orientation": "v",
         "showlegend": true,
         "textposition": "auto",
         "type": "bar",
         "x": [
          "dental care"
         ],
         "xaxis": "x",
         "y": [
          33
         ],
         "yaxis": "y"
        },
        {
         "alignmentgroup": "True",
         "hovertemplate": "color=rum<br>x=%{x}<br>y=%{y}<extra></extra>",
         "legendgroup": "rum",
         "marker": {
          "color": "#00cc96",
          "pattern": {
           "shape": ""
          }
         },
         "name": "rum",
         "offsetgroup": "rum",
         "orientation": "v",
         "showlegend": true,
         "textposition": "auto",
         "type": "bar",
         "x": [
          "rum"
         ],
         "xaxis": "x",
         "y": [
          32
         ],
         "yaxis": "y"
        },
        {
         "alignmentgroup": "True",
         "hovertemplate": "color=ketchup<br>x=%{x}<br>y=%{y}<extra></extra>",
         "legendgroup": "ketchup",
         "marker": {
          "color": "#ab63fa",
          "pattern": {
           "shape": ""
          }
         },
         "name": "ketchup",
         "offsetgroup": "ketchup",
         "orientation": "v",
         "showlegend": true,
         "textposition": "auto",
         "type": "bar",
         "x": [
          "ketchup"
         ],
         "xaxis": "x",
         "y": [
          32
         ],
         "yaxis": "y"
        },
        {
         "alignmentgroup": "True",
         "hovertemplate": "color=cleaner<br>x=%{x}<br>y=%{y}<extra></extra>",
         "legendgroup": "cleaner",
         "marker": {
          "color": "#FFA15A",
          "pattern": {
           "shape": ""
          }
         },
         "name": "cleaner",
         "offsetgroup": "cleaner",
         "orientation": "v",
         "showlegend": true,
         "textposition": "auto",
         "type": "bar",
         "x": [
          "cleaner"
         ],
         "xaxis": "x",
         "y": [
          31
         ],
         "yaxis": "y"
        },
        {
         "alignmentgroup": "True",
         "hovertemplate": "color=kitchen towels<br>x=%{x}<br>y=%{y}<extra></extra>",
         "legendgroup": "kitchen towels",
         "marker": {
          "color": "#19d3f3",
          "pattern": {
           "shape": ""
          }
         },
         "name": "kitchen towels",
         "offsetgroup": "kitchen towels",
         "orientation": "v",
         "showlegend": true,
         "textposition": "auto",
         "type": "bar",
         "x": [
          "kitchen towels"
         ],
         "xaxis": "x",
         "y": [
          30
         ],
         "yaxis": "y"
        },
        {
         "alignmentgroup": "True",
         "hovertemplate": "color=light bulbs<br>x=%{x}<br>y=%{y}<extra></extra>",
         "legendgroup": "light bulbs",
         "marker": {
          "color": "#FF6692",
          "pattern": {
           "shape": ""
          }
         },
         "name": "light bulbs",
         "offsetgroup": "light bulbs",
         "orientation": "v",
         "showlegend": true,
         "textposition": "auto",
         "type": "bar",
         "x": [
          "light bulbs"
         ],
         "xaxis": "x",
         "y": [
          29
         ],
         "yaxis": "y"
        },
        {
         "alignmentgroup": "True",
         "hovertemplate": "color=fish<br>x=%{x}<br>y=%{y}<extra></extra>",
         "legendgroup": "fish",
         "marker": {
          "color": "#B6E880",
          "pattern": {
           "shape": ""
          }
         },
         "name": "fish",
         "offsetgroup": "fish",
         "orientation": "v",
         "showlegend": true,
         "textposition": "auto",
         "type": "bar",
         "x": [
          "fish"
         ],
         "xaxis": "x",
         "y": [
          29
         ],
         "yaxis": "y"
        },
        {
         "alignmentgroup": "True",
         "hovertemplate": "color=artif. sweetener<br>x=%{x}<br>y=%{y}<extra></extra>",
         "legendgroup": "artif. sweetener",
         "marker": {
          "color": "#FF97FF",
          "pattern": {
           "shape": ""
          }
         },
         "name": "artif. sweetener",
         "offsetgroup": "artif. sweetener",
         "orientation": "v",
         "showlegend": true,
         "textposition": "auto",
         "type": "bar",
         "x": [
          "artif. sweetener"
         ],
         "xaxis": "x",
         "y": [
          29
         ],
         "yaxis": "y"
        },
        {
         "alignmentgroup": "True",
         "hovertemplate": "color=specialty fat<br>x=%{x}<br>y=%{y}<extra></extra>",
         "legendgroup": "specialty fat",
         "marker": {
          "color": "#FECB52",
          "pattern": {
           "shape": ""
          }
         },
         "name": "specialty fat",
         "offsetgroup": "specialty fat",
         "orientation": "v",
         "showlegend": true,
         "textposition": "auto",
         "type": "bar",
         "x": [
          "specialty fat"
         ],
         "xaxis": "x",
         "y": [
          29
         ],
         "yaxis": "y"
        },
        {
         "alignmentgroup": "True",
         "hovertemplate": "color=snack products<br>x=%{x}<br>y=%{y}<extra></extra>",
         "legendgroup": "snack products",
         "marker": {
          "color": "#636efa",
          "pattern": {
           "shape": ""
          }
         },
         "name": "snack products",
         "offsetgroup": "snack products",
         "orientation": "v",
         "showlegend": true,
         "textposition": "auto",
         "type": "bar",
         "x": [
          "snack products"
         ],
         "xaxis": "x",
         "y": [
          27
         ],
         "yaxis": "y"
        },
        {
         "alignmentgroup": "True",
         "hovertemplate": "color=tea<br>x=%{x}<br>y=%{y}<extra></extra>",
         "legendgroup": "tea",
         "marker": {
          "color": "#EF553B",
          "pattern": {
           "shape": ""
          }
         },
         "name": "tea",
         "offsetgroup": "tea",
         "orientation": "v",
         "showlegend": true,
         "textposition": "auto",
         "type": "bar",
         "x": [
          "tea"
         ],
         "xaxis": "x",
         "y": [
          27
         ],
         "yaxis": "y"
        },
        {
         "alignmentgroup": "True",
         "hovertemplate": "color=potato products<br>x=%{x}<br>y=%{y}<extra></extra>",
         "legendgroup": "potato products",
         "marker": {
          "color": "#00cc96",
          "pattern": {
           "shape": ""
          }
         },
         "name": "potato products",
         "offsetgroup": "potato products",
         "orientation": "v",
         "showlegend": true,
         "textposition": "auto",
         "type": "bar",
         "x": [
          "potato products"
         ],
         "xaxis": "x",
         "y": [
          23
         ],
         "yaxis": "y"
        },
        {
         "alignmentgroup": "True",
         "hovertemplate": "color=nut snack<br>x=%{x}<br>y=%{y}<extra></extra>",
         "legendgroup": "nut snack",
         "marker": {
          "color": "#ab63fa",
          "pattern": {
           "shape": ""
          }
         },
         "name": "nut snack",
         "offsetgroup": "nut snack",
         "orientation": "v",
         "showlegend": true,
         "textposition": "auto",
         "type": "bar",
         "x": [
          "nut snack"
         ],
         "xaxis": "x",
         "y": [
          22
         ],
         "yaxis": "y"
        },
        {
         "alignmentgroup": "True",
         "hovertemplate": "color=abrasive cleaner<br>x=%{x}<br>y=%{y}<extra></extra>",
         "legendgroup": "abrasive cleaner",
         "marker": {
          "color": "#FFA15A",
          "pattern": {
           "shape": ""
          }
         },
         "name": "abrasive cleaner",
         "offsetgroup": "abrasive cleaner",
         "orientation": "v",
         "showlegend": true,
         "textposition": "auto",
         "type": "bar",
         "x": [
          "abrasive cleaner"
         ],
         "xaxis": "x",
         "y": [
          22
         ],
         "yaxis": "y"
        },
        {
         "alignmentgroup": "True",
         "hovertemplate": "color=organic sausage<br>x=%{x}<br>y=%{y}<extra></extra>",
         "legendgroup": "organic sausage",
         "marker": {
          "color": "#19d3f3",
          "pattern": {
           "shape": ""
          }
         },
         "name": "organic sausage",
         "offsetgroup": "organic sausage",
         "orientation": "v",
         "showlegend": true,
         "textposition": "auto",
         "type": "bar",
         "x": [
          "organic sausage"
         ],
         "xaxis": "x",
         "y": [
          22
         ],
         "yaxis": "y"
        },
        {
         "alignmentgroup": "True",
         "hovertemplate": "color=tidbits<br>x=%{x}<br>y=%{y}<extra></extra>",
         "legendgroup": "tidbits",
         "marker": {
          "color": "#FF6692",
          "pattern": {
           "shape": ""
          }
         },
         "name": "tidbits",
         "offsetgroup": "tidbits",
         "orientation": "v",
         "showlegend": true,
         "textposition": "auto",
         "type": "bar",
         "x": [
          "tidbits"
         ],
         "xaxis": "x",
         "y": [
          22
         ],
         "yaxis": "y"
        },
        {
         "alignmentgroup": "True",
         "hovertemplate": "color=canned fruit<br>x=%{x}<br>y=%{y}<extra></extra>",
         "legendgroup": "canned fruit",
         "marker": {
          "color": "#B6E880",
          "pattern": {
           "shape": ""
          }
         },
         "name": "canned fruit",
         "offsetgroup": "canned fruit",
         "orientation": "v",
         "showlegend": true,
         "textposition": "auto",
         "type": "bar",
         "x": [
          "canned fruit"
         ],
         "xaxis": "x",
         "y": [
          21
         ],
         "yaxis": "y"
        },
        {
         "alignmentgroup": "True",
         "hovertemplate": "color=syrup<br>x=%{x}<br>y=%{y}<extra></extra>",
         "legendgroup": "syrup",
         "marker": {
          "color": "#FF97FF",
          "pattern": {
           "shape": ""
          }
         },
         "name": "syrup",
         "offsetgroup": "syrup",
         "orientation": "v",
         "showlegend": true,
         "textposition": "auto",
         "type": "bar",
         "x": [
          "syrup"
         ],
         "xaxis": "x",
         "y": [
          21
         ],
         "yaxis": "y"
        },
        {
         "alignmentgroup": "True",
         "hovertemplate": "color=skin care<br>x=%{x}<br>y=%{y}<extra></extra>",
         "legendgroup": "skin care",
         "marker": {
          "color": "#FECB52",
          "pattern": {
           "shape": ""
          }
         },
         "name": "skin care",
         "offsetgroup": "skin care",
         "orientation": "v",
         "showlegend": true,
         "textposition": "auto",
         "type": "bar",
         "x": [
          "skin care"
         ],
         "xaxis": "x",
         "y": [
          20
         ],
         "yaxis": "y"
        },
        {
         "alignmentgroup": "True",
         "hovertemplate": "color=soap<br>x=%{x}<br>y=%{y}<extra></extra>",
         "legendgroup": "soap",
         "marker": {
          "color": "#636efa",
          "pattern": {
           "shape": ""
          }
         },
         "name": "soap",
         "offsetgroup": "soap",
         "orientation": "v",
         "showlegend": true,
         "textposition": "auto",
         "type": "bar",
         "x": [
          "soap"
         ],
         "xaxis": "x",
         "y": [
          20
         ],
         "yaxis": "y"
        },
        {
         "alignmentgroup": "True",
         "hovertemplate": "color=prosecco<br>x=%{x}<br>y=%{y}<extra></extra>",
         "legendgroup": "prosecco",
         "marker": {
          "color": "#EF553B",
          "pattern": {
           "shape": ""
          }
         },
         "name": "prosecco",
         "offsetgroup": "prosecco",
         "orientation": "v",
         "showlegend": true,
         "textposition": "auto",
         "type": "bar",
         "x": [
          "prosecco"
         ],
         "xaxis": "x",
         "y": [
          19
         ],
         "yaxis": "y"
        },
        {
         "alignmentgroup": "True",
         "hovertemplate": "color=pudding powder<br>x=%{x}<br>y=%{y}<extra></extra>",
         "legendgroup": "pudding powder",
         "marker": {
          "color": "#00cc96",
          "pattern": {
           "shape": ""
          }
         },
         "name": "pudding powder",
         "offsetgroup": "pudding powder",
         "orientation": "v",
         "showlegend": true,
         "textposition": "auto",
         "type": "bar",
         "x": [
          "pudding powder"
         ],
         "xaxis": "x",
         "y": [
          17
         ],
         "yaxis": "y"
        },
        {
         "alignmentgroup": "True",
         "hovertemplate": "color=cookware<br>x=%{x}<br>y=%{y}<extra></extra>",
         "legendgroup": "cookware",
         "marker": {
          "color": "#ab63fa",
          "pattern": {
           "shape": ""
          }
         },
         "name": "cookware",
         "offsetgroup": "cookware",
         "orientation": "v",
         "showlegend": true,
         "textposition": "auto",
         "type": "bar",
         "x": [
          "cookware"
         ],
         "xaxis": "x",
         "y": [
          17
         ],
         "yaxis": "y"
        },
        {
         "alignmentgroup": "True",
         "hovertemplate": "color=bathroom cleaner<br>x=%{x}<br>y=%{y}<extra></extra>",
         "legendgroup": "bathroom cleaner",
         "marker": {
          "color": "#FFA15A",
          "pattern": {
           "shape": ""
          }
         },
         "name": "bathroom cleaner",
         "offsetgroup": "bathroom cleaner",
         "orientation": "v",
         "showlegend": true,
         "textposition": "auto",
         "type": "bar",
         "x": [
          "bathroom cleaner"
         ],
         "xaxis": "x",
         "y": [
          17
         ],
         "yaxis": "y"
        },
        {
         "alignmentgroup": "True",
         "hovertemplate": "color=flower soil/fertilizer<br>x=%{x}<br>y=%{y}<extra></extra>",
         "legendgroup": "flower soil/fertilizer",
         "marker": {
          "color": "#19d3f3",
          "pattern": {
           "shape": ""
          }
         },
         "name": "flower soil/fertilizer",
         "offsetgroup": "flower soil/fertilizer",
         "orientation": "v",
         "showlegend": true,
         "textposition": "auto",
         "type": "bar",
         "x": [
          "flower soil/fertilizer"
         ],
         "xaxis": "x",
         "y": [
          16
         ],
         "yaxis": "y"
        },
        {
         "alignmentgroup": "True",
         "hovertemplate": "color=cocoa drinks<br>x=%{x}<br>y=%{y}<extra></extra>",
         "legendgroup": "cocoa drinks",
         "marker": {
          "color": "#FF6692",
          "pattern": {
           "shape": ""
          }
         },
         "name": "cocoa drinks",
         "offsetgroup": "cocoa drinks",
         "orientation": "v",
         "showlegend": true,
         "textposition": "auto",
         "type": "bar",
         "x": [
          "cocoa drinks"
         ],
         "xaxis": "x",
         "y": [
          16
         ],
         "yaxis": "y"
        },
        {
         "alignmentgroup": "True",
         "hovertemplate": "color=cooking chocolate<br>x=%{x}<br>y=%{y}<extra></extra>",
         "legendgroup": "cooking chocolate",
         "marker": {
          "color": "#B6E880",
          "pattern": {
           "shape": ""
          }
         },
         "name": "cooking chocolate",
         "offsetgroup": "cooking chocolate",
         "orientation": "v",
         "showlegend": true,
         "textposition": "auto",
         "type": "bar",
         "x": [
          "cooking chocolate"
         ],
         "xaxis": "x",
         "y": [
          15
         ],
         "yaxis": "y"
        },
        {
         "alignmentgroup": "True",
         "hovertemplate": "color=ready soups<br>x=%{x}<br>y=%{y}<extra></extra>",
         "legendgroup": "ready soups",
         "marker": {
          "color": "#FF97FF",
          "pattern": {
           "shape": ""
          }
         },
         "name": "ready soups",
         "offsetgroup": "ready soups",
         "orientation": "v",
         "showlegend": true,
         "textposition": "auto",
         "type": "bar",
         "x": [
          "ready soups"
         ],
         "xaxis": "x",
         "y": [
          15
         ],
         "yaxis": "y"
        },
        {
         "alignmentgroup": "True",
         "hovertemplate": "color=honey<br>x=%{x}<br>y=%{y}<extra></extra>",
         "legendgroup": "honey",
         "marker": {
          "color": "#FECB52",
          "pattern": {
           "shape": ""
          }
         },
         "name": "honey",
         "offsetgroup": "honey",
         "orientation": "v",
         "showlegend": true,
         "textposition": "auto",
         "type": "bar",
         "x": [
          "honey"
         ],
         "xaxis": "x",
         "y": [
          13
         ],
         "yaxis": "y"
        },
        {
         "alignmentgroup": "True",
         "hovertemplate": "color=cream<br>x=%{x}<br>y=%{y}<extra></extra>",
         "legendgroup": "cream",
         "marker": {
          "color": "#636efa",
          "pattern": {
           "shape": ""
          }
         },
         "name": "cream",
         "offsetgroup": "cream",
         "orientation": "v",
         "showlegend": true,
         "textposition": "auto",
         "type": "bar",
         "x": [
          "cream"
         ],
         "xaxis": "x",
         "y": [
          12
         ],
         "yaxis": "y"
        },
        {
         "alignmentgroup": "True",
         "hovertemplate": "color=specialty vegetables<br>x=%{x}<br>y=%{y}<extra></extra>",
         "legendgroup": "specialty vegetables",
         "marker": {
          "color": "#EF553B",
          "pattern": {
           "shape": ""
          }
         },
         "name": "specialty vegetables",
         "offsetgroup": "specialty vegetables",
         "orientation": "v",
         "showlegend": true,
         "textposition": "auto",
         "type": "bar",
         "x": [
          "specialty vegetables"
         ],
         "xaxis": "x",
         "y": [
          11
         ],
         "yaxis": "y"
        },
        {
         "alignmentgroup": "True",
         "hovertemplate": "color=frozen fruits<br>x=%{x}<br>y=%{y}<extra></extra>",
         "legendgroup": "frozen fruits",
         "marker": {
          "color": "#00cc96",
          "pattern": {
           "shape": ""
          }
         },
         "name": "frozen fruits",
         "offsetgroup": "frozen fruits",
         "orientation": "v",
         "showlegend": true,
         "textposition": "auto",
         "type": "bar",
         "x": [
          "frozen fruits"
         ],
         "xaxis": "x",
         "y": [
          11
         ],
         "yaxis": "y"
        },
        {
         "alignmentgroup": "True",
         "hovertemplate": "color=organic products<br>x=%{x}<br>y=%{y}<extra></extra>",
         "legendgroup": "organic products",
         "marker": {
          "color": "#ab63fa",
          "pattern": {
           "shape": ""
          }
         },
         "name": "organic products",
         "offsetgroup": "organic products",
         "orientation": "v",
         "showlegend": true,
         "textposition": "auto",
         "type": "bar",
         "x": [
          "organic products"
         ],
         "xaxis": "x",
         "y": [
          10
         ],
         "yaxis": "y"
        },
        {
         "alignmentgroup": "True",
         "hovertemplate": "color=liqueur<br>x=%{x}<br>y=%{y}<extra></extra>",
         "legendgroup": "liqueur",
         "marker": {
          "color": "#FFA15A",
          "pattern": {
           "shape": ""
          }
         },
         "name": "liqueur",
         "offsetgroup": "liqueur",
         "orientation": "v",
         "showlegend": true,
         "textposition": "auto",
         "type": "bar",
         "x": [
          "liqueur"
         ],
         "xaxis": "x",
         "y": [
          9
         ],
         "yaxis": "y"
        },
        {
         "alignmentgroup": "True",
         "hovertemplate": "color=hair spray<br>x=%{x}<br>y=%{y}<extra></extra>",
         "legendgroup": "hair spray",
         "marker": {
          "color": "#19d3f3",
          "pattern": {
           "shape": ""
          }
         },
         "name": "hair spray",
         "offsetgroup": "hair spray",
         "orientation": "v",
         "showlegend": true,
         "textposition": "auto",
         "type": "bar",
         "x": [
          "hair spray"
         ],
         "xaxis": "x",
         "y": [
          9
         ],
         "yaxis": "y"
        },
        {
         "alignmentgroup": "True",
         "hovertemplate": "color=decalcifier<br>x=%{x}<br>y=%{y}<extra></extra>",
         "legendgroup": "decalcifier",
         "marker": {
          "color": "#FF6692",
          "pattern": {
           "shape": ""
          }
         },
         "name": "decalcifier",
         "offsetgroup": "decalcifier",
         "orientation": "v",
         "showlegend": true,
         "textposition": "auto",
         "type": "bar",
         "x": [
          "decalcifier"
         ],
         "xaxis": "x",
         "y": [
          9
         ],
         "yaxis": "y"
        },
        {
         "alignmentgroup": "True",
         "hovertemplate": "color=whisky<br>x=%{x}<br>y=%{y}<extra></extra>",
         "legendgroup": "whisky",
         "marker": {
          "color": "#B6E880",
          "pattern": {
           "shape": ""
          }
         },
         "name": "whisky",
         "offsetgroup": "whisky",
         "orientation": "v",
         "showlegend": true,
         "textposition": "auto",
         "type": "bar",
         "x": [
          "whisky"
         ],
         "xaxis": "x",
         "y": [
          8
         ],
         "yaxis": "y"
        },
        {
         "alignmentgroup": "True",
         "hovertemplate": "color=salad dressing<br>x=%{x}<br>y=%{y}<extra></extra>",
         "legendgroup": "salad dressing",
         "marker": {
          "color": "#FF97FF",
          "pattern": {
           "shape": ""
          }
         },
         "name": "salad dressing",
         "offsetgroup": "salad dressing",
         "orientation": "v",
         "showlegend": true,
         "textposition": "auto",
         "type": "bar",
         "x": [
          "salad dressing"
         ],
         "xaxis": "x",
         "y": [
          6
         ],
         "yaxis": "y"
        },
        {
         "alignmentgroup": "True",
         "hovertemplate": "color=make up remover<br>x=%{x}<br>y=%{y}<extra></extra>",
         "legendgroup": "make up remover",
         "marker": {
          "color": "#FECB52",
          "pattern": {
           "shape": ""
          }
         },
         "name": "make up remover",
         "offsetgroup": "make up remover",
         "orientation": "v",
         "showlegend": true,
         "textposition": "auto",
         "type": "bar",
         "x": [
          "make up remover"
         ],
         "xaxis": "x",
         "y": [
          5
         ],
         "yaxis": "y"
        },
        {
         "alignmentgroup": "True",
         "hovertemplate": "color=toilet cleaner<br>x=%{x}<br>y=%{y}<extra></extra>",
         "legendgroup": "toilet cleaner",
         "marker": {
          "color": "#636efa",
          "pattern": {
           "shape": ""
          }
         },
         "name": "toilet cleaner",
         "offsetgroup": "toilet cleaner",
         "orientation": "v",
         "showlegend": true,
         "textposition": "auto",
         "type": "bar",
         "x": [
          "toilet cleaner"
         ],
         "xaxis": "x",
         "y": [
          5
         ],
         "yaxis": "y"
        },
        {
         "alignmentgroup": "True",
         "hovertemplate": "color=frozen chicken<br>x=%{x}<br>y=%{y}<extra></extra>",
         "legendgroup": "frozen chicken",
         "marker": {
          "color": "#EF553B",
          "pattern": {
           "shape": ""
          }
         },
         "name": "frozen chicken",
         "offsetgroup": "frozen chicken",
         "orientation": "v",
         "showlegend": true,
         "textposition": "auto",
         "type": "bar",
         "x": [
          "frozen chicken"
         ],
         "xaxis": "x",
         "y": [
          5
         ],
         "yaxis": "y"
        },
        {
         "alignmentgroup": "True",
         "hovertemplate": "color=rubbing alcohol<br>x=%{x}<br>y=%{y}<extra></extra>",
         "legendgroup": "rubbing alcohol",
         "marker": {
          "color": "#00cc96",
          "pattern": {
           "shape": ""
          }
         },
         "name": "rubbing alcohol",
         "offsetgroup": "rubbing alcohol",
         "orientation": "v",
         "showlegend": true,
         "textposition": "auto",
         "type": "bar",
         "x": [
          "rubbing alcohol"
         ],
         "xaxis": "x",
         "y": [
          5
         ],
         "yaxis": "y"
        },
        {
         "alignmentgroup": "True",
         "hovertemplate": "color=bags<br>x=%{x}<br>y=%{y}<extra></extra>",
         "legendgroup": "bags",
         "marker": {
          "color": "#ab63fa",
          "pattern": {
           "shape": ""
          }
         },
         "name": "bags",
         "offsetgroup": "bags",
         "orientation": "v",
         "showlegend": true,
         "textposition": "auto",
         "type": "bar",
         "x": [
          "bags"
         ],
         "xaxis": "x",
         "y": [
          4
         ],
         "yaxis": "y"
        },
        {
         "alignmentgroup": "True",
         "hovertemplate": "color=baby cosmetics<br>x=%{x}<br>y=%{y}<extra></extra>",
         "legendgroup": "baby cosmetics",
         "marker": {
          "color": "#FFA15A",
          "pattern": {
           "shape": ""
          }
         },
         "name": "baby cosmetics",
         "offsetgroup": "baby cosmetics",
         "orientation": "v",
         "showlegend": true,
         "textposition": "auto",
         "type": "bar",
         "x": [
          "baby cosmetics"
         ],
         "xaxis": "x",
         "y": [
          3
         ],
         "yaxis": "y"
        },
        {
         "alignmentgroup": "True",
         "hovertemplate": "color=kitchen utensil<br>x=%{x}<br>y=%{y}<extra></extra>",
         "legendgroup": "kitchen utensil",
         "marker": {
          "color": "#19d3f3",
          "pattern": {
           "shape": ""
          }
         },
         "name": "kitchen utensil",
         "offsetgroup": "kitchen utensil",
         "orientation": "v",
         "showlegend": true,
         "textposition": "auto",
         "type": "bar",
         "x": [
          "kitchen utensil"
         ],
         "xaxis": "x",
         "y": [
          1
         ],
         "yaxis": "y"
        },
        {
         "alignmentgroup": "True",
         "hovertemplate": "color=preservation products<br>x=%{x}<br>y=%{y}<extra></extra>",
         "legendgroup": "preservation products",
         "marker": {
          "color": "#FF6692",
          "pattern": {
           "shape": ""
          }
         },
         "name": "preservation products",
         "offsetgroup": "preservation products",
         "orientation": "v",
         "showlegend": true,
         "textposition": "auto",
         "type": "bar",
         "x": [
          "preservation products"
         ],
         "xaxis": "x",
         "y": [
          1
         ],
         "yaxis": "y"
        }
       ],
       "layout": {
        "barmode": "relative",
        "font": {
         "color": "blue",
         "family": "Courier New"
        },
        "legend": {
         "title": {
          "font": {
           "color": "green"
          },
          "text": "itemDescription"
         },
         "tracegroupgap": 0
        },
        "margin": {
         "t": 60
        },
        "template": {
         "data": {
          "bar": [
           {
            "error_x": {
             "color": "#2a3f5f"
            },
            "error_y": {
             "color": "#2a3f5f"
            },
            "marker": {
             "line": {
              "color": "#E5ECF6",
              "width": 0.5
             },
             "pattern": {
              "fillmode": "overlay",
              "size": 10,
              "solidity": 0.2
             }
            },
            "type": "bar"
           }
          ],
          "barpolar": [
           {
            "marker": {
             "line": {
              "color": "#E5ECF6",
              "width": 0.5
             },
             "pattern": {
              "fillmode": "overlay",
              "size": 10,
              "solidity": 0.2
             }
            },
            "type": "barpolar"
           }
          ],
          "carpet": [
           {
            "aaxis": {
             "endlinecolor": "#2a3f5f",
             "gridcolor": "white",
             "linecolor": "white",
             "minorgridcolor": "white",
             "startlinecolor": "#2a3f5f"
            },
            "baxis": {
             "endlinecolor": "#2a3f5f",
             "gridcolor": "white",
             "linecolor": "white",
             "minorgridcolor": "white",
             "startlinecolor": "#2a3f5f"
            },
            "type": "carpet"
           }
          ],
          "choropleth": [
           {
            "colorbar": {
             "outlinewidth": 0,
             "ticks": ""
            },
            "type": "choropleth"
           }
          ],
          "contour": [
           {
            "colorbar": {
             "outlinewidth": 0,
             "ticks": ""
            },
            "colorscale": [
             [
              0,
              "#0d0887"
             ],
             [
              0.1111111111111111,
              "#46039f"
             ],
             [
              0.2222222222222222,
              "#7201a8"
             ],
             [
              0.3333333333333333,
              "#9c179e"
             ],
             [
              0.4444444444444444,
              "#bd3786"
             ],
             [
              0.5555555555555556,
              "#d8576b"
             ],
             [
              0.6666666666666666,
              "#ed7953"
             ],
             [
              0.7777777777777778,
              "#fb9f3a"
             ],
             [
              0.8888888888888888,
              "#fdca26"
             ],
             [
              1,
              "#f0f921"
             ]
            ],
            "type": "contour"
           }
          ],
          "contourcarpet": [
           {
            "colorbar": {
             "outlinewidth": 0,
             "ticks": ""
            },
            "type": "contourcarpet"
           }
          ],
          "heatmap": [
           {
            "colorbar": {
             "outlinewidth": 0,
             "ticks": ""
            },
            "colorscale": [
             [
              0,
              "#0d0887"
             ],
             [
              0.1111111111111111,
              "#46039f"
             ],
             [
              0.2222222222222222,
              "#7201a8"
             ],
             [
              0.3333333333333333,
              "#9c179e"
             ],
             [
              0.4444444444444444,
              "#bd3786"
             ],
             [
              0.5555555555555556,
              "#d8576b"
             ],
             [
              0.6666666666666666,
              "#ed7953"
             ],
             [
              0.7777777777777778,
              "#fb9f3a"
             ],
             [
              0.8888888888888888,
              "#fdca26"
             ],
             [
              1,
              "#f0f921"
             ]
            ],
            "type": "heatmap"
           }
          ],
          "heatmapgl": [
           {
            "colorbar": {
             "outlinewidth": 0,
             "ticks": ""
            },
            "colorscale": [
             [
              0,
              "#0d0887"
             ],
             [
              0.1111111111111111,
              "#46039f"
             ],
             [
              0.2222222222222222,
              "#7201a8"
             ],
             [
              0.3333333333333333,
              "#9c179e"
             ],
             [
              0.4444444444444444,
              "#bd3786"
             ],
             [
              0.5555555555555556,
              "#d8576b"
             ],
             [
              0.6666666666666666,
              "#ed7953"
             ],
             [
              0.7777777777777778,
              "#fb9f3a"
             ],
             [
              0.8888888888888888,
              "#fdca26"
             ],
             [
              1,
              "#f0f921"
             ]
            ],
            "type": "heatmapgl"
           }
          ],
          "histogram": [
           {
            "marker": {
             "pattern": {
              "fillmode": "overlay",
              "size": 10,
              "solidity": 0.2
             }
            },
            "type": "histogram"
           }
          ],
          "histogram2d": [
           {
            "colorbar": {
             "outlinewidth": 0,
             "ticks": ""
            },
            "colorscale": [
             [
              0,
              "#0d0887"
             ],
             [
              0.1111111111111111,
              "#46039f"
             ],
             [
              0.2222222222222222,
              "#7201a8"
             ],
             [
              0.3333333333333333,
              "#9c179e"
             ],
             [
              0.4444444444444444,
              "#bd3786"
             ],
             [
              0.5555555555555556,
              "#d8576b"
             ],
             [
              0.6666666666666666,
              "#ed7953"
             ],
             [
              0.7777777777777778,
              "#fb9f3a"
             ],
             [
              0.8888888888888888,
              "#fdca26"
             ],
             [
              1,
              "#f0f921"
             ]
            ],
            "type": "histogram2d"
           }
          ],
          "histogram2dcontour": [
           {
            "colorbar": {
             "outlinewidth": 0,
             "ticks": ""
            },
            "colorscale": [
             [
              0,
              "#0d0887"
             ],
             [
              0.1111111111111111,
              "#46039f"
             ],
             [
              0.2222222222222222,
              "#7201a8"
             ],
             [
              0.3333333333333333,
              "#9c179e"
             ],
             [
              0.4444444444444444,
              "#bd3786"
             ],
             [
              0.5555555555555556,
              "#d8576b"
             ],
             [
              0.6666666666666666,
              "#ed7953"
             ],
             [
              0.7777777777777778,
              "#fb9f3a"
             ],
             [
              0.8888888888888888,
              "#fdca26"
             ],
             [
              1,
              "#f0f921"
             ]
            ],
            "type": "histogram2dcontour"
           }
          ],
          "mesh3d": [
           {
            "colorbar": {
             "outlinewidth": 0,
             "ticks": ""
            },
            "type": "mesh3d"
           }
          ],
          "parcoords": [
           {
            "line": {
             "colorbar": {
              "outlinewidth": 0,
              "ticks": ""
             }
            },
            "type": "parcoords"
           }
          ],
          "pie": [
           {
            "automargin": true,
            "type": "pie"
           }
          ],
          "scatter": [
           {
            "marker": {
             "colorbar": {
              "outlinewidth": 0,
              "ticks": ""
             }
            },
            "type": "scatter"
           }
          ],
          "scatter3d": [
           {
            "line": {
             "colorbar": {
              "outlinewidth": 0,
              "ticks": ""
             }
            },
            "marker": {
             "colorbar": {
              "outlinewidth": 0,
              "ticks": ""
             }
            },
            "type": "scatter3d"
           }
          ],
          "scattercarpet": [
           {
            "marker": {
             "colorbar": {
              "outlinewidth": 0,
              "ticks": ""
             }
            },
            "type": "scattercarpet"
           }
          ],
          "scattergeo": [
           {
            "marker": {
             "colorbar": {
              "outlinewidth": 0,
              "ticks": ""
             }
            },
            "type": "scattergeo"
           }
          ],
          "scattergl": [
           {
            "marker": {
             "colorbar": {
              "outlinewidth": 0,
              "ticks": ""
             }
            },
            "type": "scattergl"
           }
          ],
          "scattermapbox": [
           {
            "marker": {
             "colorbar": {
              "outlinewidth": 0,
              "ticks": ""
             }
            },
            "type": "scattermapbox"
           }
          ],
          "scatterpolar": [
           {
            "marker": {
             "colorbar": {
              "outlinewidth": 0,
              "ticks": ""
             }
            },
            "type": "scatterpolar"
           }
          ],
          "scatterpolargl": [
           {
            "marker": {
             "colorbar": {
              "outlinewidth": 0,
              "ticks": ""
             }
            },
            "type": "scatterpolargl"
           }
          ],
          "scatterternary": [
           {
            "marker": {
             "colorbar": {
              "outlinewidth": 0,
              "ticks": ""
             }
            },
            "type": "scatterternary"
           }
          ],
          "surface": [
           {
            "colorbar": {
             "outlinewidth": 0,
             "ticks": ""
            },
            "colorscale": [
             [
              0,
              "#0d0887"
             ],
             [
              0.1111111111111111,
              "#46039f"
             ],
             [
              0.2222222222222222,
              "#7201a8"
             ],
             [
              0.3333333333333333,
              "#9c179e"
             ],
             [
              0.4444444444444444,
              "#bd3786"
             ],
             [
              0.5555555555555556,
              "#d8576b"
             ],
             [
              0.6666666666666666,
              "#ed7953"
             ],
             [
              0.7777777777777778,
              "#fb9f3a"
             ],
             [
              0.8888888888888888,
              "#fdca26"
             ],
             [
              1,
              "#f0f921"
             ]
            ],
            "type": "surface"
           }
          ],
          "table": [
           {
            "cells": {
             "fill": {
              "color": "#EBF0F8"
             },
             "line": {
              "color": "white"
             }
            },
            "header": {
             "fill": {
              "color": "#C8D4E3"
             },
             "line": {
              "color": "white"
             }
            },
            "type": "table"
           }
          ]
         },
         "layout": {
          "annotationdefaults": {
           "arrowcolor": "#2a3f5f",
           "arrowhead": 0,
           "arrowwidth": 1
          },
          "autotypenumbers": "strict",
          "coloraxis": {
           "colorbar": {
            "outlinewidth": 0,
            "ticks": ""
           }
          },
          "colorscale": {
           "diverging": [
            [
             0,
             "#8e0152"
            ],
            [
             0.1,
             "#c51b7d"
            ],
            [
             0.2,
             "#de77ae"
            ],
            [
             0.3,
             "#f1b6da"
            ],
            [
             0.4,
             "#fde0ef"
            ],
            [
             0.5,
             "#f7f7f7"
            ],
            [
             0.6,
             "#e6f5d0"
            ],
            [
             0.7,
             "#b8e186"
            ],
            [
             0.8,
             "#7fbc41"
            ],
            [
             0.9,
             "#4d9221"
            ],
            [
             1,
             "#276419"
            ]
           ],
           "sequential": [
            [
             0,
             "#0d0887"
            ],
            [
             0.1111111111111111,
             "#46039f"
            ],
            [
             0.2222222222222222,
             "#7201a8"
            ],
            [
             0.3333333333333333,
             "#9c179e"
            ],
            [
             0.4444444444444444,
             "#bd3786"
            ],
            [
             0.5555555555555556,
             "#d8576b"
            ],
            [
             0.6666666666666666,
             "#ed7953"
            ],
            [
             0.7777777777777778,
             "#fb9f3a"
            ],
            [
             0.8888888888888888,
             "#fdca26"
            ],
            [
             1,
             "#f0f921"
            ]
           ],
           "sequentialminus": [
            [
             0,
             "#0d0887"
            ],
            [
             0.1111111111111111,
             "#46039f"
            ],
            [
             0.2222222222222222,
             "#7201a8"
            ],
            [
             0.3333333333333333,
             "#9c179e"
            ],
            [
             0.4444444444444444,
             "#bd3786"
            ],
            [
             0.5555555555555556,
             "#d8576b"
            ],
            [
             0.6666666666666666,
             "#ed7953"
            ],
            [
             0.7777777777777778,
             "#fb9f3a"
            ],
            [
             0.8888888888888888,
             "#fdca26"
            ],
            [
             1,
             "#f0f921"
            ]
           ]
          },
          "colorway": [
           "#636efa",
           "#EF553B",
           "#00cc96",
           "#ab63fa",
           "#FFA15A",
           "#19d3f3",
           "#FF6692",
           "#B6E880",
           "#FF97FF",
           "#FECB52"
          ],
          "font": {
           "color": "#2a3f5f"
          },
          "geo": {
           "bgcolor": "white",
           "lakecolor": "white",
           "landcolor": "#E5ECF6",
           "showlakes": true,
           "showland": true,
           "subunitcolor": "white"
          },
          "hoverlabel": {
           "align": "left"
          },
          "hovermode": "closest",
          "mapbox": {
           "style": "light"
          },
          "paper_bgcolor": "white",
          "plot_bgcolor": "#E5ECF6",
          "polar": {
           "angularaxis": {
            "gridcolor": "white",
            "linecolor": "white",
            "ticks": ""
           },
           "bgcolor": "#E5ECF6",
           "radialaxis": {
            "gridcolor": "white",
            "linecolor": "white",
            "ticks": ""
           }
          },
          "scene": {
           "xaxis": {
            "backgroundcolor": "#E5ECF6",
            "gridcolor": "white",
            "gridwidth": 2,
            "linecolor": "white",
            "showbackground": true,
            "ticks": "",
            "zerolinecolor": "white"
           },
           "yaxis": {
            "backgroundcolor": "#E5ECF6",
            "gridcolor": "white",
            "gridwidth": 2,
            "linecolor": "white",
            "showbackground": true,
            "ticks": "",
            "zerolinecolor": "white"
           },
           "zaxis": {
            "backgroundcolor": "#E5ECF6",
            "gridcolor": "white",
            "gridwidth": 2,
            "linecolor": "white",
            "showbackground": true,
            "ticks": "",
            "zerolinecolor": "white"
           }
          },
          "shapedefaults": {
           "line": {
            "color": "#2a3f5f"
           }
          },
          "ternary": {
           "aaxis": {
            "gridcolor": "white",
            "linecolor": "white",
            "ticks": ""
           },
           "baxis": {
            "gridcolor": "white",
            "linecolor": "white",
            "ticks": ""
           },
           "bgcolor": "#E5ECF6",
           "caxis": {
            "gridcolor": "white",
            "linecolor": "white",
            "ticks": ""
           }
          },
          "title": {
           "x": 0.05
          },
          "xaxis": {
           "automargin": true,
           "gridcolor": "white",
           "linecolor": "white",
           "ticks": "",
           "title": {
            "standoff": 15
           },
           "zerolinecolor": "white",
           "zerolinewidth": 2
          },
          "yaxis": {
           "automargin": true,
           "gridcolor": "white",
           "linecolor": "white",
           "ticks": "",
           "title": {
            "standoff": 15
           },
           "zerolinecolor": "white",
           "zerolinewidth": 2
          }
         }
        },
        "title": {
         "font": {
          "color": "red",
          "family": "Times New Roman"
         }
        },
        "xaxis": {
         "anchor": "y",
         "domain": [
          0,
          1
         ],
         "title": {
          "text": "itemDescription"
         }
        },
        "yaxis": {
         "anchor": "x",
         "domain": [
          0,
          1
         ],
         "title": {
          "text": "Count"
         }
        }
       }
      },
      "text/html": [
       "<div>                            <div id=\"fe7c5587-920e-461e-94cc-5d8549f44a71\" class=\"plotly-graph-div\" style=\"height:525px; width:100%;\"></div>            <script type=\"text/javascript\">                require([\"plotly\"], function(Plotly) {                    window.PLOTLYENV=window.PLOTLYENV || {};                                    if (document.getElementById(\"fe7c5587-920e-461e-94cc-5d8549f44a71\")) {                    Plotly.newPlot(                        \"fe7c5587-920e-461e-94cc-5d8549f44a71\",                        [{\"alignmentgroup\":\"True\",\"hovertemplate\":\"color=whole milk<br>x=%{x}<br>y=%{y}<extra></extra>\",\"legendgroup\":\"whole milk\",\"marker\":{\"color\":\"#636efa\",\"pattern\":{\"shape\":\"\"}},\"name\":\"whole milk\",\"offsetgroup\":\"whole milk\",\"orientation\":\"v\",\"showlegend\":true,\"textposition\":\"auto\",\"x\":[\"whole milk\"],\"xaxis\":\"x\",\"y\":[2502],\"yaxis\":\"y\",\"type\":\"bar\"},{\"alignmentgroup\":\"True\",\"hovertemplate\":\"color=other vegetables<br>x=%{x}<br>y=%{y}<extra></extra>\",\"legendgroup\":\"other vegetables\",\"marker\":{\"color\":\"#EF553B\",\"pattern\":{\"shape\":\"\"}},\"name\":\"other vegetables\",\"offsetgroup\":\"other vegetables\",\"orientation\":\"v\",\"showlegend\":true,\"textposition\":\"auto\",\"x\":[\"other vegetables\"],\"xaxis\":\"x\",\"y\":[1898],\"yaxis\":\"y\",\"type\":\"bar\"},{\"alignmentgroup\":\"True\",\"hovertemplate\":\"color=rolls/buns<br>x=%{x}<br>y=%{y}<extra></extra>\",\"legendgroup\":\"rolls/buns\",\"marker\":{\"color\":\"#00cc96\",\"pattern\":{\"shape\":\"\"}},\"name\":\"rolls/buns\",\"offsetgroup\":\"rolls/buns\",\"orientation\":\"v\",\"showlegend\":true,\"textposition\":\"auto\",\"x\":[\"rolls/buns\"],\"xaxis\":\"x\",\"y\":[1716],\"yaxis\":\"y\",\"type\":\"bar\"},{\"alignmentgroup\":\"True\",\"hovertemplate\":\"color=soda<br>x=%{x}<br>y=%{y}<extra></extra>\",\"legendgroup\":\"soda\",\"marker\":{\"color\":\"#ab63fa\",\"pattern\":{\"shape\":\"\"}},\"name\":\"soda\",\"offsetgroup\":\"soda\",\"orientation\":\"v\",\"showlegend\":true,\"textposition\":\"auto\",\"x\":[\"soda\"],\"xaxis\":\"x\",\"y\":[1514],\"yaxis\":\"y\",\"type\":\"bar\"},{\"alignmentgroup\":\"True\",\"hovertemplate\":\"color=yogurt<br>x=%{x}<br>y=%{y}<extra></extra>\",\"legendgroup\":\"yogurt\",\"marker\":{\"color\":\"#FFA15A\",\"pattern\":{\"shape\":\"\"}},\"name\":\"yogurt\",\"offsetgroup\":\"yogurt\",\"orientation\":\"v\",\"showlegend\":true,\"textposition\":\"auto\",\"x\":[\"yogurt\"],\"xaxis\":\"x\",\"y\":[1334],\"yaxis\":\"y\",\"type\":\"bar\"},{\"alignmentgroup\":\"True\",\"hovertemplate\":\"color=root vegetables<br>x=%{x}<br>y=%{y}<extra></extra>\",\"legendgroup\":\"root vegetables\",\"marker\":{\"color\":\"#19d3f3\",\"pattern\":{\"shape\":\"\"}},\"name\":\"root vegetables\",\"offsetgroup\":\"root vegetables\",\"orientation\":\"v\",\"showlegend\":true,\"textposition\":\"auto\",\"x\":[\"root vegetables\"],\"xaxis\":\"x\",\"y\":[1071],\"yaxis\":\"y\",\"type\":\"bar\"},{\"alignmentgroup\":\"True\",\"hovertemplate\":\"color=tropical fruit<br>x=%{x}<br>y=%{y}<extra></extra>\",\"legendgroup\":\"tropical fruit\",\"marker\":{\"color\":\"#FF6692\",\"pattern\":{\"shape\":\"\"}},\"name\":\"tropical fruit\",\"offsetgroup\":\"tropical fruit\",\"orientation\":\"v\",\"showlegend\":true,\"textposition\":\"auto\",\"x\":[\"tropical fruit\"],\"xaxis\":\"x\",\"y\":[1032],\"yaxis\":\"y\",\"type\":\"bar\"},{\"alignmentgroup\":\"True\",\"hovertemplate\":\"color=bottled water<br>x=%{x}<br>y=%{y}<extra></extra>\",\"legendgroup\":\"bottled water\",\"marker\":{\"color\":\"#B6E880\",\"pattern\":{\"shape\":\"\"}},\"name\":\"bottled water\",\"offsetgroup\":\"bottled water\",\"orientation\":\"v\",\"showlegend\":true,\"textposition\":\"auto\",\"x\":[\"bottled water\"],\"xaxis\":\"x\",\"y\":[933],\"yaxis\":\"y\",\"type\":\"bar\"},{\"alignmentgroup\":\"True\",\"hovertemplate\":\"color=sausage<br>x=%{x}<br>y=%{y}<extra></extra>\",\"legendgroup\":\"sausage\",\"marker\":{\"color\":\"#FF97FF\",\"pattern\":{\"shape\":\"\"}},\"name\":\"sausage\",\"offsetgroup\":\"sausage\",\"orientation\":\"v\",\"showlegend\":true,\"textposition\":\"auto\",\"x\":[\"sausage\"],\"xaxis\":\"x\",\"y\":[924],\"yaxis\":\"y\",\"type\":\"bar\"},{\"alignmentgroup\":\"True\",\"hovertemplate\":\"color=citrus fruit<br>x=%{x}<br>y=%{y}<extra></extra>\",\"legendgroup\":\"citrus fruit\",\"marker\":{\"color\":\"#FECB52\",\"pattern\":{\"shape\":\"\"}},\"name\":\"citrus fruit\",\"offsetgroup\":\"citrus fruit\",\"orientation\":\"v\",\"showlegend\":true,\"textposition\":\"auto\",\"x\":[\"citrus fruit\"],\"xaxis\":\"x\",\"y\":[812],\"yaxis\":\"y\",\"type\":\"bar\"},{\"alignmentgroup\":\"True\",\"hovertemplate\":\"color=pastry<br>x=%{x}<br>y=%{y}<extra></extra>\",\"legendgroup\":\"pastry\",\"marker\":{\"color\":\"#636efa\",\"pattern\":{\"shape\":\"\"}},\"name\":\"pastry\",\"offsetgroup\":\"pastry\",\"orientation\":\"v\",\"showlegend\":true,\"textposition\":\"auto\",\"x\":[\"pastry\"],\"xaxis\":\"x\",\"y\":[785],\"yaxis\":\"y\",\"type\":\"bar\"},{\"alignmentgroup\":\"True\",\"hovertemplate\":\"color=pip fruit<br>x=%{x}<br>y=%{y}<extra></extra>\",\"legendgroup\":\"pip fruit\",\"marker\":{\"color\":\"#EF553B\",\"pattern\":{\"shape\":\"\"}},\"name\":\"pip fruit\",\"offsetgroup\":\"pip fruit\",\"orientation\":\"v\",\"showlegend\":true,\"textposition\":\"auto\",\"x\":[\"pip fruit\"],\"xaxis\":\"x\",\"y\":[744],\"yaxis\":\"y\",\"type\":\"bar\"},{\"alignmentgroup\":\"True\",\"hovertemplate\":\"color=shopping bags<br>x=%{x}<br>y=%{y}<extra></extra>\",\"legendgroup\":\"shopping bags\",\"marker\":{\"color\":\"#00cc96\",\"pattern\":{\"shape\":\"\"}},\"name\":\"shopping bags\",\"offsetgroup\":\"shopping bags\",\"orientation\":\"v\",\"showlegend\":true,\"textposition\":\"auto\",\"x\":[\"shopping bags\"],\"xaxis\":\"x\",\"y\":[731],\"yaxis\":\"y\",\"type\":\"bar\"},{\"alignmentgroup\":\"True\",\"hovertemplate\":\"color=canned beer<br>x=%{x}<br>y=%{y}<extra></extra>\",\"legendgroup\":\"canned beer\",\"marker\":{\"color\":\"#ab63fa\",\"pattern\":{\"shape\":\"\"}},\"name\":\"canned beer\",\"offsetgroup\":\"canned beer\",\"orientation\":\"v\",\"showlegend\":true,\"textposition\":\"auto\",\"x\":[\"canned beer\"],\"xaxis\":\"x\",\"y\":[717],\"yaxis\":\"y\",\"type\":\"bar\"},{\"alignmentgroup\":\"True\",\"hovertemplate\":\"color=bottled beer<br>x=%{x}<br>y=%{y}<extra></extra>\",\"legendgroup\":\"bottled beer\",\"marker\":{\"color\":\"#FFA15A\",\"pattern\":{\"shape\":\"\"}},\"name\":\"bottled beer\",\"offsetgroup\":\"bottled beer\",\"orientation\":\"v\",\"showlegend\":true,\"textposition\":\"auto\",\"x\":[\"bottled beer\"],\"xaxis\":\"x\",\"y\":[687],\"yaxis\":\"y\",\"type\":\"bar\"},{\"alignmentgroup\":\"True\",\"hovertemplate\":\"color=whipped/sour cream<br>x=%{x}<br>y=%{y}<extra></extra>\",\"legendgroup\":\"whipped/sour cream\",\"marker\":{\"color\":\"#19d3f3\",\"pattern\":{\"shape\":\"\"}},\"name\":\"whipped/sour cream\",\"offsetgroup\":\"whipped/sour cream\",\"orientation\":\"v\",\"showlegend\":true,\"textposition\":\"auto\",\"x\":[\"whipped/sour cream\"],\"xaxis\":\"x\",\"y\":[662],\"yaxis\":\"y\",\"type\":\"bar\"},{\"alignmentgroup\":\"True\",\"hovertemplate\":\"color=newspapers<br>x=%{x}<br>y=%{y}<extra></extra>\",\"legendgroup\":\"newspapers\",\"marker\":{\"color\":\"#FF6692\",\"pattern\":{\"shape\":\"\"}},\"name\":\"newspapers\",\"offsetgroup\":\"newspapers\",\"orientation\":\"v\",\"showlegend\":true,\"textposition\":\"auto\",\"x\":[\"newspapers\"],\"xaxis\":\"x\",\"y\":[596],\"yaxis\":\"y\",\"type\":\"bar\"},{\"alignmentgroup\":\"True\",\"hovertemplate\":\"color=frankfurter<br>x=%{x}<br>y=%{y}<extra></extra>\",\"legendgroup\":\"frankfurter\",\"marker\":{\"color\":\"#B6E880\",\"pattern\":{\"shape\":\"\"}},\"name\":\"frankfurter\",\"offsetgroup\":\"frankfurter\",\"orientation\":\"v\",\"showlegend\":true,\"textposition\":\"auto\",\"x\":[\"frankfurter\"],\"xaxis\":\"x\",\"y\":[580],\"yaxis\":\"y\",\"type\":\"bar\"},{\"alignmentgroup\":\"True\",\"hovertemplate\":\"color=brown bread<br>x=%{x}<br>y=%{y}<extra></extra>\",\"legendgroup\":\"brown bread\",\"marker\":{\"color\":\"#FF97FF\",\"pattern\":{\"shape\":\"\"}},\"name\":\"brown bread\",\"offsetgroup\":\"brown bread\",\"orientation\":\"v\",\"showlegend\":true,\"textposition\":\"auto\",\"x\":[\"brown bread\"],\"xaxis\":\"x\",\"y\":[571],\"yaxis\":\"y\",\"type\":\"bar\"},{\"alignmentgroup\":\"True\",\"hovertemplate\":\"color=pork<br>x=%{x}<br>y=%{y}<extra></extra>\",\"legendgroup\":\"pork\",\"marker\":{\"color\":\"#FECB52\",\"pattern\":{\"shape\":\"\"}},\"name\":\"pork\",\"offsetgroup\":\"pork\",\"orientation\":\"v\",\"showlegend\":true,\"textposition\":\"auto\",\"x\":[\"pork\"],\"xaxis\":\"x\",\"y\":[566],\"yaxis\":\"y\",\"type\":\"bar\"},{\"alignmentgroup\":\"True\",\"hovertemplate\":\"color=domestic eggs<br>x=%{x}<br>y=%{y}<extra></extra>\",\"legendgroup\":\"domestic eggs\",\"marker\":{\"color\":\"#636efa\",\"pattern\":{\"shape\":\"\"}},\"name\":\"domestic eggs\",\"offsetgroup\":\"domestic eggs\",\"orientation\":\"v\",\"showlegend\":true,\"textposition\":\"auto\",\"x\":[\"domestic eggs\"],\"xaxis\":\"x\",\"y\":[566],\"yaxis\":\"y\",\"type\":\"bar\"},{\"alignmentgroup\":\"True\",\"hovertemplate\":\"color=butter<br>x=%{x}<br>y=%{y}<extra></extra>\",\"legendgroup\":\"butter\",\"marker\":{\"color\":\"#EF553B\",\"pattern\":{\"shape\":\"\"}},\"name\":\"butter\",\"offsetgroup\":\"butter\",\"orientation\":\"v\",\"showlegend\":true,\"textposition\":\"auto\",\"x\":[\"butter\"],\"xaxis\":\"x\",\"y\":[534],\"yaxis\":\"y\",\"type\":\"bar\"},{\"alignmentgroup\":\"True\",\"hovertemplate\":\"color=fruit/vegetable juice<br>x=%{x}<br>y=%{y}<extra></extra>\",\"legendgroup\":\"fruit/vegetable juice\",\"marker\":{\"color\":\"#00cc96\",\"pattern\":{\"shape\":\"\"}},\"name\":\"fruit/vegetable juice\",\"offsetgroup\":\"fruit/vegetable juice\",\"orientation\":\"v\",\"showlegend\":true,\"textposition\":\"auto\",\"x\":[\"fruit/vegetable juice\"],\"xaxis\":\"x\",\"y\":[518],\"yaxis\":\"y\",\"type\":\"bar\"},{\"alignmentgroup\":\"True\",\"hovertemplate\":\"color=beef<br>x=%{x}<br>y=%{y}<extra></extra>\",\"legendgroup\":\"beef\",\"marker\":{\"color\":\"#ab63fa\",\"pattern\":{\"shape\":\"\"}},\"name\":\"beef\",\"offsetgroup\":\"beef\",\"orientation\":\"v\",\"showlegend\":true,\"textposition\":\"auto\",\"x\":[\"beef\"],\"xaxis\":\"x\",\"y\":[516],\"yaxis\":\"y\",\"type\":\"bar\"},{\"alignmentgroup\":\"True\",\"hovertemplate\":\"color=curd<br>x=%{x}<br>y=%{y}<extra></extra>\",\"legendgroup\":\"curd\",\"marker\":{\"color\":\"#FFA15A\",\"pattern\":{\"shape\":\"\"}},\"name\":\"curd\",\"offsetgroup\":\"curd\",\"orientation\":\"v\",\"showlegend\":true,\"textposition\":\"auto\",\"x\":[\"curd\"],\"xaxis\":\"x\",\"y\":[514],\"yaxis\":\"y\",\"type\":\"bar\"},{\"alignmentgroup\":\"True\",\"hovertemplate\":\"color=margarine<br>x=%{x}<br>y=%{y}<extra></extra>\",\"legendgroup\":\"margarine\",\"marker\":{\"color\":\"#19d3f3\",\"pattern\":{\"shape\":\"\"}},\"name\":\"margarine\",\"offsetgroup\":\"margarine\",\"orientation\":\"v\",\"showlegend\":true,\"textposition\":\"auto\",\"x\":[\"margarine\"],\"xaxis\":\"x\",\"y\":[491],\"yaxis\":\"y\",\"type\":\"bar\"},{\"alignmentgroup\":\"True\",\"hovertemplate\":\"color=coffee<br>x=%{x}<br>y=%{y}<extra></extra>\",\"legendgroup\":\"coffee\",\"marker\":{\"color\":\"#FF6692\",\"pattern\":{\"shape\":\"\"}},\"name\":\"coffee\",\"offsetgroup\":\"coffee\",\"orientation\":\"v\",\"showlegend\":true,\"textposition\":\"auto\",\"x\":[\"coffee\"],\"xaxis\":\"x\",\"y\":[476],\"yaxis\":\"y\",\"type\":\"bar\"},{\"alignmentgroup\":\"True\",\"hovertemplate\":\"color=frozen vegetables<br>x=%{x}<br>y=%{y}<extra></extra>\",\"legendgroup\":\"frozen vegetables\",\"marker\":{\"color\":\"#B6E880\",\"pattern\":{\"shape\":\"\"}},\"name\":\"frozen vegetables\",\"offsetgroup\":\"frozen vegetables\",\"orientation\":\"v\",\"showlegend\":true,\"textposition\":\"auto\",\"x\":[\"frozen vegetables\"],\"xaxis\":\"x\",\"y\":[425],\"yaxis\":\"y\",\"type\":\"bar\"},{\"alignmentgroup\":\"True\",\"hovertemplate\":\"color=chicken<br>x=%{x}<br>y=%{y}<extra></extra>\",\"legendgroup\":\"chicken\",\"marker\":{\"color\":\"#FF97FF\",\"pattern\":{\"shape\":\"\"}},\"name\":\"chicken\",\"offsetgroup\":\"chicken\",\"orientation\":\"v\",\"showlegend\":true,\"textposition\":\"auto\",\"x\":[\"chicken\"],\"xaxis\":\"x\",\"y\":[422],\"yaxis\":\"y\",\"type\":\"bar\"},{\"alignmentgroup\":\"True\",\"hovertemplate\":\"color=white bread<br>x=%{x}<br>y=%{y}<extra></extra>\",\"legendgroup\":\"white bread\",\"marker\":{\"color\":\"#FECB52\",\"pattern\":{\"shape\":\"\"}},\"name\":\"white bread\",\"offsetgroup\":\"white bread\",\"orientation\":\"v\",\"showlegend\":true,\"textposition\":\"auto\",\"x\":[\"white bread\"],\"xaxis\":\"x\",\"y\":[362],\"yaxis\":\"y\",\"type\":\"bar\"},{\"alignmentgroup\":\"True\",\"hovertemplate\":\"color=cream cheese <br>x=%{x}<br>y=%{y}<extra></extra>\",\"legendgroup\":\"cream cheese \",\"marker\":{\"color\":\"#636efa\",\"pattern\":{\"shape\":\"\"}},\"name\":\"cream cheese \",\"offsetgroup\":\"cream cheese \",\"orientation\":\"v\",\"showlegend\":true,\"textposition\":\"auto\",\"x\":[\"cream cheese \"],\"xaxis\":\"x\",\"y\":[358],\"yaxis\":\"y\",\"type\":\"bar\"},{\"alignmentgroup\":\"True\",\"hovertemplate\":\"color=chocolate<br>x=%{x}<br>y=%{y}<extra></extra>\",\"legendgroup\":\"chocolate\",\"marker\":{\"color\":\"#EF553B\",\"pattern\":{\"shape\":\"\"}},\"name\":\"chocolate\",\"offsetgroup\":\"chocolate\",\"orientation\":\"v\",\"showlegend\":true,\"textposition\":\"auto\",\"x\":[\"chocolate\"],\"xaxis\":\"x\",\"y\":[357],\"yaxis\":\"y\",\"type\":\"bar\"},{\"alignmentgroup\":\"True\",\"hovertemplate\":\"color=dessert<br>x=%{x}<br>y=%{y}<extra></extra>\",\"legendgroup\":\"dessert\",\"marker\":{\"color\":\"#00cc96\",\"pattern\":{\"shape\":\"\"}},\"name\":\"dessert\",\"offsetgroup\":\"dessert\",\"orientation\":\"v\",\"showlegend\":true,\"textposition\":\"auto\",\"x\":[\"dessert\"],\"xaxis\":\"x\",\"y\":[356],\"yaxis\":\"y\",\"type\":\"bar\"},{\"alignmentgroup\":\"True\",\"hovertemplate\":\"color=napkins<br>x=%{x}<br>y=%{y}<extra></extra>\",\"legendgroup\":\"napkins\",\"marker\":{\"color\":\"#ab63fa\",\"pattern\":{\"shape\":\"\"}},\"name\":\"napkins\",\"offsetgroup\":\"napkins\",\"orientation\":\"v\",\"showlegend\":true,\"textposition\":\"auto\",\"x\":[\"napkins\"],\"xaxis\":\"x\",\"y\":[335],\"yaxis\":\"y\",\"type\":\"bar\"},{\"alignmentgroup\":\"True\",\"hovertemplate\":\"color=hamburger meat<br>x=%{x}<br>y=%{y}<extra></extra>\",\"legendgroup\":\"hamburger meat\",\"marker\":{\"color\":\"#FFA15A\",\"pattern\":{\"shape\":\"\"}},\"name\":\"hamburger meat\",\"offsetgroup\":\"hamburger meat\",\"orientation\":\"v\",\"showlegend\":true,\"textposition\":\"auto\",\"x\":[\"hamburger meat\"],\"xaxis\":\"x\",\"y\":[327],\"yaxis\":\"y\",\"type\":\"bar\"},{\"alignmentgroup\":\"True\",\"hovertemplate\":\"color=berries<br>x=%{x}<br>y=%{y}<extra></extra>\",\"legendgroup\":\"berries\",\"marker\":{\"color\":\"#19d3f3\",\"pattern\":{\"shape\":\"\"}},\"name\":\"berries\",\"offsetgroup\":\"berries\",\"orientation\":\"v\",\"showlegend\":true,\"textposition\":\"auto\",\"x\":[\"berries\"],\"xaxis\":\"x\",\"y\":[327],\"yaxis\":\"y\",\"type\":\"bar\"},{\"alignmentgroup\":\"True\",\"hovertemplate\":\"color=UHT-milk<br>x=%{x}<br>y=%{y}<extra></extra>\",\"legendgroup\":\"UHT-milk\",\"marker\":{\"color\":\"#FF6692\",\"pattern\":{\"shape\":\"\"}},\"name\":\"UHT-milk\",\"offsetgroup\":\"UHT-milk\",\"orientation\":\"v\",\"showlegend\":true,\"textposition\":\"auto\",\"x\":[\"UHT-milk\"],\"xaxis\":\"x\",\"y\":[323],\"yaxis\":\"y\",\"type\":\"bar\"},{\"alignmentgroup\":\"True\",\"hovertemplate\":\"color=onions<br>x=%{x}<br>y=%{y}<extra></extra>\",\"legendgroup\":\"onions\",\"marker\":{\"color\":\"#B6E880\",\"pattern\":{\"shape\":\"\"}},\"name\":\"onions\",\"offsetgroup\":\"onions\",\"orientation\":\"v\",\"showlegend\":true,\"textposition\":\"auto\",\"x\":[\"onions\"],\"xaxis\":\"x\",\"y\":[305],\"yaxis\":\"y\",\"type\":\"bar\"},{\"alignmentgroup\":\"True\",\"hovertemplate\":\"color=salty snack<br>x=%{x}<br>y=%{y}<extra></extra>\",\"legendgroup\":\"salty snack\",\"marker\":{\"color\":\"#FF97FF\",\"pattern\":{\"shape\":\"\"}},\"name\":\"salty snack\",\"offsetgroup\":\"salty snack\",\"orientation\":\"v\",\"showlegend\":true,\"textposition\":\"auto\",\"x\":[\"salty snack\"],\"xaxis\":\"x\",\"y\":[283],\"yaxis\":\"y\",\"type\":\"bar\"},{\"alignmentgroup\":\"True\",\"hovertemplate\":\"color=waffles<br>x=%{x}<br>y=%{y}<extra></extra>\",\"legendgroup\":\"waffles\",\"marker\":{\"color\":\"#FECB52\",\"pattern\":{\"shape\":\"\"}},\"name\":\"waffles\",\"offsetgroup\":\"waffles\",\"orientation\":\"v\",\"showlegend\":true,\"textposition\":\"auto\",\"x\":[\"waffles\"],\"xaxis\":\"x\",\"y\":[280],\"yaxis\":\"y\",\"type\":\"bar\"},{\"alignmentgroup\":\"True\",\"hovertemplate\":\"color=long life bakery product<br>x=%{x}<br>y=%{y}<extra></extra>\",\"legendgroup\":\"long life bakery product\",\"marker\":{\"color\":\"#636efa\",\"pattern\":{\"shape\":\"\"}},\"name\":\"long life bakery product\",\"offsetgroup\":\"long life bakery product\",\"orientation\":\"v\",\"showlegend\":true,\"textposition\":\"auto\",\"x\":[\"long life bakery product\"],\"xaxis\":\"x\",\"y\":[269],\"yaxis\":\"y\",\"type\":\"bar\"},{\"alignmentgroup\":\"True\",\"hovertemplate\":\"color=sugar<br>x=%{x}<br>y=%{y}<extra></extra>\",\"legendgroup\":\"sugar\",\"marker\":{\"color\":\"#EF553B\",\"pattern\":{\"shape\":\"\"}},\"name\":\"sugar\",\"offsetgroup\":\"sugar\",\"orientation\":\"v\",\"showlegend\":true,\"textposition\":\"auto\",\"x\":[\"sugar\"],\"xaxis\":\"x\",\"y\":[265],\"yaxis\":\"y\",\"type\":\"bar\"},{\"alignmentgroup\":\"True\",\"hovertemplate\":\"color=butter milk<br>x=%{x}<br>y=%{y}<extra></extra>\",\"legendgroup\":\"butter milk\",\"marker\":{\"color\":\"#00cc96\",\"pattern\":{\"shape\":\"\"}},\"name\":\"butter milk\",\"offsetgroup\":\"butter milk\",\"orientation\":\"v\",\"showlegend\":true,\"textposition\":\"auto\",\"x\":[\"butter milk\"],\"xaxis\":\"x\",\"y\":[263],\"yaxis\":\"y\",\"type\":\"bar\"},{\"alignmentgroup\":\"True\",\"hovertemplate\":\"color=ham<br>x=%{x}<br>y=%{y}<extra></extra>\",\"legendgroup\":\"ham\",\"marker\":{\"color\":\"#ab63fa\",\"pattern\":{\"shape\":\"\"}},\"name\":\"ham\",\"offsetgroup\":\"ham\",\"orientation\":\"v\",\"showlegend\":true,\"textposition\":\"auto\",\"x\":[\"ham\"],\"xaxis\":\"x\",\"y\":[256],\"yaxis\":\"y\",\"type\":\"bar\"},{\"alignmentgroup\":\"True\",\"hovertemplate\":\"color=meat<br>x=%{x}<br>y=%{y}<extra></extra>\",\"legendgroup\":\"meat\",\"marker\":{\"color\":\"#FFA15A\",\"pattern\":{\"shape\":\"\"}},\"name\":\"meat\",\"offsetgroup\":\"meat\",\"orientation\":\"v\",\"showlegend\":true,\"textposition\":\"auto\",\"x\":[\"meat\"],\"xaxis\":\"x\",\"y\":[254],\"yaxis\":\"y\",\"type\":\"bar\"},{\"alignmentgroup\":\"True\",\"hovertemplate\":\"color=frozen meals<br>x=%{x}<br>y=%{y}<extra></extra>\",\"legendgroup\":\"frozen meals\",\"marker\":{\"color\":\"#19d3f3\",\"pattern\":{\"shape\":\"\"}},\"name\":\"frozen meals\",\"offsetgroup\":\"frozen meals\",\"orientation\":\"v\",\"showlegend\":true,\"textposition\":\"auto\",\"x\":[\"frozen meals\"],\"xaxis\":\"x\",\"y\":[252],\"yaxis\":\"y\",\"type\":\"bar\"},{\"alignmentgroup\":\"True\",\"hovertemplate\":\"color=beverages<br>x=%{x}<br>y=%{y}<extra></extra>\",\"legendgroup\":\"beverages\",\"marker\":{\"color\":\"#FF6692\",\"pattern\":{\"shape\":\"\"}},\"name\":\"beverages\",\"offsetgroup\":\"beverages\",\"orientation\":\"v\",\"showlegend\":true,\"textposition\":\"auto\",\"x\":[\"beverages\"],\"xaxis\":\"x\",\"y\":[251],\"yaxis\":\"y\",\"type\":\"bar\"},{\"alignmentgroup\":\"True\",\"hovertemplate\":\"color=specialty chocolate<br>x=%{x}<br>y=%{y}<extra></extra>\",\"legendgroup\":\"specialty chocolate\",\"marker\":{\"color\":\"#B6E880\",\"pattern\":{\"shape\":\"\"}},\"name\":\"specialty chocolate\",\"offsetgroup\":\"specialty chocolate\",\"orientation\":\"v\",\"showlegend\":true,\"textposition\":\"auto\",\"x\":[\"specialty chocolate\"],\"xaxis\":\"x\",\"y\":[240],\"yaxis\":\"y\",\"type\":\"bar\"},{\"alignmentgroup\":\"True\",\"hovertemplate\":\"color=misc. beverages<br>x=%{x}<br>y=%{y}<extra></extra>\",\"legendgroup\":\"misc. beverages\",\"marker\":{\"color\":\"#FF97FF\",\"pattern\":{\"shape\":\"\"}},\"name\":\"misc. beverages\",\"offsetgroup\":\"misc. beverages\",\"orientation\":\"v\",\"showlegend\":true,\"textposition\":\"auto\",\"x\":[\"misc. beverages\"],\"xaxis\":\"x\",\"y\":[238],\"yaxis\":\"y\",\"type\":\"bar\"},{\"alignmentgroup\":\"True\",\"hovertemplate\":\"color=ice cream<br>x=%{x}<br>y=%{y}<extra></extra>\",\"legendgroup\":\"ice cream\",\"marker\":{\"color\":\"#FECB52\",\"pattern\":{\"shape\":\"\"}},\"name\":\"ice cream\",\"offsetgroup\":\"ice cream\",\"orientation\":\"v\",\"showlegend\":true,\"textposition\":\"auto\",\"x\":[\"ice cream\"],\"xaxis\":\"x\",\"y\":[227],\"yaxis\":\"y\",\"type\":\"bar\"},{\"alignmentgroup\":\"True\",\"hovertemplate\":\"color=oil<br>x=%{x}<br>y=%{y}<extra></extra>\",\"legendgroup\":\"oil\",\"marker\":{\"color\":\"#636efa\",\"pattern\":{\"shape\":\"\"}},\"name\":\"oil\",\"offsetgroup\":\"oil\",\"orientation\":\"v\",\"showlegend\":true,\"textposition\":\"auto\",\"x\":[\"oil\"],\"xaxis\":\"x\",\"y\":[225],\"yaxis\":\"y\",\"type\":\"bar\"},{\"alignmentgroup\":\"True\",\"hovertemplate\":\"color=hard cheese<br>x=%{x}<br>y=%{y}<extra></extra>\",\"legendgroup\":\"hard cheese\",\"marker\":{\"color\":\"#EF553B\",\"pattern\":{\"shape\":\"\"}},\"name\":\"hard cheese\",\"offsetgroup\":\"hard cheese\",\"orientation\":\"v\",\"showlegend\":true,\"textposition\":\"auto\",\"x\":[\"hard cheese\"],\"xaxis\":\"x\",\"y\":[220],\"yaxis\":\"y\",\"type\":\"bar\"},{\"alignmentgroup\":\"True\",\"hovertemplate\":\"color=grapes<br>x=%{x}<br>y=%{y}<extra></extra>\",\"legendgroup\":\"grapes\",\"marker\":{\"color\":\"#00cc96\",\"pattern\":{\"shape\":\"\"}},\"name\":\"grapes\",\"offsetgroup\":\"grapes\",\"orientation\":\"v\",\"showlegend\":true,\"textposition\":\"auto\",\"x\":[\"grapes\"],\"xaxis\":\"x\",\"y\":[220],\"yaxis\":\"y\",\"type\":\"bar\"},{\"alignmentgroup\":\"True\",\"hovertemplate\":\"color=candy<br>x=%{x}<br>y=%{y}<extra></extra>\",\"legendgroup\":\"candy\",\"marker\":{\"color\":\"#ab63fa\",\"pattern\":{\"shape\":\"\"}},\"name\":\"candy\",\"offsetgroup\":\"candy\",\"orientation\":\"v\",\"showlegend\":true,\"textposition\":\"auto\",\"x\":[\"candy\"],\"xaxis\":\"x\",\"y\":[219],\"yaxis\":\"y\",\"type\":\"bar\"},{\"alignmentgroup\":\"True\",\"hovertemplate\":\"color=sliced cheese<br>x=%{x}<br>y=%{y}<extra></extra>\",\"legendgroup\":\"sliced cheese\",\"marker\":{\"color\":\"#FFA15A\",\"pattern\":{\"shape\":\"\"}},\"name\":\"sliced cheese\",\"offsetgroup\":\"sliced cheese\",\"orientation\":\"v\",\"showlegend\":true,\"textposition\":\"auto\",\"x\":[\"sliced cheese\"],\"xaxis\":\"x\",\"y\":[212],\"yaxis\":\"y\",\"type\":\"bar\"},{\"alignmentgroup\":\"True\",\"hovertemplate\":\"color=specialty bar<br>x=%{x}<br>y=%{y}<extra></extra>\",\"legendgroup\":\"specialty bar\",\"marker\":{\"color\":\"#19d3f3\",\"pattern\":{\"shape\":\"\"}},\"name\":\"specialty bar\",\"offsetgroup\":\"specialty bar\",\"orientation\":\"v\",\"showlegend\":true,\"textposition\":\"auto\",\"x\":[\"specialty bar\"],\"xaxis\":\"x\",\"y\":[210],\"yaxis\":\"y\",\"type\":\"bar\"},{\"alignmentgroup\":\"True\",\"hovertemplate\":\"color=hygiene articles<br>x=%{x}<br>y=%{y}<extra></extra>\",\"legendgroup\":\"hygiene articles\",\"marker\":{\"color\":\"#FF6692\",\"pattern\":{\"shape\":\"\"}},\"name\":\"hygiene articles\",\"offsetgroup\":\"hygiene articles\",\"orientation\":\"v\",\"showlegend\":true,\"textposition\":\"auto\",\"x\":[\"hygiene articles\"],\"xaxis\":\"x\",\"y\":[208],\"yaxis\":\"y\",\"type\":\"bar\"},{\"alignmentgroup\":\"True\",\"hovertemplate\":\"color=chewing gum<br>x=%{x}<br>y=%{y}<extra></extra>\",\"legendgroup\":\"chewing gum\",\"marker\":{\"color\":\"#B6E880\",\"pattern\":{\"shape\":\"\"}},\"name\":\"chewing gum\",\"offsetgroup\":\"chewing gum\",\"orientation\":\"v\",\"showlegend\":true,\"textposition\":\"auto\",\"x\":[\"chewing gum\"],\"xaxis\":\"x\",\"y\":[181],\"yaxis\":\"y\",\"type\":\"bar\"},{\"alignmentgroup\":\"True\",\"hovertemplate\":\"color=cat food<br>x=%{x}<br>y=%{y}<extra></extra>\",\"legendgroup\":\"cat food\",\"marker\":{\"color\":\"#FF97FF\",\"pattern\":{\"shape\":\"\"}},\"name\":\"cat food\",\"offsetgroup\":\"cat food\",\"orientation\":\"v\",\"showlegend\":true,\"textposition\":\"auto\",\"x\":[\"cat food\"],\"xaxis\":\"x\",\"y\":[177],\"yaxis\":\"y\",\"type\":\"bar\"},{\"alignmentgroup\":\"True\",\"hovertemplate\":\"color=white wine<br>x=%{x}<br>y=%{y}<extra></extra>\",\"legendgroup\":\"white wine\",\"marker\":{\"color\":\"#FECB52\",\"pattern\":{\"shape\":\"\"}},\"name\":\"white wine\",\"offsetgroup\":\"white wine\",\"orientation\":\"v\",\"showlegend\":true,\"textposition\":\"auto\",\"x\":[\"white wine\"],\"xaxis\":\"x\",\"y\":[176],\"yaxis\":\"y\",\"type\":\"bar\"},{\"alignmentgroup\":\"True\",\"hovertemplate\":\"color=herbs<br>x=%{x}<br>y=%{y}<extra></extra>\",\"legendgroup\":\"herbs\",\"marker\":{\"color\":\"#636efa\",\"pattern\":{\"shape\":\"\"}},\"name\":\"herbs\",\"offsetgroup\":\"herbs\",\"orientation\":\"v\",\"showlegend\":true,\"textposition\":\"auto\",\"x\":[\"herbs\"],\"xaxis\":\"x\",\"y\":[159],\"yaxis\":\"y\",\"type\":\"bar\"},{\"alignmentgroup\":\"True\",\"hovertemplate\":\"color=red/blush wine<br>x=%{x}<br>y=%{y}<extra></extra>\",\"legendgroup\":\"red/blush wine\",\"marker\":{\"color\":\"#EF553B\",\"pattern\":{\"shape\":\"\"}},\"name\":\"red/blush wine\",\"offsetgroup\":\"red/blush wine\",\"orientation\":\"v\",\"showlegend\":true,\"textposition\":\"auto\",\"x\":[\"red/blush wine\"],\"xaxis\":\"x\",\"y\":[157],\"yaxis\":\"y\",\"type\":\"bar\"},{\"alignmentgroup\":\"True\",\"hovertemplate\":\"color=soft cheese<br>x=%{x}<br>y=%{y}<extra></extra>\",\"legendgroup\":\"soft cheese\",\"marker\":{\"color\":\"#00cc96\",\"pattern\":{\"shape\":\"\"}},\"name\":\"soft cheese\",\"offsetgroup\":\"soft cheese\",\"orientation\":\"v\",\"showlegend\":true,\"textposition\":\"auto\",\"x\":[\"soft cheese\"],\"xaxis\":\"x\",\"y\":[152],\"yaxis\":\"y\",\"type\":\"bar\"},{\"alignmentgroup\":\"True\",\"hovertemplate\":\"color=processed cheese<br>x=%{x}<br>y=%{y}<extra></extra>\",\"legendgroup\":\"processed cheese\",\"marker\":{\"color\":\"#ab63fa\",\"pattern\":{\"shape\":\"\"}},\"name\":\"processed cheese\",\"offsetgroup\":\"processed cheese\",\"orientation\":\"v\",\"showlegend\":true,\"textposition\":\"auto\",\"x\":[\"processed cheese\"],\"xaxis\":\"x\",\"y\":[152],\"yaxis\":\"y\",\"type\":\"bar\"},{\"alignmentgroup\":\"True\",\"hovertemplate\":\"color=flour<br>x=%{x}<br>y=%{y}<extra></extra>\",\"legendgroup\":\"flour\",\"marker\":{\"color\":\"#FFA15A\",\"pattern\":{\"shape\":\"\"}},\"name\":\"flour\",\"offsetgroup\":\"flour\",\"orientation\":\"v\",\"showlegend\":true,\"textposition\":\"auto\",\"x\":[\"flour\"],\"xaxis\":\"x\",\"y\":[146],\"yaxis\":\"y\",\"type\":\"bar\"},{\"alignmentgroup\":\"True\",\"hovertemplate\":\"color=semi-finished bread<br>x=%{x}<br>y=%{y}<extra></extra>\",\"legendgroup\":\"semi-finished bread\",\"marker\":{\"color\":\"#19d3f3\",\"pattern\":{\"shape\":\"\"}},\"name\":\"semi-finished bread\",\"offsetgroup\":\"semi-finished bread\",\"orientation\":\"v\",\"showlegend\":true,\"textposition\":\"auto\",\"x\":[\"semi-finished bread\"],\"xaxis\":\"x\",\"y\":[142],\"yaxis\":\"y\",\"type\":\"bar\"},{\"alignmentgroup\":\"True\",\"hovertemplate\":\"color=dishes<br>x=%{x}<br>y=%{y}<extra></extra>\",\"legendgroup\":\"dishes\",\"marker\":{\"color\":\"#FF6692\",\"pattern\":{\"shape\":\"\"}},\"name\":\"dishes\",\"offsetgroup\":\"dishes\",\"orientation\":\"v\",\"showlegend\":true,\"textposition\":\"auto\",\"x\":[\"dishes\"],\"xaxis\":\"x\",\"y\":[135],\"yaxis\":\"y\",\"type\":\"bar\"},{\"alignmentgroup\":\"True\",\"hovertemplate\":\"color=pickled vegetables<br>x=%{x}<br>y=%{y}<extra></extra>\",\"legendgroup\":\"pickled vegetables\",\"marker\":{\"color\":\"#B6E880\",\"pattern\":{\"shape\":\"\"}},\"name\":\"pickled vegetables\",\"offsetgroup\":\"pickled vegetables\",\"orientation\":\"v\",\"showlegend\":true,\"textposition\":\"auto\",\"x\":[\"pickled vegetables\"],\"xaxis\":\"x\",\"y\":[134],\"yaxis\":\"y\",\"type\":\"bar\"},{\"alignmentgroup\":\"True\",\"hovertemplate\":\"color=detergent<br>x=%{x}<br>y=%{y}<extra></extra>\",\"legendgroup\":\"detergent\",\"marker\":{\"color\":\"#FF97FF\",\"pattern\":{\"shape\":\"\"}},\"name\":\"detergent\",\"offsetgroup\":\"detergent\",\"orientation\":\"v\",\"showlegend\":true,\"textposition\":\"auto\",\"x\":[\"detergent\"],\"xaxis\":\"x\",\"y\":[130],\"yaxis\":\"y\",\"type\":\"bar\"},{\"alignmentgroup\":\"True\",\"hovertemplate\":\"color=packaged fruit/vegetables<br>x=%{x}<br>y=%{y}<extra></extra>\",\"legendgroup\":\"packaged fruit/vegetables\",\"marker\":{\"color\":\"#FECB52\",\"pattern\":{\"shape\":\"\"}},\"name\":\"packaged fruit/vegetables\",\"offsetgroup\":\"packaged fruit/vegetables\",\"orientation\":\"v\",\"showlegend\":true,\"textposition\":\"auto\",\"x\":[\"packaged fruit/vegetables\"],\"xaxis\":\"x\",\"y\":[128],\"yaxis\":\"y\",\"type\":\"bar\"},{\"alignmentgroup\":\"True\",\"hovertemplate\":\"color=baking powder<br>x=%{x}<br>y=%{y}<extra></extra>\",\"legendgroup\":\"baking powder\",\"marker\":{\"color\":\"#636efa\",\"pattern\":{\"shape\":\"\"}},\"name\":\"baking powder\",\"offsetgroup\":\"baking powder\",\"orientation\":\"v\",\"showlegend\":true,\"textposition\":\"auto\",\"x\":[\"baking powder\"],\"xaxis\":\"x\",\"y\":[122],\"yaxis\":\"y\",\"type\":\"bar\"},{\"alignmentgroup\":\"True\",\"hovertemplate\":\"color=pasta<br>x=%{x}<br>y=%{y}<extra></extra>\",\"legendgroup\":\"pasta\",\"marker\":{\"color\":\"#EF553B\",\"pattern\":{\"shape\":\"\"}},\"name\":\"pasta\",\"offsetgroup\":\"pasta\",\"orientation\":\"v\",\"showlegend\":true,\"textposition\":\"auto\",\"x\":[\"pasta\"],\"xaxis\":\"x\",\"y\":[121],\"yaxis\":\"y\",\"type\":\"bar\"},{\"alignmentgroup\":\"True\",\"hovertemplate\":\"color=pot plants<br>x=%{x}<br>y=%{y}<extra></extra>\",\"legendgroup\":\"pot plants\",\"marker\":{\"color\":\"#00cc96\",\"pattern\":{\"shape\":\"\"}},\"name\":\"pot plants\",\"offsetgroup\":\"pot plants\",\"orientation\":\"v\",\"showlegend\":true,\"textposition\":\"auto\",\"x\":[\"pot plants\"],\"xaxis\":\"x\",\"y\":[118],\"yaxis\":\"y\",\"type\":\"bar\"},{\"alignmentgroup\":\"True\",\"hovertemplate\":\"color=canned fish<br>x=%{x}<br>y=%{y}<extra></extra>\",\"legendgroup\":\"canned fish\",\"marker\":{\"color\":\"#ab63fa\",\"pattern\":{\"shape\":\"\"}},\"name\":\"canned fish\",\"offsetgroup\":\"canned fish\",\"orientation\":\"v\",\"showlegend\":true,\"textposition\":\"auto\",\"x\":[\"canned fish\"],\"xaxis\":\"x\",\"y\":[116],\"yaxis\":\"y\",\"type\":\"bar\"},{\"alignmentgroup\":\"True\",\"hovertemplate\":\"color=seasonal products<br>x=%{x}<br>y=%{y}<extra></extra>\",\"legendgroup\":\"seasonal products\",\"marker\":{\"color\":\"#FFA15A\",\"pattern\":{\"shape\":\"\"}},\"name\":\"seasonal products\",\"offsetgroup\":\"seasonal products\",\"orientation\":\"v\",\"showlegend\":true,\"textposition\":\"auto\",\"x\":[\"seasonal products\"],\"xaxis\":\"x\",\"y\":[106],\"yaxis\":\"y\",\"type\":\"bar\"},{\"alignmentgroup\":\"True\",\"hovertemplate\":\"color=liquor<br>x=%{x}<br>y=%{y}<extra></extra>\",\"legendgroup\":\"liquor\",\"marker\":{\"color\":\"#19d3f3\",\"pattern\":{\"shape\":\"\"}},\"name\":\"liquor\",\"offsetgroup\":\"liquor\",\"orientation\":\"v\",\"showlegend\":true,\"textposition\":\"auto\",\"x\":[\"liquor\"],\"xaxis\":\"x\",\"y\":[103],\"yaxis\":\"y\",\"type\":\"bar\"},{\"alignmentgroup\":\"True\",\"hovertemplate\":\"color=frozen fish<br>x=%{x}<br>y=%{y}<extra></extra>\",\"legendgroup\":\"frozen fish\",\"marker\":{\"color\":\"#FF6692\",\"pattern\":{\"shape\":\"\"}},\"name\":\"frozen fish\",\"offsetgroup\":\"frozen fish\",\"orientation\":\"v\",\"showlegend\":true,\"textposition\":\"auto\",\"x\":[\"frozen fish\"],\"xaxis\":\"x\",\"y\":[102],\"yaxis\":\"y\",\"type\":\"bar\"},{\"alignmentgroup\":\"True\",\"hovertemplate\":\"color=spread cheese<br>x=%{x}<br>y=%{y}<extra></extra>\",\"legendgroup\":\"spread cheese\",\"marker\":{\"color\":\"#B6E880\",\"pattern\":{\"shape\":\"\"}},\"name\":\"spread cheese\",\"offsetgroup\":\"spread cheese\",\"orientation\":\"v\",\"showlegend\":true,\"textposition\":\"auto\",\"x\":[\"spread cheese\"],\"xaxis\":\"x\",\"y\":[100],\"yaxis\":\"y\",\"type\":\"bar\"},{\"alignmentgroup\":\"True\",\"hovertemplate\":\"color=condensed milk<br>x=%{x}<br>y=%{y}<extra></extra>\",\"legendgroup\":\"condensed milk\",\"marker\":{\"color\":\"#FF97FF\",\"pattern\":{\"shape\":\"\"}},\"name\":\"condensed milk\",\"offsetgroup\":\"condensed milk\",\"orientation\":\"v\",\"showlegend\":true,\"textposition\":\"auto\",\"x\":[\"condensed milk\"],\"xaxis\":\"x\",\"y\":[98],\"yaxis\":\"y\",\"type\":\"bar\"},{\"alignmentgroup\":\"True\",\"hovertemplate\":\"color=cake bar<br>x=%{x}<br>y=%{y}<extra></extra>\",\"legendgroup\":\"cake bar\",\"marker\":{\"color\":\"#FECB52\",\"pattern\":{\"shape\":\"\"}},\"name\":\"cake bar\",\"offsetgroup\":\"cake bar\",\"orientation\":\"v\",\"showlegend\":true,\"textposition\":\"auto\",\"x\":[\"cake bar\"],\"xaxis\":\"x\",\"y\":[93],\"yaxis\":\"y\",\"type\":\"bar\"},{\"alignmentgroup\":\"True\",\"hovertemplate\":\"color=mustard<br>x=%{x}<br>y=%{y}<extra></extra>\",\"legendgroup\":\"mustard\",\"marker\":{\"color\":\"#636efa\",\"pattern\":{\"shape\":\"\"}},\"name\":\"mustard\",\"offsetgroup\":\"mustard\",\"orientation\":\"v\",\"showlegend\":true,\"textposition\":\"auto\",\"x\":[\"mustard\"],\"xaxis\":\"x\",\"y\":[92],\"yaxis\":\"y\",\"type\":\"bar\"},{\"alignmentgroup\":\"True\",\"hovertemplate\":\"color=frozen dessert<br>x=%{x}<br>y=%{y}<extra></extra>\",\"legendgroup\":\"frozen dessert\",\"marker\":{\"color\":\"#EF553B\",\"pattern\":{\"shape\":\"\"}},\"name\":\"frozen dessert\",\"offsetgroup\":\"frozen dessert\",\"orientation\":\"v\",\"showlegend\":true,\"textposition\":\"auto\",\"x\":[\"frozen dessert\"],\"xaxis\":\"x\",\"y\":[92],\"yaxis\":\"y\",\"type\":\"bar\"},{\"alignmentgroup\":\"True\",\"hovertemplate\":\"color=salt<br>x=%{x}<br>y=%{y}<extra></extra>\",\"legendgroup\":\"salt\",\"marker\":{\"color\":\"#00cc96\",\"pattern\":{\"shape\":\"\"}},\"name\":\"salt\",\"offsetgroup\":\"salt\",\"orientation\":\"v\",\"showlegend\":true,\"textposition\":\"auto\",\"x\":[\"salt\"],\"xaxis\":\"x\",\"y\":[89],\"yaxis\":\"y\",\"type\":\"bar\"},{\"alignmentgroup\":\"True\",\"hovertemplate\":\"color=pet care<br>x=%{x}<br>y=%{y}<extra></extra>\",\"legendgroup\":\"pet care\",\"marker\":{\"color\":\"#ab63fa\",\"pattern\":{\"shape\":\"\"}},\"name\":\"pet care\",\"offsetgroup\":\"pet care\",\"orientation\":\"v\",\"showlegend\":true,\"textposition\":\"auto\",\"x\":[\"pet care\"],\"xaxis\":\"x\",\"y\":[85],\"yaxis\":\"y\",\"type\":\"bar\"},{\"alignmentgroup\":\"True\",\"hovertemplate\":\"color=canned vegetables<br>x=%{x}<br>y=%{y}<extra></extra>\",\"legendgroup\":\"canned vegetables\",\"marker\":{\"color\":\"#FFA15A\",\"pattern\":{\"shape\":\"\"}},\"name\":\"canned vegetables\",\"offsetgroup\":\"canned vegetables\",\"orientation\":\"v\",\"showlegend\":true,\"textposition\":\"auto\",\"x\":[\"canned vegetables\"],\"xaxis\":\"x\",\"y\":[82],\"yaxis\":\"y\",\"type\":\"bar\"},{\"alignmentgroup\":\"True\",\"hovertemplate\":\"color=roll products <br>x=%{x}<br>y=%{y}<extra></extra>\",\"legendgroup\":\"roll products \",\"marker\":{\"color\":\"#19d3f3\",\"pattern\":{\"shape\":\"\"}},\"name\":\"roll products \",\"offsetgroup\":\"roll products \",\"orientation\":\"v\",\"showlegend\":true,\"textposition\":\"auto\",\"x\":[\"roll products \"],\"xaxis\":\"x\",\"y\":[82],\"yaxis\":\"y\",\"type\":\"bar\"},{\"alignmentgroup\":\"True\",\"hovertemplate\":\"color=turkey<br>x=%{x}<br>y=%{y}<extra></extra>\",\"legendgroup\":\"turkey\",\"marker\":{\"color\":\"#FF6692\",\"pattern\":{\"shape\":\"\"}},\"name\":\"turkey\",\"offsetgroup\":\"turkey\",\"orientation\":\"v\",\"showlegend\":true,\"textposition\":\"auto\",\"x\":[\"turkey\"],\"xaxis\":\"x\",\"y\":[80],\"yaxis\":\"y\",\"type\":\"bar\"},{\"alignmentgroup\":\"True\",\"hovertemplate\":\"color=photo/film<br>x=%{x}<br>y=%{y}<extra></extra>\",\"legendgroup\":\"photo/film\",\"marker\":{\"color\":\"#B6E880\",\"pattern\":{\"shape\":\"\"}},\"name\":\"photo/film\",\"offsetgroup\":\"photo/film\",\"orientation\":\"v\",\"showlegend\":true,\"textposition\":\"auto\",\"x\":[\"photo/film\"],\"xaxis\":\"x\",\"y\":[79],\"yaxis\":\"y\",\"type\":\"bar\"},{\"alignmentgroup\":\"True\",\"hovertemplate\":\"color=mayonnaise<br>x=%{x}<br>y=%{y}<extra></extra>\",\"legendgroup\":\"mayonnaise\",\"marker\":{\"color\":\"#FF97FF\",\"pattern\":{\"shape\":\"\"}},\"name\":\"mayonnaise\",\"offsetgroup\":\"mayonnaise\",\"orientation\":\"v\",\"showlegend\":true,\"textposition\":\"auto\",\"x\":[\"mayonnaise\"],\"xaxis\":\"x\",\"y\":[75],\"yaxis\":\"y\",\"type\":\"bar\"},{\"alignmentgroup\":\"True\",\"hovertemplate\":\"color=cling film/bags<br>x=%{x}<br>y=%{y}<extra></extra>\",\"legendgroup\":\"cling film/bags\",\"marker\":{\"color\":\"#FECB52\",\"pattern\":{\"shape\":\"\"}},\"name\":\"cling film/bags\",\"offsetgroup\":\"cling film/bags\",\"orientation\":\"v\",\"showlegend\":true,\"textposition\":\"auto\",\"x\":[\"cling film/bags\"],\"xaxis\":\"x\",\"y\":[74],\"yaxis\":\"y\",\"type\":\"bar\"},{\"alignmentgroup\":\"True\",\"hovertemplate\":\"color=dish cleaner<br>x=%{x}<br>y=%{y}<extra></extra>\",\"legendgroup\":\"dish cleaner\",\"marker\":{\"color\":\"#636efa\",\"pattern\":{\"shape\":\"\"}},\"name\":\"dish cleaner\",\"offsetgroup\":\"dish cleaner\",\"orientation\":\"v\",\"showlegend\":true,\"textposition\":\"auto\",\"x\":[\"dish cleaner\"],\"xaxis\":\"x\",\"y\":[73],\"yaxis\":\"y\",\"type\":\"bar\"},{\"alignmentgroup\":\"True\",\"hovertemplate\":\"color=frozen potato products<br>x=%{x}<br>y=%{y}<extra></extra>\",\"legendgroup\":\"frozen potato products\",\"marker\":{\"color\":\"#EF553B\",\"pattern\":{\"shape\":\"\"}},\"name\":\"frozen potato products\",\"offsetgroup\":\"frozen potato products\",\"orientation\":\"v\",\"showlegend\":true,\"textposition\":\"auto\",\"x\":[\"frozen potato products\"],\"xaxis\":\"x\",\"y\":[72],\"yaxis\":\"y\",\"type\":\"bar\"},{\"alignmentgroup\":\"True\",\"hovertemplate\":\"color=specialty cheese<br>x=%{x}<br>y=%{y}<extra></extra>\",\"legendgroup\":\"specialty cheese\",\"marker\":{\"color\":\"#00cc96\",\"pattern\":{\"shape\":\"\"}},\"name\":\"specialty cheese\",\"offsetgroup\":\"specialty cheese\",\"orientation\":\"v\",\"showlegend\":true,\"textposition\":\"auto\",\"x\":[\"specialty cheese\"],\"xaxis\":\"x\",\"y\":[72],\"yaxis\":\"y\",\"type\":\"bar\"},{\"alignmentgroup\":\"True\",\"hovertemplate\":\"color=flower (seeds)<br>x=%{x}<br>y=%{y}<extra></extra>\",\"legendgroup\":\"flower (seeds)\",\"marker\":{\"color\":\"#ab63fa\",\"pattern\":{\"shape\":\"\"}},\"name\":\"flower (seeds)\",\"offsetgroup\":\"flower (seeds)\",\"orientation\":\"v\",\"showlegend\":true,\"textposition\":\"auto\",\"x\":[\"flower (seeds)\"],\"xaxis\":\"x\",\"y\":[70],\"yaxis\":\"y\",\"type\":\"bar\"},{\"alignmentgroup\":\"True\",\"hovertemplate\":\"color=sweet spreads<br>x=%{x}<br>y=%{y}<extra></extra>\",\"legendgroup\":\"sweet spreads\",\"marker\":{\"color\":\"#FFA15A\",\"pattern\":{\"shape\":\"\"}},\"name\":\"sweet spreads\",\"offsetgroup\":\"sweet spreads\",\"orientation\":\"v\",\"showlegend\":true,\"textposition\":\"auto\",\"x\":[\"sweet spreads\"],\"xaxis\":\"x\",\"y\":[69],\"yaxis\":\"y\",\"type\":\"bar\"},{\"alignmentgroup\":\"True\",\"hovertemplate\":\"color=liquor (appetizer)<br>x=%{x}<br>y=%{y}<extra></extra>\",\"legendgroup\":\"liquor (appetizer)\",\"marker\":{\"color\":\"#19d3f3\",\"pattern\":{\"shape\":\"\"}},\"name\":\"liquor (appetizer)\",\"offsetgroup\":\"liquor (appetizer)\",\"orientation\":\"v\",\"showlegend\":true,\"textposition\":\"auto\",\"x\":[\"liquor (appetizer)\"],\"xaxis\":\"x\",\"y\":[67],\"yaxis\":\"y\",\"type\":\"bar\"},{\"alignmentgroup\":\"True\",\"hovertemplate\":\"color=dog food<br>x=%{x}<br>y=%{y}<extra></extra>\",\"legendgroup\":\"dog food\",\"marker\":{\"color\":\"#FF6692\",\"pattern\":{\"shape\":\"\"}},\"name\":\"dog food\",\"offsetgroup\":\"dog food\",\"orientation\":\"v\",\"showlegend\":true,\"textposition\":\"auto\",\"x\":[\"dog food\"],\"xaxis\":\"x\",\"y\":[67],\"yaxis\":\"y\",\"type\":\"bar\"},{\"alignmentgroup\":\"True\",\"hovertemplate\":\"color=candles<br>x=%{x}<br>y=%{y}<extra></extra>\",\"legendgroup\":\"candles\",\"marker\":{\"color\":\"#B6E880\",\"pattern\":{\"shape\":\"\"}},\"name\":\"candles\",\"offsetgroup\":\"candles\",\"orientation\":\"v\",\"showlegend\":true,\"textposition\":\"auto\",\"x\":[\"candles\"],\"xaxis\":\"x\",\"y\":[66],\"yaxis\":\"y\",\"type\":\"bar\"},{\"alignmentgroup\":\"True\",\"hovertemplate\":\"color=finished products<br>x=%{x}<br>y=%{y}<extra></extra>\",\"legendgroup\":\"finished products\",\"marker\":{\"color\":\"#FF97FF\",\"pattern\":{\"shape\":\"\"}},\"name\":\"finished products\",\"offsetgroup\":\"finished products\",\"orientation\":\"v\",\"showlegend\":true,\"textposition\":\"auto\",\"x\":[\"finished products\"],\"xaxis\":\"x\",\"y\":[64],\"yaxis\":\"y\",\"type\":\"bar\"},{\"alignmentgroup\":\"True\",\"hovertemplate\":\"color=instant coffee<br>x=%{x}<br>y=%{y}<extra></extra>\",\"legendgroup\":\"instant coffee\",\"marker\":{\"color\":\"#FECB52\",\"pattern\":{\"shape\":\"\"}},\"name\":\"instant coffee\",\"offsetgroup\":\"instant coffee\",\"orientation\":\"v\",\"showlegend\":true,\"textposition\":\"auto\",\"x\":[\"instant coffee\"],\"xaxis\":\"x\",\"y\":[61],\"yaxis\":\"y\",\"type\":\"bar\"},{\"alignmentgroup\":\"True\",\"hovertemplate\":\"color=chocolate marshmallow<br>x=%{x}<br>y=%{y}<extra></extra>\",\"legendgroup\":\"chocolate marshmallow\",\"marker\":{\"color\":\"#636efa\",\"pattern\":{\"shape\":\"\"}},\"name\":\"chocolate marshmallow\",\"offsetgroup\":\"chocolate marshmallow\",\"orientation\":\"v\",\"showlegend\":true,\"textposition\":\"auto\",\"x\":[\"chocolate marshmallow\"],\"xaxis\":\"x\",\"y\":[60],\"yaxis\":\"y\",\"type\":\"bar\"},{\"alignmentgroup\":\"True\",\"hovertemplate\":\"color=Instant food products<br>x=%{x}<br>y=%{y}<extra></extra>\",\"legendgroup\":\"Instant food products\",\"marker\":{\"color\":\"#EF553B\",\"pattern\":{\"shape\":\"\"}},\"name\":\"Instant food products\",\"offsetgroup\":\"Instant food products\",\"orientation\":\"v\",\"showlegend\":true,\"textposition\":\"auto\",\"x\":[\"Instant food products\"],\"xaxis\":\"x\",\"y\":[60],\"yaxis\":\"y\",\"type\":\"bar\"},{\"alignmentgroup\":\"True\",\"hovertemplate\":\"color=zwieback<br>x=%{x}<br>y=%{y}<extra></extra>\",\"legendgroup\":\"zwieback\",\"marker\":{\"color\":\"#00cc96\",\"pattern\":{\"shape\":\"\"}},\"name\":\"zwieback\",\"offsetgroup\":\"zwieback\",\"orientation\":\"v\",\"showlegend\":true,\"textposition\":\"auto\",\"x\":[\"zwieback\"],\"xaxis\":\"x\",\"y\":[60],\"yaxis\":\"y\",\"type\":\"bar\"},{\"alignmentgroup\":\"True\",\"hovertemplate\":\"color=vinegar<br>x=%{x}<br>y=%{y}<extra></extra>\",\"legendgroup\":\"vinegar\",\"marker\":{\"color\":\"#ab63fa\",\"pattern\":{\"shape\":\"\"}},\"name\":\"vinegar\",\"offsetgroup\":\"vinegar\",\"orientation\":\"v\",\"showlegend\":true,\"textposition\":\"auto\",\"x\":[\"vinegar\"],\"xaxis\":\"x\",\"y\":[51],\"yaxis\":\"y\",\"type\":\"bar\"},{\"alignmentgroup\":\"True\",\"hovertemplate\":\"color=liver loaf<br>x=%{x}<br>y=%{y}<extra></extra>\",\"legendgroup\":\"liver loaf\",\"marker\":{\"color\":\"#FFA15A\",\"pattern\":{\"shape\":\"\"}},\"name\":\"liver loaf\",\"offsetgroup\":\"liver loaf\",\"orientation\":\"v\",\"showlegend\":true,\"textposition\":\"auto\",\"x\":[\"liver loaf\"],\"xaxis\":\"x\",\"y\":[50],\"yaxis\":\"y\",\"type\":\"bar\"},{\"alignmentgroup\":\"True\",\"hovertemplate\":\"color=rice<br>x=%{x}<br>y=%{y}<extra></extra>\",\"legendgroup\":\"rice\",\"marker\":{\"color\":\"#19d3f3\",\"pattern\":{\"shape\":\"\"}},\"name\":\"rice\",\"offsetgroup\":\"rice\",\"orientation\":\"v\",\"showlegend\":true,\"textposition\":\"auto\",\"x\":[\"rice\"],\"xaxis\":\"x\",\"y\":[49],\"yaxis\":\"y\",\"type\":\"bar\"},{\"alignmentgroup\":\"True\",\"hovertemplate\":\"color=soups<br>x=%{x}<br>y=%{y}<extra></extra>\",\"legendgroup\":\"soups\",\"marker\":{\"color\":\"#FF6692\",\"pattern\":{\"shape\":\"\"}},\"name\":\"soups\",\"offsetgroup\":\"soups\",\"orientation\":\"v\",\"showlegend\":true,\"textposition\":\"auto\",\"x\":[\"soups\"],\"xaxis\":\"x\",\"y\":[48],\"yaxis\":\"y\",\"type\":\"bar\"},{\"alignmentgroup\":\"True\",\"hovertemplate\":\"color=popcorn<br>x=%{x}<br>y=%{y}<extra></extra>\",\"legendgroup\":\"popcorn\",\"marker\":{\"color\":\"#B6E880\",\"pattern\":{\"shape\":\"\"}},\"name\":\"popcorn\",\"offsetgroup\":\"popcorn\",\"orientation\":\"v\",\"showlegend\":true,\"textposition\":\"auto\",\"x\":[\"popcorn\"],\"xaxis\":\"x\",\"y\":[48],\"yaxis\":\"y\",\"type\":\"bar\"},{\"alignmentgroup\":\"True\",\"hovertemplate\":\"color=sparkling wine<br>x=%{x}<br>y=%{y}<extra></extra>\",\"legendgroup\":\"sparkling wine\",\"marker\":{\"color\":\"#FF97FF\",\"pattern\":{\"shape\":\"\"}},\"name\":\"sparkling wine\",\"offsetgroup\":\"sparkling wine\",\"orientation\":\"v\",\"showlegend\":true,\"textposition\":\"auto\",\"x\":[\"sparkling wine\"],\"xaxis\":\"x\",\"y\":[46],\"yaxis\":\"y\",\"type\":\"bar\"},{\"alignmentgroup\":\"True\",\"hovertemplate\":\"color=curd cheese<br>x=%{x}<br>y=%{y}<extra></extra>\",\"legendgroup\":\"curd cheese\",\"marker\":{\"color\":\"#FECB52\",\"pattern\":{\"shape\":\"\"}},\"name\":\"curd cheese\",\"offsetgroup\":\"curd cheese\",\"orientation\":\"v\",\"showlegend\":true,\"textposition\":\"auto\",\"x\":[\"curd cheese\"],\"xaxis\":\"x\",\"y\":[46],\"yaxis\":\"y\",\"type\":\"bar\"},{\"alignmentgroup\":\"True\",\"hovertemplate\":\"color=house keeping products<br>x=%{x}<br>y=%{y}<extra></extra>\",\"legendgroup\":\"house keeping products\",\"marker\":{\"color\":\"#636efa\",\"pattern\":{\"shape\":\"\"}},\"name\":\"house keeping products\",\"offsetgroup\":\"house keeping products\",\"orientation\":\"v\",\"showlegend\":true,\"textposition\":\"auto\",\"x\":[\"house keeping products\"],\"xaxis\":\"x\",\"y\":[45],\"yaxis\":\"y\",\"type\":\"bar\"},{\"alignmentgroup\":\"True\",\"hovertemplate\":\"color=sauces<br>x=%{x}<br>y=%{y}<extra></extra>\",\"legendgroup\":\"sauces\",\"marker\":{\"color\":\"#EF553B\",\"pattern\":{\"shape\":\"\"}},\"name\":\"sauces\",\"offsetgroup\":\"sauces\",\"orientation\":\"v\",\"showlegend\":true,\"textposition\":\"auto\",\"x\":[\"sauces\"],\"xaxis\":\"x\",\"y\":[44],\"yaxis\":\"y\",\"type\":\"bar\"},{\"alignmentgroup\":\"True\",\"hovertemplate\":\"color=cereals<br>x=%{x}<br>y=%{y}<extra></extra>\",\"legendgroup\":\"cereals\",\"marker\":{\"color\":\"#00cc96\",\"pattern\":{\"shape\":\"\"}},\"name\":\"cereals\",\"offsetgroup\":\"cereals\",\"orientation\":\"v\",\"showlegend\":true,\"textposition\":\"auto\",\"x\":[\"cereals\"],\"xaxis\":\"x\",\"y\":[42],\"yaxis\":\"y\",\"type\":\"bar\"},{\"alignmentgroup\":\"True\",\"hovertemplate\":\"color=softener<br>x=%{x}<br>y=%{y}<extra></extra>\",\"legendgroup\":\"softener\",\"marker\":{\"color\":\"#ab63fa\",\"pattern\":{\"shape\":\"\"}},\"name\":\"softener\",\"offsetgroup\":\"softener\",\"orientation\":\"v\",\"showlegend\":true,\"textposition\":\"auto\",\"x\":[\"softener\"],\"xaxis\":\"x\",\"y\":[41],\"yaxis\":\"y\",\"type\":\"bar\"},{\"alignmentgroup\":\"True\",\"hovertemplate\":\"color=female sanitary products<br>x=%{x}<br>y=%{y}<extra></extra>\",\"legendgroup\":\"female sanitary products\",\"marker\":{\"color\":\"#FFA15A\",\"pattern\":{\"shape\":\"\"}},\"name\":\"female sanitary products\",\"offsetgroup\":\"female sanitary products\",\"orientation\":\"v\",\"showlegend\":true,\"textposition\":\"auto\",\"x\":[\"female sanitary products\"],\"xaxis\":\"x\",\"y\":[40],\"yaxis\":\"y\",\"type\":\"bar\"},{\"alignmentgroup\":\"True\",\"hovertemplate\":\"color=spices<br>x=%{x}<br>y=%{y}<extra></extra>\",\"legendgroup\":\"spices\",\"marker\":{\"color\":\"#19d3f3\",\"pattern\":{\"shape\":\"\"}},\"name\":\"spices\",\"offsetgroup\":\"spices\",\"orientation\":\"v\",\"showlegend\":true,\"textposition\":\"auto\",\"x\":[\"spices\"],\"xaxis\":\"x\",\"y\":[40],\"yaxis\":\"y\",\"type\":\"bar\"},{\"alignmentgroup\":\"True\",\"hovertemplate\":\"color=brandy<br>x=%{x}<br>y=%{y}<extra></extra>\",\"legendgroup\":\"brandy\",\"marker\":{\"color\":\"#FF6692\",\"pattern\":{\"shape\":\"\"}},\"name\":\"brandy\",\"offsetgroup\":\"brandy\",\"orientation\":\"v\",\"showlegend\":true,\"textposition\":\"auto\",\"x\":[\"brandy\"],\"xaxis\":\"x\",\"y\":[38],\"yaxis\":\"y\",\"type\":\"bar\"},{\"alignmentgroup\":\"True\",\"hovertemplate\":\"color=male cosmetics<br>x=%{x}<br>y=%{y}<extra></extra>\",\"legendgroup\":\"male cosmetics\",\"marker\":{\"color\":\"#B6E880\",\"pattern\":{\"shape\":\"\"}},\"name\":\"male cosmetics\",\"offsetgroup\":\"male cosmetics\",\"orientation\":\"v\",\"showlegend\":true,\"textposition\":\"auto\",\"x\":[\"male cosmetics\"],\"xaxis\":\"x\",\"y\":[37],\"yaxis\":\"y\",\"type\":\"bar\"},{\"alignmentgroup\":\"True\",\"hovertemplate\":\"color=meat spreads<br>x=%{x}<br>y=%{y}<extra></extra>\",\"legendgroup\":\"meat spreads\",\"marker\":{\"color\":\"#FF97FF\",\"pattern\":{\"shape\":\"\"}},\"name\":\"meat spreads\",\"offsetgroup\":\"meat spreads\",\"orientation\":\"v\",\"showlegend\":true,\"textposition\":\"auto\",\"x\":[\"meat spreads\"],\"xaxis\":\"x\",\"y\":[35],\"yaxis\":\"y\",\"type\":\"bar\"},{\"alignmentgroup\":\"True\",\"hovertemplate\":\"color=jam<br>x=%{x}<br>y=%{y}<extra></extra>\",\"legendgroup\":\"jam\",\"marker\":{\"color\":\"#FECB52\",\"pattern\":{\"shape\":\"\"}},\"name\":\"jam\",\"offsetgroup\":\"jam\",\"orientation\":\"v\",\"showlegend\":true,\"textposition\":\"auto\",\"x\":[\"jam\"],\"xaxis\":\"x\",\"y\":[34],\"yaxis\":\"y\",\"type\":\"bar\"},{\"alignmentgroup\":\"True\",\"hovertemplate\":\"color=nuts/prunes<br>x=%{x}<br>y=%{y}<extra></extra>\",\"legendgroup\":\"nuts/prunes\",\"marker\":{\"color\":\"#636efa\",\"pattern\":{\"shape\":\"\"}},\"name\":\"nuts/prunes\",\"offsetgroup\":\"nuts/prunes\",\"orientation\":\"v\",\"showlegend\":true,\"textposition\":\"auto\",\"x\":[\"nuts/prunes\"],\"xaxis\":\"x\",\"y\":[33],\"yaxis\":\"y\",\"type\":\"bar\"},{\"alignmentgroup\":\"True\",\"hovertemplate\":\"color=dental care<br>x=%{x}<br>y=%{y}<extra></extra>\",\"legendgroup\":\"dental care\",\"marker\":{\"color\":\"#EF553B\",\"pattern\":{\"shape\":\"\"}},\"name\":\"dental care\",\"offsetgroup\":\"dental care\",\"orientation\":\"v\",\"showlegend\":true,\"textposition\":\"auto\",\"x\":[\"dental care\"],\"xaxis\":\"x\",\"y\":[33],\"yaxis\":\"y\",\"type\":\"bar\"},{\"alignmentgroup\":\"True\",\"hovertemplate\":\"color=rum<br>x=%{x}<br>y=%{y}<extra></extra>\",\"legendgroup\":\"rum\",\"marker\":{\"color\":\"#00cc96\",\"pattern\":{\"shape\":\"\"}},\"name\":\"rum\",\"offsetgroup\":\"rum\",\"orientation\":\"v\",\"showlegend\":true,\"textposition\":\"auto\",\"x\":[\"rum\"],\"xaxis\":\"x\",\"y\":[32],\"yaxis\":\"y\",\"type\":\"bar\"},{\"alignmentgroup\":\"True\",\"hovertemplate\":\"color=ketchup<br>x=%{x}<br>y=%{y}<extra></extra>\",\"legendgroup\":\"ketchup\",\"marker\":{\"color\":\"#ab63fa\",\"pattern\":{\"shape\":\"\"}},\"name\":\"ketchup\",\"offsetgroup\":\"ketchup\",\"orientation\":\"v\",\"showlegend\":true,\"textposition\":\"auto\",\"x\":[\"ketchup\"],\"xaxis\":\"x\",\"y\":[32],\"yaxis\":\"y\",\"type\":\"bar\"},{\"alignmentgroup\":\"True\",\"hovertemplate\":\"color=cleaner<br>x=%{x}<br>y=%{y}<extra></extra>\",\"legendgroup\":\"cleaner\",\"marker\":{\"color\":\"#FFA15A\",\"pattern\":{\"shape\":\"\"}},\"name\":\"cleaner\",\"offsetgroup\":\"cleaner\",\"orientation\":\"v\",\"showlegend\":true,\"textposition\":\"auto\",\"x\":[\"cleaner\"],\"xaxis\":\"x\",\"y\":[31],\"yaxis\":\"y\",\"type\":\"bar\"},{\"alignmentgroup\":\"True\",\"hovertemplate\":\"color=kitchen towels<br>x=%{x}<br>y=%{y}<extra></extra>\",\"legendgroup\":\"kitchen towels\",\"marker\":{\"color\":\"#19d3f3\",\"pattern\":{\"shape\":\"\"}},\"name\":\"kitchen towels\",\"offsetgroup\":\"kitchen towels\",\"orientation\":\"v\",\"showlegend\":true,\"textposition\":\"auto\",\"x\":[\"kitchen towels\"],\"xaxis\":\"x\",\"y\":[30],\"yaxis\":\"y\",\"type\":\"bar\"},{\"alignmentgroup\":\"True\",\"hovertemplate\":\"color=light bulbs<br>x=%{x}<br>y=%{y}<extra></extra>\",\"legendgroup\":\"light bulbs\",\"marker\":{\"color\":\"#FF6692\",\"pattern\":{\"shape\":\"\"}},\"name\":\"light bulbs\",\"offsetgroup\":\"light bulbs\",\"orientation\":\"v\",\"showlegend\":true,\"textposition\":\"auto\",\"x\":[\"light bulbs\"],\"xaxis\":\"x\",\"y\":[29],\"yaxis\":\"y\",\"type\":\"bar\"},{\"alignmentgroup\":\"True\",\"hovertemplate\":\"color=fish<br>x=%{x}<br>y=%{y}<extra></extra>\",\"legendgroup\":\"fish\",\"marker\":{\"color\":\"#B6E880\",\"pattern\":{\"shape\":\"\"}},\"name\":\"fish\",\"offsetgroup\":\"fish\",\"orientation\":\"v\",\"showlegend\":true,\"textposition\":\"auto\",\"x\":[\"fish\"],\"xaxis\":\"x\",\"y\":[29],\"yaxis\":\"y\",\"type\":\"bar\"},{\"alignmentgroup\":\"True\",\"hovertemplate\":\"color=artif. sweetener<br>x=%{x}<br>y=%{y}<extra></extra>\",\"legendgroup\":\"artif. sweetener\",\"marker\":{\"color\":\"#FF97FF\",\"pattern\":{\"shape\":\"\"}},\"name\":\"artif. sweetener\",\"offsetgroup\":\"artif. sweetener\",\"orientation\":\"v\",\"showlegend\":true,\"textposition\":\"auto\",\"x\":[\"artif. sweetener\"],\"xaxis\":\"x\",\"y\":[29],\"yaxis\":\"y\",\"type\":\"bar\"},{\"alignmentgroup\":\"True\",\"hovertemplate\":\"color=specialty fat<br>x=%{x}<br>y=%{y}<extra></extra>\",\"legendgroup\":\"specialty fat\",\"marker\":{\"color\":\"#FECB52\",\"pattern\":{\"shape\":\"\"}},\"name\":\"specialty fat\",\"offsetgroup\":\"specialty fat\",\"orientation\":\"v\",\"showlegend\":true,\"textposition\":\"auto\",\"x\":[\"specialty fat\"],\"xaxis\":\"x\",\"y\":[29],\"yaxis\":\"y\",\"type\":\"bar\"},{\"alignmentgroup\":\"True\",\"hovertemplate\":\"color=snack products<br>x=%{x}<br>y=%{y}<extra></extra>\",\"legendgroup\":\"snack products\",\"marker\":{\"color\":\"#636efa\",\"pattern\":{\"shape\":\"\"}},\"name\":\"snack products\",\"offsetgroup\":\"snack products\",\"orientation\":\"v\",\"showlegend\":true,\"textposition\":\"auto\",\"x\":[\"snack products\"],\"xaxis\":\"x\",\"y\":[27],\"yaxis\":\"y\",\"type\":\"bar\"},{\"alignmentgroup\":\"True\",\"hovertemplate\":\"color=tea<br>x=%{x}<br>y=%{y}<extra></extra>\",\"legendgroup\":\"tea\",\"marker\":{\"color\":\"#EF553B\",\"pattern\":{\"shape\":\"\"}},\"name\":\"tea\",\"offsetgroup\":\"tea\",\"orientation\":\"v\",\"showlegend\":true,\"textposition\":\"auto\",\"x\":[\"tea\"],\"xaxis\":\"x\",\"y\":[27],\"yaxis\":\"y\",\"type\":\"bar\"},{\"alignmentgroup\":\"True\",\"hovertemplate\":\"color=potato products<br>x=%{x}<br>y=%{y}<extra></extra>\",\"legendgroup\":\"potato products\",\"marker\":{\"color\":\"#00cc96\",\"pattern\":{\"shape\":\"\"}},\"name\":\"potato products\",\"offsetgroup\":\"potato products\",\"orientation\":\"v\",\"showlegend\":true,\"textposition\":\"auto\",\"x\":[\"potato products\"],\"xaxis\":\"x\",\"y\":[23],\"yaxis\":\"y\",\"type\":\"bar\"},{\"alignmentgroup\":\"True\",\"hovertemplate\":\"color=nut snack<br>x=%{x}<br>y=%{y}<extra></extra>\",\"legendgroup\":\"nut snack\",\"marker\":{\"color\":\"#ab63fa\",\"pattern\":{\"shape\":\"\"}},\"name\":\"nut snack\",\"offsetgroup\":\"nut snack\",\"orientation\":\"v\",\"showlegend\":true,\"textposition\":\"auto\",\"x\":[\"nut snack\"],\"xaxis\":\"x\",\"y\":[22],\"yaxis\":\"y\",\"type\":\"bar\"},{\"alignmentgroup\":\"True\",\"hovertemplate\":\"color=abrasive cleaner<br>x=%{x}<br>y=%{y}<extra></extra>\",\"legendgroup\":\"abrasive cleaner\",\"marker\":{\"color\":\"#FFA15A\",\"pattern\":{\"shape\":\"\"}},\"name\":\"abrasive cleaner\",\"offsetgroup\":\"abrasive cleaner\",\"orientation\":\"v\",\"showlegend\":true,\"textposition\":\"auto\",\"x\":[\"abrasive cleaner\"],\"xaxis\":\"x\",\"y\":[22],\"yaxis\":\"y\",\"type\":\"bar\"},{\"alignmentgroup\":\"True\",\"hovertemplate\":\"color=organic sausage<br>x=%{x}<br>y=%{y}<extra></extra>\",\"legendgroup\":\"organic sausage\",\"marker\":{\"color\":\"#19d3f3\",\"pattern\":{\"shape\":\"\"}},\"name\":\"organic sausage\",\"offsetgroup\":\"organic sausage\",\"orientation\":\"v\",\"showlegend\":true,\"textposition\":\"auto\",\"x\":[\"organic sausage\"],\"xaxis\":\"x\",\"y\":[22],\"yaxis\":\"y\",\"type\":\"bar\"},{\"alignmentgroup\":\"True\",\"hovertemplate\":\"color=tidbits<br>x=%{x}<br>y=%{y}<extra></extra>\",\"legendgroup\":\"tidbits\",\"marker\":{\"color\":\"#FF6692\",\"pattern\":{\"shape\":\"\"}},\"name\":\"tidbits\",\"offsetgroup\":\"tidbits\",\"orientation\":\"v\",\"showlegend\":true,\"textposition\":\"auto\",\"x\":[\"tidbits\"],\"xaxis\":\"x\",\"y\":[22],\"yaxis\":\"y\",\"type\":\"bar\"},{\"alignmentgroup\":\"True\",\"hovertemplate\":\"color=canned fruit<br>x=%{x}<br>y=%{y}<extra></extra>\",\"legendgroup\":\"canned fruit\",\"marker\":{\"color\":\"#B6E880\",\"pattern\":{\"shape\":\"\"}},\"name\":\"canned fruit\",\"offsetgroup\":\"canned fruit\",\"orientation\":\"v\",\"showlegend\":true,\"textposition\":\"auto\",\"x\":[\"canned fruit\"],\"xaxis\":\"x\",\"y\":[21],\"yaxis\":\"y\",\"type\":\"bar\"},{\"alignmentgroup\":\"True\",\"hovertemplate\":\"color=syrup<br>x=%{x}<br>y=%{y}<extra></extra>\",\"legendgroup\":\"syrup\",\"marker\":{\"color\":\"#FF97FF\",\"pattern\":{\"shape\":\"\"}},\"name\":\"syrup\",\"offsetgroup\":\"syrup\",\"orientation\":\"v\",\"showlegend\":true,\"textposition\":\"auto\",\"x\":[\"syrup\"],\"xaxis\":\"x\",\"y\":[21],\"yaxis\":\"y\",\"type\":\"bar\"},{\"alignmentgroup\":\"True\",\"hovertemplate\":\"color=skin care<br>x=%{x}<br>y=%{y}<extra></extra>\",\"legendgroup\":\"skin care\",\"marker\":{\"color\":\"#FECB52\",\"pattern\":{\"shape\":\"\"}},\"name\":\"skin care\",\"offsetgroup\":\"skin care\",\"orientation\":\"v\",\"showlegend\":true,\"textposition\":\"auto\",\"x\":[\"skin care\"],\"xaxis\":\"x\",\"y\":[20],\"yaxis\":\"y\",\"type\":\"bar\"},{\"alignmentgroup\":\"True\",\"hovertemplate\":\"color=soap<br>x=%{x}<br>y=%{y}<extra></extra>\",\"legendgroup\":\"soap\",\"marker\":{\"color\":\"#636efa\",\"pattern\":{\"shape\":\"\"}},\"name\":\"soap\",\"offsetgroup\":\"soap\",\"orientation\":\"v\",\"showlegend\":true,\"textposition\":\"auto\",\"x\":[\"soap\"],\"xaxis\":\"x\",\"y\":[20],\"yaxis\":\"y\",\"type\":\"bar\"},{\"alignmentgroup\":\"True\",\"hovertemplate\":\"color=prosecco<br>x=%{x}<br>y=%{y}<extra></extra>\",\"legendgroup\":\"prosecco\",\"marker\":{\"color\":\"#EF553B\",\"pattern\":{\"shape\":\"\"}},\"name\":\"prosecco\",\"offsetgroup\":\"prosecco\",\"orientation\":\"v\",\"showlegend\":true,\"textposition\":\"auto\",\"x\":[\"prosecco\"],\"xaxis\":\"x\",\"y\":[19],\"yaxis\":\"y\",\"type\":\"bar\"},{\"alignmentgroup\":\"True\",\"hovertemplate\":\"color=pudding powder<br>x=%{x}<br>y=%{y}<extra></extra>\",\"legendgroup\":\"pudding powder\",\"marker\":{\"color\":\"#00cc96\",\"pattern\":{\"shape\":\"\"}},\"name\":\"pudding powder\",\"offsetgroup\":\"pudding powder\",\"orientation\":\"v\",\"showlegend\":true,\"textposition\":\"auto\",\"x\":[\"pudding powder\"],\"xaxis\":\"x\",\"y\":[17],\"yaxis\":\"y\",\"type\":\"bar\"},{\"alignmentgroup\":\"True\",\"hovertemplate\":\"color=cookware<br>x=%{x}<br>y=%{y}<extra></extra>\",\"legendgroup\":\"cookware\",\"marker\":{\"color\":\"#ab63fa\",\"pattern\":{\"shape\":\"\"}},\"name\":\"cookware\",\"offsetgroup\":\"cookware\",\"orientation\":\"v\",\"showlegend\":true,\"textposition\":\"auto\",\"x\":[\"cookware\"],\"xaxis\":\"x\",\"y\":[17],\"yaxis\":\"y\",\"type\":\"bar\"},{\"alignmentgroup\":\"True\",\"hovertemplate\":\"color=bathroom cleaner<br>x=%{x}<br>y=%{y}<extra></extra>\",\"legendgroup\":\"bathroom cleaner\",\"marker\":{\"color\":\"#FFA15A\",\"pattern\":{\"shape\":\"\"}},\"name\":\"bathroom cleaner\",\"offsetgroup\":\"bathroom cleaner\",\"orientation\":\"v\",\"showlegend\":true,\"textposition\":\"auto\",\"x\":[\"bathroom cleaner\"],\"xaxis\":\"x\",\"y\":[17],\"yaxis\":\"y\",\"type\":\"bar\"},{\"alignmentgroup\":\"True\",\"hovertemplate\":\"color=flower soil/fertilizer<br>x=%{x}<br>y=%{y}<extra></extra>\",\"legendgroup\":\"flower soil/fertilizer\",\"marker\":{\"color\":\"#19d3f3\",\"pattern\":{\"shape\":\"\"}},\"name\":\"flower soil/fertilizer\",\"offsetgroup\":\"flower soil/fertilizer\",\"orientation\":\"v\",\"showlegend\":true,\"textposition\":\"auto\",\"x\":[\"flower soil/fertilizer\"],\"xaxis\":\"x\",\"y\":[16],\"yaxis\":\"y\",\"type\":\"bar\"},{\"alignmentgroup\":\"True\",\"hovertemplate\":\"color=cocoa drinks<br>x=%{x}<br>y=%{y}<extra></extra>\",\"legendgroup\":\"cocoa drinks\",\"marker\":{\"color\":\"#FF6692\",\"pattern\":{\"shape\":\"\"}},\"name\":\"cocoa drinks\",\"offsetgroup\":\"cocoa drinks\",\"orientation\":\"v\",\"showlegend\":true,\"textposition\":\"auto\",\"x\":[\"cocoa drinks\"],\"xaxis\":\"x\",\"y\":[16],\"yaxis\":\"y\",\"type\":\"bar\"},{\"alignmentgroup\":\"True\",\"hovertemplate\":\"color=cooking chocolate<br>x=%{x}<br>y=%{y}<extra></extra>\",\"legendgroup\":\"cooking chocolate\",\"marker\":{\"color\":\"#B6E880\",\"pattern\":{\"shape\":\"\"}},\"name\":\"cooking chocolate\",\"offsetgroup\":\"cooking chocolate\",\"orientation\":\"v\",\"showlegend\":true,\"textposition\":\"auto\",\"x\":[\"cooking chocolate\"],\"xaxis\":\"x\",\"y\":[15],\"yaxis\":\"y\",\"type\":\"bar\"},{\"alignmentgroup\":\"True\",\"hovertemplate\":\"color=ready soups<br>x=%{x}<br>y=%{y}<extra></extra>\",\"legendgroup\":\"ready soups\",\"marker\":{\"color\":\"#FF97FF\",\"pattern\":{\"shape\":\"\"}},\"name\":\"ready soups\",\"offsetgroup\":\"ready soups\",\"orientation\":\"v\",\"showlegend\":true,\"textposition\":\"auto\",\"x\":[\"ready soups\"],\"xaxis\":\"x\",\"y\":[15],\"yaxis\":\"y\",\"type\":\"bar\"},{\"alignmentgroup\":\"True\",\"hovertemplate\":\"color=honey<br>x=%{x}<br>y=%{y}<extra></extra>\",\"legendgroup\":\"honey\",\"marker\":{\"color\":\"#FECB52\",\"pattern\":{\"shape\":\"\"}},\"name\":\"honey\",\"offsetgroup\":\"honey\",\"orientation\":\"v\",\"showlegend\":true,\"textposition\":\"auto\",\"x\":[\"honey\"],\"xaxis\":\"x\",\"y\":[13],\"yaxis\":\"y\",\"type\":\"bar\"},{\"alignmentgroup\":\"True\",\"hovertemplate\":\"color=cream<br>x=%{x}<br>y=%{y}<extra></extra>\",\"legendgroup\":\"cream\",\"marker\":{\"color\":\"#636efa\",\"pattern\":{\"shape\":\"\"}},\"name\":\"cream\",\"offsetgroup\":\"cream\",\"orientation\":\"v\",\"showlegend\":true,\"textposition\":\"auto\",\"x\":[\"cream\"],\"xaxis\":\"x\",\"y\":[12],\"yaxis\":\"y\",\"type\":\"bar\"},{\"alignmentgroup\":\"True\",\"hovertemplate\":\"color=specialty vegetables<br>x=%{x}<br>y=%{y}<extra></extra>\",\"legendgroup\":\"specialty vegetables\",\"marker\":{\"color\":\"#EF553B\",\"pattern\":{\"shape\":\"\"}},\"name\":\"specialty vegetables\",\"offsetgroup\":\"specialty vegetables\",\"orientation\":\"v\",\"showlegend\":true,\"textposition\":\"auto\",\"x\":[\"specialty vegetables\"],\"xaxis\":\"x\",\"y\":[11],\"yaxis\":\"y\",\"type\":\"bar\"},{\"alignmentgroup\":\"True\",\"hovertemplate\":\"color=frozen fruits<br>x=%{x}<br>y=%{y}<extra></extra>\",\"legendgroup\":\"frozen fruits\",\"marker\":{\"color\":\"#00cc96\",\"pattern\":{\"shape\":\"\"}},\"name\":\"frozen fruits\",\"offsetgroup\":\"frozen fruits\",\"orientation\":\"v\",\"showlegend\":true,\"textposition\":\"auto\",\"x\":[\"frozen fruits\"],\"xaxis\":\"x\",\"y\":[11],\"yaxis\":\"y\",\"type\":\"bar\"},{\"alignmentgroup\":\"True\",\"hovertemplate\":\"color=organic products<br>x=%{x}<br>y=%{y}<extra></extra>\",\"legendgroup\":\"organic products\",\"marker\":{\"color\":\"#ab63fa\",\"pattern\":{\"shape\":\"\"}},\"name\":\"organic products\",\"offsetgroup\":\"organic products\",\"orientation\":\"v\",\"showlegend\":true,\"textposition\":\"auto\",\"x\":[\"organic products\"],\"xaxis\":\"x\",\"y\":[10],\"yaxis\":\"y\",\"type\":\"bar\"},{\"alignmentgroup\":\"True\",\"hovertemplate\":\"color=liqueur<br>x=%{x}<br>y=%{y}<extra></extra>\",\"legendgroup\":\"liqueur\",\"marker\":{\"color\":\"#FFA15A\",\"pattern\":{\"shape\":\"\"}},\"name\":\"liqueur\",\"offsetgroup\":\"liqueur\",\"orientation\":\"v\",\"showlegend\":true,\"textposition\":\"auto\",\"x\":[\"liqueur\"],\"xaxis\":\"x\",\"y\":[9],\"yaxis\":\"y\",\"type\":\"bar\"},{\"alignmentgroup\":\"True\",\"hovertemplate\":\"color=hair spray<br>x=%{x}<br>y=%{y}<extra></extra>\",\"legendgroup\":\"hair spray\",\"marker\":{\"color\":\"#19d3f3\",\"pattern\":{\"shape\":\"\"}},\"name\":\"hair spray\",\"offsetgroup\":\"hair spray\",\"orientation\":\"v\",\"showlegend\":true,\"textposition\":\"auto\",\"x\":[\"hair spray\"],\"xaxis\":\"x\",\"y\":[9],\"yaxis\":\"y\",\"type\":\"bar\"},{\"alignmentgroup\":\"True\",\"hovertemplate\":\"color=decalcifier<br>x=%{x}<br>y=%{y}<extra></extra>\",\"legendgroup\":\"decalcifier\",\"marker\":{\"color\":\"#FF6692\",\"pattern\":{\"shape\":\"\"}},\"name\":\"decalcifier\",\"offsetgroup\":\"decalcifier\",\"orientation\":\"v\",\"showlegend\":true,\"textposition\":\"auto\",\"x\":[\"decalcifier\"],\"xaxis\":\"x\",\"y\":[9],\"yaxis\":\"y\",\"type\":\"bar\"},{\"alignmentgroup\":\"True\",\"hovertemplate\":\"color=whisky<br>x=%{x}<br>y=%{y}<extra></extra>\",\"legendgroup\":\"whisky\",\"marker\":{\"color\":\"#B6E880\",\"pattern\":{\"shape\":\"\"}},\"name\":\"whisky\",\"offsetgroup\":\"whisky\",\"orientation\":\"v\",\"showlegend\":true,\"textposition\":\"auto\",\"x\":[\"whisky\"],\"xaxis\":\"x\",\"y\":[8],\"yaxis\":\"y\",\"type\":\"bar\"},{\"alignmentgroup\":\"True\",\"hovertemplate\":\"color=salad dressing<br>x=%{x}<br>y=%{y}<extra></extra>\",\"legendgroup\":\"salad dressing\",\"marker\":{\"color\":\"#FF97FF\",\"pattern\":{\"shape\":\"\"}},\"name\":\"salad dressing\",\"offsetgroup\":\"salad dressing\",\"orientation\":\"v\",\"showlegend\":true,\"textposition\":\"auto\",\"x\":[\"salad dressing\"],\"xaxis\":\"x\",\"y\":[6],\"yaxis\":\"y\",\"type\":\"bar\"},{\"alignmentgroup\":\"True\",\"hovertemplate\":\"color=make up remover<br>x=%{x}<br>y=%{y}<extra></extra>\",\"legendgroup\":\"make up remover\",\"marker\":{\"color\":\"#FECB52\",\"pattern\":{\"shape\":\"\"}},\"name\":\"make up remover\",\"offsetgroup\":\"make up remover\",\"orientation\":\"v\",\"showlegend\":true,\"textposition\":\"auto\",\"x\":[\"make up remover\"],\"xaxis\":\"x\",\"y\":[5],\"yaxis\":\"y\",\"type\":\"bar\"},{\"alignmentgroup\":\"True\",\"hovertemplate\":\"color=toilet cleaner<br>x=%{x}<br>y=%{y}<extra></extra>\",\"legendgroup\":\"toilet cleaner\",\"marker\":{\"color\":\"#636efa\",\"pattern\":{\"shape\":\"\"}},\"name\":\"toilet cleaner\",\"offsetgroup\":\"toilet cleaner\",\"orientation\":\"v\",\"showlegend\":true,\"textposition\":\"auto\",\"x\":[\"toilet cleaner\"],\"xaxis\":\"x\",\"y\":[5],\"yaxis\":\"y\",\"type\":\"bar\"},{\"alignmentgroup\":\"True\",\"hovertemplate\":\"color=frozen chicken<br>x=%{x}<br>y=%{y}<extra></extra>\",\"legendgroup\":\"frozen chicken\",\"marker\":{\"color\":\"#EF553B\",\"pattern\":{\"shape\":\"\"}},\"name\":\"frozen chicken\",\"offsetgroup\":\"frozen chicken\",\"orientation\":\"v\",\"showlegend\":true,\"textposition\":\"auto\",\"x\":[\"frozen chicken\"],\"xaxis\":\"x\",\"y\":[5],\"yaxis\":\"y\",\"type\":\"bar\"},{\"alignmentgroup\":\"True\",\"hovertemplate\":\"color=rubbing alcohol<br>x=%{x}<br>y=%{y}<extra></extra>\",\"legendgroup\":\"rubbing alcohol\",\"marker\":{\"color\":\"#00cc96\",\"pattern\":{\"shape\":\"\"}},\"name\":\"rubbing alcohol\",\"offsetgroup\":\"rubbing alcohol\",\"orientation\":\"v\",\"showlegend\":true,\"textposition\":\"auto\",\"x\":[\"rubbing alcohol\"],\"xaxis\":\"x\",\"y\":[5],\"yaxis\":\"y\",\"type\":\"bar\"},{\"alignmentgroup\":\"True\",\"hovertemplate\":\"color=bags<br>x=%{x}<br>y=%{y}<extra></extra>\",\"legendgroup\":\"bags\",\"marker\":{\"color\":\"#ab63fa\",\"pattern\":{\"shape\":\"\"}},\"name\":\"bags\",\"offsetgroup\":\"bags\",\"orientation\":\"v\",\"showlegend\":true,\"textposition\":\"auto\",\"x\":[\"bags\"],\"xaxis\":\"x\",\"y\":[4],\"yaxis\":\"y\",\"type\":\"bar\"},{\"alignmentgroup\":\"True\",\"hovertemplate\":\"color=baby cosmetics<br>x=%{x}<br>y=%{y}<extra></extra>\",\"legendgroup\":\"baby cosmetics\",\"marker\":{\"color\":\"#FFA15A\",\"pattern\":{\"shape\":\"\"}},\"name\":\"baby cosmetics\",\"offsetgroup\":\"baby cosmetics\",\"orientation\":\"v\",\"showlegend\":true,\"textposition\":\"auto\",\"x\":[\"baby cosmetics\"],\"xaxis\":\"x\",\"y\":[3],\"yaxis\":\"y\",\"type\":\"bar\"},{\"alignmentgroup\":\"True\",\"hovertemplate\":\"color=kitchen utensil<br>x=%{x}<br>y=%{y}<extra></extra>\",\"legendgroup\":\"kitchen utensil\",\"marker\":{\"color\":\"#19d3f3\",\"pattern\":{\"shape\":\"\"}},\"name\":\"kitchen utensil\",\"offsetgroup\":\"kitchen utensil\",\"orientation\":\"v\",\"showlegend\":true,\"textposition\":\"auto\",\"x\":[\"kitchen utensil\"],\"xaxis\":\"x\",\"y\":[1],\"yaxis\":\"y\",\"type\":\"bar\"},{\"alignmentgroup\":\"True\",\"hovertemplate\":\"color=preservation products<br>x=%{x}<br>y=%{y}<extra></extra>\",\"legendgroup\":\"preservation products\",\"marker\":{\"color\":\"#FF6692\",\"pattern\":{\"shape\":\"\"}},\"name\":\"preservation products\",\"offsetgroup\":\"preservation products\",\"orientation\":\"v\",\"showlegend\":true,\"textposition\":\"auto\",\"x\":[\"preservation products\"],\"xaxis\":\"x\",\"y\":[1],\"yaxis\":\"y\",\"type\":\"bar\"}],                        {\"template\":{\"data\":{\"bar\":[{\"error_x\":{\"color\":\"#2a3f5f\"},\"error_y\":{\"color\":\"#2a3f5f\"},\"marker\":{\"line\":{\"color\":\"#E5ECF6\",\"width\":0.5},\"pattern\":{\"fillmode\":\"overlay\",\"size\":10,\"solidity\":0.2}},\"type\":\"bar\"}],\"barpolar\":[{\"marker\":{\"line\":{\"color\":\"#E5ECF6\",\"width\":0.5},\"pattern\":{\"fillmode\":\"overlay\",\"size\":10,\"solidity\":0.2}},\"type\":\"barpolar\"}],\"carpet\":[{\"aaxis\":{\"endlinecolor\":\"#2a3f5f\",\"gridcolor\":\"white\",\"linecolor\":\"white\",\"minorgridcolor\":\"white\",\"startlinecolor\":\"#2a3f5f\"},\"baxis\":{\"endlinecolor\":\"#2a3f5f\",\"gridcolor\":\"white\",\"linecolor\":\"white\",\"minorgridcolor\":\"white\",\"startlinecolor\":\"#2a3f5f\"},\"type\":\"carpet\"}],\"choropleth\":[{\"colorbar\":{\"outlinewidth\":0,\"ticks\":\"\"},\"type\":\"choropleth\"}],\"contour\":[{\"colorbar\":{\"outlinewidth\":0,\"ticks\":\"\"},\"colorscale\":[[0.0,\"#0d0887\"],[0.1111111111111111,\"#46039f\"],[0.2222222222222222,\"#7201a8\"],[0.3333333333333333,\"#9c179e\"],[0.4444444444444444,\"#bd3786\"],[0.5555555555555556,\"#d8576b\"],[0.6666666666666666,\"#ed7953\"],[0.7777777777777778,\"#fb9f3a\"],[0.8888888888888888,\"#fdca26\"],[1.0,\"#f0f921\"]],\"type\":\"contour\"}],\"contourcarpet\":[{\"colorbar\":{\"outlinewidth\":0,\"ticks\":\"\"},\"type\":\"contourcarpet\"}],\"heatmap\":[{\"colorbar\":{\"outlinewidth\":0,\"ticks\":\"\"},\"colorscale\":[[0.0,\"#0d0887\"],[0.1111111111111111,\"#46039f\"],[0.2222222222222222,\"#7201a8\"],[0.3333333333333333,\"#9c179e\"],[0.4444444444444444,\"#bd3786\"],[0.5555555555555556,\"#d8576b\"],[0.6666666666666666,\"#ed7953\"],[0.7777777777777778,\"#fb9f3a\"],[0.8888888888888888,\"#fdca26\"],[1.0,\"#f0f921\"]],\"type\":\"heatmap\"}],\"heatmapgl\":[{\"colorbar\":{\"outlinewidth\":0,\"ticks\":\"\"},\"colorscale\":[[0.0,\"#0d0887\"],[0.1111111111111111,\"#46039f\"],[0.2222222222222222,\"#7201a8\"],[0.3333333333333333,\"#9c179e\"],[0.4444444444444444,\"#bd3786\"],[0.5555555555555556,\"#d8576b\"],[0.6666666666666666,\"#ed7953\"],[0.7777777777777778,\"#fb9f3a\"],[0.8888888888888888,\"#fdca26\"],[1.0,\"#f0f921\"]],\"type\":\"heatmapgl\"}],\"histogram\":[{\"marker\":{\"pattern\":{\"fillmode\":\"overlay\",\"size\":10,\"solidity\":0.2}},\"type\":\"histogram\"}],\"histogram2d\":[{\"colorbar\":{\"outlinewidth\":0,\"ticks\":\"\"},\"colorscale\":[[0.0,\"#0d0887\"],[0.1111111111111111,\"#46039f\"],[0.2222222222222222,\"#7201a8\"],[0.3333333333333333,\"#9c179e\"],[0.4444444444444444,\"#bd3786\"],[0.5555555555555556,\"#d8576b\"],[0.6666666666666666,\"#ed7953\"],[0.7777777777777778,\"#fb9f3a\"],[0.8888888888888888,\"#fdca26\"],[1.0,\"#f0f921\"]],\"type\":\"histogram2d\"}],\"histogram2dcontour\":[{\"colorbar\":{\"outlinewidth\":0,\"ticks\":\"\"},\"colorscale\":[[0.0,\"#0d0887\"],[0.1111111111111111,\"#46039f\"],[0.2222222222222222,\"#7201a8\"],[0.3333333333333333,\"#9c179e\"],[0.4444444444444444,\"#bd3786\"],[0.5555555555555556,\"#d8576b\"],[0.6666666666666666,\"#ed7953\"],[0.7777777777777778,\"#fb9f3a\"],[0.8888888888888888,\"#fdca26\"],[1.0,\"#f0f921\"]],\"type\":\"histogram2dcontour\"}],\"mesh3d\":[{\"colorbar\":{\"outlinewidth\":0,\"ticks\":\"\"},\"type\":\"mesh3d\"}],\"parcoords\":[{\"line\":{\"colorbar\":{\"outlinewidth\":0,\"ticks\":\"\"}},\"type\":\"parcoords\"}],\"pie\":[{\"automargin\":true,\"type\":\"pie\"}],\"scatter\":[{\"marker\":{\"colorbar\":{\"outlinewidth\":0,\"ticks\":\"\"}},\"type\":\"scatter\"}],\"scatter3d\":[{\"line\":{\"colorbar\":{\"outlinewidth\":0,\"ticks\":\"\"}},\"marker\":{\"colorbar\":{\"outlinewidth\":0,\"ticks\":\"\"}},\"type\":\"scatter3d\"}],\"scattercarpet\":[{\"marker\":{\"colorbar\":{\"outlinewidth\":0,\"ticks\":\"\"}},\"type\":\"scattercarpet\"}],\"scattergeo\":[{\"marker\":{\"colorbar\":{\"outlinewidth\":0,\"ticks\":\"\"}},\"type\":\"scattergeo\"}],\"scattergl\":[{\"marker\":{\"colorbar\":{\"outlinewidth\":0,\"ticks\":\"\"}},\"type\":\"scattergl\"}],\"scattermapbox\":[{\"marker\":{\"colorbar\":{\"outlinewidth\":0,\"ticks\":\"\"}},\"type\":\"scattermapbox\"}],\"scatterpolar\":[{\"marker\":{\"colorbar\":{\"outlinewidth\":0,\"ticks\":\"\"}},\"type\":\"scatterpolar\"}],\"scatterpolargl\":[{\"marker\":{\"colorbar\":{\"outlinewidth\":0,\"ticks\":\"\"}},\"type\":\"scatterpolargl\"}],\"scatterternary\":[{\"marker\":{\"colorbar\":{\"outlinewidth\":0,\"ticks\":\"\"}},\"type\":\"scatterternary\"}],\"surface\":[{\"colorbar\":{\"outlinewidth\":0,\"ticks\":\"\"},\"colorscale\":[[0.0,\"#0d0887\"],[0.1111111111111111,\"#46039f\"],[0.2222222222222222,\"#7201a8\"],[0.3333333333333333,\"#9c179e\"],[0.4444444444444444,\"#bd3786\"],[0.5555555555555556,\"#d8576b\"],[0.6666666666666666,\"#ed7953\"],[0.7777777777777778,\"#fb9f3a\"],[0.8888888888888888,\"#fdca26\"],[1.0,\"#f0f921\"]],\"type\":\"surface\"}],\"table\":[{\"cells\":{\"fill\":{\"color\":\"#EBF0F8\"},\"line\":{\"color\":\"white\"}},\"header\":{\"fill\":{\"color\":\"#C8D4E3\"},\"line\":{\"color\":\"white\"}},\"type\":\"table\"}]},\"layout\":{\"annotationdefaults\":{\"arrowcolor\":\"#2a3f5f\",\"arrowhead\":0,\"arrowwidth\":1},\"autotypenumbers\":\"strict\",\"coloraxis\":{\"colorbar\":{\"outlinewidth\":0,\"ticks\":\"\"}},\"colorscale\":{\"diverging\":[[0,\"#8e0152\"],[0.1,\"#c51b7d\"],[0.2,\"#de77ae\"],[0.3,\"#f1b6da\"],[0.4,\"#fde0ef\"],[0.5,\"#f7f7f7\"],[0.6,\"#e6f5d0\"],[0.7,\"#b8e186\"],[0.8,\"#7fbc41\"],[0.9,\"#4d9221\"],[1,\"#276419\"]],\"sequential\":[[0.0,\"#0d0887\"],[0.1111111111111111,\"#46039f\"],[0.2222222222222222,\"#7201a8\"],[0.3333333333333333,\"#9c179e\"],[0.4444444444444444,\"#bd3786\"],[0.5555555555555556,\"#d8576b\"],[0.6666666666666666,\"#ed7953\"],[0.7777777777777778,\"#fb9f3a\"],[0.8888888888888888,\"#fdca26\"],[1.0,\"#f0f921\"]],\"sequentialminus\":[[0.0,\"#0d0887\"],[0.1111111111111111,\"#46039f\"],[0.2222222222222222,\"#7201a8\"],[0.3333333333333333,\"#9c179e\"],[0.4444444444444444,\"#bd3786\"],[0.5555555555555556,\"#d8576b\"],[0.6666666666666666,\"#ed7953\"],[0.7777777777777778,\"#fb9f3a\"],[0.8888888888888888,\"#fdca26\"],[1.0,\"#f0f921\"]]},\"colorway\":[\"#636efa\",\"#EF553B\",\"#00cc96\",\"#ab63fa\",\"#FFA15A\",\"#19d3f3\",\"#FF6692\",\"#B6E880\",\"#FF97FF\",\"#FECB52\"],\"font\":{\"color\":\"#2a3f5f\"},\"geo\":{\"bgcolor\":\"white\",\"lakecolor\":\"white\",\"landcolor\":\"#E5ECF6\",\"showlakes\":true,\"showland\":true,\"subunitcolor\":\"white\"},\"hoverlabel\":{\"align\":\"left\"},\"hovermode\":\"closest\",\"mapbox\":{\"style\":\"light\"},\"paper_bgcolor\":\"white\",\"plot_bgcolor\":\"#E5ECF6\",\"polar\":{\"angularaxis\":{\"gridcolor\":\"white\",\"linecolor\":\"white\",\"ticks\":\"\"},\"bgcolor\":\"#E5ECF6\",\"radialaxis\":{\"gridcolor\":\"white\",\"linecolor\":\"white\",\"ticks\":\"\"}},\"scene\":{\"xaxis\":{\"backgroundcolor\":\"#E5ECF6\",\"gridcolor\":\"white\",\"gridwidth\":2,\"linecolor\":\"white\",\"showbackground\":true,\"ticks\":\"\",\"zerolinecolor\":\"white\"},\"yaxis\":{\"backgroundcolor\":\"#E5ECF6\",\"gridcolor\":\"white\",\"gridwidth\":2,\"linecolor\":\"white\",\"showbackground\":true,\"ticks\":\"\",\"zerolinecolor\":\"white\"},\"zaxis\":{\"backgroundcolor\":\"#E5ECF6\",\"gridcolor\":\"white\",\"gridwidth\":2,\"linecolor\":\"white\",\"showbackground\":true,\"ticks\":\"\",\"zerolinecolor\":\"white\"}},\"shapedefaults\":{\"line\":{\"color\":\"#2a3f5f\"}},\"ternary\":{\"aaxis\":{\"gridcolor\":\"white\",\"linecolor\":\"white\",\"ticks\":\"\"},\"baxis\":{\"gridcolor\":\"white\",\"linecolor\":\"white\",\"ticks\":\"\"},\"bgcolor\":\"#E5ECF6\",\"caxis\":{\"gridcolor\":\"white\",\"linecolor\":\"white\",\"ticks\":\"\"}},\"title\":{\"x\":0.05},\"xaxis\":{\"automargin\":true,\"gridcolor\":\"white\",\"linecolor\":\"white\",\"ticks\":\"\",\"title\":{\"standoff\":15},\"zerolinecolor\":\"white\",\"zerolinewidth\":2},\"yaxis\":{\"automargin\":true,\"gridcolor\":\"white\",\"linecolor\":\"white\",\"ticks\":\"\",\"title\":{\"standoff\":15},\"zerolinecolor\":\"white\",\"zerolinewidth\":2}}},\"xaxis\":{\"anchor\":\"y\",\"domain\":[0.0,1.0],\"title\":{\"text\":\"itemDescription\"}},\"yaxis\":{\"anchor\":\"x\",\"domain\":[0.0,1.0],\"title\":{\"text\":\"Count\"}},\"legend\":{\"title\":{\"text\":\"itemDescription\",\"font\":{\"color\":\"green\"}},\"tracegroupgap\":0},\"margin\":{\"t\":60},\"barmode\":\"relative\",\"font\":{\"family\":\"Courier New\",\"color\":\"blue\"},\"title\":{\"font\":{\"family\":\"Times New Roman\",\"color\":\"red\"}}},                        {\"responsive\": true}                    ).then(function(){\n",
       "                            \n",
       "var gd = document.getElementById('fe7c5587-920e-461e-94cc-5d8549f44a71');\n",
       "var x = new MutationObserver(function (mutations, observer) {{\n",
       "        var display = window.getComputedStyle(gd).display;\n",
       "        if (!display || display === 'none') {{\n",
       "            console.log([gd, 'removed!']);\n",
       "            Plotly.purge(gd);\n",
       "            observer.disconnect();\n",
       "        }}\n",
       "}});\n",
       "\n",
       "// Listen for the removal of the full notebook cells\n",
       "var notebookContainer = gd.closest('#notebook-container');\n",
       "if (notebookContainer) {{\n",
       "    x.observe(notebookContainer, {childList: true});\n",
       "}}\n",
       "\n",
       "// Listen for the clearing of the current output cell\n",
       "var outputEl = gd.closest('.output');\n",
       "if (outputEl) {{\n",
       "    x.observe(outputEl, {childList: true});\n",
       "}}\n",
       "\n",
       "                        })                };                });            </script>        </div>"
      ]
     },
     "metadata": {},
     "output_type": "display_data"
    }
   ],
   "source": [
    "bar_plot(data,'itemDescription')"
   ]
  },
  {
   "cell_type": "code",
   "execution_count": 57,
   "metadata": {
    "execution": {
     "iopub.execute_input": "2022-05-05T11:07:04.095254Z",
     "iopub.status.busy": "2022-05-05T11:07:04.09442Z",
     "iopub.status.idle": "2022-05-05T11:07:05.795477Z",
     "shell.execute_reply": "2022-05-05T11:07:05.794781Z",
     "shell.execute_reply.started": "2022-05-05T11:07:04.095206Z"
    },
    "id": "KkwmIfK1ABMK"
   },
   "outputs": [],
   "source": [
    "df=data.groupby(['Member_number','Date'])['itemDescription'].apply(sum)"
   ]
  },
  {
   "cell_type": "code",
   "execution_count": 58,
   "metadata": {
    "execution": {
     "iopub.execute_input": "2022-05-05T11:07:05.797608Z",
     "iopub.status.busy": "2022-05-05T11:07:05.796998Z",
     "iopub.status.idle": "2022-05-05T11:07:05.808384Z",
     "shell.execute_reply": "2022-05-05T11:07:05.807624Z",
     "shell.execute_reply.started": "2022-05-05T11:07:05.797562Z"
    },
    "id": "nLP5KSpTAOjH",
    "outputId": "b2542af8-5067-49e1-8b42-39b72f1fccb0"
   },
   "outputs": [
    {
     "data": {
      "text/plain": [
       "Member_number  Date      \n",
       "1000           15-03-2015    sausagewhole milksemi-finished breadyogurt                      \n",
       "               24-06-2014    whole milkpastrysalty snack                                     \n",
       "               24-07-2015    canned beermisc. beverages                                      \n",
       "               25-11-2015    sausagehygiene articles                                         \n",
       "               27-05-2015    sodapickled vegetables                                          \n",
       "                                      ...                                                    \n",
       "4999           24-01-2015    tropical fruitberriesother vegetablesyogurtkitchen towelsnapkins\n",
       "               26-12-2015    bottled waterherbs                                              \n",
       "5000           09-03-2014    fruit/vegetable juiceonions                                     \n",
       "               10-02-2015    sodaroot vegetablessemi-finished bread                          \n",
       "               16-11-2014    bottled beerother vegetables                                    \n",
       "Name: itemDescription, Length: 14963, dtype: object"
      ]
     },
     "execution_count": 58,
     "metadata": {},
     "output_type": "execute_result"
    }
   ],
   "source": [
    "df"
   ]
  },
  {
   "cell_type": "code",
   "execution_count": 59,
   "metadata": {
    "execution": {
     "iopub.execute_input": "2022-05-05T11:07:05.811192Z",
     "iopub.status.busy": "2022-05-05T11:07:05.810513Z",
     "iopub.status.idle": "2022-05-05T11:07:05.823914Z",
     "shell.execute_reply": "2022-05-05T11:07:05.823252Z",
     "shell.execute_reply.started": "2022-05-05T11:07:05.811138Z"
    },
    "id": "ajwNBURNAQlC",
    "outputId": "b695b9ae-6dd4-4298-f833-0c620ae07038"
   },
   "outputs": [
    {
     "data": {
      "text/plain": [
       "array(['sausagewhole milksemi-finished breadyogurt',\n",
       "       'whole milkpastrysalty snack', 'canned beermisc. beverages', ...,\n",
       "       'fruit/vegetable juiceonions',\n",
       "       'sodaroot vegetablessemi-finished bread',\n",
       "       'bottled beerother vegetables'], dtype=object)"
      ]
     },
     "execution_count": 59,
     "metadata": {},
     "output_type": "execute_result"
    }
   ],
   "source": [
    "df.values"
   ]
  },
  {
   "cell_type": "code",
   "execution_count": 60,
   "metadata": {
    "execution": {
     "iopub.execute_input": "2022-05-05T11:07:05.82554Z",
     "iopub.status.busy": "2022-05-05T11:07:05.82489Z",
     "iopub.status.idle": "2022-05-05T11:07:05.837489Z",
     "shell.execute_reply": "2022-05-05T11:07:05.836441Z",
     "shell.execute_reply.started": "2022-05-05T11:07:05.825506Z"
    },
    "id": "x3nNgXBtASzw",
    "outputId": "8c584b64-03c5-448a-e6b5-72fa64ee41af"
   },
   "outputs": [
    {
     "name": "stderr",
     "output_type": "stream",
     "text": [
      "C:\\Users\\MOHAMMED ABDO\\AppData\\Local\\Temp\\ipykernel_14380\\3652881321.py:1: FutureWarning:\n",
      "\n",
      "Passing a negative integer is deprecated in version 1.0 and will not be supported in future version. Instead, use None to not limit the column width.\n",
      "\n"
     ]
    }
   ],
   "source": [
    "pd.set_option('display.max_colwidth', -1)"
   ]
  },
  {
   "cell_type": "code",
   "execution_count": 61,
   "metadata": {
    "execution": {
     "iopub.execute_input": "2022-05-05T11:07:05.839614Z",
     "iopub.status.busy": "2022-05-05T11:07:05.838545Z",
     "iopub.status.idle": "2022-05-05T11:07:08.315681Z",
     "shell.execute_reply": "2022-05-05T11:07:08.314939Z",
     "shell.execute_reply.started": "2022-05-05T11:07:05.839564Z"
    },
    "id": "P6hf9u6kAY_D"
   },
   "outputs": [],
   "source": [
    "transactions = [a[1]['itemDescription'].tolist() for a in list(data.groupby(['Member_number','Date']))]"
   ]
  },
  {
   "cell_type": "code",
   "execution_count": 62,
   "metadata": {
    "execution": {
     "iopub.execute_input": "2022-05-05T11:07:08.318571Z",
     "iopub.status.busy": "2022-05-05T11:07:08.317469Z",
     "iopub.status.idle": "2022-05-05T11:07:08.395182Z",
     "shell.execute_reply": "2022-05-05T11:07:08.394549Z",
     "shell.execute_reply.started": "2022-05-05T11:07:08.318515Z"
    },
    "id": "HO76NKGuAm_t",
    "outputId": "53a7d0c9-a274-47ac-a73b-2ae077f33315"
   },
   "outputs": [
    {
     "data": {
      "text/plain": [
       "[['sausage', 'whole milk', 'semi-finished bread', 'yogurt'],\n",
       " ['whole milk', 'pastry', 'salty snack'],\n",
       " ['canned beer', 'misc. beverages'],\n",
       " ['sausage', 'hygiene articles'],\n",
       " ['soda', 'pickled vegetables'],\n",
       " ['frankfurter', 'curd'],\n",
       " ['sausage', 'whole milk', 'rolls/buns'],\n",
       " ['whole milk', 'soda'],\n",
       " ['beef', 'white bread'],\n",
       " ['frankfurter', 'soda', 'whipped/sour cream'],\n",
       " ['frozen vegetables', 'other vegetables'],\n",
       " ['butter', 'whole milk'],\n",
       " ['tropical fruit', 'sugar'],\n",
       " ['butter milk', 'specialty chocolate'],\n",
       " ['sausage', 'rolls/buns'],\n",
       " ['root vegetables', 'detergent'],\n",
       " ['frozen meals', 'dental care'],\n",
       " ['rolls/buns', 'rolls/buns'],\n",
       " ['dish cleaner', 'cling film/bags'],\n",
       " ['canned beer', 'frozen fish'],\n",
       " ['other vegetables', 'hygiene articles'],\n",
       " ['pip fruit', 'whole milk', 'tropical fruit'],\n",
       " ['rolls/buns', 'red/blush wine', 'chocolate'],\n",
       " ['other vegetables', 'shopping bags'],\n",
       " ['whole milk', 'chocolate', 'packaged fruit/vegetables', 'rolls/buns'],\n",
       " ['root vegetables', 'whole milk', 'pastry'],\n",
       " ['rolls/buns', 'rolls/buns'],\n",
       " ['whipped/sour cream', 'margarine'],\n",
       " ['bottled water', 'softener', 'rolls/buns'],\n",
       " ['whole milk', 'rice'],\n",
       " ['shopping bags', 'skin care'],\n",
       " ['whole milk',\n",
       "  'frankfurter',\n",
       "  'chicken',\n",
       "  'frankfurter',\n",
       "  'flour',\n",
       "  'chocolate',\n",
       "  'bottled beer',\n",
       "  'rolls/buns'],\n",
       " ['hamburger meat', 'liquor (appetizer)', 'liver loaf', 'dessert'],\n",
       " ['tropical fruit',\n",
       "  'soda',\n",
       "  'yogurt',\n",
       "  'root vegetables',\n",
       "  'yogurt',\n",
       "  'domestic eggs',\n",
       "  'white wine',\n",
       "  'photo/film'],\n",
       " ['herbs', 'yogurt', 'newspapers'],\n",
       " ['tropical fruit', 'yogurt'],\n",
       " ['pastry', 'ketchup'],\n",
       " ['canned fish', 'cocoa drinks'],\n",
       " ['pip fruit', 'coffee', 'UHT-milk'],\n",
       " ['kitchen towels', 'sliced cheese'],\n",
       " ['bottled water', 'specialty bar'],\n",
       " ['frankfurter', 'bottled water'],\n",
       " ['pip fruit', 'candles', 'rolls/buns'],\n",
       " ['curd cheese', 'pastry'],\n",
       " ['whole milk',\n",
       "  'frankfurter',\n",
       "  'candles',\n",
       "  'grapes',\n",
       "  'herbs',\n",
       "  'other vegetables',\n",
       "  'yogurt'],\n",
       " ['citrus fruit', 'candy', 'bottled water', 'rolls/buns'],\n",
       " ['frankfurter', 'yogurt'],\n",
       " ['tropical fruit',\n",
       "  'root vegetables',\n",
       "  'rolls/buns',\n",
       "  'onions',\n",
       "  'shopping bags'],\n",
       " ['frozen vegetables', 'brown bread'],\n",
       " ['processed cheese', 'whole milk'],\n",
       " ['frozen meals', 'whole milk'],\n",
       " ['white bread', 'meat', 'domestic eggs', 'roll products '],\n",
       " ['root vegetables', 'mayonnaise'],\n",
       " ['other vegetables', 'mustard'],\n",
       " ['hard cheese', 'napkins', 'bottled water'],\n",
       " ['whole milk', 'candy'],\n",
       " ['tropical fruit', 'frozen vegetables'],\n",
       " ['mustard', 'whipped/sour cream'],\n",
       " ['whole milk', 'sausage', 'bottled beer', 'yogurt'],\n",
       " ['canned beer', 'cookware'],\n",
       " ['hamburger meat', 'butter milk'],\n",
       " ['whole milk', 'rolls/buns'],\n",
       " ['citrus fruit', 'whole milk'],\n",
       " ['salty snack', 'beef'],\n",
       " ['fruit/vegetable juice', 'rolls/buns', 'chocolate'],\n",
       " ['UHT-milk', 'bottled beer'],\n",
       " ['chicken', 'red/blush wine'],\n",
       " ['soft cheese', 'pip fruit'],\n",
       " ['rolls/buns', 'frankfurter', 'oil', 'pip fruit', 'mayonnaise'],\n",
       " ['brown bread', 'pet care'],\n",
       " ['other vegetables', 'rolls/buns'],\n",
       " ['yogurt', 'beef'],\n",
       " ['other vegetables', 'root vegetables'],\n",
       " ['soda', 'dessert', 'shopping bags'],\n",
       " ['curd', 'long life bakery product'],\n",
       " ['beverages', 'domestic eggs'],\n",
       " ['butter milk', 'root vegetables'],\n",
       " ['berries', 'cake bar'],\n",
       " ['hamburger meat', 'red/blush wine'],\n",
       " ['canned beer', 'shopping bags'],\n",
       " ['canned beer', 'spices', 'rolls/buns', 'frozen fish'],\n",
       " ['frozen meals', 'butter', 'newspapers', 'yogurt'],\n",
       " ['rolls/buns', 'baking powder'],\n",
       " ['liquor', 'curd', 'yogurt', 'tropical fruit'],\n",
       " ['sliced cheese', 'butter'],\n",
       " ['sausage', 'fruit/vegetable juice'],\n",
       " ['beef', 'napkins'],\n",
       " ['whole milk', 'whipped/sour cream'],\n",
       " ['whipped/sour cream',\n",
       "  'root vegetables',\n",
       "  'rolls/buns',\n",
       "  'packaged fruit/vegetables'],\n",
       " ['domestic eggs', 'soda'],\n",
       " ['chicken', 'frozen meals'],\n",
       " ['male cosmetics', 'curd'],\n",
       " ['white bread', 'bottled beer', 'yogurt', 'berries'],\n",
       " ['sausage', 'whipped/sour cream', 'specialty bar'],\n",
       " ['fish', 'root vegetables', 'tropical fruit', 'other vegetables'],\n",
       " ['coffee', 'shopping bags'],\n",
       " ['ham', 'cream cheese '],\n",
       " ['canned beer', 'UHT-milk'],\n",
       " ['sausage', 'dessert', 'rolls/buns', 'pickled vegetables'],\n",
       " ['fruit/vegetable juice', 'salty snack', 'candy', 'dental care', 'butter'],\n",
       " ['root vegetables', 'long life bakery product'],\n",
       " ['citrus fruit', 'yogurt'],\n",
       " ['root vegetables', 'whipped/sour cream', 'root vegetables', 'canned beer'],\n",
       " ['softener', 'salt', 'whole milk'],\n",
       " ['pork', 'hamburger meat'],\n",
       " ['rolls/buns', 'bottled water'],\n",
       " ['rolls/buns', 'red/blush wine'],\n",
       " ['onions', 'canned beer', 'flower (seeds)'],\n",
       " ['rolls/buns', 'sugar'],\n",
       " ['soda', 'butter'],\n",
       " ['specialty chocolate', 'root vegetables'],\n",
       " ['rolls/buns', 'baking powder', 'onions', 'bottled water'],\n",
       " ['dessert', 'ham'],\n",
       " ['ice cream', 'pot plants'],\n",
       " ['other vegetables', 'other vegetables', 'berries'],\n",
       " ['beverages', 'cream cheese '],\n",
       " ['ice cream', 'whipped/sour cream'],\n",
       " ['berries',\n",
       "  'soda',\n",
       "  'butter',\n",
       "  'other vegetables',\n",
       "  'white bread',\n",
       "  'cream cheese '],\n",
       " ['yogurt', 'root vegetables'],\n",
       " ['white bread', 'whole milk', 'pastry', 'shopping bags'],\n",
       " ['whipped/sour cream', 'newspapers'],\n",
       " ['frankfurter', 'pastry'],\n",
       " ['chicken', 'waffles'],\n",
       " ['fruit/vegetable juice', 'dessert'],\n",
       " ['sausage', 'snack products', 'rolls/buns'],\n",
       " ['tropical fruit', 'soda', 'rolls/buns'],\n",
       " ['tropical fruit', 'newspapers'],\n",
       " ['pip fruit', 'cling film/bags', 'yogurt', 'cat food'],\n",
       " ['bottled water', 'domestic eggs', 'frozen meals'],\n",
       " ['whole milk', 'newspapers'],\n",
       " ['pip fruit', 'white wine', 'white bread', 'salt'],\n",
       " ['sausage', 'frozen vegetables'],\n",
       " ['whole milk', 'yogurt', 'yogurt', 'rolls/buns'],\n",
       " ['whole milk', 'frozen vegetables'],\n",
       " ['fruit/vegetable juice', 'vinegar'],\n",
       " ['citrus fruit', 'shopping bags', 'chewing gum', 'cake bar'],\n",
       " ['frankfurter', 'yogurt', 'canned beer'],\n",
       " ['tropical fruit', 'white bread', 'rolls/buns'],\n",
       " ['whole milk', 'pip fruit', 'whipped/sour cream'],\n",
       " ['other vegetables', 'specialty chocolate'],\n",
       " ['Instant food products', 'whipped/sour cream', 'butter', 'cake bar'],\n",
       " ['sausage', 'pork', 'butter', 'whole milk', 'fruit/vegetable juice'],\n",
       " ['pip fruit', 'herbs', 'frozen meals'],\n",
       " ['margarine', 'napkins'],\n",
       " ['salty snack', 'rolls/buns'],\n",
       " ['whole milk', 'pasta', 'rolls/buns'],\n",
       " ['yogurt', 'rolls/buns'],\n",
       " ['root vegetables', 'white bread'],\n",
       " ['tropical fruit', 'chicken', 'onions', 'packaged fruit/vegetables'],\n",
       " ['hamburger meat', 'yogurt'],\n",
       " ['prosecco', 'dessert'],\n",
       " ['chicken', 'frozen vegetables', 'candy'],\n",
       " ['tropical fruit', 'brown bread', 'whole milk'],\n",
       " ['beef', 'dessert'],\n",
       " ['whole milk', 'other vegetables'],\n",
       " ['citrus fruit', 'bottled water'],\n",
       " ['citrus fruit', 'rolls/buns', 'whole milk'],\n",
       " ['tropical fruit', 'sliced cheese'],\n",
       " ['napkins', 'whole milk', 'chocolate marshmallow'],\n",
       " ['tropical fruit', 'other vegetables'],\n",
       " ['root vegetables', 'curd'],\n",
       " ['fruit/vegetable juice', 'specialty chocolate', 'Instant food products'],\n",
       " ['root vegetables', 'yogurt', 'butter', 'yogurt'],\n",
       " ['chicken', 'onions'],\n",
       " ['whole milk', 'pastry'],\n",
       " ['pork', 'bottled water'],\n",
       " ['curd', 'soda'],\n",
       " ['sweet spreads', 'butter'],\n",
       " ['pip fruit', 'soda'],\n",
       " ['rolls/buns', 'condensed milk', 'whole milk', 'soda'],\n",
       " ['rolls/buns', 'tropical fruit'],\n",
       " ['butter', 'whole milk'],\n",
       " ['white bread', 'candy'],\n",
       " ['frankfurter', 'herbs'],\n",
       " ['specialty bar', 'margarine'],\n",
       " ['meat', 'whole milk'],\n",
       " ['house keeping products', 'yogurt'],\n",
       " ['whipped/sour cream', 'hygiene articles'],\n",
       " ['UHT-milk', 'other vegetables', 'dishes'],\n",
       " ['waffles', 'beverages'],\n",
       " ['pasta', 'yogurt', 'cat food'],\n",
       " ['fish', 'tropical fruit', 'red/blush wine', 'cream cheese '],\n",
       " ['other vegetables', 'soda', 'rolls/buns', 'dishes'],\n",
       " ['tropical fruit',\n",
       "  'other vegetables',\n",
       "  'hamburger meat',\n",
       "  'popcorn',\n",
       "  'female sanitary products'],\n",
       " ['hamburger meat', 'bottled beer'],\n",
       " ['pork', 'coffee', 'frozen vegetables'],\n",
       " ['shopping bags', 'shopping bags'],\n",
       " ['beef', 'shopping bags'],\n",
       " ['soda', 'hamburger meat'],\n",
       " ['butter milk', 'yogurt', 'yogurt', 'margarine'],\n",
       " ['soda', 'whole milk'],\n",
       " ['root vegetables', 'grapes'],\n",
       " ['frankfurter', 'whipped/sour cream'],\n",
       " ['bottled water', 'chewing gum'],\n",
       " ['chicken', 'beverages', 'coffee'],\n",
       " ['pork',\n",
       "  'other vegetables',\n",
       "  'yogurt',\n",
       "  'shopping bags',\n",
       "  'soft cheese',\n",
       "  'detergent'],\n",
       " ['butter', 'dog food'],\n",
       " ['chicken', 'frozen vegetables'],\n",
       " ['hamburger meat', 'pastry'],\n",
       " ['other vegetables', 'whole milk'],\n",
       " ['waffles', 'rolls/buns'],\n",
       " ['whole milk', 'sugar'],\n",
       " ['soda', 'soda'],\n",
       " ['bottled beer', 'oil'],\n",
       " ['frankfurter', 'citrus fruit', 'margarine'],\n",
       " ['soda', 'fruit/vegetable juice'],\n",
       " ['photo/film', 'other vegetables'],\n",
       " ['pork', 'white wine'],\n",
       " ['bottled water', 'yogurt', 'newspapers', 'soda'],\n",
       " ['whipped/sour cream', 'meat spreads'],\n",
       " ['pip fruit', 'other vegetables'],\n",
       " ['ham', 'whole milk'],\n",
       " ['salty snack', 'pickled vegetables'],\n",
       " ['soda', 'domestic eggs', 'sliced cheese', 'soda'],\n",
       " ['tropical fruit', 'UHT-milk'],\n",
       " ['sausage', 'bottled water'],\n",
       " ['yogurt', 'root vegetables'],\n",
       " ['root vegetables', 'other vegetables'],\n",
       " ['chicken', 'other vegetables'],\n",
       " ['dessert', 'spread cheese'],\n",
       " ['sausage', 'salty snack', 'cling film/bags'],\n",
       " ['whole milk',\n",
       "  'tropical fruit',\n",
       "  'root vegetables',\n",
       "  'Instant food products',\n",
       "  'margarine'],\n",
       " ['soda', 'fruit/vegetable juice', 'bottled beer'],\n",
       " ['beef', 'chocolate'],\n",
       " ['beverages', 'dessert'],\n",
       " ['whipped/sour cream', 'hard cheese'],\n",
       " ['ham', 'whipped/sour cream', 'ketchup'],\n",
       " ['white bread', 'frozen fruits'],\n",
       " ['tropical fruit',\n",
       "  'whole milk',\n",
       "  'other vegetables',\n",
       "  'long life bakery product'],\n",
       " ['other vegetables', 'yogurt', 'whole milk', 'butter', 'shopping bags'],\n",
       " ['whole milk', 'sauces'],\n",
       " ['whole milk', 'citrus fruit'],\n",
       " ['rolls/buns', 'candy'],\n",
       " ['root vegetables', 'whole milk'],\n",
       " ['cream cheese ', 'rolls/buns'],\n",
       " ['long life bakery product', 'root vegetables', 'other vegetables'],\n",
       " ['tropical fruit', 'rolls/buns'],\n",
       " ['frankfurter', 'tropical fruit'],\n",
       " ['tropical fruit', 'whole milk', 'long life bakery product', 'rum'],\n",
       " ['hamburger meat', 'soda'],\n",
       " ['red/blush wine', 'frozen fish'],\n",
       " ['beef', 'dessert'],\n",
       " ['root vegetables', 'bottled beer'],\n",
       " ['oil', 'shopping bags'],\n",
       " ['whole milk', 'other vegetables'],\n",
       " ['whole milk', 'tropical fruit'],\n",
       " ['hamburger meat', 'pork'],\n",
       " ['rolls/buns', 'tropical fruit', 'coffee', 'chocolate'],\n",
       " ['pork', 'spread cheese'],\n",
       " ['soda', 'yogurt'],\n",
       " ['salt', 'domestic eggs'],\n",
       " ['pork', 'rolls/buns'],\n",
       " ['brown bread', 'fruit/vegetable juice'],\n",
       " ['bottled beer', 'tropical fruit', 'sliced cheese', 'dishes'],\n",
       " ['cream cheese ', 'newspapers'],\n",
       " ['citrus fruit', 'red/blush wine'],\n",
       " ['yogurt', 'roll products ', 'fruit/vegetable juice'],\n",
       " ['ham', 'other vegetables'],\n",
       " ['frankfurter', 'canned beer'],\n",
       " ['finished products', 'brown bread', 'dishes'],\n",
       " ['yogurt', 'bottled water', 'domestic eggs'],\n",
       " ['pip fruit', 'curd', 'pip fruit', 'prosecco'],\n",
       " ['brown bread', 'salt'],\n",
       " ['semi-finished bread', 'ketchup'],\n",
       " ['oil', 'shopping bags'],\n",
       " ['fruit/vegetable juice', 'flower (seeds)'],\n",
       " ['misc. beverages', 'instant coffee'],\n",
       " ['detergent', 'candy'],\n",
       " ['UHT-milk', 'canned fish'],\n",
       " ['frankfurter', 'citrus fruit', 'bottled water', 'fruit/vegetable juice'],\n",
       " ['frankfurter', 'frozen meals', 'dishes'],\n",
       " ['pip fruit', 'rolls/buns'],\n",
       " ['sausage', 'butter', 'bottled water'],\n",
       " ['frankfurter', 'chicken', 'butter', 'bottled water'],\n",
       " ['ham', 'whole milk', 'whole milk', 'coffee'],\n",
       " ['sausage', 'brown bread'],\n",
       " ['other vegetables', 'butter'],\n",
       " ['tropical fruit', 'soda'],\n",
       " ['pastry', 'pasta'],\n",
       " ['white bread', 'brown bread'],\n",
       " ['canned beer', 'rolls/buns', 'artif. sweetener', 'soda'],\n",
       " ['rolls/buns', 'root vegetables'],\n",
       " ['chicken', 'soda'],\n",
       " ['frankfurter', 'curd', 'white bread', 'rolls/buns', 'coffee'],\n",
       " ['red/blush wine', 'bottled water', 'sweet spreads'],\n",
       " ['rolls/buns', 'onions', 'napkins'],\n",
       " ['canned beer', 'soda'],\n",
       " ['root vegetables', 'frozen vegetables', 'pet care'],\n",
       " ['specialty bar',\n",
       "  'tropical fruit',\n",
       "  'yogurt',\n",
       "  'bottled beer',\n",
       "  'baking powder'],\n",
       " ['other vegetables', 'frankfurter', 'newspapers', 'whole milk', 'pastry'],\n",
       " ['beverages', 'yogurt'],\n",
       " ['tropical fruit', 'whole milk'],\n",
       " ['coffee', 'butter milk'],\n",
       " ['beef', 'margarine', 'other vegetables'],\n",
       " ['bottled water', 'hygiene articles'],\n",
       " ['pork', 'sliced cheese'],\n",
       " ['specialty chocolate', 'soda', 'bathroom cleaner'],\n",
       " ['hamburger meat', 'whole milk'],\n",
       " ['pip fruit', 'other vegetables'],\n",
       " ['root vegetables', 'citrus fruit'],\n",
       " ['other vegetables', 'shopping bags', 'soda'],\n",
       " ['yogurt', 'newspapers'],\n",
       " ['ice cream', 'whipped/sour cream'],\n",
       " ['other vegetables', 'beef', 'soda', 'curd', 'butter'],\n",
       " ['canned beer', 'herbs', 'margarine'],\n",
       " ['rolls/buns', 'soda'],\n",
       " ['rolls/buns', 'citrus fruit'],\n",
       " ['coffee', 'berries'],\n",
       " ['ham', 'white bread'],\n",
       " ['herbs', 'pot plants', 'cake bar'],\n",
       " ['soda', 'flower (seeds)', 'jam'],\n",
       " ['sausage', 'pip fruit', 'chocolate'],\n",
       " ['specialty chocolate', 'white bread'],\n",
       " ['whole milk', 'whole milk'],\n",
       " ['other vegetables', 'whole milk'],\n",
       " ['sausage', 'beverages'],\n",
       " ['whole milk', 'hard cheese'],\n",
       " ['yogurt', 'berries'],\n",
       " ['tropical fruit',\n",
       "  'meat',\n",
       "  'other vegetables',\n",
       "  'domestic eggs',\n",
       "  'baking powder'],\n",
       " ['yogurt', 'sauces'],\n",
       " ['beef', 'yogurt'],\n",
       " ['ice cream', 'whole milk'],\n",
       " ['sausage',\n",
       "  'whisky',\n",
       "  'specialty chocolate',\n",
       "  'dishes',\n",
       "  'yogurt',\n",
       "  'napkins',\n",
       "  'detergent',\n",
       "  'pastry'],\n",
       " ['photo/film', 'shopping bags'],\n",
       " ['frankfurter', 'other vegetables', 'bottled beer'],\n",
       " ['yogurt', 'newspapers'],\n",
       " ['root vegetables',\n",
       "  'soda',\n",
       "  'specialty bar',\n",
       "  'other vegetables',\n",
       "  'frozen vegetables'],\n",
       " ['rolls/buns',\n",
       "  'grapes',\n",
       "  'bottled beer',\n",
       "  'sausage',\n",
       "  'salty snack',\n",
       "  'Instant food products',\n",
       "  'domestic eggs',\n",
       "  'bottled water'],\n",
       " ['dessert', 'domestic eggs'],\n",
       " ['sausage', 'tropical fruit', 'misc. beverages', 'root vegetables'],\n",
       " ['sausage', 'whole milk'],\n",
       " ['whole milk', 'brown bread'],\n",
       " ['hamburger meat', 'detergent', 'flour'],\n",
       " ['tropical fruit', 'soda'],\n",
       " ['newspapers', 'salty snack'],\n",
       " ['pasta', 'whole milk', 'waffles'],\n",
       " ['chocolate marshmallow', 'other vegetables'],\n",
       " ['pickled vegetables', 'flour'],\n",
       " ['yogurt', 'shopping bags'],\n",
       " ['packaged fruit/vegetables', 'bottled water', 'pork', 'domestic eggs'],\n",
       " ['pip fruit', 'fruit/vegetable juice'],\n",
       " ['tropical fruit', 'whole milk', 'soda', 'curd'],\n",
       " ['shopping bags', 'root vegetables'],\n",
       " ['whipped/sour cream', 'curd', 'shopping bags'],\n",
       " ['sausage', 'whole milk', 'cake bar'],\n",
       " ['frankfurter', 'whipped/sour cream', 'bottled water'],\n",
       " ['hard cheese', 'whole milk'],\n",
       " ['tropical fruit',\n",
       "  'citrus fruit',\n",
       "  'yogurt',\n",
       "  'frankfurter',\n",
       "  'specialty chocolate',\n",
       "  'hard cheese',\n",
       "  'whole milk',\n",
       "  'canned beer'],\n",
       " ['canned beer', 'napkins', 'rolls/buns'],\n",
       " ['grapes', 'other vegetables'],\n",
       " ['rolls/buns', 'shopping bags', 'cat food'],\n",
       " ['tropical fruit', 'candy'],\n",
       " ['citrus fruit', 'dessert'],\n",
       " ['root vegetables', 'frozen vegetables', 'bottled water', 'cat food'],\n",
       " ['spread cheese', 'pork'],\n",
       " ['pip fruit', 'brown bread'],\n",
       " ['root vegetables', 'instant coffee'],\n",
       " ['soda',\n",
       "  'hygiene articles',\n",
       "  'grapes',\n",
       "  'pudding powder',\n",
       "  'butter milk',\n",
       "  'butter'],\n",
       " ['whole milk', 'yogurt'],\n",
       " ['hamburger meat', 'pasta'],\n",
       " ['whole milk', 'processed cheese'],\n",
       " ['brown bread', 'sparkling wine'],\n",
       " ['rolls/buns', 'other vegetables', 'whipped/sour cream'],\n",
       " ['candy', 'white wine'],\n",
       " ['root vegetables', 'frozen vegetables'],\n",
       " ['other vegetables', 'white bread', 'detergent'],\n",
       " ['yogurt', 'beverages', 'brown bread'],\n",
       " ['ice cream', 'herbs'],\n",
       " ['cream', 'yogurt'],\n",
       " ['chicken', 'pastry', 'candles'],\n",
       " ['waffles', 'hygiene articles', 'tea'],\n",
       " ['yogurt', 'other vegetables', 'rolls/buns', 'herbs'],\n",
       " ['yogurt', 'root vegetables'],\n",
       " ['domestic eggs', 'yogurt'],\n",
       " ['pork', 'whole milk'],\n",
       " ['other vegetables', 'white bread'],\n",
       " ['bottled water', 'yogurt', 'tropical fruit', 'whole milk'],\n",
       " ['citrus fruit', 'misc. beverages'],\n",
       " ['liver loaf', 'chicken', 'rolls/buns', 'spread cheese', 'shopping bags'],\n",
       " ['citrus fruit', 'misc. beverages'],\n",
       " ['whole milk', 'pastry'],\n",
       " ['onions', 'newspapers'],\n",
       " ['beef', 'specialty fat', 'newspapers'],\n",
       " ['rolls/buns', 'semi-finished bread'],\n",
       " ['shopping bags', 'rolls/buns'],\n",
       " ['pastry', 'canned beer', 'whipped/sour cream', 'grapes'],\n",
       " ['salty snack', 'pastry', 'oil'],\n",
       " ['frozen potato products', 'specialty cheese'],\n",
       " ['brown bread', 'whole milk', 'shopping bags'],\n",
       " ['citrus fruit', 'frozen vegetables', 'margarine'],\n",
       " ['curd', 'sugar'],\n",
       " ['chocolate', 'whole milk'],\n",
       " ['pip fruit', 'salty snack', 'pastry'],\n",
       " ['pip fruit', 'margarine'],\n",
       " ['ham', 'yogurt'],\n",
       " ['soda', 'salty snack'],\n",
       " ['bottled water', 'chocolate'],\n",
       " ['pastry', 'baking powder', 'butter', 'margarine', 'curd', 'dishes'],\n",
       " ['whole milk', 'soda'],\n",
       " ['pickled vegetables', 'liquor'],\n",
       " ['margarine', 'yogurt'],\n",
       " ['whole milk', 'frozen vegetables', 'soda', 'UHT-milk'],\n",
       " ['other vegetables', 'whipped/sour cream'],\n",
       " ['beef', 'semi-finished bread'],\n",
       " ['bottled water', 'flour', 'sugar'],\n",
       " ['dish cleaner', 'ice cream', 'jam', 'newspapers'],\n",
       " ['curd', 'canned beer'],\n",
       " ['bottled beer', 'specialty bar', 'baking powder'],\n",
       " ['whole milk', 'yogurt', 'newspapers'],\n",
       " ['pork', 'pudding powder', 'domestic eggs'],\n",
       " ['root vegetables', 'shopping bags'],\n",
       " ['misc. beverages', 'UHT-milk', 'white bread'],\n",
       " ['dog food', 'sausage', 'dessert', 'shopping bags'],\n",
       " ['root vegetables', 'citrus fruit'],\n",
       " ['chocolate', 'brown bread', 'salty snack'],\n",
       " ['chicken', 'shopping bags'],\n",
       " ['other vegetables', 'butter'],\n",
       " ['whipped/sour cream', 'yogurt'],\n",
       " ['other vegetables', 'yogurt'],\n",
       " ['turkey', 'root vegetables'],\n",
       " ['other vegetables', 'napkins'],\n",
       " ['newspapers', 'white bread', 'rolls/buns', 'beverages'],\n",
       " ['other vegetables', 'zwieback'],\n",
       " ['brown bread', 'butter milk', 'canned vegetables', 'soda'],\n",
       " ['chicken', 'bottled water'],\n",
       " ['brown bread', 'soda'],\n",
       " ['other vegetables',\n",
       "  'cream cheese ',\n",
       "  'liquor',\n",
       "  'root vegetables',\n",
       "  'newspapers',\n",
       "  'hard cheese'],\n",
       " ['frankfurter', 'rolls/buns'],\n",
       " ['meat', 'whole milk', 'whipped/sour cream'],\n",
       " ['bottled beer', 'frozen vegetables', 'sliced cheese'],\n",
       " ['pip fruit', 'processed cheese', 'canned beer'],\n",
       " ['berries', 'condensed milk'],\n",
       " ['house keeping products', 'rolls/buns', 'pickled vegetables', 'curd'],\n",
       " ['whole milk', 'hair spray', 'butter', 'pastry'],\n",
       " ['ham', 'yogurt'],\n",
       " ['grapes', 'whole milk'],\n",
       " ['meat', 'other vegetables'],\n",
       " ['other vegetables', 'specialty bar'],\n",
       " ['soda', 'UHT-milk', 'newspapers', 'white bread'],\n",
       " ['citrus fruit', 'brown bread'],\n",
       " ['tropical fruit', 'sugar'],\n",
       " ['pastry',\n",
       "  'condensed milk',\n",
       "  'rice',\n",
       "  'tropical fruit',\n",
       "  'chocolate marshmallow'],\n",
       " ['coffee', 'shopping bags'],\n",
       " ['bottled water', 'citrus fruit'],\n",
       " ['root vegetables', 'frozen vegetables'],\n",
       " ['chicken', 'dishes'],\n",
       " ['rolls/buns', 'oil', 'yogurt'],\n",
       " ['pork', 'soda', 'canned vegetables'],\n",
       " ['pip fruit', 'whole milk'],\n",
       " ['frozen vegetables', 'rolls/buns', 'cling film/bags'],\n",
       " ['bottled beer', 'hygiene articles'],\n",
       " ['yogurt', 'soda'],\n",
       " ['rolls/buns', 'margarine'],\n",
       " ['condensed milk', 'shopping bags'],\n",
       " ['popcorn', 'citrus fruit'],\n",
       " ['sausage', 'pastry'],\n",
       " ['root vegetables', 'margarine', 'rolls/buns'],\n",
       " ['rolls/buns', 'whipped/sour cream'],\n",
       " ['newspapers', 'pork', 'root vegetables', 'napkins'],\n",
       " ['misc. beverages', 'whole milk', 'long life bakery product'],\n",
       " ['citrus fruit', 'soda'],\n",
       " ['soda', 'roll products '],\n",
       " ['frankfurter', 'rolls/buns', 'shopping bags', 'margarine'],\n",
       " ['other vegetables', 'butter', 'pastry', 'UHT-milk'],\n",
       " ['meat', 'coffee'],\n",
       " ['frankfurter', 'white bread'],\n",
       " ['liquor', 'domestic eggs'],\n",
       " ['specialty bar', 'soda', 'frozen vegetables', 'frozen vegetables'],\n",
       " ['grapes', 'frozen meals', 'flower (seeds)'],\n",
       " ['tea', 'yogurt', 'shopping bags', 'brown bread'],\n",
       " ['flower (seeds)', 'white wine'],\n",
       " ['cream cheese ', 'specialty chocolate'],\n",
       " ['whole milk', 'baking powder'],\n",
       " ['margarine', 'soda'],\n",
       " ['tropical fruit', 'cream cheese ', 'cream cheese '],\n",
       " ['yogurt', 'softener'],\n",
       " ['bottled water', 'frankfurter', 'dessert', 'root vegetables'],\n",
       " ['other vegetables',\n",
       "  'semi-finished bread',\n",
       "  'other vegetables',\n",
       "  'rolls/buns',\n",
       "  'shopping bags',\n",
       "  'salty snack'],\n",
       " ['soda', 'whole milk'],\n",
       " ['bottled beer', 'whole milk'],\n",
       " ['yogurt', 'pastry'],\n",
       " ['curd', 'domestic eggs'],\n",
       " ['coffee', 'shopping bags', 'shopping bags'],\n",
       " ['sausage', 'rolls/buns', 'rice'],\n",
       " ['pork', 'whole milk', 'napkins'],\n",
       " ['other vegetables', 'oil'],\n",
       " ['pastry', 'brown bread', 'yogurt'],\n",
       " ['cream cheese ', 'newspapers'],\n",
       " ['sausage', 'shopping bags', 'soda', 'butter', 'dessert', 'soda'],\n",
       " ['hard cheese', 'butter'],\n",
       " ['whole milk', 'other vegetables'],\n",
       " ['citrus fruit', 'flower (seeds)'],\n",
       " ['tropical fruit', 'butter milk', 'brown bread'],\n",
       " ['tropical fruit', 'whole milk'],\n",
       " ['rolls/buns', 'fruit/vegetable juice'],\n",
       " ['herbs', 'citrus fruit'],\n",
       " ['root vegetables', 'butter milk'],\n",
       " ['instant coffee', 'shopping bags'],\n",
       " ['tropical fruit', 'other vegetables'],\n",
       " ['other vegetables', 'beef'],\n",
       " ['nut snack', 'canned beer'],\n",
       " ['whole milk', 'other vegetables', 'other vegetables', 'sugar'],\n",
       " ['whole milk', 'root vegetables'],\n",
       " ['citrus fruit', 'napkins'],\n",
       " ['rolls/buns', 'butter milk'],\n",
       " ['rolls/buns', 'brown bread', 'canned beer'],\n",
       " ['tropical fruit', 'soft cheese'],\n",
       " ['tropical fruit', 'misc. beverages'],\n",
       " ['pork', 'pickled vegetables'],\n",
       " ['photo/film', 'frankfurter', 'other vegetables', 'curd', 'waffles'],\n",
       " ['pip fruit', 'other vegetables', 'cling film/bags'],\n",
       " ['rolls/buns', 'whole milk', 'soda'],\n",
       " ['tropical fruit', 'yogurt'],\n",
       " ['cat food', 'rolls/buns'],\n",
       " ['berries', 'white bread'],\n",
       " ['rolls/buns', 'soda'],\n",
       " ['chicken', 'brown bread'],\n",
       " ['other vegetables', 'napkins'],\n",
       " ['newspapers', 'soups'],\n",
       " ['UHT-milk', 'soda'],\n",
       " ['pork', 'soda'],\n",
       " ['oil', 'pickled vegetables'],\n",
       " ['soda', 'whole milk', 'whole milk', 'sugar'],\n",
       " ['misc. beverages', 'spread cheese'],\n",
       " ['meat', 'whole milk'],\n",
       " ['pork', 'domestic eggs'],\n",
       " ['root vegetables', 'coffee'],\n",
       " ['canned beer', 'fish'],\n",
       " ['hard cheese', 'root vegetables', 'white bread'],\n",
       " ['chicken', 'domestic eggs', 'white bread'],\n",
       " ['soda', 'whipped/sour cream'],\n",
       " ['brown bread', 'other vegetables'],\n",
       " ['tropical fruit', 'root vegetables'],\n",
       " ['bottled beer', 'soda'],\n",
       " ['whole milk', 'bottled beer'],\n",
       " ['bottled water', 'shopping bags', 'waffles'],\n",
       " ['pork', 'margarine'],\n",
       " ['frozen vegetables', 'pip fruit', 'root vegetables', 'cereals'],\n",
       " ['yogurt', 'soda', 'yogurt'],\n",
       " ['other vegetables', 'berries', 'candy', 'sliced cheese'],\n",
       " ['curd', 'soft cheese'],\n",
       " ['soda', 'whole milk'],\n",
       " ['frozen meals', 'detergent'],\n",
       " ['specialty chocolate', 'canned fish'],\n",
       " ['soda', 'other vegetables'],\n",
       " ['pork', 'tropical fruit'],\n",
       " ['pork', 'yogurt'],\n",
       " ['yogurt',\n",
       "  'sausage',\n",
       "  'whole milk',\n",
       "  'shopping bags',\n",
       "  'white bread',\n",
       "  'dog food',\n",
       "  'baking powder',\n",
       "  'sliced cheese'],\n",
       " ['soda', 'other vegetables'],\n",
       " ['root vegetables', 'soda', 'long life bakery product'],\n",
       " ['soda', 'bottled beer', 'chicken', 'yogurt'],\n",
       " ['seasonal products', 'frozen vegetables', 'yogurt'],\n",
       " ['other vegetables', 'fruit/vegetable juice'],\n",
       " ['long life bakery product', 'rolls/buns', 'UHT-milk', 'bottled water'],\n",
       " ['canned beer', 'sugar'],\n",
       " ['pip fruit', 'berries'],\n",
       " ['curd', 'soft cheese'],\n",
       " ['berries', 'pip fruit', 'pastry'],\n",
       " ['whole milk', 'rolls/buns'],\n",
       " ['pork', 'domestic eggs'],\n",
       " ['soda', 'frozen meals'],\n",
       " ['curd cheese', 'soda'],\n",
       " ['whole milk', 'grapes'],\n",
       " ['chewing gum', 'whole milk', 'bottled beer', 'ready soups'],\n",
       " ['butter', 'ice cream'],\n",
       " ['chicken', 'cake bar'],\n",
       " ['frankfurter', 'soft cheese', 'mustard'],\n",
       " ['tropical fruit', 'rolls/buns', 'canned beer', 'dish cleaner'],\n",
       " ['root vegetables', 'other vegetables', 'frozen vegetables'],\n",
       " ['female sanitary products', 'rolls/buns'],\n",
       " ['citrus fruit', 'sausage', 'whole milk', 'canned beer'],\n",
       " ['whole milk', 'sausage', 'pet care', 'yogurt'],\n",
       " ['whole milk', 'house keeping products'],\n",
       " ['frankfurter', 'brandy'],\n",
       " ['berries', 'other vegetables'],\n",
       " ['tropical fruit', 'UHT-milk', 'napkins', 'whole milk'],\n",
       " ['beef', 'curd', 'frozen meals'],\n",
       " ['rolls/buns', 'other vegetables', 'butter', 'root vegetables', 'rolls/buns'],\n",
       " ['whole milk', 'bottled water'],\n",
       " ['yogurt', 'citrus fruit'],\n",
       " ['whole milk', 'cream cheese '],\n",
       " ['frozen vegetables', 'domestic eggs'],\n",
       " ['citrus fruit', 'soda'],\n",
       " ['citrus fruit', 'light bulbs'],\n",
       " ['yogurt', 'whole milk'],\n",
       " ['butter', 'chewing gum'],\n",
       " ['whole milk', 'root vegetables'],\n",
       " ['pip fruit', 'tropical fruit', 'mustard'],\n",
       " ['domestic eggs', 'beef', 'coffee', 'bottled beer'],\n",
       " ['shopping bags', 'frozen meals'],\n",
       " ['other vegetables', 'yogurt', 'whole milk', 'spread cheese'],\n",
       " ['beef', 'newspapers', 'bottled beer'],\n",
       " ['misc. beverages', 'coffee'],\n",
       " ['canned beer', 'citrus fruit'],\n",
       " ['white bread', 'yogurt'],\n",
       " ['red/blush wine', 'salty snack'],\n",
       " ['canned beer', 'berries', 'male cosmetics', 'fruit/vegetable juice'],\n",
       " ['sausage', 'bottled water'],\n",
       " ['whole milk', 'beef', 'citrus fruit', 'newspapers', 'bottled water'],\n",
       " ['white bread', 'frozen vegetables'],\n",
       " ['other vegetables', 'sliced cheese'],\n",
       " ['whole milk', 'root vegetables', 'canned vegetables'],\n",
       " ['beef', 'house keeping products'],\n",
       " ['frozen vegetables', 'whole milk'],\n",
       " ['pork', 'packaged fruit/vegetables', 'chocolate'],\n",
       " ['curd', 'spices'],\n",
       " ['bottled water', 'tropical fruit'],\n",
       " ['root vegetables', 'brown bread'],\n",
       " ['rolls/buns', 'other vegetables'],\n",
       " ['coffee', 'domestic eggs'],\n",
       " ['frankfurter', 'frozen vegetables'],\n",
       " ['bottled beer', 'whole milk', 'UHT-milk', 'chocolate'],\n",
       " ['sweet spreads', 'herbs', 'long life bakery product'],\n",
       " ['soda', 'detergent'],\n",
       " ['soda', 'margarine'],\n",
       " ['liquor', 'bottled water'],\n",
       " ['napkins', 'cleaner'],\n",
       " ['other vegetables', 'rolls/buns'],\n",
       " ['napkins', 'napkins'],\n",
       " ['cake bar', 'bottled beer'],\n",
       " ['waffles', 'whole milk', 'other vegetables', 'white bread'],\n",
       " ['finished products', 'newspapers', 'whipped/sour cream'],\n",
       " ['chicken', 'pip fruit'],\n",
       " ['chocolate', 'shopping bags'],\n",
       " ['citrus fruit', 'whipped/sour cream'],\n",
       " ['whole milk',\n",
       "  'turkey',\n",
       "  'pork',\n",
       "  'dog food',\n",
       "  'rolls/buns',\n",
       "  'soda',\n",
       "  'bottled water',\n",
       "  'bottled water'],\n",
       " ['pip fruit', 'whipped/sour cream'],\n",
       " ['whole milk', 'sparkling wine'],\n",
       " ['whole milk', 'canned beer'],\n",
       " ['soda', 'whipped/sour cream'],\n",
       " ['other vegetables', 'soda'],\n",
       " ['brown bread', 'pasta'],\n",
       " ['bottled water', 'onions'],\n",
       " ['specialty chocolate', 'beverages'],\n",
       " ['bottled beer', 'fruit/vegetable juice', 'rolls/buns'],\n",
       " ['specialty bar', 'newspapers'],\n",
       " ['rolls/buns', 'margarine'],\n",
       " ['hard cheese', 'rolls/buns'],\n",
       " ['rolls/buns', 'soft cheese', 'fruit/vegetable juice'],\n",
       " ['baking powder', 'pickled vegetables'],\n",
       " ['pip fruit', 'whipped/sour cream'],\n",
       " ['citrus fruit', 'syrup'],\n",
       " ['root vegetables', 'cling film/bags'],\n",
       " ['hamburger meat', 'other vegetables'],\n",
       " ['whole milk',\n",
       "  'citrus fruit',\n",
       "  'shopping bags',\n",
       "  'white wine',\n",
       "  'soda',\n",
       "  'yogurt'],\n",
       " ['pasta', 'oil'],\n",
       " ['citrus fruit', 'brown bread', 'specialty chocolate'],\n",
       " ['bottled water', 'yogurt', 'beef', 'berries', 'chocolate', 'butter'],\n",
       " ['hard cheese', 'sugar', 'bottled water'],\n",
       " ['soda', 'whole milk'],\n",
       " ['tropical fruit', 'other vegetables'],\n",
       " ['pastry', 'other vegetables'],\n",
       " ['frozen potato products', 'domestic eggs', 'curd cheese'],\n",
       " ['whole milk', 'tropical fruit'],\n",
       " ['rolls/buns', 'canned beer', 'brown bread', 'dessert'],\n",
       " ['tropical fruit', 'shopping bags'],\n",
       " ['bottled water', 'chocolate', 'jam'],\n",
       " ['other vegetables', 'ice cream', 'pork', 'salt'],\n",
       " ['oil', 'coffee'],\n",
       " ['cereals', 'soda'],\n",
       " ['chicken', 'frozen meals', 'napkins'],\n",
       " ['frozen potato products', 'whole milk'],\n",
       " ['citrus fruit', 'white bread'],\n",
       " ['bottled beer', 'oil', 'whole milk', 'dishes'],\n",
       " ['sausage', 'root vegetables'],\n",
       " ['white bread', 'mayonnaise'],\n",
       " ['ice cream', 'hamburger meat', 'shopping bags', 'whole milk', 'soft cheese'],\n",
       " ['candy', 'baking powder', 'canned fish'],\n",
       " ['butter', 'mustard'],\n",
       " ['beef', 'butter milk'],\n",
       " ['hamburger meat', 'pip fruit'],\n",
       " ['rolls/buns', 'red/blush wine'],\n",
       " ['sausage', 'domestic eggs'],\n",
       " ['sausage',\n",
       "  'bottled beer',\n",
       "  'dessert',\n",
       "  'butter',\n",
       "  'cream cheese ',\n",
       "  'other vegetables',\n",
       "  'canned beer',\n",
       "  'brown bread'],\n",
       " ['root vegetables',\n",
       "  'ham',\n",
       "  'butter',\n",
       "  'brown bread',\n",
       "  'pastry',\n",
       "  'spread cheese'],\n",
       " ['root vegetables', 'sweet spreads'],\n",
       " ['beef', 'whole milk', 'newspapers'],\n",
       " ['beef', 'whole milk', 'frozen meals'],\n",
       " ['pip fruit', 'specialty bar', 'chocolate'],\n",
       " ['frankfurter', 'canned beer'],\n",
       " ['ice cream', 'chewing gum'],\n",
       " ['soda', 'butter'],\n",
       " ['soda', 'detergent'],\n",
       " ['white bread', 'domestic eggs'],\n",
       " ['other vegetables', 'whole milk', 'canned fruit'],\n",
       " ['soda', 'soda'],\n",
       " ['citrus fruit', 'domestic eggs'],\n",
       " ['other vegetables', 'onions', 'shopping bags'],\n",
       " ['butter milk', 'cleaner', 'bottled water'],\n",
       " ['whole milk', 'rolls/buns', 'soda'],\n",
       " ['other vegetables', 'bottled beer'],\n",
       " ['bottled beer', 'sliced cheese'],\n",
       " ['tropical fruit', 'dessert'],\n",
       " ['whipped/sour cream', 'specialty chocolate'],\n",
       " ['root vegetables', 'root vegetables'],\n",
       " ['pip fruit', 'rolls/buns', 'soda'],\n",
       " ['bottled water', 'soda'],\n",
       " ['hamburger meat', 'bottled beer'],\n",
       " ['other vegetables', 'meat spreads'],\n",
       " ['canned beer', 'root vegetables'],\n",
       " ['sparkling wine', 'waffles'],\n",
       " ['hamburger meat', 'citrus fruit', 'specialty chocolate', 'other vegetables'],\n",
       " ['berries', 'white bread'],\n",
       " ['butter', 'seasonal products', 'fruit/vegetable juice'],\n",
       " ['brown bread', 'pastry'],\n",
       " ['citrus fruit', 'root vegetables'],\n",
       " ['soda', 'shopping bags'],\n",
       " ['butter', 'coffee', 'soda', 'pastry'],\n",
       " ['whole milk', 'bottled water', 'honey'],\n",
       " ['pip fruit', 'napkins'],\n",
       " ['finished products', 'liquor'],\n",
       " ['butter', 'shopping bags'],\n",
       " ['whole milk', 'soft cheese'],\n",
       " ['domestic eggs', 'newspapers'],\n",
       " ['pip fruit', 'shopping bags'],\n",
       " ['mayonnaise', 'candy', 'rolls/buns', 'bottled beer'],\n",
       " ['whole milk', 'brown bread'],\n",
       " ['beef', 'whipped/sour cream'],\n",
       " ['sausage', 'chocolate'],\n",
       " ['pip fruit', 'waffles'],\n",
       " ['root vegetables',\n",
       "  'citrus fruit',\n",
       "  'root vegetables',\n",
       "  'misc. beverages',\n",
       "  'sliced cheese',\n",
       "  'packaged fruit/vegetables',\n",
       "  'yogurt',\n",
       "  'whipped/sour cream'],\n",
       " ['citrus fruit', 'yogurt'],\n",
       " ['citrus fruit', 'napkins'],\n",
       " ['frozen fish', 'specialty chocolate'],\n",
       " ['other vegetables', 'specialty chocolate', 'newspapers'],\n",
       " ['beverages', 'sausage'],\n",
       " ['sugar', 'canned vegetables', 'flour', 'bottled water', 'salty snack'],\n",
       " ['rolls/buns', 'whole milk', 'white bread', 'popcorn'],\n",
       " ['grapes', 'rolls/buns'],\n",
       " ['citrus fruit', 'root vegetables'],\n",
       " ['candy', 'dessert', 'rolls/buns', 'canned fish'],\n",
       " ['brown bread', 'detergent'],\n",
       " ['candles', 'whole milk'],\n",
       " ['misc. beverages', 'coffee'],\n",
       " ['coffee', 'oil'],\n",
       " ['yogurt', 'rolls/buns'],\n",
       " ['soda', 'curd cheese', 'root vegetables', 'semi-finished bread'],\n",
       " ['yogurt', 'roll products '],\n",
       " ['grapes', 'chicken', 'bottled beer', 'root vegetables'],\n",
       " ['softener', 'chocolate'],\n",
       " ['soda', 'beverages'],\n",
       " ['root vegetables', 'yogurt'],\n",
       " ['rolls/buns', 'pastry'],\n",
       " ['sliced cheese', 'pip fruit'],\n",
       " ['whole milk', 'waffles'],\n",
       " ['white bread', 'bottled water', 'ready soups', 'curd'],\n",
       " ['yogurt', 'whole milk', 'yogurt', 'chewing gum'],\n",
       " ['whole milk', 'oil'],\n",
       " ['sausage', 'cat food'],\n",
       " ['tropical fruit', 'hygiene articles', 'candles'],\n",
       " ['pastry',\n",
       "  'sausage',\n",
       "  'soda',\n",
       "  'rolls/buns',\n",
       "  'sugar',\n",
       "  'soda',\n",
       "  'other vegetables',\n",
       "  'whole milk',\n",
       "  'softener'],\n",
       " ['whole milk', 'yogurt', 'semi-finished bread'],\n",
       " ['frankfurter', 'whole milk'],\n",
       " ['ham', 'pickled vegetables', 'shopping bags'],\n",
       " ['soft cheese', 'bottled water'],\n",
       " ['tropical fruit', 'butter milk'],\n",
       " ['rolls/buns', 'frozen meals'],\n",
       " ['shopping bags', 'misc. beverages'],\n",
       " ['pork', 'beef', 'yogurt'],\n",
       " ['sausage', 'dessert'],\n",
       " ['yogurt', 'shopping bags'],\n",
       " ['fruit/vegetable juice', 'long life bakery product', 'specialty cheese'],\n",
       " ['ham', 'brown bread'],\n",
       " ['butter', 'margarine'],\n",
       " ['frankfurter', 'butter', 'specialty bar', 'yogurt'],\n",
       " ['finished products', 'domestic eggs'],\n",
       " ['specialty bar', 'whole milk'],\n",
       " ['UHT-milk', 'other vegetables'],\n",
       " ['rolls/buns', 'tropical fruit', 'salty snack', 'specialty bar'],\n",
       " ['tropical fruit', 'salt'],\n",
       " ['tropical fruit', 'cat food'],\n",
       " ['beef', 'domestic eggs'],\n",
       " ['root vegetables', 'other vegetables'],\n",
       " ['chicken',\n",
       "  'beef',\n",
       "  'pork',\n",
       "  'beef',\n",
       "  'newspapers',\n",
       "  'dessert',\n",
       "  'margarine',\n",
       "  'brown bread',\n",
       "  'newspapers'],\n",
       " ['domestic eggs', 'fruit/vegetable juice'],\n",
       " ['citrus fruit', 'bottled beer'],\n",
       " ['syrup', 'waffles'],\n",
       " ['meat', 'chicken', 'yogurt', 'pip fruit'],\n",
       " ['pip fruit', 'other vegetables', 'semi-finished bread', 'sliced cheese'],\n",
       " ['sauces', 'yogurt'],\n",
       " ['grapes', 'root vegetables', 'shopping bags'],\n",
       " ['turkey', 'onions'],\n",
       " ['citrus fruit', 'long life bakery product'],\n",
       " ['canned beer', 'brown bread'],\n",
       " ['whole milk',\n",
       "  'soda',\n",
       "  'root vegetables',\n",
       "  'pastry',\n",
       "  'specialty fat',\n",
       "  'bottled water',\n",
       "  'napkins',\n",
       "  'tropical fruit'],\n",
       " ['citrus fruit', 'grapes', 'bottled water'],\n",
       " ['whole milk', 'dog food', 'pastry'],\n",
       " ['whole milk', 'sugar'],\n",
       " ['whole milk', 'sausage', 'yogurt', 'whole milk', 'butter'],\n",
       " ['pork', 'frozen meals'],\n",
       " ['citrus fruit', 'citrus fruit'],\n",
       " ['other vegetables', 'fruit/vegetable juice'],\n",
       " ['tropical fruit', 'rolls/buns', 'frozen fish'],\n",
       " ['meat', 'cling film/bags', 'curd'],\n",
       " ['tropical fruit', 'meat', 'whole milk', 'candles'],\n",
       " ['canned beer', 'brown bread'],\n",
       " ['red/blush wine', 'instant coffee'],\n",
       " ['canned beer', 'margarine', 'chocolate'],\n",
       " ['pastry', 'waffles'],\n",
       " ['rolls/buns',\n",
       "  'specialty chocolate',\n",
       "  'napkins',\n",
       "  'onions',\n",
       "  'rice',\n",
       "  'rolls/buns',\n",
       "  'butter milk',\n",
       "  'dental care'],\n",
       " ['sausage', 'pasta'],\n",
       " ['frankfurter', 'ice cream'],\n",
       " ['sugar', 'bottled water'],\n",
       " ['canned beer', 'coffee'],\n",
       " ['condensed milk', 'onions'],\n",
       " ['citrus fruit', 'butter', 'UHT-milk'],\n",
       " ['citrus fruit', 'semi-finished bread', 'yogurt'],\n",
       " ['packaged fruit/vegetables', 'flour'],\n",
       " ['ham', 'rum'],\n",
       " ['sausage', 'specialty chocolate'],\n",
       " ['UHT-milk', 'cooking chocolate'],\n",
       " ['pastry', 'rolls/buns'],\n",
       " ['whole milk', 'curd'],\n",
       " ['white bread', 'jam'],\n",
       " ['photo/film', 'brown bread'],\n",
       " ['shopping bags',\n",
       "  'whole milk',\n",
       "  'whole milk',\n",
       "  'whole milk',\n",
       "  'detergent',\n",
       "  'flour'],\n",
       " ['dessert', 'sliced cheese', 'bottled beer', 'other vegetables'],\n",
       " ['butter milk', 'soda', 'seasonal products'],\n",
       " ['beef',\n",
       "  'citrus fruit',\n",
       "  'specialty bar',\n",
       "  'white bread',\n",
       "  'soda',\n",
       "  'vinegar',\n",
       "  'long life bakery product',\n",
       "  'domestic eggs'],\n",
       " ['hard cheese', 'pastry'],\n",
       " ['yogurt', 'whipped/sour cream'],\n",
       " ['photo/film', 'beverages', 'bottled beer'],\n",
       " ['beef', 'white bread', 'frozen potato products'],\n",
       " ['ham', 'whipped/sour cream', 'newspapers'],\n",
       " ['mustard', 'brown bread'],\n",
       " ['whole milk', 'other vegetables'],\n",
       " ['canned beer', 'sliced cheese'],\n",
       " ['soda', 'canned beer'],\n",
       " ['ham', 'domestic eggs'],\n",
       " ['frankfurter', 'pastry', 'misc. beverages'],\n",
       " ['soda', 'butter milk', 'soda'],\n",
       " ['sausage', 'root vegetables'],\n",
       " ['white wine', 'photo/film', 'whipped/sour cream'],\n",
       " ['hard cheese', 'soda'],\n",
       " ['ice cream', 'onions'],\n",
       " ['pork', 'sliced cheese', 'flour'],\n",
       " ['grapes', 'detergent'],\n",
       " ['yogurt', 'margarine'],\n",
       " ['butter', 'grapes', 'bottled water'],\n",
       " ['pasta', 'canned beer'],\n",
       " ['rolls/buns', 'bottled beer'],\n",
       " ['UHT-milk', 'curd'],\n",
       " ['whipped/sour cream', 'shopping bags'],\n",
       " ['butter milk', 'other vegetables'],\n",
       " ['rolls/buns',\n",
       "  'whipped/sour cream',\n",
       "  'waffles',\n",
       "  'rolls/buns',\n",
       "  'margarine',\n",
       "  'soda',\n",
       "  'salty snack',\n",
       "  'soda',\n",
       "  'canned beer'],\n",
       " ['other vegetables', 'rolls/buns'],\n",
       " ['chicken', 'whole milk'],\n",
       " ['curd', 'pastry'],\n",
       " ['yogurt', 'shopping bags', 'coffee'],\n",
       " ['root vegetables', 'margarine', 'bottled water'],\n",
       " ['salty snack', 'root vegetables'],\n",
       " ['sausage', 'sausage', 'bottled beer', 'spread cheese'],\n",
       " ['bottled water', 'soda'],\n",
       " ['condensed milk', 'other vegetables'],\n",
       " ['dog food', 'processed cheese'],\n",
       " ['canned beer', 'bottled beer'],\n",
       " ['other vegetables', 'curd', 'abrasive cleaner'],\n",
       " ['butter', 'roll products '],\n",
       " ['shopping bags', 'waffles'],\n",
       " ['whole milk', 'cling film/bags'],\n",
       " ['newspapers', 'pip fruit', 'dishes'],\n",
       " ['rolls/buns', 'hard cheese'],\n",
       " ['ham',\n",
       "  'whole milk',\n",
       "  'other vegetables',\n",
       "  'soda',\n",
       "  'white bread',\n",
       "  'tropical fruit',\n",
       "  'sugar'],\n",
       " ['citrus fruit', 'other vegetables'],\n",
       " ['beverages', 'sugar'],\n",
       " ['cleaner', 'misc. beverages'],\n",
       " ['pork', 'other vegetables', 'cream cheese '],\n",
       " ['butter milk', 'hard cheese'],\n",
       " ['frankfurter', 'margarine'],\n",
       " ['whipped/sour cream', 'yogurt'],\n",
       " ['roll products ', 'waffles'],\n",
       " ['meat', 'soda'],\n",
       " ['sausage', 'processed cheese'],\n",
       " ['condensed milk', 'whole milk'],\n",
       " ['finished products', 'yogurt', 'bottled beer', 'bottled water'],\n",
       " ['brown bread', 'tropical fruit'],\n",
       " ['frozen vegetables',\n",
       "  'sausage',\n",
       "  'whole milk',\n",
       "  'frozen vegetables',\n",
       "  'rolls/buns',\n",
       "  'other vegetables',\n",
       "  'oil',\n",
       "  'frozen fish',\n",
       "  'baking powder'],\n",
       " ['onions', 'hard cheese'],\n",
       " ['soda', 'shopping bags'],\n",
       " ['oil', 'margarine'],\n",
       " ['whole milk', 'specialty cheese'],\n",
       " ['specialty chocolate', 'pasta', 'soda', 'long life bakery product'],\n",
       " ['meat', 'other vegetables', 'pasta'],\n",
       " ['citrus fruit', 'other vegetables'],\n",
       " ['sausage', 'dog food', 'bottled beer', 'bottled water'],\n",
       " ['beverages', 'beverages', 'sugar', 'pasta', 'domestic eggs'],\n",
       " ['shopping bags', 'tropical fruit'],\n",
       " ['butter', 'chocolate'],\n",
       " ['sausage', 'frozen meals'],\n",
       " ['soda', 'cling film/bags'],\n",
       " ['UHT-milk', 'soft cheese'],\n",
       " ['candy', 'soda'],\n",
       " ['rolls/buns', 'salty snack', 'bottled water', 'shopping bags'],\n",
       " ['dessert', 'condensed milk', 'rolls/buns', 'shopping bags'],\n",
       " ['turkey', 'shopping bags'],\n",
       " ['tropical fruit', 'rolls/buns'],\n",
       " ['onions', 'soft cheese'],\n",
       " ['grapes', 'other vegetables'],\n",
       " ['soda', 'soda', 'canned fruit', 'processed cheese', 'soda', 'shopping bags'],\n",
       " ['coffee', 'white bread'],\n",
       " ['yogurt', 'canned beer'],\n",
       " ['whipped/sour cream', 'yogurt'],\n",
       " ['tropical fruit', 'berries'],\n",
       " ['other vegetables', 'UHT-milk'],\n",
       " ['frozen vegetables', 'other vegetables'],\n",
       " ['butter', 'candy'],\n",
       " ['chicken', 'butter'],\n",
       " ['citrus fruit', 'skin care'],\n",
       " ['root vegetables', 'frozen vegetables'],\n",
       " ['tropical fruit', 'pip fruit'],\n",
       " ['frankfurter', 'whole milk'],\n",
       " ['dessert', 'packaged fruit/vegetables'],\n",
       " ['margarine', 'margarine'],\n",
       " ['beef', 'curd'],\n",
       " ['citrus fruit', 'coffee'],\n",
       " ['soda', 'frozen meals', 'bottled beer'],\n",
       " ['other vegetables', 'chewing gum'],\n",
       " ['canned beer', 'dessert', 'fruit/vegetable juice'],\n",
       " ['chicken', 'pastry'],\n",
       " ['pork', 'turkey', 'pot plants', 'whole milk', 'soda', 'dishes'],\n",
       " ['grapes', 'other vegetables'],\n",
       " ['pastry', 'liqueur'],\n",
       " ['sausage', 'processed cheese', 'baking powder', 'specialty cheese'],\n",
       " ['ham', 'napkins'],\n",
       " ['white wine', 'specialty bar', 'specialty chocolate'],\n",
       " ['soda', 'red/blush wine'],\n",
       " ['sausage', 'coffee'],\n",
       " ['berries', 'domestic eggs'],\n",
       " ['sugar', 'other vegetables'],\n",
       " ['tea', 'coffee'],\n",
       " ['UHT-milk', 'herbs', 'butter', 'oil'],\n",
       " ['rolls/buns', 'yogurt'],\n",
       " ['frozen dessert', 'cream cheese '],\n",
       " ['yogurt', 'coffee'],\n",
       " ['rolls/buns',\n",
       "  'fruit/vegetable juice',\n",
       "  'frozen vegetables',\n",
       "  'whipped/sour cream'],\n",
       " ['hamburger meat', 'coffee'],\n",
       " ['whole milk', 'shopping bags'],\n",
       " ['ice cream', 'whole milk'],\n",
       " ['sausage', 'grapes', 'sliced cheese', 'napkins'],\n",
       " ['fruit/vegetable juice', 'berries'],\n",
       " ['pork', 'root vegetables'],\n",
       " ['pip fruit', 'shopping bags'],\n",
       " ['sausage', 'curd'],\n",
       " ['whole milk', 'domestic eggs', 'canned vegetables', 'flower (seeds)'],\n",
       " ['rolls/buns', 'hard cheese', 'rolls/buns', 'flour'],\n",
       " ['organic sausage', 'frozen meals', 'sugar'],\n",
       " ['whole milk', 'onions', 'pickled vegetables'],\n",
       " ['citrus fruit', 'other vegetables'],\n",
       " ['frozen meals', 'bottled beer'],\n",
       " ['tropical fruit', 'yogurt', 'semi-finished bread', 'soda'],\n",
       " ['tropical fruit', 'white bread', 'butter'],\n",
       " ['specialty bar', 'tropical fruit'],\n",
       " ['bottled water', 'pastry'],\n",
       " ['sugar', 'curd'],\n",
       " ['sausage', 'other vegetables', 'tropical fruit', 'mayonnaise'],\n",
       " ['other vegetables', 'whole milk', 'soda'],\n",
       " ['pork', 'brown bread'],\n",
       " ['UHT-milk', 'canned fish', 'root vegetables', 'waffles'],\n",
       " ['cream cheese ',\n",
       "  'pip fruit',\n",
       "  'citrus fruit',\n",
       "  'chicken',\n",
       "  'other vegetables',\n",
       "  'curd',\n",
       "  'specialty chocolate',\n",
       "  'pastry'],\n",
       " ['pork', 'yogurt'],\n",
       " ['hamburger meat', 'other vegetables', 'domestic eggs'],\n",
       " ['shopping bags', 'tropical fruit', 'red/blush wine'],\n",
       " ['other vegetables', 'sliced cheese'],\n",
       " ['butter', 'whole milk'],\n",
       " ['oil', 'canned fish'],\n",
       " ['whole milk', 'misc. beverages'],\n",
       " ['white wine', 'sauces'],\n",
       " ['other vegetables', 'margarine', 'brown bread'],\n",
       " ['red/blush wine', 'frozen meals', 'canned fruit'],\n",
       " ['other vegetables', 'liquor', 'whole milk', 'butter milk'],\n",
       " ['rolls/buns', 'seasonal products'],\n",
       " ['tropical fruit', 'root vegetables'],\n",
       " ['other vegetables', 'whole milk', 'softener'],\n",
       " ['citrus fruit', 'cereals'],\n",
       " ['cake bar', 'flower soil/fertilizer'],\n",
       " ['pork', 'napkins'],\n",
       " ['specialty bar', 'cleaner'],\n",
       " ['artif. sweetener', 'whole milk'],\n",
       " ['pork', 'pastry'],\n",
       " ['coffee', 'other vegetables', 'specialty cheese'],\n",
       " ['dessert', 'rolls/buns'],\n",
       " ['tidbits', 'cream cheese '],\n",
       " ['curd', 'hygiene articles'],\n",
       " ['rolls/buns', 'dental care'],\n",
       " ['root vegetables', 'butter', 'dessert'],\n",
       " ['citrus fruit', 'pastry'],\n",
       " ['salt', 'citrus fruit'],\n",
       " ['other vegetables', 'whole milk'],\n",
       " ['sausage', 'onions', 'mustard'],\n",
       " ['frozen potato products', 'domestic eggs', 'shopping bags', 'butter milk'],\n",
       " ['white bread', 'specialty chocolate'],\n",
       " ['ice cream', 'butter'],\n",
       " ['dessert', 'house keeping products'],\n",
       " ['condensed milk', 'hard cheese'],\n",
       " ['hard cheese', 'yogurt'],\n",
       " ['sausage', 'whole milk', 'rolls/buns', 'bottled beer'],\n",
       " ['whole milk', 'cream cheese ', 'semi-finished bread'],\n",
       " ['sausage', 'rolls/buns'],\n",
       " ['frankfurter', 'shopping bags'],\n",
       " ['photo/film',\n",
       "  'whole milk',\n",
       "  'yogurt',\n",
       "  'whole milk',\n",
       "  'white bread',\n",
       "  'pot plants',\n",
       "  'dessert'],\n",
       " ...]"
      ]
     },
     "execution_count": 62,
     "metadata": {},
     "output_type": "execute_result"
    }
   ],
   "source": [
    "transactions"
   ]
  },
  {
   "cell_type": "code",
   "execution_count": 63,
   "metadata": {
    "execution": {
     "iopub.execute_input": "2022-05-05T11:07:08.396882Z",
     "iopub.status.busy": "2022-05-05T11:07:08.396118Z",
     "iopub.status.idle": "2022-05-05T11:07:08.40117Z",
     "shell.execute_reply": "2022-05-05T11:07:08.400155Z",
     "shell.execute_reply.started": "2022-05-05T11:07:08.396844Z"
    },
    "id": "QIdqaKoNAoLy"
   },
   "outputs": [],
   "source": [
    "from mlxtend.preprocessing import TransactionEncoder"
   ]
  },
  {
   "cell_type": "code",
   "execution_count": 64,
   "metadata": {
    "execution": {
     "iopub.execute_input": "2022-05-05T11:07:08.402722Z",
     "iopub.status.busy": "2022-05-05T11:07:08.402485Z",
     "iopub.status.idle": "2022-05-05T11:07:08.417881Z",
     "shell.execute_reply": "2022-05-05T11:07:08.416629Z",
     "shell.execute_reply.started": "2022-05-05T11:07:08.402692Z"
    },
    "id": "2ON1RtI7As1n"
   },
   "outputs": [],
   "source": [
    "te = TransactionEncoder()"
   ]
  },
  {
   "cell_type": "code",
   "execution_count": 65,
   "metadata": {
    "execution": {
     "iopub.execute_input": "2022-05-05T11:07:08.419584Z",
     "iopub.status.busy": "2022-05-05T11:07:08.419099Z",
     "iopub.status.idle": "2022-05-05T11:07:08.459322Z",
     "shell.execute_reply": "2022-05-05T11:07:08.458466Z",
     "shell.execute_reply.started": "2022-05-05T11:07:08.419533Z"
    },
    "id": "wNRM2GpzAuxu"
   },
   "outputs": [],
   "source": [
    "te_ary = te.fit(transactions).transform(transactions)"
   ]
  },
  {
   "cell_type": "code",
   "execution_count": 66,
   "metadata": {
    "execution": {
     "iopub.execute_input": "2022-05-05T11:07:08.46076Z",
     "iopub.status.busy": "2022-05-05T11:07:08.460518Z",
     "iopub.status.idle": "2022-05-05T11:07:08.47025Z",
     "shell.execute_reply": "2022-05-05T11:07:08.469474Z",
     "shell.execute_reply.started": "2022-05-05T11:07:08.46073Z"
    },
    "id": "4F20iFZ_AwGu",
    "outputId": "06f6a3cc-c24e-4301-f680-631d0877ade6"
   },
   "outputs": [
    {
     "data": {
      "text/plain": [
       "['Instant food products',\n",
       " 'UHT-milk',\n",
       " 'abrasive cleaner',\n",
       " 'artif. sweetener',\n",
       " 'baby cosmetics',\n",
       " 'bags',\n",
       " 'baking powder',\n",
       " 'bathroom cleaner',\n",
       " 'beef',\n",
       " 'berries',\n",
       " 'beverages',\n",
       " 'bottled beer',\n",
       " 'bottled water',\n",
       " 'brandy',\n",
       " 'brown bread',\n",
       " 'butter',\n",
       " 'butter milk',\n",
       " 'cake bar',\n",
       " 'candles',\n",
       " 'candy',\n",
       " 'canned beer',\n",
       " 'canned fish',\n",
       " 'canned fruit',\n",
       " 'canned vegetables',\n",
       " 'cat food',\n",
       " 'cereals',\n",
       " 'chewing gum',\n",
       " 'chicken',\n",
       " 'chocolate',\n",
       " 'chocolate marshmallow',\n",
       " 'citrus fruit',\n",
       " 'cleaner',\n",
       " 'cling film/bags',\n",
       " 'cocoa drinks',\n",
       " 'coffee',\n",
       " 'condensed milk',\n",
       " 'cooking chocolate',\n",
       " 'cookware',\n",
       " 'cream',\n",
       " 'cream cheese ',\n",
       " 'curd',\n",
       " 'curd cheese',\n",
       " 'decalcifier',\n",
       " 'dental care',\n",
       " 'dessert',\n",
       " 'detergent',\n",
       " 'dish cleaner',\n",
       " 'dishes',\n",
       " 'dog food',\n",
       " 'domestic eggs',\n",
       " 'female sanitary products',\n",
       " 'finished products',\n",
       " 'fish',\n",
       " 'flour',\n",
       " 'flower (seeds)',\n",
       " 'flower soil/fertilizer',\n",
       " 'frankfurter',\n",
       " 'frozen chicken',\n",
       " 'frozen dessert',\n",
       " 'frozen fish',\n",
       " 'frozen fruits',\n",
       " 'frozen meals',\n",
       " 'frozen potato products',\n",
       " 'frozen vegetables',\n",
       " 'fruit/vegetable juice',\n",
       " 'grapes',\n",
       " 'hair spray',\n",
       " 'ham',\n",
       " 'hamburger meat',\n",
       " 'hard cheese',\n",
       " 'herbs',\n",
       " 'honey',\n",
       " 'house keeping products',\n",
       " 'hygiene articles',\n",
       " 'ice cream',\n",
       " 'instant coffee',\n",
       " 'jam',\n",
       " 'ketchup',\n",
       " 'kitchen towels',\n",
       " 'kitchen utensil',\n",
       " 'light bulbs',\n",
       " 'liqueur',\n",
       " 'liquor',\n",
       " 'liquor (appetizer)',\n",
       " 'liver loaf',\n",
       " 'long life bakery product',\n",
       " 'make up remover',\n",
       " 'male cosmetics',\n",
       " 'margarine',\n",
       " 'mayonnaise',\n",
       " 'meat',\n",
       " 'meat spreads',\n",
       " 'misc. beverages',\n",
       " 'mustard',\n",
       " 'napkins',\n",
       " 'newspapers',\n",
       " 'nut snack',\n",
       " 'nuts/prunes',\n",
       " 'oil',\n",
       " 'onions',\n",
       " 'organic products',\n",
       " 'organic sausage',\n",
       " 'other vegetables',\n",
       " 'packaged fruit/vegetables',\n",
       " 'pasta',\n",
       " 'pastry',\n",
       " 'pet care',\n",
       " 'photo/film',\n",
       " 'pickled vegetables',\n",
       " 'pip fruit',\n",
       " 'popcorn',\n",
       " 'pork',\n",
       " 'pot plants',\n",
       " 'potato products',\n",
       " 'preservation products',\n",
       " 'processed cheese',\n",
       " 'prosecco',\n",
       " 'pudding powder',\n",
       " 'ready soups',\n",
       " 'red/blush wine',\n",
       " 'rice',\n",
       " 'roll products ',\n",
       " 'rolls/buns',\n",
       " 'root vegetables',\n",
       " 'rubbing alcohol',\n",
       " 'rum',\n",
       " 'salad dressing',\n",
       " 'salt',\n",
       " 'salty snack',\n",
       " 'sauces',\n",
       " 'sausage',\n",
       " 'seasonal products',\n",
       " 'semi-finished bread',\n",
       " 'shopping bags',\n",
       " 'skin care',\n",
       " 'sliced cheese',\n",
       " 'snack products',\n",
       " 'soap',\n",
       " 'soda',\n",
       " 'soft cheese',\n",
       " 'softener',\n",
       " 'soups',\n",
       " 'sparkling wine',\n",
       " 'specialty bar',\n",
       " 'specialty cheese',\n",
       " 'specialty chocolate',\n",
       " 'specialty fat',\n",
       " 'specialty vegetables',\n",
       " 'spices',\n",
       " 'spread cheese',\n",
       " 'sugar',\n",
       " 'sweet spreads',\n",
       " 'syrup',\n",
       " 'tea',\n",
       " 'tidbits',\n",
       " 'toilet cleaner',\n",
       " 'tropical fruit',\n",
       " 'turkey',\n",
       " 'vinegar',\n",
       " 'waffles',\n",
       " 'whipped/sour cream',\n",
       " 'whisky',\n",
       " 'white bread',\n",
       " 'white wine',\n",
       " 'whole milk',\n",
       " 'yogurt',\n",
       " 'zwieback']"
      ]
     },
     "execution_count": 66,
     "metadata": {},
     "output_type": "execute_result"
    }
   ],
   "source": [
    "te.columns_"
   ]
  },
  {
   "cell_type": "code",
   "execution_count": 67,
   "metadata": {
    "execution": {
     "iopub.execute_input": "2022-05-05T11:07:08.472351Z",
     "iopub.status.busy": "2022-05-05T11:07:08.471872Z",
     "iopub.status.idle": "2022-05-05T11:07:08.482269Z",
     "shell.execute_reply": "2022-05-05T11:07:08.481488Z",
     "shell.execute_reply.started": "2022-05-05T11:07:08.472304Z"
    },
    "id": "n51nzJWwAxMo",
    "outputId": "fdbc7a88-cd1b-4309-9dab-02ad226191d7"
   },
   "outputs": [
    {
     "data": {
      "text/plain": [
       "array([[False, False, False, ...,  True,  True, False],\n",
       "       [False, False, False, ...,  True, False, False],\n",
       "       [False, False, False, ..., False, False, False],\n",
       "       ...,\n",
       "       [False, False, False, ..., False, False, False],\n",
       "       [False, False, False, ..., False, False, False],\n",
       "       [False, False, False, ..., False, False, False]])"
      ]
     },
     "execution_count": 67,
     "metadata": {},
     "output_type": "execute_result"
    }
   ],
   "source": [
    "te_ary"
   ]
  },
  {
   "cell_type": "code",
   "execution_count": 68,
   "metadata": {
    "execution": {
     "iopub.execute_input": "2022-05-05T11:07:08.484354Z",
     "iopub.status.busy": "2022-05-05T11:07:08.483508Z",
     "iopub.status.idle": "2022-05-05T11:07:08.747307Z",
     "shell.execute_reply": "2022-05-05T11:07:08.746533Z",
     "shell.execute_reply.started": "2022-05-05T11:07:08.484311Z"
    },
    "id": "Bc2qoNybA65Z"
   },
   "outputs": [],
   "source": [
    "transactions = pd.DataFrame(te_ary, columns=te.columns_)\n",
    "pf = transactions.describe()"
   ]
  },
  {
   "cell_type": "code",
   "execution_count": 69,
   "metadata": {
    "execution": {
     "iopub.execute_input": "2022-05-05T11:07:08.749207Z",
     "iopub.status.busy": "2022-05-05T11:07:08.748593Z",
     "iopub.status.idle": "2022-05-05T11:07:08.780128Z",
     "shell.execute_reply": "2022-05-05T11:07:08.779484Z",
     "shell.execute_reply.started": "2022-05-05T11:07:08.749171Z"
    },
    "id": "rNZb4sw5uC8i",
    "outputId": "f4a14928-4519-4e99-ea66-6e899106b67a"
   },
   "outputs": [
    {
     "data": {
      "text/html": [
       "<div>\n",
       "<style scoped>\n",
       "    .dataframe tbody tr th:only-of-type {\n",
       "        vertical-align: middle;\n",
       "    }\n",
       "\n",
       "    .dataframe tbody tr th {\n",
       "        vertical-align: top;\n",
       "    }\n",
       "\n",
       "    .dataframe thead th {\n",
       "        text-align: right;\n",
       "    }\n",
       "</style>\n",
       "<table border=\"1\" class=\"dataframe\">\n",
       "  <thead>\n",
       "    <tr style=\"text-align: right;\">\n",
       "      <th></th>\n",
       "      <th>Instant food products</th>\n",
       "      <th>UHT-milk</th>\n",
       "      <th>abrasive cleaner</th>\n",
       "      <th>artif. sweetener</th>\n",
       "      <th>baby cosmetics</th>\n",
       "      <th>bags</th>\n",
       "      <th>baking powder</th>\n",
       "      <th>bathroom cleaner</th>\n",
       "      <th>beef</th>\n",
       "      <th>berries</th>\n",
       "      <th>...</th>\n",
       "      <th>turkey</th>\n",
       "      <th>vinegar</th>\n",
       "      <th>waffles</th>\n",
       "      <th>whipped/sour cream</th>\n",
       "      <th>whisky</th>\n",
       "      <th>white bread</th>\n",
       "      <th>white wine</th>\n",
       "      <th>whole milk</th>\n",
       "      <th>yogurt</th>\n",
       "      <th>zwieback</th>\n",
       "    </tr>\n",
       "  </thead>\n",
       "  <tbody>\n",
       "    <tr>\n",
       "      <th>0</th>\n",
       "      <td>False</td>\n",
       "      <td>False</td>\n",
       "      <td>False</td>\n",
       "      <td>False</td>\n",
       "      <td>False</td>\n",
       "      <td>False</td>\n",
       "      <td>False</td>\n",
       "      <td>False</td>\n",
       "      <td>False</td>\n",
       "      <td>False</td>\n",
       "      <td>...</td>\n",
       "      <td>False</td>\n",
       "      <td>False</td>\n",
       "      <td>False</td>\n",
       "      <td>False</td>\n",
       "      <td>False</td>\n",
       "      <td>False</td>\n",
       "      <td>False</td>\n",
       "      <td>True</td>\n",
       "      <td>True</td>\n",
       "      <td>False</td>\n",
       "    </tr>\n",
       "    <tr>\n",
       "      <th>1</th>\n",
       "      <td>False</td>\n",
       "      <td>False</td>\n",
       "      <td>False</td>\n",
       "      <td>False</td>\n",
       "      <td>False</td>\n",
       "      <td>False</td>\n",
       "      <td>False</td>\n",
       "      <td>False</td>\n",
       "      <td>False</td>\n",
       "      <td>False</td>\n",
       "      <td>...</td>\n",
       "      <td>False</td>\n",
       "      <td>False</td>\n",
       "      <td>False</td>\n",
       "      <td>False</td>\n",
       "      <td>False</td>\n",
       "      <td>False</td>\n",
       "      <td>False</td>\n",
       "      <td>True</td>\n",
       "      <td>False</td>\n",
       "      <td>False</td>\n",
       "    </tr>\n",
       "    <tr>\n",
       "      <th>2</th>\n",
       "      <td>False</td>\n",
       "      <td>False</td>\n",
       "      <td>False</td>\n",
       "      <td>False</td>\n",
       "      <td>False</td>\n",
       "      <td>False</td>\n",
       "      <td>False</td>\n",
       "      <td>False</td>\n",
       "      <td>False</td>\n",
       "      <td>False</td>\n",
       "      <td>...</td>\n",
       "      <td>False</td>\n",
       "      <td>False</td>\n",
       "      <td>False</td>\n",
       "      <td>False</td>\n",
       "      <td>False</td>\n",
       "      <td>False</td>\n",
       "      <td>False</td>\n",
       "      <td>False</td>\n",
       "      <td>False</td>\n",
       "      <td>False</td>\n",
       "    </tr>\n",
       "    <tr>\n",
       "      <th>3</th>\n",
       "      <td>False</td>\n",
       "      <td>False</td>\n",
       "      <td>False</td>\n",
       "      <td>False</td>\n",
       "      <td>False</td>\n",
       "      <td>False</td>\n",
       "      <td>False</td>\n",
       "      <td>False</td>\n",
       "      <td>False</td>\n",
       "      <td>False</td>\n",
       "      <td>...</td>\n",
       "      <td>False</td>\n",
       "      <td>False</td>\n",
       "      <td>False</td>\n",
       "      <td>False</td>\n",
       "      <td>False</td>\n",
       "      <td>False</td>\n",
       "      <td>False</td>\n",
       "      <td>False</td>\n",
       "      <td>False</td>\n",
       "      <td>False</td>\n",
       "    </tr>\n",
       "    <tr>\n",
       "      <th>4</th>\n",
       "      <td>False</td>\n",
       "      <td>False</td>\n",
       "      <td>False</td>\n",
       "      <td>False</td>\n",
       "      <td>False</td>\n",
       "      <td>False</td>\n",
       "      <td>False</td>\n",
       "      <td>False</td>\n",
       "      <td>False</td>\n",
       "      <td>False</td>\n",
       "      <td>...</td>\n",
       "      <td>False</td>\n",
       "      <td>False</td>\n",
       "      <td>False</td>\n",
       "      <td>False</td>\n",
       "      <td>False</td>\n",
       "      <td>False</td>\n",
       "      <td>False</td>\n",
       "      <td>False</td>\n",
       "      <td>False</td>\n",
       "      <td>False</td>\n",
       "    </tr>\n",
       "    <tr>\n",
       "      <th>...</th>\n",
       "      <td>...</td>\n",
       "      <td>...</td>\n",
       "      <td>...</td>\n",
       "      <td>...</td>\n",
       "      <td>...</td>\n",
       "      <td>...</td>\n",
       "      <td>...</td>\n",
       "      <td>...</td>\n",
       "      <td>...</td>\n",
       "      <td>...</td>\n",
       "      <td>...</td>\n",
       "      <td>...</td>\n",
       "      <td>...</td>\n",
       "      <td>...</td>\n",
       "      <td>...</td>\n",
       "      <td>...</td>\n",
       "      <td>...</td>\n",
       "      <td>...</td>\n",
       "      <td>...</td>\n",
       "      <td>...</td>\n",
       "      <td>...</td>\n",
       "    </tr>\n",
       "    <tr>\n",
       "      <th>14958</th>\n",
       "      <td>False</td>\n",
       "      <td>False</td>\n",
       "      <td>False</td>\n",
       "      <td>False</td>\n",
       "      <td>False</td>\n",
       "      <td>False</td>\n",
       "      <td>False</td>\n",
       "      <td>False</td>\n",
       "      <td>False</td>\n",
       "      <td>True</td>\n",
       "      <td>...</td>\n",
       "      <td>False</td>\n",
       "      <td>False</td>\n",
       "      <td>False</td>\n",
       "      <td>False</td>\n",
       "      <td>False</td>\n",
       "      <td>False</td>\n",
       "      <td>False</td>\n",
       "      <td>False</td>\n",
       "      <td>True</td>\n",
       "      <td>False</td>\n",
       "    </tr>\n",
       "    <tr>\n",
       "      <th>14959</th>\n",
       "      <td>False</td>\n",
       "      <td>False</td>\n",
       "      <td>False</td>\n",
       "      <td>False</td>\n",
       "      <td>False</td>\n",
       "      <td>False</td>\n",
       "      <td>False</td>\n",
       "      <td>False</td>\n",
       "      <td>False</td>\n",
       "      <td>False</td>\n",
       "      <td>...</td>\n",
       "      <td>False</td>\n",
       "      <td>False</td>\n",
       "      <td>False</td>\n",
       "      <td>False</td>\n",
       "      <td>False</td>\n",
       "      <td>False</td>\n",
       "      <td>False</td>\n",
       "      <td>False</td>\n",
       "      <td>False</td>\n",
       "      <td>False</td>\n",
       "    </tr>\n",
       "    <tr>\n",
       "      <th>14960</th>\n",
       "      <td>False</td>\n",
       "      <td>False</td>\n",
       "      <td>False</td>\n",
       "      <td>False</td>\n",
       "      <td>False</td>\n",
       "      <td>False</td>\n",
       "      <td>False</td>\n",
       "      <td>False</td>\n",
       "      <td>False</td>\n",
       "      <td>False</td>\n",
       "      <td>...</td>\n",
       "      <td>False</td>\n",
       "      <td>False</td>\n",
       "      <td>False</td>\n",
       "      <td>False</td>\n",
       "      <td>False</td>\n",
       "      <td>False</td>\n",
       "      <td>False</td>\n",
       "      <td>False</td>\n",
       "      <td>False</td>\n",
       "      <td>False</td>\n",
       "    </tr>\n",
       "    <tr>\n",
       "      <th>14961</th>\n",
       "      <td>False</td>\n",
       "      <td>False</td>\n",
       "      <td>False</td>\n",
       "      <td>False</td>\n",
       "      <td>False</td>\n",
       "      <td>False</td>\n",
       "      <td>False</td>\n",
       "      <td>False</td>\n",
       "      <td>False</td>\n",
       "      <td>False</td>\n",
       "      <td>...</td>\n",
       "      <td>False</td>\n",
       "      <td>False</td>\n",
       "      <td>False</td>\n",
       "      <td>False</td>\n",
       "      <td>False</td>\n",
       "      <td>False</td>\n",
       "      <td>False</td>\n",
       "      <td>False</td>\n",
       "      <td>False</td>\n",
       "      <td>False</td>\n",
       "    </tr>\n",
       "    <tr>\n",
       "      <th>14962</th>\n",
       "      <td>False</td>\n",
       "      <td>False</td>\n",
       "      <td>False</td>\n",
       "      <td>False</td>\n",
       "      <td>False</td>\n",
       "      <td>False</td>\n",
       "      <td>False</td>\n",
       "      <td>False</td>\n",
       "      <td>False</td>\n",
       "      <td>False</td>\n",
       "      <td>...</td>\n",
       "      <td>False</td>\n",
       "      <td>False</td>\n",
       "      <td>False</td>\n",
       "      <td>False</td>\n",
       "      <td>False</td>\n",
       "      <td>False</td>\n",
       "      <td>False</td>\n",
       "      <td>False</td>\n",
       "      <td>False</td>\n",
       "      <td>False</td>\n",
       "    </tr>\n",
       "  </tbody>\n",
       "</table>\n",
       "<p>14963 rows × 167 columns</p>\n",
       "</div>"
      ],
      "text/plain": [
       "       Instant food products  UHT-milk  abrasive cleaner  artif. sweetener  \\\n",
       "0      False                  False     False             False              \n",
       "1      False                  False     False             False              \n",
       "2      False                  False     False             False              \n",
       "3      False                  False     False             False              \n",
       "4      False                  False     False             False              \n",
       "...      ...                    ...       ...               ...              \n",
       "14958  False                  False     False             False              \n",
       "14959  False                  False     False             False              \n",
       "14960  False                  False     False             False              \n",
       "14961  False                  False     False             False              \n",
       "14962  False                  False     False             False              \n",
       "\n",
       "       baby cosmetics   bags  baking powder  bathroom cleaner   beef  berries  \\\n",
       "0      False           False  False          False             False  False     \n",
       "1      False           False  False          False             False  False     \n",
       "2      False           False  False          False             False  False     \n",
       "3      False           False  False          False             False  False     \n",
       "4      False           False  False          False             False  False     \n",
       "...      ...             ...    ...            ...               ...    ...     \n",
       "14958  False           False  False          False             False  True      \n",
       "14959  False           False  False          False             False  False     \n",
       "14960  False           False  False          False             False  False     \n",
       "14961  False           False  False          False             False  False     \n",
       "14962  False           False  False          False             False  False     \n",
       "\n",
       "       ...  turkey  vinegar  waffles  whipped/sour cream  whisky  white bread  \\\n",
       "0      ...  False   False    False    False               False   False         \n",
       "1      ...  False   False    False    False               False   False         \n",
       "2      ...  False   False    False    False               False   False         \n",
       "3      ...  False   False    False    False               False   False         \n",
       "4      ...  False   False    False    False               False   False         \n",
       "...    ...    ...     ...      ...      ...                 ...     ...         \n",
       "14958  ...  False   False    False    False               False   False         \n",
       "14959  ...  False   False    False    False               False   False         \n",
       "14960  ...  False   False    False    False               False   False         \n",
       "14961  ...  False   False    False    False               False   False         \n",
       "14962  ...  False   False    False    False               False   False         \n",
       "\n",
       "       white wine  whole milk  yogurt  zwieback  \n",
       "0      False       True        True    False     \n",
       "1      False       True        False   False     \n",
       "2      False       False       False   False     \n",
       "3      False       False       False   False     \n",
       "4      False       False       False   False     \n",
       "...      ...         ...         ...     ...     \n",
       "14958  False       False       True    False     \n",
       "14959  False       False       False   False     \n",
       "14960  False       False       False   False     \n",
       "14961  False       False       False   False     \n",
       "14962  False       False       False   False     \n",
       "\n",
       "[14963 rows x 167 columns]"
      ]
     },
     "execution_count": 69,
     "metadata": {},
     "output_type": "execute_result"
    }
   ],
   "source": [
    "transactions"
   ]
  },
  {
   "cell_type": "code",
   "execution_count": 70,
   "metadata": {
    "execution": {
     "iopub.execute_input": "2022-05-05T11:07:08.781743Z",
     "iopub.status.busy": "2022-05-05T11:07:08.78128Z",
     "iopub.status.idle": "2022-05-05T11:07:09.548974Z",
     "shell.execute_reply": "2022-05-05T11:07:09.547852Z",
     "shell.execute_reply.started": "2022-05-05T11:07:08.781711Z"
    },
    "id": "bpVzSOL3uF6O"
   },
   "outputs": [],
   "source": [
    "transactions.to_csv(\"lr.csv\", index=False)"
   ]
  },
  {
   "cell_type": "code",
   "execution_count": 71,
   "metadata": {
    "execution": {
     "iopub.execute_input": "2022-05-05T11:07:09.551208Z",
     "iopub.status.busy": "2022-05-05T11:07:09.550851Z",
     "iopub.status.idle": "2022-05-05T11:07:09.57479Z",
     "shell.execute_reply": "2022-05-05T11:07:09.574187Z",
     "shell.execute_reply.started": "2022-05-05T11:07:09.55116Z"
    },
    "id": "mV1CGZHEA8DG",
    "outputId": "740bff75-0413-4f55-9143-e418b5925730"
   },
   "outputs": [
    {
     "data": {
      "text/html": [
       "<div>\n",
       "<style scoped>\n",
       "    .dataframe tbody tr th:only-of-type {\n",
       "        vertical-align: middle;\n",
       "    }\n",
       "\n",
       "    .dataframe tbody tr th {\n",
       "        vertical-align: top;\n",
       "    }\n",
       "\n",
       "    .dataframe thead th {\n",
       "        text-align: right;\n",
       "    }\n",
       "</style>\n",
       "<table border=\"1\" class=\"dataframe\">\n",
       "  <thead>\n",
       "    <tr style=\"text-align: right;\">\n",
       "      <th></th>\n",
       "      <th>Instant food products</th>\n",
       "      <th>UHT-milk</th>\n",
       "      <th>abrasive cleaner</th>\n",
       "      <th>artif. sweetener</th>\n",
       "      <th>baby cosmetics</th>\n",
       "      <th>bags</th>\n",
       "      <th>baking powder</th>\n",
       "      <th>bathroom cleaner</th>\n",
       "      <th>beef</th>\n",
       "      <th>berries</th>\n",
       "      <th>...</th>\n",
       "      <th>turkey</th>\n",
       "      <th>vinegar</th>\n",
       "      <th>waffles</th>\n",
       "      <th>whipped/sour cream</th>\n",
       "      <th>whisky</th>\n",
       "      <th>white bread</th>\n",
       "      <th>white wine</th>\n",
       "      <th>whole milk</th>\n",
       "      <th>yogurt</th>\n",
       "      <th>zwieback</th>\n",
       "    </tr>\n",
       "  </thead>\n",
       "  <tbody>\n",
       "    <tr>\n",
       "      <th>count</th>\n",
       "      <td>14963</td>\n",
       "      <td>14963</td>\n",
       "      <td>14963</td>\n",
       "      <td>14963</td>\n",
       "      <td>14963</td>\n",
       "      <td>14963</td>\n",
       "      <td>14963</td>\n",
       "      <td>14963</td>\n",
       "      <td>14963</td>\n",
       "      <td>14963</td>\n",
       "      <td>...</td>\n",
       "      <td>14963</td>\n",
       "      <td>14963</td>\n",
       "      <td>14963</td>\n",
       "      <td>14963</td>\n",
       "      <td>14963</td>\n",
       "      <td>14963</td>\n",
       "      <td>14963</td>\n",
       "      <td>14963</td>\n",
       "      <td>14963</td>\n",
       "      <td>14963</td>\n",
       "    </tr>\n",
       "    <tr>\n",
       "      <th>unique</th>\n",
       "      <td>2</td>\n",
       "      <td>2</td>\n",
       "      <td>2</td>\n",
       "      <td>2</td>\n",
       "      <td>2</td>\n",
       "      <td>2</td>\n",
       "      <td>2</td>\n",
       "      <td>2</td>\n",
       "      <td>2</td>\n",
       "      <td>2</td>\n",
       "      <td>...</td>\n",
       "      <td>2</td>\n",
       "      <td>2</td>\n",
       "      <td>2</td>\n",
       "      <td>2</td>\n",
       "      <td>2</td>\n",
       "      <td>2</td>\n",
       "      <td>2</td>\n",
       "      <td>2</td>\n",
       "      <td>2</td>\n",
       "      <td>2</td>\n",
       "    </tr>\n",
       "    <tr>\n",
       "      <th>top</th>\n",
       "      <td>False</td>\n",
       "      <td>False</td>\n",
       "      <td>False</td>\n",
       "      <td>False</td>\n",
       "      <td>False</td>\n",
       "      <td>False</td>\n",
       "      <td>False</td>\n",
       "      <td>False</td>\n",
       "      <td>False</td>\n",
       "      <td>False</td>\n",
       "      <td>...</td>\n",
       "      <td>False</td>\n",
       "      <td>False</td>\n",
       "      <td>False</td>\n",
       "      <td>False</td>\n",
       "      <td>False</td>\n",
       "      <td>False</td>\n",
       "      <td>False</td>\n",
       "      <td>False</td>\n",
       "      <td>False</td>\n",
       "      <td>False</td>\n",
       "    </tr>\n",
       "    <tr>\n",
       "      <th>freq</th>\n",
       "      <td>14903</td>\n",
       "      <td>14643</td>\n",
       "      <td>14941</td>\n",
       "      <td>14934</td>\n",
       "      <td>14960</td>\n",
       "      <td>14959</td>\n",
       "      <td>14842</td>\n",
       "      <td>14946</td>\n",
       "      <td>14455</td>\n",
       "      <td>14637</td>\n",
       "      <td>...</td>\n",
       "      <td>14883</td>\n",
       "      <td>14912</td>\n",
       "      <td>14686</td>\n",
       "      <td>14309</td>\n",
       "      <td>14955</td>\n",
       "      <td>14604</td>\n",
       "      <td>14788</td>\n",
       "      <td>12600</td>\n",
       "      <td>13678</td>\n",
       "      <td>14903</td>\n",
       "    </tr>\n",
       "  </tbody>\n",
       "</table>\n",
       "<p>4 rows × 167 columns</p>\n",
       "</div>"
      ],
      "text/plain": [
       "       Instant food products UHT-milk abrasive cleaner artif. sweetener  \\\n",
       "count   14963                 14963    14963            14963             \n",
       "unique  2                     2        2                2                 \n",
       "top     False                 False    False            False             \n",
       "freq    14903                 14643    14941            14934             \n",
       "\n",
       "       baby cosmetics   bags baking powder bathroom cleaner   beef berries  \\\n",
       "count   14963          14963  14963         14963            14963  14963    \n",
       "unique  2              2      2             2                2      2        \n",
       "top     False          False  False         False            False  False    \n",
       "freq    14960          14959  14842         14946            14455  14637    \n",
       "\n",
       "        ... turkey vinegar waffles whipped/sour cream whisky white bread  \\\n",
       "count   ...  14963  14963   14963   14963              14963  14963        \n",
       "unique  ...  2      2       2       2                  2      2            \n",
       "top     ...  False  False   False   False              False  False        \n",
       "freq    ...  14883  14912   14686   14309              14955  14604        \n",
       "\n",
       "       white wine whole milk yogurt zwieback  \n",
       "count   14963      14963      14963  14963    \n",
       "unique  2          2          2      2        \n",
       "top     False      False      False  False    \n",
       "freq    14788      12600      13678  14903    \n",
       "\n",
       "[4 rows x 167 columns]"
      ]
     },
     "execution_count": 71,
     "metadata": {},
     "output_type": "execute_result"
    }
   ],
   "source": [
    "pf"
   ]
  },
  {
   "cell_type": "code",
   "execution_count": 72,
   "metadata": {
    "execution": {
     "iopub.execute_input": "2022-05-05T11:07:09.576268Z",
     "iopub.status.busy": "2022-05-05T11:07:09.575912Z",
     "iopub.status.idle": "2022-05-05T11:07:09.584451Z",
     "shell.execute_reply": "2022-05-05T11:07:09.583584Z",
     "shell.execute_reply.started": "2022-05-05T11:07:09.576235Z"
    },
    "id": "yck0432sA9Mu",
    "outputId": "ae2c7985-1839-465e-ad25-ddce391fa2a8"
   },
   "outputs": [
    {
     "data": {
      "text/plain": [
       "Instant food products    60  \n",
       "UHT-milk                 320 \n",
       "abrasive cleaner         22  \n",
       "artif. sweetener         29  \n",
       "baby cosmetics           3   \n",
       "                        ..   \n",
       "white bread              359 \n",
       "white wine               175 \n",
       "whole milk               2363\n",
       "yogurt                   1285\n",
       "zwieback                 60  \n",
       "Length: 167, dtype: object"
      ]
     },
     "execution_count": 72,
     "metadata": {},
     "output_type": "execute_result"
    }
   ],
   "source": [
    "pf.iloc[0]-pf.iloc[3]"
   ]
  },
  {
   "cell_type": "code",
   "execution_count": 73,
   "metadata": {
    "execution": {
     "iopub.execute_input": "2022-05-05T11:07:09.586744Z",
     "iopub.status.busy": "2022-05-05T11:07:09.585882Z",
     "iopub.status.idle": "2022-05-05T11:07:09.622618Z",
     "shell.execute_reply": "2022-05-05T11:07:09.621967Z",
     "shell.execute_reply.started": "2022-05-05T11:07:09.586701Z"
    },
    "id": "Zt_ocWT6A_-Q",
    "outputId": "32234c7f-4829-4af9-a102-91ddb22f7e4a"
   },
   "outputs": [
    {
     "data": {
      "text/html": [
       "<div>\n",
       "<style scoped>\n",
       "    .dataframe tbody tr th:only-of-type {\n",
       "        vertical-align: middle;\n",
       "    }\n",
       "\n",
       "    .dataframe tbody tr th {\n",
       "        vertical-align: top;\n",
       "    }\n",
       "\n",
       "    .dataframe thead th {\n",
       "        text-align: right;\n",
       "    }\n",
       "</style>\n",
       "<table border=\"1\" class=\"dataframe\">\n",
       "  <thead>\n",
       "    <tr style=\"text-align: right;\">\n",
       "      <th></th>\n",
       "      <th>Instant food products</th>\n",
       "      <th>UHT-milk</th>\n",
       "      <th>abrasive cleaner</th>\n",
       "      <th>artif. sweetener</th>\n",
       "      <th>baby cosmetics</th>\n",
       "      <th>bags</th>\n",
       "      <th>baking powder</th>\n",
       "      <th>bathroom cleaner</th>\n",
       "      <th>beef</th>\n",
       "      <th>berries</th>\n",
       "      <th>...</th>\n",
       "      <th>turkey</th>\n",
       "      <th>vinegar</th>\n",
       "      <th>waffles</th>\n",
       "      <th>whipped/sour cream</th>\n",
       "      <th>whisky</th>\n",
       "      <th>white bread</th>\n",
       "      <th>white wine</th>\n",
       "      <th>whole milk</th>\n",
       "      <th>yogurt</th>\n",
       "      <th>zwieback</th>\n",
       "    </tr>\n",
       "  </thead>\n",
       "  <tbody>\n",
       "    <tr>\n",
       "      <th>0</th>\n",
       "      <td>False</td>\n",
       "      <td>False</td>\n",
       "      <td>False</td>\n",
       "      <td>False</td>\n",
       "      <td>False</td>\n",
       "      <td>False</td>\n",
       "      <td>False</td>\n",
       "      <td>False</td>\n",
       "      <td>False</td>\n",
       "      <td>False</td>\n",
       "      <td>...</td>\n",
       "      <td>False</td>\n",
       "      <td>False</td>\n",
       "      <td>False</td>\n",
       "      <td>False</td>\n",
       "      <td>False</td>\n",
       "      <td>False</td>\n",
       "      <td>False</td>\n",
       "      <td>True</td>\n",
       "      <td>True</td>\n",
       "      <td>False</td>\n",
       "    </tr>\n",
       "    <tr>\n",
       "      <th>1</th>\n",
       "      <td>False</td>\n",
       "      <td>False</td>\n",
       "      <td>False</td>\n",
       "      <td>False</td>\n",
       "      <td>False</td>\n",
       "      <td>False</td>\n",
       "      <td>False</td>\n",
       "      <td>False</td>\n",
       "      <td>False</td>\n",
       "      <td>False</td>\n",
       "      <td>...</td>\n",
       "      <td>False</td>\n",
       "      <td>False</td>\n",
       "      <td>False</td>\n",
       "      <td>False</td>\n",
       "      <td>False</td>\n",
       "      <td>False</td>\n",
       "      <td>False</td>\n",
       "      <td>True</td>\n",
       "      <td>False</td>\n",
       "      <td>False</td>\n",
       "    </tr>\n",
       "    <tr>\n",
       "      <th>2</th>\n",
       "      <td>False</td>\n",
       "      <td>False</td>\n",
       "      <td>False</td>\n",
       "      <td>False</td>\n",
       "      <td>False</td>\n",
       "      <td>False</td>\n",
       "      <td>False</td>\n",
       "      <td>False</td>\n",
       "      <td>False</td>\n",
       "      <td>False</td>\n",
       "      <td>...</td>\n",
       "      <td>False</td>\n",
       "      <td>False</td>\n",
       "      <td>False</td>\n",
       "      <td>False</td>\n",
       "      <td>False</td>\n",
       "      <td>False</td>\n",
       "      <td>False</td>\n",
       "      <td>False</td>\n",
       "      <td>False</td>\n",
       "      <td>False</td>\n",
       "    </tr>\n",
       "    <tr>\n",
       "      <th>3</th>\n",
       "      <td>False</td>\n",
       "      <td>False</td>\n",
       "      <td>False</td>\n",
       "      <td>False</td>\n",
       "      <td>False</td>\n",
       "      <td>False</td>\n",
       "      <td>False</td>\n",
       "      <td>False</td>\n",
       "      <td>False</td>\n",
       "      <td>False</td>\n",
       "      <td>...</td>\n",
       "      <td>False</td>\n",
       "      <td>False</td>\n",
       "      <td>False</td>\n",
       "      <td>False</td>\n",
       "      <td>False</td>\n",
       "      <td>False</td>\n",
       "      <td>False</td>\n",
       "      <td>False</td>\n",
       "      <td>False</td>\n",
       "      <td>False</td>\n",
       "    </tr>\n",
       "    <tr>\n",
       "      <th>4</th>\n",
       "      <td>False</td>\n",
       "      <td>False</td>\n",
       "      <td>False</td>\n",
       "      <td>False</td>\n",
       "      <td>False</td>\n",
       "      <td>False</td>\n",
       "      <td>False</td>\n",
       "      <td>False</td>\n",
       "      <td>False</td>\n",
       "      <td>False</td>\n",
       "      <td>...</td>\n",
       "      <td>False</td>\n",
       "      <td>False</td>\n",
       "      <td>False</td>\n",
       "      <td>False</td>\n",
       "      <td>False</td>\n",
       "      <td>False</td>\n",
       "      <td>False</td>\n",
       "      <td>False</td>\n",
       "      <td>False</td>\n",
       "      <td>False</td>\n",
       "    </tr>\n",
       "    <tr>\n",
       "      <th>...</th>\n",
       "      <td>...</td>\n",
       "      <td>...</td>\n",
       "      <td>...</td>\n",
       "      <td>...</td>\n",
       "      <td>...</td>\n",
       "      <td>...</td>\n",
       "      <td>...</td>\n",
       "      <td>...</td>\n",
       "      <td>...</td>\n",
       "      <td>...</td>\n",
       "      <td>...</td>\n",
       "      <td>...</td>\n",
       "      <td>...</td>\n",
       "      <td>...</td>\n",
       "      <td>...</td>\n",
       "      <td>...</td>\n",
       "      <td>...</td>\n",
       "      <td>...</td>\n",
       "      <td>...</td>\n",
       "      <td>...</td>\n",
       "      <td>...</td>\n",
       "    </tr>\n",
       "    <tr>\n",
       "      <th>14958</th>\n",
       "      <td>False</td>\n",
       "      <td>False</td>\n",
       "      <td>False</td>\n",
       "      <td>False</td>\n",
       "      <td>False</td>\n",
       "      <td>False</td>\n",
       "      <td>False</td>\n",
       "      <td>False</td>\n",
       "      <td>False</td>\n",
       "      <td>True</td>\n",
       "      <td>...</td>\n",
       "      <td>False</td>\n",
       "      <td>False</td>\n",
       "      <td>False</td>\n",
       "      <td>False</td>\n",
       "      <td>False</td>\n",
       "      <td>False</td>\n",
       "      <td>False</td>\n",
       "      <td>False</td>\n",
       "      <td>True</td>\n",
       "      <td>False</td>\n",
       "    </tr>\n",
       "    <tr>\n",
       "      <th>14959</th>\n",
       "      <td>False</td>\n",
       "      <td>False</td>\n",
       "      <td>False</td>\n",
       "      <td>False</td>\n",
       "      <td>False</td>\n",
       "      <td>False</td>\n",
       "      <td>False</td>\n",
       "      <td>False</td>\n",
       "      <td>False</td>\n",
       "      <td>False</td>\n",
       "      <td>...</td>\n",
       "      <td>False</td>\n",
       "      <td>False</td>\n",
       "      <td>False</td>\n",
       "      <td>False</td>\n",
       "      <td>False</td>\n",
       "      <td>False</td>\n",
       "      <td>False</td>\n",
       "      <td>False</td>\n",
       "      <td>False</td>\n",
       "      <td>False</td>\n",
       "    </tr>\n",
       "    <tr>\n",
       "      <th>14960</th>\n",
       "      <td>False</td>\n",
       "      <td>False</td>\n",
       "      <td>False</td>\n",
       "      <td>False</td>\n",
       "      <td>False</td>\n",
       "      <td>False</td>\n",
       "      <td>False</td>\n",
       "      <td>False</td>\n",
       "      <td>False</td>\n",
       "      <td>False</td>\n",
       "      <td>...</td>\n",
       "      <td>False</td>\n",
       "      <td>False</td>\n",
       "      <td>False</td>\n",
       "      <td>False</td>\n",
       "      <td>False</td>\n",
       "      <td>False</td>\n",
       "      <td>False</td>\n",
       "      <td>False</td>\n",
       "      <td>False</td>\n",
       "      <td>False</td>\n",
       "    </tr>\n",
       "    <tr>\n",
       "      <th>14961</th>\n",
       "      <td>False</td>\n",
       "      <td>False</td>\n",
       "      <td>False</td>\n",
       "      <td>False</td>\n",
       "      <td>False</td>\n",
       "      <td>False</td>\n",
       "      <td>False</td>\n",
       "      <td>False</td>\n",
       "      <td>False</td>\n",
       "      <td>False</td>\n",
       "      <td>...</td>\n",
       "      <td>False</td>\n",
       "      <td>False</td>\n",
       "      <td>False</td>\n",
       "      <td>False</td>\n",
       "      <td>False</td>\n",
       "      <td>False</td>\n",
       "      <td>False</td>\n",
       "      <td>False</td>\n",
       "      <td>False</td>\n",
       "      <td>False</td>\n",
       "    </tr>\n",
       "    <tr>\n",
       "      <th>14962</th>\n",
       "      <td>False</td>\n",
       "      <td>False</td>\n",
       "      <td>False</td>\n",
       "      <td>False</td>\n",
       "      <td>False</td>\n",
       "      <td>False</td>\n",
       "      <td>False</td>\n",
       "      <td>False</td>\n",
       "      <td>False</td>\n",
       "      <td>False</td>\n",
       "      <td>...</td>\n",
       "      <td>False</td>\n",
       "      <td>False</td>\n",
       "      <td>False</td>\n",
       "      <td>False</td>\n",
       "      <td>False</td>\n",
       "      <td>False</td>\n",
       "      <td>False</td>\n",
       "      <td>False</td>\n",
       "      <td>False</td>\n",
       "      <td>False</td>\n",
       "    </tr>\n",
       "  </tbody>\n",
       "</table>\n",
       "<p>14963 rows × 167 columns</p>\n",
       "</div>"
      ],
      "text/plain": [
       "       Instant food products  UHT-milk  abrasive cleaner  artif. sweetener  \\\n",
       "0      False                  False     False             False              \n",
       "1      False                  False     False             False              \n",
       "2      False                  False     False             False              \n",
       "3      False                  False     False             False              \n",
       "4      False                  False     False             False              \n",
       "...      ...                    ...       ...               ...              \n",
       "14958  False                  False     False             False              \n",
       "14959  False                  False     False             False              \n",
       "14960  False                  False     False             False              \n",
       "14961  False                  False     False             False              \n",
       "14962  False                  False     False             False              \n",
       "\n",
       "       baby cosmetics   bags  baking powder  bathroom cleaner   beef  berries  \\\n",
       "0      False           False  False          False             False  False     \n",
       "1      False           False  False          False             False  False     \n",
       "2      False           False  False          False             False  False     \n",
       "3      False           False  False          False             False  False     \n",
       "4      False           False  False          False             False  False     \n",
       "...      ...             ...    ...            ...               ...    ...     \n",
       "14958  False           False  False          False             False  True      \n",
       "14959  False           False  False          False             False  False     \n",
       "14960  False           False  False          False             False  False     \n",
       "14961  False           False  False          False             False  False     \n",
       "14962  False           False  False          False             False  False     \n",
       "\n",
       "       ...  turkey  vinegar  waffles  whipped/sour cream  whisky  white bread  \\\n",
       "0      ...  False   False    False    False               False   False         \n",
       "1      ...  False   False    False    False               False   False         \n",
       "2      ...  False   False    False    False               False   False         \n",
       "3      ...  False   False    False    False               False   False         \n",
       "4      ...  False   False    False    False               False   False         \n",
       "...    ...    ...     ...      ...      ...                 ...     ...         \n",
       "14958  ...  False   False    False    False               False   False         \n",
       "14959  ...  False   False    False    False               False   False         \n",
       "14960  ...  False   False    False    False               False   False         \n",
       "14961  ...  False   False    False    False               False   False         \n",
       "14962  ...  False   False    False    False               False   False         \n",
       "\n",
       "       white wine  whole milk  yogurt  zwieback  \n",
       "0      False       True        True    False     \n",
       "1      False       True        False   False     \n",
       "2      False       False       False   False     \n",
       "3      False       False       False   False     \n",
       "4      False       False       False   False     \n",
       "...      ...         ...         ...     ...     \n",
       "14958  False       False       True    False     \n",
       "14959  False       False       False   False     \n",
       "14960  False       False       False   False     \n",
       "14961  False       False       False   False     \n",
       "14962  False       False       False   False     \n",
       "\n",
       "[14963 rows x 167 columns]"
      ]
     },
     "execution_count": 73,
     "metadata": {},
     "output_type": "execute_result"
    }
   ],
   "source": [
    "f = pf.iloc[0]-pf.iloc[3]\n",
    "a = f.tolist()\n",
    "b = list(f.index)\n",
    "item = pd.DataFrame([[a[r],b[r]]for r in range(len(a))], columns=['Count','Item'])\n",
    "item = item.sort_values(['Count'], ascending=False).head(50)\n",
    "transactions"
   ]
  },
  {
   "cell_type": "code",
   "execution_count": 74,
   "metadata": {
    "execution": {
     "iopub.execute_input": "2022-05-05T11:07:09.624699Z",
     "iopub.status.busy": "2022-05-05T11:07:09.624058Z",
     "iopub.status.idle": "2022-05-05T11:07:09.63945Z",
     "shell.execute_reply": "2022-05-05T11:07:09.638675Z",
     "shell.execute_reply.started": "2022-05-05T11:07:09.624649Z"
    },
    "id": "wmHxYnatBKwF",
    "outputId": "834ca690-a288-40bc-8c46-c232299a6aa7"
   },
   "outputs": [
    {
     "data": {
      "text/html": [
       "<div>\n",
       "<style scoped>\n",
       "    .dataframe tbody tr th:only-of-type {\n",
       "        vertical-align: middle;\n",
       "    }\n",
       "\n",
       "    .dataframe tbody tr th {\n",
       "        vertical-align: top;\n",
       "    }\n",
       "\n",
       "    .dataframe thead th {\n",
       "        text-align: right;\n",
       "    }\n",
       "</style>\n",
       "<table border=\"1\" class=\"dataframe\">\n",
       "  <thead>\n",
       "    <tr style=\"text-align: right;\">\n",
       "      <th></th>\n",
       "      <th>Count</th>\n",
       "      <th>Item</th>\n",
       "    </tr>\n",
       "  </thead>\n",
       "  <tbody>\n",
       "    <tr>\n",
       "      <th>164</th>\n",
       "      <td>2363</td>\n",
       "      <td>whole milk</td>\n",
       "    </tr>\n",
       "    <tr>\n",
       "      <th>102</th>\n",
       "      <td>1827</td>\n",
       "      <td>other vegetables</td>\n",
       "    </tr>\n",
       "    <tr>\n",
       "      <th>122</th>\n",
       "      <td>1646</td>\n",
       "      <td>rolls/buns</td>\n",
       "    </tr>\n",
       "    <tr>\n",
       "      <th>138</th>\n",
       "      <td>1453</td>\n",
       "      <td>soda</td>\n",
       "    </tr>\n",
       "    <tr>\n",
       "      <th>165</th>\n",
       "      <td>1285</td>\n",
       "      <td>yogurt</td>\n",
       "    </tr>\n",
       "    <tr>\n",
       "      <th>123</th>\n",
       "      <td>1041</td>\n",
       "      <td>root vegetables</td>\n",
       "    </tr>\n",
       "    <tr>\n",
       "      <th>156</th>\n",
       "      <td>1014</td>\n",
       "      <td>tropical fruit</td>\n",
       "    </tr>\n",
       "    <tr>\n",
       "      <th>12</th>\n",
       "      <td>908</td>\n",
       "      <td>bottled water</td>\n",
       "    </tr>\n",
       "    <tr>\n",
       "      <th>130</th>\n",
       "      <td>903</td>\n",
       "      <td>sausage</td>\n",
       "    </tr>\n",
       "    <tr>\n",
       "      <th>30</th>\n",
       "      <td>795</td>\n",
       "      <td>citrus fruit</td>\n",
       "    </tr>\n",
       "    <tr>\n",
       "      <th>105</th>\n",
       "      <td>774</td>\n",
       "      <td>pastry</td>\n",
       "    </tr>\n",
       "    <tr>\n",
       "      <th>109</th>\n",
       "      <td>734</td>\n",
       "      <td>pip fruit</td>\n",
       "    </tr>\n",
       "    <tr>\n",
       "      <th>133</th>\n",
       "      <td>712</td>\n",
       "      <td>shopping bags</td>\n",
       "    </tr>\n",
       "    <tr>\n",
       "      <th>20</th>\n",
       "      <td>702</td>\n",
       "      <td>canned beer</td>\n",
       "    </tr>\n",
       "    <tr>\n",
       "      <th>11</th>\n",
       "      <td>678</td>\n",
       "      <td>bottled beer</td>\n",
       "    </tr>\n",
       "    <tr>\n",
       "      <th>160</th>\n",
       "      <td>654</td>\n",
       "      <td>whipped/sour cream</td>\n",
       "    </tr>\n",
       "    <tr>\n",
       "      <th>95</th>\n",
       "      <td>582</td>\n",
       "      <td>newspapers</td>\n",
       "    </tr>\n",
       "    <tr>\n",
       "      <th>56</th>\n",
       "      <td>565</td>\n",
       "      <td>frankfurter</td>\n",
       "    </tr>\n",
       "    <tr>\n",
       "      <th>14</th>\n",
       "      <td>563</td>\n",
       "      <td>brown bread</td>\n",
       "    </tr>\n",
       "    <tr>\n",
       "      <th>111</th>\n",
       "      <td>555</td>\n",
       "      <td>pork</td>\n",
       "    </tr>\n",
       "    <tr>\n",
       "      <th>49</th>\n",
       "      <td>555</td>\n",
       "      <td>domestic eggs</td>\n",
       "    </tr>\n",
       "    <tr>\n",
       "      <th>15</th>\n",
       "      <td>527</td>\n",
       "      <td>butter</td>\n",
       "    </tr>\n",
       "    <tr>\n",
       "      <th>64</th>\n",
       "      <td>509</td>\n",
       "      <td>fruit/vegetable juice</td>\n",
       "    </tr>\n",
       "    <tr>\n",
       "      <th>8</th>\n",
       "      <td>508</td>\n",
       "      <td>beef</td>\n",
       "    </tr>\n",
       "    <tr>\n",
       "      <th>40</th>\n",
       "      <td>504</td>\n",
       "      <td>curd</td>\n",
       "    </tr>\n",
       "    <tr>\n",
       "      <th>88</th>\n",
       "      <td>482</td>\n",
       "      <td>margarine</td>\n",
       "    </tr>\n",
       "    <tr>\n",
       "      <th>34</th>\n",
       "      <td>473</td>\n",
       "      <td>coffee</td>\n",
       "    </tr>\n",
       "    <tr>\n",
       "      <th>63</th>\n",
       "      <td>419</td>\n",
       "      <td>frozen vegetables</td>\n",
       "    </tr>\n",
       "    <tr>\n",
       "      <th>27</th>\n",
       "      <td>417</td>\n",
       "      <td>chicken</td>\n",
       "    </tr>\n",
       "    <tr>\n",
       "      <th>162</th>\n",
       "      <td>359</td>\n",
       "      <td>white bread</td>\n",
       "    </tr>\n",
       "    <tr>\n",
       "      <th>39</th>\n",
       "      <td>354</td>\n",
       "      <td>cream cheese</td>\n",
       "    </tr>\n",
       "    <tr>\n",
       "      <th>28</th>\n",
       "      <td>353</td>\n",
       "      <td>chocolate</td>\n",
       "    </tr>\n",
       "    <tr>\n",
       "      <th>44</th>\n",
       "      <td>353</td>\n",
       "      <td>dessert</td>\n",
       "    </tr>\n",
       "    <tr>\n",
       "      <th>94</th>\n",
       "      <td>331</td>\n",
       "      <td>napkins</td>\n",
       "    </tr>\n",
       "    <tr>\n",
       "      <th>68</th>\n",
       "      <td>327</td>\n",
       "      <td>hamburger meat</td>\n",
       "    </tr>\n",
       "    <tr>\n",
       "      <th>9</th>\n",
       "      <td>326</td>\n",
       "      <td>berries</td>\n",
       "    </tr>\n",
       "    <tr>\n",
       "      <th>1</th>\n",
       "      <td>320</td>\n",
       "      <td>UHT-milk</td>\n",
       "    </tr>\n",
       "    <tr>\n",
       "      <th>99</th>\n",
       "      <td>303</td>\n",
       "      <td>onions</td>\n",
       "    </tr>\n",
       "    <tr>\n",
       "      <th>128</th>\n",
       "      <td>281</td>\n",
       "      <td>salty snack</td>\n",
       "    </tr>\n",
       "    <tr>\n",
       "      <th>159</th>\n",
       "      <td>277</td>\n",
       "      <td>waffles</td>\n",
       "    </tr>\n",
       "    <tr>\n",
       "      <th>85</th>\n",
       "      <td>268</td>\n",
       "      <td>long life bakery product</td>\n",
       "    </tr>\n",
       "    <tr>\n",
       "      <th>150</th>\n",
       "      <td>265</td>\n",
       "      <td>sugar</td>\n",
       "    </tr>\n",
       "    <tr>\n",
       "      <th>16</th>\n",
       "      <td>263</td>\n",
       "      <td>butter milk</td>\n",
       "    </tr>\n",
       "    <tr>\n",
       "      <th>67</th>\n",
       "      <td>256</td>\n",
       "      <td>ham</td>\n",
       "    </tr>\n",
       "    <tr>\n",
       "      <th>90</th>\n",
       "      <td>252</td>\n",
       "      <td>meat</td>\n",
       "    </tr>\n",
       "    <tr>\n",
       "      <th>61</th>\n",
       "      <td>251</td>\n",
       "      <td>frozen meals</td>\n",
       "    </tr>\n",
       "    <tr>\n",
       "      <th>10</th>\n",
       "      <td>248</td>\n",
       "      <td>beverages</td>\n",
       "    </tr>\n",
       "    <tr>\n",
       "      <th>145</th>\n",
       "      <td>239</td>\n",
       "      <td>specialty chocolate</td>\n",
       "    </tr>\n",
       "    <tr>\n",
       "      <th>92</th>\n",
       "      <td>236</td>\n",
       "      <td>misc. beverages</td>\n",
       "    </tr>\n",
       "    <tr>\n",
       "      <th>74</th>\n",
       "      <td>227</td>\n",
       "      <td>ice cream</td>\n",
       "    </tr>\n",
       "  </tbody>\n",
       "</table>\n",
       "</div>"
      ],
      "text/plain": [
       "     Count                      Item\n",
       "164  2363   whole milk              \n",
       "102  1827   other vegetables        \n",
       "122  1646   rolls/buns              \n",
       "138  1453   soda                    \n",
       "165  1285   yogurt                  \n",
       "123  1041   root vegetables         \n",
       "156  1014   tropical fruit          \n",
       "12   908    bottled water           \n",
       "130  903    sausage                 \n",
       "30   795    citrus fruit            \n",
       "105  774    pastry                  \n",
       "109  734    pip fruit               \n",
       "133  712    shopping bags           \n",
       "20   702    canned beer             \n",
       "11   678    bottled beer            \n",
       "160  654    whipped/sour cream      \n",
       "95   582    newspapers              \n",
       "56   565    frankfurter             \n",
       "14   563    brown bread             \n",
       "111  555    pork                    \n",
       "49   555    domestic eggs           \n",
       "15   527    butter                  \n",
       "64   509    fruit/vegetable juice   \n",
       "8    508    beef                    \n",
       "40   504    curd                    \n",
       "88   482    margarine               \n",
       "34   473    coffee                  \n",
       "63   419    frozen vegetables       \n",
       "27   417    chicken                 \n",
       "162  359    white bread             \n",
       "39   354    cream cheese            \n",
       "28   353    chocolate               \n",
       "44   353    dessert                 \n",
       "94   331    napkins                 \n",
       "68   327    hamburger meat          \n",
       "9    326    berries                 \n",
       "1    320    UHT-milk                \n",
       "99   303    onions                  \n",
       "128  281    salty snack             \n",
       "159  277    waffles                 \n",
       "85   268    long life bakery product\n",
       "150  265    sugar                   \n",
       "16   263    butter milk             \n",
       "67   256    ham                     \n",
       "90   252    meat                    \n",
       "61   251    frozen meals            \n",
       "10   248    beverages               \n",
       "145  239    specialty chocolate     \n",
       "92   236    misc. beverages         \n",
       "74   227    ice cream               "
      ]
     },
     "execution_count": 74,
     "metadata": {},
     "output_type": "execute_result"
    }
   ],
   "source": [
    "item"
   ]
  },
  {
   "cell_type": "code",
   "execution_count": 75,
   "metadata": {
    "execution": {
     "iopub.execute_input": "2022-05-05T11:07:09.641259Z",
     "iopub.status.busy": "2022-05-05T11:07:09.640668Z",
     "iopub.status.idle": "2022-05-05T11:07:09.647301Z",
     "shell.execute_reply": "2022-05-05T11:07:09.646322Z",
     "shell.execute_reply.started": "2022-05-05T11:07:09.641225Z"
    },
    "id": "8ZkLYnsLBL4H"
   },
   "outputs": [],
   "source": [
    "from mlxtend.frequent_patterns import apriori, association_rules\n",
    "import matplotlib.pyplot as plt"
   ]
  },
  {
   "cell_type": "code",
   "execution_count": 76,
   "metadata": {
    "execution": {
     "iopub.execute_input": "2022-05-05T11:07:09.649109Z",
     "iopub.status.busy": "2022-05-05T11:07:09.64867Z",
     "iopub.status.idle": "2022-05-05T11:07:12.625624Z",
     "shell.execute_reply": "2022-05-05T11:07:12.625021Z",
     "shell.execute_reply.started": "2022-05-05T11:07:09.649074Z"
    },
    "id": "lKQeJYnaBORz",
    "outputId": "d196efca-0cb1-40c5-f934-637c4db66952"
   },
   "outputs": [
    {
     "data": {
      "text/html": [
       "<div>\n",
       "<style scoped>\n",
       "    .dataframe tbody tr th:only-of-type {\n",
       "        vertical-align: middle;\n",
       "    }\n",
       "\n",
       "    .dataframe tbody tr th {\n",
       "        vertical-align: top;\n",
       "    }\n",
       "\n",
       "    .dataframe thead th {\n",
       "        text-align: right;\n",
       "    }\n",
       "</style>\n",
       "<table border=\"1\" class=\"dataframe\">\n",
       "  <thead>\n",
       "    <tr style=\"text-align: right;\">\n",
       "      <th></th>\n",
       "      <th>support</th>\n",
       "      <th>itemsets</th>\n",
       "    </tr>\n",
       "  </thead>\n",
       "  <tbody>\n",
       "    <tr>\n",
       "      <th>0</th>\n",
       "      <td>0.004010</td>\n",
       "      <td>(Instant food products)</td>\n",
       "    </tr>\n",
       "    <tr>\n",
       "      <th>1</th>\n",
       "      <td>0.021386</td>\n",
       "      <td>(UHT-milk)</td>\n",
       "    </tr>\n",
       "    <tr>\n",
       "      <th>2</th>\n",
       "      <td>0.001470</td>\n",
       "      <td>(abrasive cleaner)</td>\n",
       "    </tr>\n",
       "    <tr>\n",
       "      <th>3</th>\n",
       "      <td>0.001938</td>\n",
       "      <td>(artif. sweetener)</td>\n",
       "    </tr>\n",
       "    <tr>\n",
       "      <th>4</th>\n",
       "      <td>0.008087</td>\n",
       "      <td>(baking powder)</td>\n",
       "    </tr>\n",
       "    <tr>\n",
       "      <th>5</th>\n",
       "      <td>0.001136</td>\n",
       "      <td>(bathroom cleaner)</td>\n",
       "    </tr>\n",
       "    <tr>\n",
       "      <th>6</th>\n",
       "      <td>0.033950</td>\n",
       "      <td>(beef)</td>\n",
       "    </tr>\n",
       "  </tbody>\n",
       "</table>\n",
       "</div>"
      ],
      "text/plain": [
       "    support                 itemsets\n",
       "0  0.004010  (Instant food products)\n",
       "1  0.021386  (UHT-milk)             \n",
       "2  0.001470  (abrasive cleaner)     \n",
       "3  0.001938  (artif. sweetener)     \n",
       "4  0.008087  (baking powder)        \n",
       "5  0.001136  (bathroom cleaner)     \n",
       "6  0.033950  (beef)                 "
      ]
     },
     "execution_count": 76,
     "metadata": {},
     "output_type": "execute_result"
    }
   ],
   "source": [
    "freq_items = apriori(transactions, min_support=0.001, use_colnames=True)\n",
    "freq_items.head(7)"
   ]
  },
  {
   "cell_type": "code",
   "execution_count": 77,
   "metadata": {
    "execution": {
     "iopub.execute_input": "2022-05-05T11:07:12.62766Z",
     "iopub.status.busy": "2022-05-05T11:07:12.627116Z",
     "iopub.status.idle": "2022-05-05T11:07:12.635599Z",
     "shell.execute_reply": "2022-05-05T11:07:12.634462Z",
     "shell.execute_reply.started": "2022-05-05T11:07:12.627609Z"
    },
    "id": "DAtkMqc-BRW0"
   },
   "outputs": [],
   "source": [
    "freq_items['length'] = freq_items['itemsets'].apply(lambda x: len(x))"
   ]
  },
  {
   "cell_type": "code",
   "execution_count": 78,
   "metadata": {
    "execution": {
     "iopub.execute_input": "2022-05-05T11:07:12.637867Z",
     "iopub.status.busy": "2022-05-05T11:07:12.637018Z",
     "iopub.status.idle": "2022-05-05T11:07:12.662286Z",
     "shell.execute_reply": "2022-05-05T11:07:12.6609Z",
     "shell.execute_reply.started": "2022-05-05T11:07:12.637823Z"
    },
    "id": "IeyQHMFHBufh",
    "outputId": "a9b62bd4-d894-4d09-a15a-bc3e6b70b59e"
   },
   "outputs": [
    {
     "data": {
      "text/html": [
       "<div>\n",
       "<style scoped>\n",
       "    .dataframe tbody tr th:only-of-type {\n",
       "        vertical-align: middle;\n",
       "    }\n",
       "\n",
       "    .dataframe tbody tr th {\n",
       "        vertical-align: top;\n",
       "    }\n",
       "\n",
       "    .dataframe thead th {\n",
       "        text-align: right;\n",
       "    }\n",
       "</style>\n",
       "<table border=\"1\" class=\"dataframe\">\n",
       "  <thead>\n",
       "    <tr style=\"text-align: right;\">\n",
       "      <th></th>\n",
       "      <th>support</th>\n",
       "      <th>itemsets</th>\n",
       "      <th>length</th>\n",
       "    </tr>\n",
       "  </thead>\n",
       "  <tbody>\n",
       "    <tr>\n",
       "      <th>0</th>\n",
       "      <td>0.004010</td>\n",
       "      <td>(Instant food products)</td>\n",
       "      <td>1</td>\n",
       "    </tr>\n",
       "    <tr>\n",
       "      <th>1</th>\n",
       "      <td>0.021386</td>\n",
       "      <td>(UHT-milk)</td>\n",
       "      <td>1</td>\n",
       "    </tr>\n",
       "    <tr>\n",
       "      <th>2</th>\n",
       "      <td>0.001470</td>\n",
       "      <td>(abrasive cleaner)</td>\n",
       "      <td>1</td>\n",
       "    </tr>\n",
       "    <tr>\n",
       "      <th>3</th>\n",
       "      <td>0.001938</td>\n",
       "      <td>(artif. sweetener)</td>\n",
       "      <td>1</td>\n",
       "    </tr>\n",
       "    <tr>\n",
       "      <th>4</th>\n",
       "      <td>0.008087</td>\n",
       "      <td>(baking powder)</td>\n",
       "      <td>1</td>\n",
       "    </tr>\n",
       "    <tr>\n",
       "      <th>5</th>\n",
       "      <td>0.001136</td>\n",
       "      <td>(bathroom cleaner)</td>\n",
       "      <td>1</td>\n",
       "    </tr>\n",
       "    <tr>\n",
       "      <th>6</th>\n",
       "      <td>0.033950</td>\n",
       "      <td>(beef)</td>\n",
       "      <td>1</td>\n",
       "    </tr>\n",
       "    <tr>\n",
       "      <th>7</th>\n",
       "      <td>0.021787</td>\n",
       "      <td>(berries)</td>\n",
       "      <td>1</td>\n",
       "    </tr>\n",
       "    <tr>\n",
       "      <th>8</th>\n",
       "      <td>0.016574</td>\n",
       "      <td>(beverages)</td>\n",
       "      <td>1</td>\n",
       "    </tr>\n",
       "    <tr>\n",
       "      <th>9</th>\n",
       "      <td>0.045312</td>\n",
       "      <td>(bottled beer)</td>\n",
       "      <td>1</td>\n",
       "    </tr>\n",
       "  </tbody>\n",
       "</table>\n",
       "</div>"
      ],
      "text/plain": [
       "    support                 itemsets  length\n",
       "0  0.004010  (Instant food products)  1     \n",
       "1  0.021386  (UHT-milk)               1     \n",
       "2  0.001470  (abrasive cleaner)       1     \n",
       "3  0.001938  (artif. sweetener)       1     \n",
       "4  0.008087  (baking powder)          1     \n",
       "5  0.001136  (bathroom cleaner)       1     \n",
       "6  0.033950  (beef)                   1     \n",
       "7  0.021787  (berries)                1     \n",
       "8  0.016574  (beverages)              1     \n",
       "9  0.045312  (bottled beer)           1     "
      ]
     },
     "execution_count": 78,
     "metadata": {},
     "output_type": "execute_result"
    }
   ],
   "source": [
    "freq_items.head(10)"
   ]
  },
  {
   "cell_type": "code",
   "execution_count": 79,
   "metadata": {
    "execution": {
     "iopub.execute_input": "2022-05-05T11:07:12.664204Z",
     "iopub.status.busy": "2022-05-05T11:07:12.663919Z",
     "iopub.status.idle": "2022-05-05T11:07:12.679475Z",
     "shell.execute_reply": "2022-05-05T11:07:12.678391Z",
     "shell.execute_reply.started": "2022-05-05T11:07:12.66417Z"
    },
    "id": "4S1rnzRhBvXq",
    "outputId": "dfc64012-d428-4652-845e-55d43e047686"
   },
   "outputs": [
    {
     "data": {
      "text/html": [
       "<div>\n",
       "<style scoped>\n",
       "    .dataframe tbody tr th:only-of-type {\n",
       "        vertical-align: middle;\n",
       "    }\n",
       "\n",
       "    .dataframe tbody tr th {\n",
       "        vertical-align: top;\n",
       "    }\n",
       "\n",
       "    .dataframe thead th {\n",
       "        text-align: right;\n",
       "    }\n",
       "</style>\n",
       "<table border=\"1\" class=\"dataframe\">\n",
       "  <thead>\n",
       "    <tr style=\"text-align: right;\">\n",
       "      <th></th>\n",
       "      <th>support</th>\n",
       "      <th>itemsets</th>\n",
       "      <th>length</th>\n",
       "    </tr>\n",
       "  </thead>\n",
       "  <tbody>\n",
       "    <tr>\n",
       "      <th>740</th>\n",
       "      <td>0.011161</td>\n",
       "      <td>(whole milk, yogurt)</td>\n",
       "      <td>2</td>\n",
       "    </tr>\n",
       "    <tr>\n",
       "      <th>741</th>\n",
       "      <td>0.001136</td>\n",
       "      <td>(other vegetables, rolls/buns, soda)</td>\n",
       "      <td>3</td>\n",
       "    </tr>\n",
       "    <tr>\n",
       "      <th>742</th>\n",
       "      <td>0.001203</td>\n",
       "      <td>(whole milk, other vegetables, rolls/buns)</td>\n",
       "      <td>3</td>\n",
       "    </tr>\n",
       "    <tr>\n",
       "      <th>743</th>\n",
       "      <td>0.001136</td>\n",
       "      <td>(whole milk, other vegetables, soda)</td>\n",
       "      <td>3</td>\n",
       "    </tr>\n",
       "    <tr>\n",
       "      <th>744</th>\n",
       "      <td>0.001136</td>\n",
       "      <td>(whole milk, other vegetables, yogurt)</td>\n",
       "      <td>3</td>\n",
       "    </tr>\n",
       "    <tr>\n",
       "      <th>745</th>\n",
       "      <td>0.001136</td>\n",
       "      <td>(whole milk, sausage, rolls/buns)</td>\n",
       "      <td>3</td>\n",
       "    </tr>\n",
       "    <tr>\n",
       "      <th>746</th>\n",
       "      <td>0.001002</td>\n",
       "      <td>(whole milk, rolls/buns, soda)</td>\n",
       "      <td>3</td>\n",
       "    </tr>\n",
       "    <tr>\n",
       "      <th>747</th>\n",
       "      <td>0.001337</td>\n",
       "      <td>(whole milk, rolls/buns, yogurt)</td>\n",
       "      <td>3</td>\n",
       "    </tr>\n",
       "    <tr>\n",
       "      <th>748</th>\n",
       "      <td>0.001069</td>\n",
       "      <td>(sausage, whole milk, soda)</td>\n",
       "      <td>3</td>\n",
       "    </tr>\n",
       "    <tr>\n",
       "      <th>749</th>\n",
       "      <td>0.001470</td>\n",
       "      <td>(sausage, whole milk, yogurt)</td>\n",
       "      <td>3</td>\n",
       "    </tr>\n",
       "  </tbody>\n",
       "</table>\n",
       "</div>"
      ],
      "text/plain": [
       "      support                                    itemsets  length\n",
       "740  0.011161  (whole milk, yogurt)                        2     \n",
       "741  0.001136  (other vegetables, rolls/buns, soda)        3     \n",
       "742  0.001203  (whole milk, other vegetables, rolls/buns)  3     \n",
       "743  0.001136  (whole milk, other vegetables, soda)        3     \n",
       "744  0.001136  (whole milk, other vegetables, yogurt)      3     \n",
       "745  0.001136  (whole milk, sausage, rolls/buns)           3     \n",
       "746  0.001002  (whole milk, rolls/buns, soda)              3     \n",
       "747  0.001337  (whole milk, rolls/buns, yogurt)            3     \n",
       "748  0.001069  (sausage, whole milk, soda)                 3     \n",
       "749  0.001470  (sausage, whole milk, yogurt)               3     "
      ]
     },
     "execution_count": 79,
     "metadata": {},
     "output_type": "execute_result"
    }
   ],
   "source": [
    "freq_items.tail(10)"
   ]
  },
  {
   "cell_type": "code",
   "execution_count": 80,
   "metadata": {
    "execution": {
     "iopub.execute_input": "2022-05-05T11:07:12.682268Z",
     "iopub.status.busy": "2022-05-05T11:07:12.681387Z",
     "iopub.status.idle": "2022-05-05T11:07:12.715782Z",
     "shell.execute_reply": "2022-05-05T11:07:12.714945Z",
     "shell.execute_reply.started": "2022-05-05T11:07:12.682218Z"
    },
    "id": "G26DSRbvBwwh",
    "outputId": "1884b3eb-ae1f-47d2-9898-dae80f794f91"
   },
   "outputs": [
    {
     "data": {
      "text/html": [
       "<div>\n",
       "<style scoped>\n",
       "    .dataframe tbody tr th:only-of-type {\n",
       "        vertical-align: middle;\n",
       "    }\n",
       "\n",
       "    .dataframe tbody tr th {\n",
       "        vertical-align: top;\n",
       "    }\n",
       "\n",
       "    .dataframe thead th {\n",
       "        text-align: right;\n",
       "    }\n",
       "</style>\n",
       "<table border=\"1\" class=\"dataframe\">\n",
       "  <thead>\n",
       "    <tr style=\"text-align: right;\">\n",
       "      <th></th>\n",
       "      <th>antecedents</th>\n",
       "      <th>consequents</th>\n",
       "      <th>antecedent support</th>\n",
       "      <th>consequent support</th>\n",
       "      <th>support</th>\n",
       "      <th>confidence</th>\n",
       "      <th>lift</th>\n",
       "      <th>leverage</th>\n",
       "      <th>conviction</th>\n",
       "    </tr>\n",
       "  </thead>\n",
       "  <tbody>\n",
       "    <tr>\n",
       "      <th>0</th>\n",
       "      <td>(UHT-milk)</td>\n",
       "      <td>(bottled water)</td>\n",
       "      <td>0.021386</td>\n",
       "      <td>0.060683</td>\n",
       "      <td>0.001069</td>\n",
       "      <td>0.050000</td>\n",
       "      <td>0.823954</td>\n",
       "      <td>-0.000228</td>\n",
       "      <td>0.988755</td>\n",
       "    </tr>\n",
       "    <tr>\n",
       "      <th>1</th>\n",
       "      <td>(bottled water)</td>\n",
       "      <td>(UHT-milk)</td>\n",
       "      <td>0.060683</td>\n",
       "      <td>0.021386</td>\n",
       "      <td>0.001069</td>\n",
       "      <td>0.017621</td>\n",
       "      <td>0.823954</td>\n",
       "      <td>-0.000228</td>\n",
       "      <td>0.996168</td>\n",
       "    </tr>\n",
       "    <tr>\n",
       "      <th>2</th>\n",
       "      <td>(UHT-milk)</td>\n",
       "      <td>(other vegetables)</td>\n",
       "      <td>0.021386</td>\n",
       "      <td>0.122101</td>\n",
       "      <td>0.002139</td>\n",
       "      <td>0.100000</td>\n",
       "      <td>0.818993</td>\n",
       "      <td>-0.000473</td>\n",
       "      <td>0.975443</td>\n",
       "    </tr>\n",
       "    <tr>\n",
       "      <th>3</th>\n",
       "      <td>(other vegetables)</td>\n",
       "      <td>(UHT-milk)</td>\n",
       "      <td>0.122101</td>\n",
       "      <td>0.021386</td>\n",
       "      <td>0.002139</td>\n",
       "      <td>0.017515</td>\n",
       "      <td>0.818993</td>\n",
       "      <td>-0.000473</td>\n",
       "      <td>0.996060</td>\n",
       "    </tr>\n",
       "    <tr>\n",
       "      <th>4</th>\n",
       "      <td>(UHT-milk)</td>\n",
       "      <td>(rolls/buns)</td>\n",
       "      <td>0.021386</td>\n",
       "      <td>0.110005</td>\n",
       "      <td>0.001804</td>\n",
       "      <td>0.084375</td>\n",
       "      <td>0.767013</td>\n",
       "      <td>-0.000548</td>\n",
       "      <td>0.972009</td>\n",
       "    </tr>\n",
       "  </tbody>\n",
       "</table>\n",
       "</div>"
      ],
      "text/plain": [
       "          antecedents         consequents  antecedent support  \\\n",
       "0  (UHT-milk)          (bottled water)     0.021386             \n",
       "1  (bottled water)     (UHT-milk)          0.060683             \n",
       "2  (UHT-milk)          (other vegetables)  0.021386             \n",
       "3  (other vegetables)  (UHT-milk)          0.122101             \n",
       "4  (UHT-milk)          (rolls/buns)        0.021386             \n",
       "\n",
       "   consequent support   support  confidence      lift  leverage  conviction  \n",
       "0  0.060683            0.001069  0.050000    0.823954 -0.000228  0.988755    \n",
       "1  0.021386            0.001069  0.017621    0.823954 -0.000228  0.996168    \n",
       "2  0.122101            0.002139  0.100000    0.818993 -0.000473  0.975443    \n",
       "3  0.021386            0.002139  0.017515    0.818993 -0.000473  0.996060    \n",
       "4  0.110005            0.001804  0.084375    0.767013 -0.000548  0.972009    "
      ]
     },
     "execution_count": 80,
     "metadata": {},
     "output_type": "execute_result"
    }
   ],
   "source": [
    "rules = association_rules(freq_items, metric=\"confidence\", min_threshold=0.001)\n",
    "rules.head()"
   ]
  },
  {
   "cell_type": "code",
   "execution_count": null,
   "metadata": {},
   "outputs": [],
   "source": []
  },
  {
   "cell_type": "code",
   "execution_count": null,
   "metadata": {},
   "outputs": [],
   "source": []
  },
  {
   "cell_type": "code",
   "execution_count": null,
   "metadata": {},
   "outputs": [],
   "source": []
  },
  {
   "cell_type": "code",
   "execution_count": null,
   "metadata": {},
   "outputs": [],
   "source": []
  },
  {
   "cell_type": "code",
   "execution_count": null,
   "metadata": {},
   "outputs": [],
   "source": []
  },
  {
   "cell_type": "code",
   "execution_count": null,
   "metadata": {},
   "outputs": [],
   "source": []
  },
  {
   "cell_type": "code",
   "execution_count": null,
   "metadata": {},
   "outputs": [],
   "source": []
  },
  {
   "cell_type": "code",
   "execution_count": null,
   "metadata": {},
   "outputs": [],
   "source": []
  },
  {
   "cell_type": "code",
   "execution_count": null,
   "metadata": {},
   "outputs": [],
   "source": []
  },
  {
   "cell_type": "code",
   "execution_count": null,
   "metadata": {},
   "outputs": [],
   "source": []
  },
  {
   "cell_type": "code",
   "execution_count": null,
   "metadata": {},
   "outputs": [],
   "source": []
  }
 ],
 "metadata": {
  "kernelspec": {
   "display_name": "Python 3 (ipykernel)",
   "language": "python",
   "name": "python3"
  },
  "language_info": {
   "codemirror_mode": {
    "name": "ipython",
    "version": 3
   },
   "file_extension": ".py",
   "mimetype": "text/x-python",
   "name": "python",
   "nbconvert_exporter": "python",
   "pygments_lexer": "ipython3",
   "version": "3.9.12"
  }
 },
 "nbformat": 4,
 "nbformat_minor": 4
}
