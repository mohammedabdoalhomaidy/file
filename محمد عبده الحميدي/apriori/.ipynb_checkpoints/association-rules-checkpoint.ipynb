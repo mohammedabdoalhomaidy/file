{
 "cells": [
  {
   "cell_type": "code",
   "execution_count": 3,
   "metadata": {
    "execution": {
     "iopub.execute_input": "2022-05-05T11:07:01.843235Z",
     "iopub.status.busy": "2022-05-05T11:07:01.842309Z",
     "iopub.status.idle": "2022-05-05T11:07:01.849675Z",
     "shell.execute_reply": "2022-05-05T11:07:01.848656Z",
     "shell.execute_reply.started": "2022-05-05T11:07:01.843182Z"
    },
    "id": "9jvjrb3wqMxi"
   },
   "outputs": [],
   "source": [
    "import pandas as pd\n",
    "import numpy as np\n",
    "from mlxtend.preprocessing import TransactionEncoder"
   ]
  },
  {
   "cell_type": "code",
   "execution_count": 4,
   "metadata": {
    "execution": {
     "iopub.execute_input": "2022-05-05T11:07:01.851896Z",
     "iopub.status.busy": "2022-05-05T11:07:01.851289Z",
     "iopub.status.idle": "2022-05-05T11:07:01.867117Z",
     "shell.execute_reply": "2022-05-05T11:07:01.866353Z",
     "shell.execute_reply.started": "2022-05-05T11:07:01.851856Z"
    }
   },
   "outputs": [],
   "source": [
    "import os\n",
    "for dirname, _, filenames in os.walk('/kaggle/input'):\n",
    "    for filename in filenames:\n",
    "        print(os.path.join(dirname, filename))"
   ]
  },
  {
   "cell_type": "code",
   "execution_count": 5,
   "metadata": {
    "execution": {
     "iopub.execute_input": "2022-05-05T11:07:01.868867Z",
     "iopub.status.busy": "2022-05-05T11:07:01.868469Z",
     "iopub.status.idle": "2022-05-05T11:07:01.903909Z",
     "shell.execute_reply": "2022-05-05T11:07:01.902927Z",
     "shell.execute_reply.started": "2022-05-05T11:07:01.868828Z"
    },
    "id": "ljdtacbIqOIg"
   },
   "outputs": [],
   "source": [
    "data = pd.read_csv(\"Groceries_dataset.csv\")"
   ]
  },
  {
   "cell_type": "code",
   "execution_count": null,
   "metadata": {
    "execution": {
     "iopub.execute_input": "2022-05-05T11:07:01.905439Z",
     "iopub.status.busy": "2022-05-05T11:07:01.905169Z",
     "iopub.status.idle": "2022-05-05T11:07:01.914309Z",
     "shell.execute_reply": "2022-05-05T11:07:01.913372Z",
     "shell.execute_reply.started": "2022-05-05T11:07:01.905392Z"
    },
    "id": "qim0bu7uqOln",
    "outputId": "faaf6b7b-da6b-495e-afe8-00df794c9870"
   },
   "outputs": [],
   "source": [
    "data.shape"
   ]
  },
  {
   "cell_type": "code",
   "execution_count": null,
   "metadata": {
    "execution": {
     "iopub.execute_input": "2022-05-05T11:07:01.917882Z",
     "iopub.status.busy": "2022-05-05T11:07:01.917126Z",
     "iopub.status.idle": "2022-05-05T11:07:01.934822Z",
     "shell.execute_reply": "2022-05-05T11:07:01.933124Z",
     "shell.execute_reply.started": "2022-05-05T11:07:01.917824Z"
    },
    "id": "CNYMWLaGqO3-",
    "outputId": "57498a06-0ec3-4b15-eacb-8f97be99cbda"
   },
   "outputs": [],
   "source": [
    "data.head()"
   ]
  },
  {
   "cell_type": "code",
   "execution_count": null,
   "metadata": {
    "execution": {
     "iopub.execute_input": "2022-05-05T11:07:01.936535Z",
     "iopub.status.busy": "2022-05-05T11:07:01.936013Z",
     "iopub.status.idle": "2022-05-05T11:07:01.961439Z",
     "shell.execute_reply": "2022-05-05T11:07:01.960501Z",
     "shell.execute_reply.started": "2022-05-05T11:07:01.936481Z"
    },
    "id": "__asn0oo_VPo",
    "outputId": "271ea802-d58a-4449-820a-e41eddb67f0e"
   },
   "outputs": [],
   "source": [
    "data.info()"
   ]
  },
  {
   "cell_type": "code",
   "execution_count": null,
   "metadata": {
    "execution": {
     "iopub.execute_input": "2022-05-05T11:07:01.963261Z",
     "iopub.status.busy": "2022-05-05T11:07:01.962856Z",
     "iopub.status.idle": "2022-05-05T11:07:01.970933Z",
     "shell.execute_reply": "2022-05-05T11:07:01.970031Z",
     "shell.execute_reply.started": "2022-05-05T11:07:01.963206Z"
    },
    "id": "nPSrpHOdqPBh"
   },
   "outputs": [],
   "source": [
    "d=data.set_index(['Date'])"
   ]
  },
  {
   "cell_type": "code",
   "execution_count": null,
   "metadata": {
    "execution": {
     "iopub.execute_input": "2022-05-05T11:07:01.972607Z",
     "iopub.status.busy": "2022-05-05T11:07:01.972189Z",
     "iopub.status.idle": "2022-05-05T11:07:01.993758Z",
     "shell.execute_reply": "2022-05-05T11:07:01.992739Z",
     "shell.execute_reply.started": "2022-05-05T11:07:01.972564Z"
    },
    "id": "GGC6SkICqPmk"
   },
   "outputs": [],
   "source": [
    "d.index=pd.to_datetime(d.index)"
   ]
  },
  {
   "cell_type": "code",
   "execution_count": null,
   "metadata": {
    "execution": {
     "iopub.execute_input": "2022-05-05T11:07:01.995625Z",
     "iopub.status.busy": "2022-05-05T11:07:01.99519Z",
     "iopub.status.idle": "2022-05-05T11:07:02.085265Z",
     "shell.execute_reply": "2022-05-05T11:07:02.08429Z",
     "shell.execute_reply.started": "2022-05-05T11:07:01.995577Z"
    },
    "id": "ddQrfcYC_NkC",
    "outputId": "7c161d5c-05d4-427c-fdfd-5add19e2eca9"
   },
   "outputs": [],
   "source": [
    "total_items = len(d)\n",
    "total_days = len(np.unique(d.index.date))\n",
    "total_months = len(np.unique(d.index.month))\n",
    "average_items = total_items / total_days\n",
    "unique_items = d.itemDescription.unique().size\n",
    "\n",
    "print(\"There are {} unique items sold \".format(unique_items))\n",
    "print(\"Total {} items sold in {} days throughout {} months\".format(total_items, total_days, total_months))\n",
    "print(\"With an average of {} items sold daily\".format(average_items))"
   ]
  },
  {
   "cell_type": "code",
   "execution_count": null,
   "metadata": {
    "execution": {
     "iopub.execute_input": "2022-05-05T11:07:02.086982Z",
     "iopub.status.busy": "2022-05-05T11:07:02.086593Z",
     "iopub.status.idle": "2022-05-05T11:07:02.113643Z",
     "shell.execute_reply": "2022-05-05T11:07:02.112691Z",
     "shell.execute_reply.started": "2022-05-05T11:07:02.086902Z"
    },
    "id": "4kxgEDtH_nd6",
    "outputId": "61c0e975-1a78-4210-a071-ef89ccf4c7c0"
   },
   "outputs": [],
   "source": [
    "d[\"Hour\"] = d.index.hour\n",
    "d[\"Weekday\"] = d.index.weekday + 1\n",
    "\n",
    "d.head(10)"
   ]
  },
  {
   "cell_type": "code",
   "execution_count": null,
   "metadata": {
    "execution": {
     "iopub.execute_input": "2022-05-05T11:07:02.115215Z",
     "iopub.status.busy": "2022-05-05T11:07:02.114949Z",
     "iopub.status.idle": "2022-05-05T11:07:02.128714Z",
     "shell.execute_reply": "2022-05-05T11:07:02.127848Z",
     "shell.execute_reply.started": "2022-05-05T11:07:02.115183Z"
    },
    "id": "PkRecJEr_tFs",
    "outputId": "c81791c1-4084-4b79-d7e1-b9275bcdf998"
   },
   "outputs": [],
   "source": [
    "data['itemDescription'].value_counts()"
   ]
  },
  {
   "cell_type": "code",
   "execution_count": null,
   "metadata": {
    "execution": {
     "iopub.execute_input": "2022-05-05T11:07:02.130466Z",
     "iopub.status.busy": "2022-05-05T11:07:02.130143Z",
     "iopub.status.idle": "2022-05-05T11:07:02.147719Z",
     "shell.execute_reply": "2022-05-05T11:07:02.146915Z",
     "shell.execute_reply.started": "2022-05-05T11:07:02.130395Z"
    },
    "id": "qopPo2ks_wpd",
    "outputId": "94480ca2-73d6-4bcb-c1bc-36e0d0ce996d"
   },
   "outputs": [],
   "source": [
    "data['Date'].nunique()"
   ]
  },
  {
   "cell_type": "code",
   "execution_count": null,
   "metadata": {
    "execution": {
     "iopub.execute_input": "2022-05-05T11:07:02.149635Z",
     "iopub.status.busy": "2022-05-05T11:07:02.148813Z",
     "iopub.status.idle": "2022-05-05T11:07:02.84683Z",
     "shell.execute_reply": "2022-05-05T11:07:02.845668Z",
     "shell.execute_reply.started": "2022-05-05T11:07:02.149595Z"
    },
    "id": "9Unfc9KE_zm7"
   },
   "outputs": [],
   "source": [
    "import plotly.express as px"
   ]
  },
  {
   "cell_type": "code",
   "execution_count": null,
   "metadata": {
    "execution": {
     "iopub.execute_input": "2022-05-05T11:07:02.85089Z",
     "iopub.status.busy": "2022-05-05T11:07:02.850595Z",
     "iopub.status.idle": "2022-05-05T11:07:02.85822Z",
     "shell.execute_reply": "2022-05-05T11:07:02.857241Z",
     "shell.execute_reply.started": "2022-05-05T11:07:02.850855Z"
    },
    "id": "T7tSLYx-_2n5"
   },
   "outputs": [],
   "source": [
    "def bar_plot(df,col):\n",
    "\n",
    "    fig = px.bar(df,\n",
    "        x = df[col].value_counts().keys(), \n",
    "        y = df[col].value_counts().values,\n",
    "        color= df[col].value_counts().keys()\n",
    "    )\n",
    "    fig.update_layout(\n",
    "    xaxis_title= col,\n",
    "    yaxis_title=\"Count\",\n",
    "    legend_title=col,\n",
    "    font_family=\"Courier New\",\n",
    "    font_color=\"blue\",\n",
    "    title_font_family=\"Times New Roman\",\n",
    "    title_font_color=\"red\",\n",
    "    legend_title_font_color=\"green\"\n",
    ")\n",
    "    \n",
    "    fig.show()"
   ]
  },
  {
   "cell_type": "code",
   "execution_count": null,
   "metadata": {
    "execution": {
     "iopub.execute_input": "2022-05-05T11:07:02.860212Z",
     "iopub.status.busy": "2022-05-05T11:07:02.859796Z",
     "iopub.status.idle": "2022-05-05T11:07:04.092806Z",
     "shell.execute_reply": "2022-05-05T11:07:04.082154Z",
     "shell.execute_reply.started": "2022-05-05T11:07:02.860162Z"
    },
    "id": "6k9sZ7N9AAAs",
    "outputId": "9b8c91e4-e77d-46ee-d6c0-dbb2646fdaaf"
   },
   "outputs": [],
   "source": [
    "bar_plot(data,'itemDescription')"
   ]
  },
  {
   "cell_type": "code",
   "execution_count": null,
   "metadata": {
    "execution": {
     "iopub.execute_input": "2022-05-05T11:07:04.095254Z",
     "iopub.status.busy": "2022-05-05T11:07:04.09442Z",
     "iopub.status.idle": "2022-05-05T11:07:05.795477Z",
     "shell.execute_reply": "2022-05-05T11:07:05.794781Z",
     "shell.execute_reply.started": "2022-05-05T11:07:04.095206Z"
    },
    "id": "KkwmIfK1ABMK"
   },
   "outputs": [],
   "source": [
    "df=data.groupby(['Member_number','Date'])['itemDescription'].apply(sum)"
   ]
  },
  {
   "cell_type": "code",
   "execution_count": null,
   "metadata": {
    "execution": {
     "iopub.execute_input": "2022-05-05T11:07:05.797608Z",
     "iopub.status.busy": "2022-05-05T11:07:05.796998Z",
     "iopub.status.idle": "2022-05-05T11:07:05.808384Z",
     "shell.execute_reply": "2022-05-05T11:07:05.807624Z",
     "shell.execute_reply.started": "2022-05-05T11:07:05.797562Z"
    },
    "id": "nLP5KSpTAOjH",
    "outputId": "b2542af8-5067-49e1-8b42-39b72f1fccb0"
   },
   "outputs": [],
   "source": [
    "df"
   ]
  },
  {
   "cell_type": "code",
   "execution_count": null,
   "metadata": {
    "execution": {
     "iopub.execute_input": "2022-05-05T11:07:05.811192Z",
     "iopub.status.busy": "2022-05-05T11:07:05.810513Z",
     "iopub.status.idle": "2022-05-05T11:07:05.823914Z",
     "shell.execute_reply": "2022-05-05T11:07:05.823252Z",
     "shell.execute_reply.started": "2022-05-05T11:07:05.811138Z"
    },
    "id": "ajwNBURNAQlC",
    "outputId": "b695b9ae-6dd4-4298-f833-0c620ae07038"
   },
   "outputs": [],
   "source": [
    "df.values"
   ]
  },
  {
   "cell_type": "code",
   "execution_count": null,
   "metadata": {
    "execution": {
     "iopub.execute_input": "2022-05-05T11:07:05.82554Z",
     "iopub.status.busy": "2022-05-05T11:07:05.82489Z",
     "iopub.status.idle": "2022-05-05T11:07:05.837489Z",
     "shell.execute_reply": "2022-05-05T11:07:05.836441Z",
     "shell.execute_reply.started": "2022-05-05T11:07:05.825506Z"
    },
    "id": "x3nNgXBtASzw",
    "outputId": "8c584b64-03c5-448a-e6b5-72fa64ee41af"
   },
   "outputs": [],
   "source": [
    "pd.set_option('display.max_colwidth', -1)"
   ]
  },
  {
   "cell_type": "code",
   "execution_count": null,
   "metadata": {
    "execution": {
     "iopub.execute_input": "2022-05-05T11:07:05.839614Z",
     "iopub.status.busy": "2022-05-05T11:07:05.838545Z",
     "iopub.status.idle": "2022-05-05T11:07:08.315681Z",
     "shell.execute_reply": "2022-05-05T11:07:08.314939Z",
     "shell.execute_reply.started": "2022-05-05T11:07:05.839564Z"
    },
    "id": "P6hf9u6kAY_D"
   },
   "outputs": [],
   "source": [
    "transactions = [a[1]['itemDescription'].tolist() for a in list(data.groupby(['Member_number','Date']))]"
   ]
  },
  {
   "cell_type": "code",
   "execution_count": null,
   "metadata": {
    "execution": {
     "iopub.execute_input": "2022-05-05T11:07:08.318571Z",
     "iopub.status.busy": "2022-05-05T11:07:08.317469Z",
     "iopub.status.idle": "2022-05-05T11:07:08.395182Z",
     "shell.execute_reply": "2022-05-05T11:07:08.394549Z",
     "shell.execute_reply.started": "2022-05-05T11:07:08.318515Z"
    },
    "id": "HO76NKGuAm_t",
    "outputId": "53a7d0c9-a274-47ac-a73b-2ae077f33315"
   },
   "outputs": [],
   "source": [
    "transactions"
   ]
  },
  {
   "cell_type": "code",
   "execution_count": null,
   "metadata": {
    "execution": {
     "iopub.execute_input": "2022-05-05T11:07:08.396882Z",
     "iopub.status.busy": "2022-05-05T11:07:08.396118Z",
     "iopub.status.idle": "2022-05-05T11:07:08.40117Z",
     "shell.execute_reply": "2022-05-05T11:07:08.400155Z",
     "shell.execute_reply.started": "2022-05-05T11:07:08.396844Z"
    },
    "id": "QIdqaKoNAoLy"
   },
   "outputs": [],
   "source": [
    "from mlxtend.preprocessing import TransactionEncoder"
   ]
  },
  {
   "cell_type": "code",
   "execution_count": null,
   "metadata": {
    "execution": {
     "iopub.execute_input": "2022-05-05T11:07:08.402722Z",
     "iopub.status.busy": "2022-05-05T11:07:08.402485Z",
     "iopub.status.idle": "2022-05-05T11:07:08.417881Z",
     "shell.execute_reply": "2022-05-05T11:07:08.416629Z",
     "shell.execute_reply.started": "2022-05-05T11:07:08.402692Z"
    },
    "id": "2ON1RtI7As1n"
   },
   "outputs": [],
   "source": [
    "te = TransactionEncoder()"
   ]
  },
  {
   "cell_type": "code",
   "execution_count": null,
   "metadata": {
    "execution": {
     "iopub.execute_input": "2022-05-05T11:07:08.419584Z",
     "iopub.status.busy": "2022-05-05T11:07:08.419099Z",
     "iopub.status.idle": "2022-05-05T11:07:08.459322Z",
     "shell.execute_reply": "2022-05-05T11:07:08.458466Z",
     "shell.execute_reply.started": "2022-05-05T11:07:08.419533Z"
    },
    "id": "wNRM2GpzAuxu"
   },
   "outputs": [],
   "source": [
    "te_ary = te.fit(transactions).transform(transactions)"
   ]
  },
  {
   "cell_type": "code",
   "execution_count": null,
   "metadata": {
    "execution": {
     "iopub.execute_input": "2022-05-05T11:07:08.46076Z",
     "iopub.status.busy": "2022-05-05T11:07:08.460518Z",
     "iopub.status.idle": "2022-05-05T11:07:08.47025Z",
     "shell.execute_reply": "2022-05-05T11:07:08.469474Z",
     "shell.execute_reply.started": "2022-05-05T11:07:08.46073Z"
    },
    "id": "4F20iFZ_AwGu",
    "outputId": "06f6a3cc-c24e-4301-f680-631d0877ade6"
   },
   "outputs": [],
   "source": [
    "te.columns_"
   ]
  },
  {
   "cell_type": "code",
   "execution_count": null,
   "metadata": {
    "execution": {
     "iopub.execute_input": "2022-05-05T11:07:08.472351Z",
     "iopub.status.busy": "2022-05-05T11:07:08.471872Z",
     "iopub.status.idle": "2022-05-05T11:07:08.482269Z",
     "shell.execute_reply": "2022-05-05T11:07:08.481488Z",
     "shell.execute_reply.started": "2022-05-05T11:07:08.472304Z"
    },
    "id": "n51nzJWwAxMo",
    "outputId": "fdbc7a88-cd1b-4309-9dab-02ad226191d7"
   },
   "outputs": [],
   "source": [
    "te_ary"
   ]
  },
  {
   "cell_type": "code",
   "execution_count": null,
   "metadata": {
    "execution": {
     "iopub.execute_input": "2022-05-05T11:07:08.484354Z",
     "iopub.status.busy": "2022-05-05T11:07:08.483508Z",
     "iopub.status.idle": "2022-05-05T11:07:08.747307Z",
     "shell.execute_reply": "2022-05-05T11:07:08.746533Z",
     "shell.execute_reply.started": "2022-05-05T11:07:08.484311Z"
    },
    "id": "Bc2qoNybA65Z"
   },
   "outputs": [],
   "source": [
    "transactions = pd.DataFrame(te_ary, columns=te.columns_)\n",
    "pf = transactions.describe()"
   ]
  },
  {
   "cell_type": "code",
   "execution_count": null,
   "metadata": {
    "execution": {
     "iopub.execute_input": "2022-05-05T11:07:08.749207Z",
     "iopub.status.busy": "2022-05-05T11:07:08.748593Z",
     "iopub.status.idle": "2022-05-05T11:07:08.780128Z",
     "shell.execute_reply": "2022-05-05T11:07:08.779484Z",
     "shell.execute_reply.started": "2022-05-05T11:07:08.749171Z"
    },
    "id": "rNZb4sw5uC8i",
    "outputId": "f4a14928-4519-4e99-ea66-6e899106b67a"
   },
   "outputs": [],
   "source": [
    "transactions"
   ]
  },
  {
   "cell_type": "code",
   "execution_count": null,
   "metadata": {
    "execution": {
     "iopub.execute_input": "2022-05-05T11:07:08.781743Z",
     "iopub.status.busy": "2022-05-05T11:07:08.78128Z",
     "iopub.status.idle": "2022-05-05T11:07:09.548974Z",
     "shell.execute_reply": "2022-05-05T11:07:09.547852Z",
     "shell.execute_reply.started": "2022-05-05T11:07:08.781711Z"
    },
    "id": "bpVzSOL3uF6O"
   },
   "outputs": [],
   "source": [
    "transactions.to_csv(\"lr.csv\", index=False)"
   ]
  },
  {
   "cell_type": "code",
   "execution_count": null,
   "metadata": {
    "execution": {
     "iopub.execute_input": "2022-05-05T11:07:09.551208Z",
     "iopub.status.busy": "2022-05-05T11:07:09.550851Z",
     "iopub.status.idle": "2022-05-05T11:07:09.57479Z",
     "shell.execute_reply": "2022-05-05T11:07:09.574187Z",
     "shell.execute_reply.started": "2022-05-05T11:07:09.55116Z"
    },
    "id": "mV1CGZHEA8DG",
    "outputId": "740bff75-0413-4f55-9143-e418b5925730"
   },
   "outputs": [],
   "source": [
    "pf"
   ]
  },
  {
   "cell_type": "code",
   "execution_count": null,
   "metadata": {
    "execution": {
     "iopub.execute_input": "2022-05-05T11:07:09.576268Z",
     "iopub.status.busy": "2022-05-05T11:07:09.575912Z",
     "iopub.status.idle": "2022-05-05T11:07:09.584451Z",
     "shell.execute_reply": "2022-05-05T11:07:09.583584Z",
     "shell.execute_reply.started": "2022-05-05T11:07:09.576235Z"
    },
    "id": "yck0432sA9Mu",
    "outputId": "ae2c7985-1839-465e-ad25-ddce391fa2a8"
   },
   "outputs": [],
   "source": [
    "pf.iloc[0]-pf.iloc[3]"
   ]
  },
  {
   "cell_type": "code",
   "execution_count": null,
   "metadata": {
    "execution": {
     "iopub.execute_input": "2022-05-05T11:07:09.586744Z",
     "iopub.status.busy": "2022-05-05T11:07:09.585882Z",
     "iopub.status.idle": "2022-05-05T11:07:09.622618Z",
     "shell.execute_reply": "2022-05-05T11:07:09.621967Z",
     "shell.execute_reply.started": "2022-05-05T11:07:09.586701Z"
    },
    "id": "Zt_ocWT6A_-Q",
    "outputId": "32234c7f-4829-4af9-a102-91ddb22f7e4a"
   },
   "outputs": [],
   "source": [
    "f = pf.iloc[0]-pf.iloc[3]\n",
    "a = f.tolist()\n",
    "b = list(f.index)\n",
    "item = pd.DataFrame([[a[r],b[r]]for r in range(len(a))], columns=['Count','Item'])\n",
    "item = item.sort_values(['Count'], ascending=False).head(50)\n",
    "transactions"
   ]
  },
  {
   "cell_type": "code",
   "execution_count": null,
   "metadata": {
    "execution": {
     "iopub.execute_input": "2022-05-05T11:07:09.624699Z",
     "iopub.status.busy": "2022-05-05T11:07:09.624058Z",
     "iopub.status.idle": "2022-05-05T11:07:09.63945Z",
     "shell.execute_reply": "2022-05-05T11:07:09.638675Z",
     "shell.execute_reply.started": "2022-05-05T11:07:09.624649Z"
    },
    "id": "wmHxYnatBKwF",
    "outputId": "834ca690-a288-40bc-8c46-c232299a6aa7"
   },
   "outputs": [],
   "source": [
    "item"
   ]
  },
  {
   "cell_type": "code",
   "execution_count": null,
   "metadata": {
    "execution": {
     "iopub.execute_input": "2022-05-05T11:07:09.641259Z",
     "iopub.status.busy": "2022-05-05T11:07:09.640668Z",
     "iopub.status.idle": "2022-05-05T11:07:09.647301Z",
     "shell.execute_reply": "2022-05-05T11:07:09.646322Z",
     "shell.execute_reply.started": "2022-05-05T11:07:09.641225Z"
    },
    "id": "8ZkLYnsLBL4H"
   },
   "outputs": [],
   "source": [
    "from mlxtend.frequent_patterns import apriori, association_rules\n",
    "import matplotlib.pyplot as plt"
   ]
  },
  {
   "cell_type": "code",
   "execution_count": null,
   "metadata": {
    "execution": {
     "iopub.execute_input": "2022-05-05T11:07:09.649109Z",
     "iopub.status.busy": "2022-05-05T11:07:09.64867Z",
     "iopub.status.idle": "2022-05-05T11:07:12.625624Z",
     "shell.execute_reply": "2022-05-05T11:07:12.625021Z",
     "shell.execute_reply.started": "2022-05-05T11:07:09.649074Z"
    },
    "id": "lKQeJYnaBORz",
    "outputId": "d196efca-0cb1-40c5-f934-637c4db66952"
   },
   "outputs": [],
   "source": [
    "freq_items = apriori(transactions, min_support=0.001, use_colnames=True)\n",
    "freq_items.head(7)"
   ]
  },
  {
   "cell_type": "code",
   "execution_count": null,
   "metadata": {
    "execution": {
     "iopub.execute_input": "2022-05-05T11:07:12.62766Z",
     "iopub.status.busy": "2022-05-05T11:07:12.627116Z",
     "iopub.status.idle": "2022-05-05T11:07:12.635599Z",
     "shell.execute_reply": "2022-05-05T11:07:12.634462Z",
     "shell.execute_reply.started": "2022-05-05T11:07:12.627609Z"
    },
    "id": "DAtkMqc-BRW0"
   },
   "outputs": [],
   "source": [
    "freq_items['length'] = freq_items['itemsets'].apply(lambda x: len(x))"
   ]
  },
  {
   "cell_type": "code",
   "execution_count": null,
   "metadata": {
    "execution": {
     "iopub.execute_input": "2022-05-05T11:07:12.637867Z",
     "iopub.status.busy": "2022-05-05T11:07:12.637018Z",
     "iopub.status.idle": "2022-05-05T11:07:12.662286Z",
     "shell.execute_reply": "2022-05-05T11:07:12.6609Z",
     "shell.execute_reply.started": "2022-05-05T11:07:12.637823Z"
    },
    "id": "IeyQHMFHBufh",
    "outputId": "a9b62bd4-d894-4d09-a15a-bc3e6b70b59e"
   },
   "outputs": [],
   "source": [
    "freq_items.head(10)"
   ]
  },
  {
   "cell_type": "code",
   "execution_count": null,
   "metadata": {
    "execution": {
     "iopub.execute_input": "2022-05-05T11:07:12.664204Z",
     "iopub.status.busy": "2022-05-05T11:07:12.663919Z",
     "iopub.status.idle": "2022-05-05T11:07:12.679475Z",
     "shell.execute_reply": "2022-05-05T11:07:12.678391Z",
     "shell.execute_reply.started": "2022-05-05T11:07:12.66417Z"
    },
    "id": "4S1rnzRhBvXq",
    "outputId": "dfc64012-d428-4652-845e-55d43e047686"
   },
   "outputs": [],
   "source": [
    "freq_items.tail(10)"
   ]
  },
  {
   "cell_type": "code",
   "execution_count": null,
   "metadata": {
    "execution": {
     "iopub.execute_input": "2022-05-05T11:07:12.682268Z",
     "iopub.status.busy": "2022-05-05T11:07:12.681387Z",
     "iopub.status.idle": "2022-05-05T11:07:12.715782Z",
     "shell.execute_reply": "2022-05-05T11:07:12.714945Z",
     "shell.execute_reply.started": "2022-05-05T11:07:12.682218Z"
    },
    "id": "G26DSRbvBwwh",
    "outputId": "1884b3eb-ae1f-47d2-9898-dae80f794f91"
   },
   "outputs": [],
   "source": [
    "rules = association_rules(freq_items, metric=\"confidence\", min_threshold=0.001)\n",
    "rules.head()"
   ]
  }
 ],
 "metadata": {
  "kernelspec": {
   "display_name": "Python 3 (ipykernel)",
   "language": "python",
   "name": "python3"
  },
  "language_info": {
   "codemirror_mode": {
    "name": "ipython",
    "version": 3
   },
   "file_extension": ".py",
   "mimetype": "text/x-python",
   "name": "python",
   "nbconvert_exporter": "python",
   "pygments_lexer": "ipython3",
   "version": "3.9.12"
  }
 },
 "nbformat": 4,
 "nbformat_minor": 4
}
